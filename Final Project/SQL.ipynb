{
 "cells": [
  {
   "cell_type": "markdown",
   "metadata": {},
   "source": [
    "# Анализ сервиса книг"
   ]
  },
  {
   "cell_type": "markdown",
   "metadata": {},
   "source": [
    "Куплен крупный сервис для чтения книг по подписке."
   ]
  },
  {
   "cell_type": "markdown",
   "metadata": {},
   "source": [
    "# Цели:\n",
    "- Провести анализ сервиса\n",
    "- Посчитать, сколько книг вышло после 1 января 2000 года;\n",
    "- Для каждой книги посчитать количество обзоров и среднюю оценку;\n",
    "- Определить издательство, которое выпустило наибольшее число книг толще 50 страниц;\n",
    "- Определить автора с самой высокой средней оценкой книг — учитываются только книги с 50 и более оценками;\n",
    "- Посчитать среднее количество обзоров от пользователей, которые поставили больше 48 оценок."
   ]
  },
  {
   "cell_type": "markdown",
   "metadata": {},
   "source": [
    "## Загрузка данных"
   ]
  },
  {
   "cell_type": "code",
   "execution_count": 1,
   "metadata": {},
   "outputs": [
    {
     "name": "stdout",
     "output_type": "stream",
     "text": [
      "Requirement already satisfied: psycopg2-binary in /opt/conda/lib/python3.9/site-packages (2.9.2)\r\n"
     ]
    }
   ],
   "source": [
    "!pip install psycopg2-binary"
   ]
  },
  {
   "cell_type": "code",
   "execution_count": 2,
   "metadata": {},
   "outputs": [],
   "source": [
    "import pandas as pd\n",
    "import sqlalchemy as sa\n",
    "from sqlalchemy import text, create_engine"
   ]
  },
  {
   "cell_type": "code",
   "execution_count": 3,
   "metadata": {},
   "outputs": [],
   "source": [
    "# устанавливаем параметры\n",
    "db_config = {'user': '# имя пользователя', # имя пользователя\n",
    "'pwd': '# пароль', # пароль\n",
    "'host': 'rc1b-wcoijxj3yxfsf3fs.mdb.yandexcloud.net',\n",
    "'port': 6432, # порт подключения\n",
    "'db': '# название базы данных'} # название базы данных\n",
    "connection_string = 'postgresql://{user}:{pwd}@{host}:{port}/{db}'.format(**db_config)\n",
    "# сохраняем коннектор\n",
    "engine = create_engine(connection_string, connect_args={'sslmode':'require'})"
   ]
  },
  {
   "cell_type": "markdown",
   "metadata": {},
   "source": [
    "## Предобработка данных"
   ]
  },
  {
   "cell_type": "markdown",
   "metadata": {},
   "source": [
    "- Формруем запросы и выводим данные:"
   ]
  },
  {
   "cell_type": "code",
   "execution_count": 4,
   "metadata": {},
   "outputs": [],
   "source": [
    "def get_sql_data(query:str, engine:sa.engine.base.Engine=engine) -> pd.DataFrame:\n",
    "    '''Открываем соединение, получаем данные из sql, закрываем соединение'''\n",
    "    with engine.connect() as con:\n",
    "         return pd.read_sql(sql=sa.text(query), con = con)"
   ]
  },
  {
   "cell_type": "code",
   "execution_count": 5,
   "metadata": {},
   "outputs": [
    {
     "data": {
      "text/html": [
       "<div>\n",
       "<style scoped>\n",
       "    .dataframe tbody tr th:only-of-type {\n",
       "        vertical-align: middle;\n",
       "    }\n",
       "\n",
       "    .dataframe tbody tr th {\n",
       "        vertical-align: top;\n",
       "    }\n",
       "\n",
       "    .dataframe thead th {\n",
       "        text-align: right;\n",
       "    }\n",
       "</style>\n",
       "<table border=\"1\" class=\"dataframe\">\n",
       "  <thead>\n",
       "    <tr style=\"text-align: right;\">\n",
       "      <th></th>\n",
       "      <th>author_id</th>\n",
       "      <th>author</th>\n",
       "    </tr>\n",
       "  </thead>\n",
       "  <tbody>\n",
       "    <tr>\n",
       "      <th>0</th>\n",
       "      <td>1</td>\n",
       "      <td>A.S. Byatt</td>\n",
       "    </tr>\n",
       "    <tr>\n",
       "      <th>1</th>\n",
       "      <td>2</td>\n",
       "      <td>Aesop/Laura Harris/Laura Gibbs</td>\n",
       "    </tr>\n",
       "    <tr>\n",
       "      <th>2</th>\n",
       "      <td>3</td>\n",
       "      <td>Agatha Christie</td>\n",
       "    </tr>\n",
       "    <tr>\n",
       "      <th>3</th>\n",
       "      <td>4</td>\n",
       "      <td>Alan Brennert</td>\n",
       "    </tr>\n",
       "    <tr>\n",
       "      <th>4</th>\n",
       "      <td>5</td>\n",
       "      <td>Alan Moore/David   Lloyd</td>\n",
       "    </tr>\n",
       "  </tbody>\n",
       "</table>\n",
       "</div>"
      ],
      "text/plain": [
       "   author_id                          author\n",
       "0          1                      A.S. Byatt\n",
       "1          2  Aesop/Laura Harris/Laura Gibbs\n",
       "2          3                 Agatha Christie\n",
       "3          4                   Alan Brennert\n",
       "4          5        Alan Moore/David   Lloyd"
      ]
     },
     "execution_count": 5,
     "metadata": {},
     "output_type": "execute_result"
    }
   ],
   "source": [
    "query = '''SELECT * FROM authors LIMIT 5'''\n",
    "get_sql_data(query)"
   ]
  },
  {
   "cell_type": "code",
   "execution_count": 6,
   "metadata": {},
   "outputs": [
    {
     "data": {
      "text/html": [
       "<div>\n",
       "<style scoped>\n",
       "    .dataframe tbody tr th:only-of-type {\n",
       "        vertical-align: middle;\n",
       "    }\n",
       "\n",
       "    .dataframe tbody tr th {\n",
       "        vertical-align: top;\n",
       "    }\n",
       "\n",
       "    .dataframe thead th {\n",
       "        text-align: right;\n",
       "    }\n",
       "</style>\n",
       "<table border=\"1\" class=\"dataframe\">\n",
       "  <thead>\n",
       "    <tr style=\"text-align: right;\">\n",
       "      <th></th>\n",
       "      <th>publisher_id</th>\n",
       "      <th>publisher</th>\n",
       "    </tr>\n",
       "  </thead>\n",
       "  <tbody>\n",
       "    <tr>\n",
       "      <th>0</th>\n",
       "      <td>1</td>\n",
       "      <td>Ace</td>\n",
       "    </tr>\n",
       "    <tr>\n",
       "      <th>1</th>\n",
       "      <td>2</td>\n",
       "      <td>Ace Book</td>\n",
       "    </tr>\n",
       "    <tr>\n",
       "      <th>2</th>\n",
       "      <td>3</td>\n",
       "      <td>Ace Books</td>\n",
       "    </tr>\n",
       "    <tr>\n",
       "      <th>3</th>\n",
       "      <td>4</td>\n",
       "      <td>Ace Hardcover</td>\n",
       "    </tr>\n",
       "    <tr>\n",
       "      <th>4</th>\n",
       "      <td>5</td>\n",
       "      <td>Addison Wesley Publishing Company</td>\n",
       "    </tr>\n",
       "  </tbody>\n",
       "</table>\n",
       "</div>"
      ],
      "text/plain": [
       "   publisher_id                          publisher\n",
       "0             1                                Ace\n",
       "1             2                           Ace Book\n",
       "2             3                          Ace Books\n",
       "3             4                      Ace Hardcover\n",
       "4             5  Addison Wesley Publishing Company"
      ]
     },
     "execution_count": 6,
     "metadata": {},
     "output_type": "execute_result"
    }
   ],
   "source": [
    "query = '''SELECT * FROM publishers LIMIT 5'''\n",
    "get_sql_data(query)"
   ]
  },
  {
   "cell_type": "code",
   "execution_count": 7,
   "metadata": {},
   "outputs": [
    {
     "data": {
      "text/html": [
       "<div>\n",
       "<style scoped>\n",
       "    .dataframe tbody tr th:only-of-type {\n",
       "        vertical-align: middle;\n",
       "    }\n",
       "\n",
       "    .dataframe tbody tr th {\n",
       "        vertical-align: top;\n",
       "    }\n",
       "\n",
       "    .dataframe thead th {\n",
       "        text-align: right;\n",
       "    }\n",
       "</style>\n",
       "<table border=\"1\" class=\"dataframe\">\n",
       "  <thead>\n",
       "    <tr style=\"text-align: right;\">\n",
       "      <th></th>\n",
       "      <th>rating_id</th>\n",
       "      <th>book_id</th>\n",
       "      <th>username</th>\n",
       "      <th>rating</th>\n",
       "    </tr>\n",
       "  </thead>\n",
       "  <tbody>\n",
       "    <tr>\n",
       "      <th>0</th>\n",
       "      <td>1</td>\n",
       "      <td>1</td>\n",
       "      <td>ryanfranco</td>\n",
       "      <td>4</td>\n",
       "    </tr>\n",
       "    <tr>\n",
       "      <th>1</th>\n",
       "      <td>2</td>\n",
       "      <td>1</td>\n",
       "      <td>grantpatricia</td>\n",
       "      <td>2</td>\n",
       "    </tr>\n",
       "    <tr>\n",
       "      <th>2</th>\n",
       "      <td>3</td>\n",
       "      <td>1</td>\n",
       "      <td>brandtandrea</td>\n",
       "      <td>5</td>\n",
       "    </tr>\n",
       "    <tr>\n",
       "      <th>3</th>\n",
       "      <td>4</td>\n",
       "      <td>2</td>\n",
       "      <td>lorichen</td>\n",
       "      <td>3</td>\n",
       "    </tr>\n",
       "    <tr>\n",
       "      <th>4</th>\n",
       "      <td>5</td>\n",
       "      <td>2</td>\n",
       "      <td>mariokeller</td>\n",
       "      <td>2</td>\n",
       "    </tr>\n",
       "  </tbody>\n",
       "</table>\n",
       "</div>"
      ],
      "text/plain": [
       "   rating_id  book_id       username  rating\n",
       "0          1        1     ryanfranco       4\n",
       "1          2        1  grantpatricia       2\n",
       "2          3        1   brandtandrea       5\n",
       "3          4        2       lorichen       3\n",
       "4          5        2    mariokeller       2"
      ]
     },
     "execution_count": 7,
     "metadata": {},
     "output_type": "execute_result"
    }
   ],
   "source": [
    "query = '''SELECT * FROM ratings LIMIT 5'''\n",
    "get_sql_data(query)"
   ]
  },
  {
   "cell_type": "code",
   "execution_count": 8,
   "metadata": {},
   "outputs": [
    {
     "data": {
      "text/html": [
       "<div>\n",
       "<style scoped>\n",
       "    .dataframe tbody tr th:only-of-type {\n",
       "        vertical-align: middle;\n",
       "    }\n",
       "\n",
       "    .dataframe tbody tr th {\n",
       "        vertical-align: top;\n",
       "    }\n",
       "\n",
       "    .dataframe thead th {\n",
       "        text-align: right;\n",
       "    }\n",
       "</style>\n",
       "<table border=\"1\" class=\"dataframe\">\n",
       "  <thead>\n",
       "    <tr style=\"text-align: right;\">\n",
       "      <th></th>\n",
       "      <th>review_id</th>\n",
       "      <th>book_id</th>\n",
       "      <th>username</th>\n",
       "      <th>text</th>\n",
       "    </tr>\n",
       "  </thead>\n",
       "  <tbody>\n",
       "    <tr>\n",
       "      <th>0</th>\n",
       "      <td>1</td>\n",
       "      <td>1</td>\n",
       "      <td>brandtandrea</td>\n",
       "      <td>Mention society tell send professor analysis. ...</td>\n",
       "    </tr>\n",
       "    <tr>\n",
       "      <th>1</th>\n",
       "      <td>2</td>\n",
       "      <td>1</td>\n",
       "      <td>ryanfranco</td>\n",
       "      <td>Foot glass pretty audience hit themselves. Amo...</td>\n",
       "    </tr>\n",
       "    <tr>\n",
       "      <th>2</th>\n",
       "      <td>3</td>\n",
       "      <td>2</td>\n",
       "      <td>lorichen</td>\n",
       "      <td>Listen treat keep worry. Miss husband tax but ...</td>\n",
       "    </tr>\n",
       "    <tr>\n",
       "      <th>3</th>\n",
       "      <td>4</td>\n",
       "      <td>3</td>\n",
       "      <td>johnsonamanda</td>\n",
       "      <td>Finally month interesting blue could nature cu...</td>\n",
       "    </tr>\n",
       "    <tr>\n",
       "      <th>4</th>\n",
       "      <td>5</td>\n",
       "      <td>3</td>\n",
       "      <td>scotttamara</td>\n",
       "      <td>Nation purpose heavy give wait song will. List...</td>\n",
       "    </tr>\n",
       "  </tbody>\n",
       "</table>\n",
       "</div>"
      ],
      "text/plain": [
       "   review_id  book_id       username  \\\n",
       "0          1        1   brandtandrea   \n",
       "1          2        1     ryanfranco   \n",
       "2          3        2       lorichen   \n",
       "3          4        3  johnsonamanda   \n",
       "4          5        3    scotttamara   \n",
       "\n",
       "                                                text  \n",
       "0  Mention society tell send professor analysis. ...  \n",
       "1  Foot glass pretty audience hit themselves. Amo...  \n",
       "2  Listen treat keep worry. Miss husband tax but ...  \n",
       "3  Finally month interesting blue could nature cu...  \n",
       "4  Nation purpose heavy give wait song will. List...  "
      ]
     },
     "execution_count": 8,
     "metadata": {},
     "output_type": "execute_result"
    }
   ],
   "source": [
    "query = '''SELECT * FROM reviews LIMIT 5'''\n",
    "get_sql_data(query)"
   ]
  },
  {
   "cell_type": "markdown",
   "metadata": {},
   "source": [
    "## Cколько книг вышло после 1 января 2000 года?"
   ]
  },
  {
   "cell_type": "code",
   "execution_count": 9,
   "metadata": {},
   "outputs": [
    {
     "data": {
      "text/html": [
       "<div>\n",
       "<style scoped>\n",
       "    .dataframe tbody tr th:only-of-type {\n",
       "        vertical-align: middle;\n",
       "    }\n",
       "\n",
       "    .dataframe tbody tr th {\n",
       "        vertical-align: top;\n",
       "    }\n",
       "\n",
       "    .dataframe thead th {\n",
       "        text-align: right;\n",
       "    }\n",
       "</style>\n",
       "<table border=\"1\" class=\"dataframe\">\n",
       "  <thead>\n",
       "    <tr style=\"text-align: right;\">\n",
       "      <th></th>\n",
       "      <th>count</th>\n",
       "    </tr>\n",
       "  </thead>\n",
       "  <tbody>\n",
       "    <tr>\n",
       "      <th>0</th>\n",
       "      <td>819</td>\n",
       "    </tr>\n",
       "  </tbody>\n",
       "</table>\n",
       "</div>"
      ],
      "text/plain": [
       "   count\n",
       "0    819"
      ]
     },
     "execution_count": 9,
     "metadata": {},
     "output_type": "execute_result"
    }
   ],
   "source": [
    "query = '''\n",
    "SELECT COUNT(book_id)\n",
    "FROM books\n",
    "WHERE publication_date > '2000-01-01'\n",
    "'''\n",
    "get_sql_data(query)"
   ]
  },
  {
   "cell_type": "markdown",
   "metadata": {},
   "source": [
    "После 01.2000 вышло 819 книг."
   ]
  },
  {
   "cell_type": "markdown",
   "metadata": {},
   "source": [
    "## Количество обзоров и средняя оценка каждой книги"
   ]
  },
  {
   "cell_type": "code",
   "execution_count": 10,
   "metadata": {},
   "outputs": [
    {
     "data": {
      "text/html": [
       "<div>\n",
       "<style scoped>\n",
       "    .dataframe tbody tr th:only-of-type {\n",
       "        vertical-align: middle;\n",
       "    }\n",
       "\n",
       "    .dataframe tbody tr th {\n",
       "        vertical-align: top;\n",
       "    }\n",
       "\n",
       "    .dataframe thead th {\n",
       "        text-align: right;\n",
       "    }\n",
       "</style>\n",
       "<table border=\"1\" class=\"dataframe\">\n",
       "  <thead>\n",
       "    <tr style=\"text-align: right;\">\n",
       "      <th></th>\n",
       "      <th>book_id</th>\n",
       "      <th>title</th>\n",
       "      <th>review_cnt</th>\n",
       "      <th>avg_rating</th>\n",
       "    </tr>\n",
       "  </thead>\n",
       "  <tbody>\n",
       "    <tr>\n",
       "      <th>0</th>\n",
       "      <td>518</td>\n",
       "      <td>Pop Goes the Weasel (Alex Cross  #5)</td>\n",
       "      <td>2.0</td>\n",
       "      <td>5.00</td>\n",
       "    </tr>\n",
       "    <tr>\n",
       "      <th>1</th>\n",
       "      <td>732</td>\n",
       "      <td>The Ghost Map: The Story of London's Most Terr...</td>\n",
       "      <td>2.0</td>\n",
       "      <td>5.00</td>\n",
       "    </tr>\n",
       "    <tr>\n",
       "      <th>2</th>\n",
       "      <td>347</td>\n",
       "      <td>In the Hand of the Goddess (Song of the Liones...</td>\n",
       "      <td>2.0</td>\n",
       "      <td>5.00</td>\n",
       "    </tr>\n",
       "    <tr>\n",
       "      <th>3</th>\n",
       "      <td>610</td>\n",
       "      <td>Tai-Pan (Asian Saga  #2)</td>\n",
       "      <td>2.0</td>\n",
       "      <td>5.00</td>\n",
       "    </tr>\n",
       "    <tr>\n",
       "      <th>4</th>\n",
       "      <td>330</td>\n",
       "      <td>How to Be a Domestic Goddess: Baking and the A...</td>\n",
       "      <td>1.0</td>\n",
       "      <td>5.00</td>\n",
       "    </tr>\n",
       "    <tr>\n",
       "      <th>...</th>\n",
       "      <td>...</td>\n",
       "      <td>...</td>\n",
       "      <td>...</td>\n",
       "      <td>...</td>\n",
       "    </tr>\n",
       "    <tr>\n",
       "      <th>995</th>\n",
       "      <td>915</td>\n",
       "      <td>The World Is Flat: A Brief History of the Twen...</td>\n",
       "      <td>3.0</td>\n",
       "      <td>2.25</td>\n",
       "    </tr>\n",
       "    <tr>\n",
       "      <th>996</th>\n",
       "      <td>371</td>\n",
       "      <td>Junky</td>\n",
       "      <td>2.0</td>\n",
       "      <td>2.00</td>\n",
       "    </tr>\n",
       "    <tr>\n",
       "      <th>997</th>\n",
       "      <td>316</td>\n",
       "      <td>His Excellency: George Washington</td>\n",
       "      <td>2.0</td>\n",
       "      <td>2.00</td>\n",
       "    </tr>\n",
       "    <tr>\n",
       "      <th>998</th>\n",
       "      <td>202</td>\n",
       "      <td>Drowning Ruth</td>\n",
       "      <td>3.0</td>\n",
       "      <td>2.00</td>\n",
       "    </tr>\n",
       "    <tr>\n",
       "      <th>999</th>\n",
       "      <td>303</td>\n",
       "      <td>Harvesting the Heart</td>\n",
       "      <td>2.0</td>\n",
       "      <td>1.50</td>\n",
       "    </tr>\n",
       "  </tbody>\n",
       "</table>\n",
       "<p>1000 rows × 4 columns</p>\n",
       "</div>"
      ],
      "text/plain": [
       "     book_id                                              title  review_cnt  \\\n",
       "0        518               Pop Goes the Weasel (Alex Cross  #5)         2.0   \n",
       "1        732  The Ghost Map: The Story of London's Most Terr...         2.0   \n",
       "2        347  In the Hand of the Goddess (Song of the Liones...         2.0   \n",
       "3        610                           Tai-Pan (Asian Saga  #2)         2.0   \n",
       "4        330  How to Be a Domestic Goddess: Baking and the A...         1.0   \n",
       "..       ...                                                ...         ...   \n",
       "995      915  The World Is Flat: A Brief History of the Twen...         3.0   \n",
       "996      371                                              Junky         2.0   \n",
       "997      316                  His Excellency: George Washington         2.0   \n",
       "998      202                                      Drowning Ruth         3.0   \n",
       "999      303                               Harvesting the Heart         2.0   \n",
       "\n",
       "     avg_rating  \n",
       "0          5.00  \n",
       "1          5.00  \n",
       "2          5.00  \n",
       "3          5.00  \n",
       "4          5.00  \n",
       "..          ...  \n",
       "995        2.25  \n",
       "996        2.00  \n",
       "997        2.00  \n",
       "998        2.00  \n",
       "999        1.50  \n",
       "\n",
       "[1000 rows x 4 columns]"
      ]
     },
     "execution_count": 10,
     "metadata": {},
     "output_type": "execute_result"
    }
   ],
   "source": [
    "query = '''\n",
    "SELECT b.book_id, title, review_cnt, avg_rating\n",
    "    FROM books AS b\n",
    "    LEFT JOIN (SELECT book_id, COUNT(review_id) AS review_cnt FROM reviews GROUP BY book_id) AS re ON b.book_id=re.book_id\n",
    "    JOIN (SELECT book_id, ROUND(AVG(rating), 2) AS avg_rating FROM ratings GROUP BY book_id)\n",
    "    AS r ON b.book_id=r.book_id\n",
    "    ORDER BY avg_rating DESC\n",
    "    '''\n",
    "get_sql_data(query)"
   ]
  },
  {
   "cell_type": "markdown",
   "metadata": {},
   "source": [
    "Добавлены столбцы средняя оценка и количество обзоров.\n",
    "\n",
    "Самая высокая оценка Pop Goes the Weasel (Alex Cross #5) - 5\n",
    "\n",
    "Самая низкая оценка Harvesting the Heart - 1,5"
   ]
  },
  {
   "cell_type": "markdown",
   "metadata": {},
   "source": [
    "## Издательство, которое выпустило наибольшее число книг толще 50 страниц."
   ]
  },
  {
   "cell_type": "code",
   "execution_count": 11,
   "metadata": {},
   "outputs": [
    {
     "data": {
      "text/html": [
       "<div>\n",
       "<style scoped>\n",
       "    .dataframe tbody tr th:only-of-type {\n",
       "        vertical-align: middle;\n",
       "    }\n",
       "\n",
       "    .dataframe tbody tr th {\n",
       "        vertical-align: top;\n",
       "    }\n",
       "\n",
       "    .dataframe thead th {\n",
       "        text-align: right;\n",
       "    }\n",
       "</style>\n",
       "<table border=\"1\" class=\"dataframe\">\n",
       "  <thead>\n",
       "    <tr style=\"text-align: right;\">\n",
       "      <th></th>\n",
       "      <th>publisher_name</th>\n",
       "      <th>books_count</th>\n",
       "    </tr>\n",
       "  </thead>\n",
       "  <tbody>\n",
       "    <tr>\n",
       "      <th>0</th>\n",
       "      <td>Penguin Books</td>\n",
       "      <td>42</td>\n",
       "    </tr>\n",
       "    <tr>\n",
       "      <th>1</th>\n",
       "      <td>Vintage</td>\n",
       "      <td>31</td>\n",
       "    </tr>\n",
       "    <tr>\n",
       "      <th>2</th>\n",
       "      <td>Grand Central Publishing</td>\n",
       "      <td>25</td>\n",
       "    </tr>\n",
       "    <tr>\n",
       "      <th>3</th>\n",
       "      <td>Penguin Classics</td>\n",
       "      <td>24</td>\n",
       "    </tr>\n",
       "    <tr>\n",
       "      <th>4</th>\n",
       "      <td>Ballantine Books</td>\n",
       "      <td>19</td>\n",
       "    </tr>\n",
       "    <tr>\n",
       "      <th>5</th>\n",
       "      <td>Bantam</td>\n",
       "      <td>19</td>\n",
       "    </tr>\n",
       "    <tr>\n",
       "      <th>6</th>\n",
       "      <td>Berkley</td>\n",
       "      <td>17</td>\n",
       "    </tr>\n",
       "    <tr>\n",
       "      <th>7</th>\n",
       "      <td>Berkley Books</td>\n",
       "      <td>14</td>\n",
       "    </tr>\n",
       "    <tr>\n",
       "      <th>8</th>\n",
       "      <td>St. Martin's Press</td>\n",
       "      <td>14</td>\n",
       "    </tr>\n",
       "    <tr>\n",
       "      <th>9</th>\n",
       "      <td>Delta</td>\n",
       "      <td>13</td>\n",
       "    </tr>\n",
       "  </tbody>\n",
       "</table>\n",
       "</div>"
      ],
      "text/plain": [
       "             publisher_name  books_count\n",
       "0             Penguin Books           42\n",
       "1                   Vintage           31\n",
       "2  Grand Central Publishing           25\n",
       "3          Penguin Classics           24\n",
       "4          Ballantine Books           19\n",
       "5                    Bantam           19\n",
       "6                   Berkley           17\n",
       "7             Berkley Books           14\n",
       "8        St. Martin's Press           14\n",
       "9                     Delta           13"
      ]
     },
     "execution_count": 11,
     "metadata": {},
     "output_type": "execute_result"
    }
   ],
   "source": [
    "query = '''\n",
    "SELECT p.publisher as publisher_name,\n",
    "       COUNT(DISTINCT books.book_id) as books_count\n",
    "FROM publishers as p\n",
    " LEFT JOIN books on p.publisher_id = books.publisher_id\n",
    "WHERE books.num_pages > 50\n",
    "GROUP BY publisher_name\n",
    "ORDER BY books_count DESC\n",
    "LIMIT 10;\n",
    "'''\n",
    "get_sql_data(query)"
   ]
  },
  {
   "cell_type": "markdown",
   "metadata": {},
   "source": [
    "Издательство Penguin Books выпустило больше всех книг толще 50 страниц."
   ]
  },
  {
   "cell_type": "markdown",
   "metadata": {},
   "source": [
    "## Автор с самой высокой средней оценкой книг толще 50 страниц."
   ]
  },
  {
   "cell_type": "code",
   "execution_count": 12,
   "metadata": {},
   "outputs": [
    {
     "data": {
      "text/html": [
       "<div>\n",
       "<style scoped>\n",
       "    .dataframe tbody tr th:only-of-type {\n",
       "        vertical-align: middle;\n",
       "    }\n",
       "\n",
       "    .dataframe tbody tr th {\n",
       "        vertical-align: top;\n",
       "    }\n",
       "\n",
       "    .dataframe thead th {\n",
       "        text-align: right;\n",
       "    }\n",
       "</style>\n",
       "<table border=\"1\" class=\"dataframe\">\n",
       "  <thead>\n",
       "    <tr style=\"text-align: right;\">\n",
       "      <th></th>\n",
       "      <th>author</th>\n",
       "      <th>avg_rating</th>\n",
       "    </tr>\n",
       "  </thead>\n",
       "  <tbody>\n",
       "    <tr>\n",
       "      <th>0</th>\n",
       "      <td>J.K. Rowling/Mary GrandPré</td>\n",
       "      <td>4.29</td>\n",
       "    </tr>\n",
       "  </tbody>\n",
       "</table>\n",
       "</div>"
      ],
      "text/plain": [
       "                       author  avg_rating\n",
       "0  J.K. Rowling/Mary GrandPré        4.29"
      ]
     },
     "execution_count": 12,
     "metadata": {},
     "output_type": "execute_result"
    }
   ],
   "source": [
    "query = '''\n",
    "SELECT authors.author,\n",
    "       ROUND(AVG(ratings.rating),2) AS avg_rating\n",
    "FROM ratings\n",
    " LEFT JOIN books AS books ON ratings.book_id=books.book_id\n",
    " LEFT JOIN authors AS authors ON books.author_id=authors.author_id\n",
    "WHERE ratings.book_id IN (SELECT ratings.book_id\n",
    "                          FROM ratings\n",
    "                          GROUP BY ratings.book_id\n",
    "                          HAVING COUNT(ratings.book_id) >= 50)\n",
    "GROUP BY authors.author\n",
    "ORDER BY avg_rating DESC\n",
    "LIMIT 1;\n",
    "'''\n",
    "get_sql_data(query)"
   ]
  },
  {
   "cell_type": "markdown",
   "metadata": {},
   "source": [
    "Автор с самой высокой средней оценкой книг толще 50 страниц - J.K. Rowling/Mary GrandPré\t"
   ]
  },
  {
   "cell_type": "markdown",
   "metadata": {},
   "source": [
    "## Среднее количество обзоров от пользователей, которые поставили больше 48 оценок"
   ]
  },
  {
   "cell_type": "code",
   "execution_count": 13,
   "metadata": {},
   "outputs": [
    {
     "data": {
      "text/html": [
       "<div>\n",
       "<style scoped>\n",
       "    .dataframe tbody tr th:only-of-type {\n",
       "        vertical-align: middle;\n",
       "    }\n",
       "\n",
       "    .dataframe tbody tr th {\n",
       "        vertical-align: top;\n",
       "    }\n",
       "\n",
       "    .dataframe thead th {\n",
       "        text-align: right;\n",
       "    }\n",
       "</style>\n",
       "<table border=\"1\" class=\"dataframe\">\n",
       "  <thead>\n",
       "    <tr style=\"text-align: right;\">\n",
       "      <th></th>\n",
       "      <th>avg</th>\n",
       "    </tr>\n",
       "  </thead>\n",
       "  <tbody>\n",
       "    <tr>\n",
       "      <th>0</th>\n",
       "      <td>24.0</td>\n",
       "    </tr>\n",
       "  </tbody>\n",
       "</table>\n",
       "</div>"
      ],
      "text/plain": [
       "    avg\n",
       "0  24.0"
      ]
     },
     "execution_count": 13,
     "metadata": {},
     "output_type": "execute_result"
    }
   ],
   "source": [
    "query = '''\n",
    "SELECT AVG(rv.review_count) AS avg\n",
    "FROM\n",
    "    (SELECT username,\n",
    "            COUNT(review_id) AS review_count\n",
    "     FROM reviews\n",
    "     WHERE username IN (SELECT username\n",
    "                        FROM ratings\n",
    "                        GROUP BY username\n",
    "                        HAVING COUNT(rating_id) > 48\n",
    "                       )\n",
    "     GROUP BY username\n",
    "    ) AS rv;\n",
    "'''\n",
    "get_sql_data(query)"
   ]
  },
  {
   "cell_type": "markdown",
   "metadata": {},
   "source": [
    "Среднее количество обзоров от пользователей поставивши больше 48 оценок - 24."
   ]
  },
  {
   "cell_type": "markdown",
   "metadata": {},
   "source": [
    "# Выводы:\n",
    " - После 01.2000 вышло 819 книг.\n",
    " - Самая высокая оценка Pop Goes the Weasel (Alex Cross #5) - 5\n",
    " - Самая низкая оценка Harvesting the Heart - 1,5\n",
    " - Издательство Penguin Books выпустило больше всех книг толще 50 страниц.\n",
    " - Автор с самой высокой средней оценкой (4.29) книг толще 50 страниц - J.K. Rowling/Mary GrandPré\n",
    " - Среднее количество обзоров от пользователей поставивши больше 48 оценок - 24."
   ]
  }
 ],
 "metadata": {
  "ExecuteTimeLog": [
   {
    "duration": 2913,
    "start_time": "2024-03-11T06:17:22.450Z"
   },
   {
    "duration": 568,
    "start_time": "2024-03-11T06:17:32.102Z"
   },
   {
    "duration": 143,
    "start_time": "2024-03-11T06:28:30.917Z"
   },
   {
    "duration": 2577,
    "start_time": "2024-03-11T06:29:46.863Z"
   },
   {
    "duration": 3,
    "start_time": "2024-03-11T06:29:50.131Z"
   },
   {
    "duration": 86,
    "start_time": "2024-03-11T06:29:52.616Z"
   },
   {
    "duration": 3,
    "start_time": "2024-03-11T06:30:11.163Z"
   },
   {
    "duration": 11159,
    "start_time": "2024-03-11T06:30:12.333Z"
   },
   {
    "duration": 2,
    "start_time": "2024-03-11T06:30:42.468Z"
   },
   {
    "duration": 46,
    "start_time": "2024-03-11T06:30:43.955Z"
   },
   {
    "duration": 181,
    "start_time": "2024-03-11T06:32:17.227Z"
   },
   {
    "duration": 9,
    "start_time": "2024-03-11T06:41:18.243Z"
   },
   {
    "duration": 3,
    "start_time": "2024-03-11T06:42:34.970Z"
   },
   {
    "duration": 13,
    "start_time": "2024-03-11T06:42:44.638Z"
   },
   {
    "duration": 18,
    "start_time": "2024-03-11T06:43:25.992Z"
   },
   {
    "duration": 10,
    "start_time": "2024-03-11T06:43:37.003Z"
   },
   {
    "duration": 12,
    "start_time": "2024-03-11T06:43:47.323Z"
   },
   {
    "duration": 13,
    "start_time": "2024-03-11T06:44:16.132Z"
   },
   {
    "duration": 8,
    "start_time": "2024-03-11T06:44:50.525Z"
   },
   {
    "duration": 8,
    "start_time": "2024-03-11T06:45:01.350Z"
   },
   {
    "duration": 12,
    "start_time": "2024-03-11T07:05:46.975Z"
   },
   {
    "duration": 26,
    "start_time": "2024-03-11T07:07:14.623Z"
   },
   {
    "duration": 15,
    "start_time": "2024-03-11T07:32:16.068Z"
   },
   {
    "duration": 16,
    "start_time": "2024-03-11T07:33:45.420Z"
   },
   {
    "duration": 15,
    "start_time": "2024-03-11T07:35:10.327Z"
   },
   {
    "duration": 4,
    "start_time": "2024-03-11T07:56:00.377Z"
   },
   {
    "duration": 3,
    "start_time": "2024-03-11T07:56:01.034Z"
   },
   {
    "duration": 41,
    "start_time": "2024-03-11T07:56:01.810Z"
   },
   {
    "duration": 2524,
    "start_time": "2024-03-11T07:56:07.138Z"
   },
   {
    "duration": 593,
    "start_time": "2024-03-11T07:56:09.665Z"
   },
   {
    "duration": 4,
    "start_time": "2024-03-11T07:56:10.260Z"
   },
   {
    "duration": 11189,
    "start_time": "2024-03-11T07:56:10.266Z"
   },
   {
    "duration": 44,
    "start_time": "2024-03-11T07:56:21.457Z"
   },
   {
    "duration": 4,
    "start_time": "2024-03-11T07:56:21.502Z"
   },
   {
    "duration": 55,
    "start_time": "2024-03-11T07:56:21.507Z"
   },
   {
    "duration": 11,
    "start_time": "2024-03-11T07:56:21.564Z"
   },
   {
    "duration": 10,
    "start_time": "2024-03-11T07:56:21.576Z"
   },
   {
    "duration": 10,
    "start_time": "2024-03-11T07:56:21.588Z"
   },
   {
    "duration": 11,
    "start_time": "2024-03-11T07:56:21.600Z"
   },
   {
    "duration": 9,
    "start_time": "2024-03-11T07:56:21.612Z"
   },
   {
    "duration": 26,
    "start_time": "2024-03-11T07:56:21.622Z"
   },
   {
    "duration": 12,
    "start_time": "2024-03-11T07:56:21.650Z"
   },
   {
    "duration": 14,
    "start_time": "2024-03-11T07:56:21.664Z"
   },
   {
    "duration": 12,
    "start_time": "2024-03-11T07:56:21.692Z"
   },
   {
    "duration": 50,
    "start_time": "2024-03-11T07:59:16.896Z"
   },
   {
    "duration": 16,
    "start_time": "2024-03-11T08:00:15.781Z"
   },
   {
    "duration": 2608,
    "start_time": "2024-03-11T08:00:22.153Z"
   },
   {
    "duration": 559,
    "start_time": "2024-03-11T08:00:24.763Z"
   },
   {
    "duration": 11894,
    "start_time": "2024-03-11T08:00:25.324Z"
   },
   {
    "duration": 76,
    "start_time": "2024-03-11T08:00:37.220Z"
   },
   {
    "duration": 0,
    "start_time": "2024-03-11T08:00:37.298Z"
   },
   {
    "duration": 0,
    "start_time": "2024-03-11T08:00:37.299Z"
   },
   {
    "duration": 0,
    "start_time": "2024-03-11T08:00:37.300Z"
   },
   {
    "duration": 0,
    "start_time": "2024-03-11T08:00:37.301Z"
   },
   {
    "duration": 0,
    "start_time": "2024-03-11T08:00:37.303Z"
   },
   {
    "duration": 0,
    "start_time": "2024-03-11T08:00:37.304Z"
   },
   {
    "duration": 0,
    "start_time": "2024-03-11T08:00:37.305Z"
   },
   {
    "duration": 0,
    "start_time": "2024-03-11T08:00:37.306Z"
   },
   {
    "duration": 0,
    "start_time": "2024-03-11T08:00:37.307Z"
   },
   {
    "duration": 4,
    "start_time": "2024-03-11T08:01:02.368Z"
   },
   {
    "duration": 3,
    "start_time": "2024-03-11T08:01:18.822Z"
   },
   {
    "duration": 38,
    "start_time": "2024-03-11T08:01:22.201Z"
   },
   {
    "duration": 2591,
    "start_time": "2024-03-11T08:01:37.310Z"
   },
   {
    "duration": 578,
    "start_time": "2024-03-11T08:01:39.905Z"
   },
   {
    "duration": 11472,
    "start_time": "2024-03-11T08:01:40.485Z"
   },
   {
    "duration": 4,
    "start_time": "2024-03-11T08:01:51.959Z"
   },
   {
    "duration": 36,
    "start_time": "2024-03-11T08:01:51.966Z"
   },
   {
    "duration": 11,
    "start_time": "2024-03-11T08:01:52.004Z"
   },
   {
    "duration": 11,
    "start_time": "2024-03-11T08:01:52.017Z"
   },
   {
    "duration": 20,
    "start_time": "2024-03-11T08:01:52.030Z"
   },
   {
    "duration": 12,
    "start_time": "2024-03-11T08:01:52.052Z"
   },
   {
    "duration": 37,
    "start_time": "2024-03-11T08:01:52.065Z"
   },
   {
    "duration": 13,
    "start_time": "2024-03-11T08:01:52.104Z"
   },
   {
    "duration": 53,
    "start_time": "2024-03-11T08:01:52.119Z"
   },
   {
    "duration": 17,
    "start_time": "2024-03-11T08:01:52.174Z"
   },
   {
    "duration": 4,
    "start_time": "2024-03-11T08:03:33.387Z"
   },
   {
    "duration": 4,
    "start_time": "2024-03-11T08:03:36.298Z"
   },
   {
    "duration": 2591,
    "start_time": "2024-03-11T08:03:40.934Z"
   },
   {
    "duration": 531,
    "start_time": "2024-03-11T08:03:43.527Z"
   },
   {
    "duration": 10770,
    "start_time": "2024-03-11T08:03:44.060Z"
   },
   {
    "duration": 4,
    "start_time": "2024-03-11T08:03:54.832Z"
   },
   {
    "duration": 55,
    "start_time": "2024-03-11T08:03:54.837Z"
   },
   {
    "duration": 9,
    "start_time": "2024-03-11T08:03:54.894Z"
   },
   {
    "duration": 10,
    "start_time": "2024-03-11T08:03:54.905Z"
   },
   {
    "duration": 10,
    "start_time": "2024-03-11T08:03:54.917Z"
   },
   {
    "duration": 9,
    "start_time": "2024-03-11T08:03:54.928Z"
   },
   {
    "duration": 23,
    "start_time": "2024-03-11T08:03:54.939Z"
   },
   {
    "duration": 37,
    "start_time": "2024-03-11T08:03:54.964Z"
   },
   {
    "duration": 14,
    "start_time": "2024-03-11T08:03:55.002Z"
   },
   {
    "duration": 29,
    "start_time": "2024-03-11T08:03:55.018Z"
   },
   {
    "duration": 72,
    "start_time": "2024-03-11T08:06:04.173Z"
   },
   {
    "duration": 3,
    "start_time": "2024-03-11T08:06:07.579Z"
   },
   {
    "duration": 2816,
    "start_time": "2024-03-11T12:28:25.172Z"
   },
   {
    "duration": 543,
    "start_time": "2024-03-11T12:28:27.991Z"
   },
   {
    "duration": 7910,
    "start_time": "2024-03-11T12:28:28.536Z"
   },
   {
    "duration": 4,
    "start_time": "2024-03-11T12:28:36.447Z"
   },
   {
    "duration": 248,
    "start_time": "2024-03-11T12:28:36.453Z"
   },
   {
    "duration": 52,
    "start_time": "2024-03-11T12:28:36.702Z"
   },
   {
    "duration": 54,
    "start_time": "2024-03-11T12:28:36.756Z"
   },
   {
    "duration": 53,
    "start_time": "2024-03-11T12:28:36.812Z"
   },
   {
    "duration": 51,
    "start_time": "2024-03-11T12:28:36.867Z"
   },
   {
    "duration": 86,
    "start_time": "2024-03-11T12:28:36.920Z"
   },
   {
    "duration": 55,
    "start_time": "2024-03-11T12:28:37.007Z"
   },
   {
    "duration": 58,
    "start_time": "2024-03-11T12:28:37.063Z"
   },
   {
    "duration": 55,
    "start_time": "2024-03-11T12:28:37.123Z"
   },
   {
    "duration": 86,
    "start_time": "2024-03-11T12:32:28.382Z"
   },
   {
    "duration": 85,
    "start_time": "2024-03-11T12:32:38.365Z"
   },
   {
    "duration": 72,
    "start_time": "2024-03-11T12:37:57.010Z"
   },
   {
    "duration": 54,
    "start_time": "2024-03-11T12:38:13.806Z"
   },
   {
    "duration": 2955,
    "start_time": "2024-03-11T12:59:59.883Z"
   },
   {
    "duration": 542,
    "start_time": "2024-03-11T13:00:02.840Z"
   },
   {
    "duration": 11381,
    "start_time": "2024-03-11T13:00:03.384Z"
   },
   {
    "duration": 3,
    "start_time": "2024-03-11T13:00:14.767Z"
   },
   {
    "duration": 66,
    "start_time": "2024-03-11T13:00:14.772Z"
   },
   {
    "duration": 9,
    "start_time": "2024-03-11T13:00:14.840Z"
   },
   {
    "duration": 19,
    "start_time": "2024-03-11T13:00:14.851Z"
   },
   {
    "duration": 26,
    "start_time": "2024-03-11T13:00:14.872Z"
   },
   {
    "duration": 9,
    "start_time": "2024-03-11T13:00:14.900Z"
   },
   {
    "duration": 22,
    "start_time": "2024-03-11T13:00:14.911Z"
   },
   {
    "duration": 11,
    "start_time": "2024-03-11T13:00:14.935Z"
   },
   {
    "duration": 40,
    "start_time": "2024-03-11T13:00:14.947Z"
   },
   {
    "duration": 12,
    "start_time": "2024-03-11T13:00:14.989Z"
   },
   {
    "duration": 13,
    "start_time": "2024-03-11T13:01:14.876Z"
   },
   {
    "duration": 12,
    "start_time": "2024-03-11T13:01:21.900Z"
   },
   {
    "duration": 12,
    "start_time": "2024-03-11T13:01:30.527Z"
   },
   {
    "duration": 13,
    "start_time": "2024-03-11T13:13:36.078Z"
   },
   {
    "duration": 12,
    "start_time": "2024-03-11T13:13:55.670Z"
   },
   {
    "duration": 2412,
    "start_time": "2024-03-11T13:14:00.651Z"
   },
   {
    "duration": 535,
    "start_time": "2024-03-11T13:14:03.065Z"
   },
   {
    "duration": 11223,
    "start_time": "2024-03-11T13:14:03.602Z"
   },
   {
    "duration": 4,
    "start_time": "2024-03-11T13:14:14.827Z"
   },
   {
    "duration": 58,
    "start_time": "2024-03-11T13:14:14.833Z"
   },
   {
    "duration": 11,
    "start_time": "2024-03-11T13:14:14.893Z"
   },
   {
    "duration": 11,
    "start_time": "2024-03-11T13:14:14.906Z"
   },
   {
    "duration": 11,
    "start_time": "2024-03-11T13:14:14.918Z"
   },
   {
    "duration": 10,
    "start_time": "2024-03-11T13:14:14.930Z"
   },
   {
    "duration": 36,
    "start_time": "2024-03-11T13:14:14.942Z"
   },
   {
    "duration": 12,
    "start_time": "2024-03-11T13:14:14.980Z"
   },
   {
    "duration": 16,
    "start_time": "2024-03-11T13:14:14.993Z"
   },
   {
    "duration": 17,
    "start_time": "2024-03-11T13:14:15.011Z"
   },
   {
    "duration": 16,
    "start_time": "2024-03-11T13:32:18.000Z"
   },
   {
    "duration": 13,
    "start_time": "2024-03-11T13:34:30.011Z"
   },
   {
    "duration": 13,
    "start_time": "2024-03-11T13:34:39.656Z"
   },
   {
    "duration": 12,
    "start_time": "2024-03-11T13:37:20.221Z"
   },
   {
    "duration": 13,
    "start_time": "2024-03-11T13:38:32.759Z"
   },
   {
    "duration": 15,
    "start_time": "2024-03-11T13:38:43.104Z"
   },
   {
    "duration": 12,
    "start_time": "2024-03-11T13:38:58.564Z"
   },
   {
    "duration": 13,
    "start_time": "2024-03-11T13:39:03.502Z"
   },
   {
    "duration": 14,
    "start_time": "2024-03-11T13:43:07.995Z"
   },
   {
    "duration": 83,
    "start_time": "2024-03-11T13:43:34.484Z"
   },
   {
    "duration": 15,
    "start_time": "2024-03-11T13:43:47.251Z"
   },
   {
    "duration": 13,
    "start_time": "2024-03-11T13:44:08.129Z"
   },
   {
    "duration": 2473,
    "start_time": "2024-03-11T13:44:31.989Z"
   },
   {
    "duration": 539,
    "start_time": "2024-03-11T13:44:34.464Z"
   },
   {
    "duration": 11592,
    "start_time": "2024-03-11T13:44:35.005Z"
   },
   {
    "duration": 4,
    "start_time": "2024-03-11T13:44:46.599Z"
   },
   {
    "duration": 59,
    "start_time": "2024-03-11T13:44:46.604Z"
   },
   {
    "duration": 10,
    "start_time": "2024-03-11T13:44:46.665Z"
   },
   {
    "duration": 13,
    "start_time": "2024-03-11T13:44:46.677Z"
   },
   {
    "duration": 12,
    "start_time": "2024-03-11T13:44:46.691Z"
   },
   {
    "duration": 10,
    "start_time": "2024-03-11T13:44:46.705Z"
   },
   {
    "duration": 35,
    "start_time": "2024-03-11T13:44:46.718Z"
   },
   {
    "duration": 19,
    "start_time": "2024-03-11T13:44:46.755Z"
   },
   {
    "duration": 16,
    "start_time": "2024-03-11T13:44:46.776Z"
   },
   {
    "duration": 15,
    "start_time": "2024-03-11T13:44:46.793Z"
   },
   {
    "duration": 2688,
    "start_time": "2024-03-12T06:12:17.844Z"
   },
   {
    "duration": 506,
    "start_time": "2024-03-12T06:12:20.535Z"
   },
   {
    "duration": 10099,
    "start_time": "2024-03-12T06:12:21.042Z"
   },
   {
    "duration": 3,
    "start_time": "2024-03-12T06:12:31.143Z"
   },
   {
    "duration": 272,
    "start_time": "2024-03-12T06:12:31.149Z"
   },
   {
    "duration": 52,
    "start_time": "2024-03-12T06:12:31.423Z"
   },
   {
    "duration": 53,
    "start_time": "2024-03-12T06:12:31.476Z"
   },
   {
    "duration": 53,
    "start_time": "2024-03-12T06:12:31.530Z"
   },
   {
    "duration": 53,
    "start_time": "2024-03-12T06:12:31.585Z"
   },
   {
    "duration": 127,
    "start_time": "2024-03-12T06:12:31.639Z"
   },
   {
    "duration": 55,
    "start_time": "2024-03-12T06:12:31.768Z"
   },
   {
    "duration": 54,
    "start_time": "2024-03-12T06:12:31.825Z"
   },
   {
    "duration": 52,
    "start_time": "2024-03-12T06:12:31.881Z"
   }
  ],
  "kernelspec": {
   "display_name": "Python 3 (ipykernel)",
   "language": "python",
   "name": "python3"
  },
  "language_info": {
   "codemirror_mode": {
    "name": "ipython",
    "version": 3
   },
   "file_extension": ".py",
   "mimetype": "text/x-python",
   "name": "python",
   "nbconvert_exporter": "python",
   "pygments_lexer": "ipython3",
   "version": "3.9.5"
  },
  "toc": {
   "base_numbering": 1,
   "nav_menu": {},
   "number_sections": true,
   "sideBar": true,
   "skip_h1_title": true,
   "title_cell": "Table of Contents",
   "title_sidebar": "Contents",
   "toc_cell": false,
   "toc_position": {},
   "toc_section_display": true,
   "toc_window_display": true
  }
 },
 "nbformat": 4,
 "nbformat_minor": 2
}
