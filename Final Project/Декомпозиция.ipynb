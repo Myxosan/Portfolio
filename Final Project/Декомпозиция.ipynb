{
 "cells": [
  {
   "cell_type": "markdown",
   "metadata": {},
   "source": [
    "# Анализ данных интернет магазина товаров для дома «Пока все ещё тут»"
   ]
  },
  {
   "cell_type": "markdown",
   "metadata": {},
   "source": [
    "## Описание проекта:\n",
    "  В нашем распоряжении данные интернет магазина товаров для дома \"Пока все еще тут\""
   ]
  },
  {
   "cell_type": "markdown",
   "metadata": {},
   "source": [
    "## Цель:\n",
    "\n",
    "Сегментировать покупателей по профилю потребления для создания рассылок"
   ]
  },
  {
   "cell_type": "markdown",
   "metadata": {},
   "source": [
    "## Данные:\n",
    "- date — дата заказа;\n",
    "- customer_id — идентификатор покупателя;\n",
    "- order_id — идентификатор заказа;\n",
    "- product — наименование товара;\n",
    "- quantity — количество товара в заказе;\n",
    "- price — цена товара."
   ]
  },
  {
   "cell_type": "markdown",
   "metadata": {},
   "source": [
    "## Ход работы:\n",
    "\n",
    "1. Загрузка данных\n",
    "\n",
    "\n",
    "2. Предобработка данных:\n",
    " - проверка типов данных;\n",
    " - проверка пропусков;\n",
    " - проверка дубликатов;\n",
    " - проверка неявных дуликатов (1 заказ - один клиент и 1 заказ - 1 дата);\n",
    " \n",
    " \n",
    "3. Исследовательский анализ:\n",
    " - посмотрим на зависимость покупок от дня недели/месяца.\n",
    " - добавление столбцов:\n",
    "      - общее количество заказов клиента;\n",
    "      - средний чек клиента;\n",
    "      - сумма общих покупок клиента;\n",
    "      - сумма текущего заказа клиента;\n",
    "  \n",
    "  \n",
    "4. Сегментирование покупателей по профилю потребления (RFM-анализ)\n",
    "    - давность покупок\n",
    "    - частота покупок\n",
    "    - сумма покупок\n",
    "\n",
    "\n",
    "5. Формулировка и проверка гипотез:\n",
    " - Гипотеза о различии среднего чека в группах\n",
    " - Гипотеза о различии количества товаров в группах\n",
    " \n",
    " \n",
    "6. Презентация и вывод."
   ]
  }
 ],
 "metadata": {
  "ExecuteTimeLog": [
   {
    "duration": 1447,
    "start_time": "2024-03-01T14:40:05.578Z"
   },
   {
    "duration": 139,
    "start_time": "2024-03-01T14:40:16.837Z"
   },
   {
    "duration": 13,
    "start_time": "2024-03-01T14:40:27.767Z"
   },
   {
    "duration": 4,
    "start_time": "2024-03-01T14:40:46.786Z"
   },
   {
    "duration": 12,
    "start_time": "2024-03-01T14:40:59.899Z"
   },
   {
    "duration": 109,
    "start_time": "2024-03-01T14:41:39.042Z"
   },
   {
    "duration": 10,
    "start_time": "2024-03-01T14:42:04.729Z"
   },
   {
    "duration": 7,
    "start_time": "2024-03-01T14:42:15.683Z"
   },
   {
    "duration": 20,
    "start_time": "2024-03-01T14:42:39.213Z"
   },
   {
    "duration": 12,
    "start_time": "2024-03-01T14:42:48.057Z"
   },
   {
    "duration": 14,
    "start_time": "2024-03-01T14:42:58.486Z"
   }
  ],
  "kernelspec": {
   "display_name": "Python 3 (ipykernel)",
   "language": "python",
   "name": "python3"
  },
  "language_info": {
   "codemirror_mode": {
    "name": "ipython",
    "version": 3
   },
   "file_extension": ".py",
   "mimetype": "text/x-python",
   "name": "python",
   "nbconvert_exporter": "python",
   "pygments_lexer": "ipython3",
   "version": "3.9.5"
  },
  "toc": {
   "base_numbering": 1,
   "nav_menu": {},
   "number_sections": true,
   "sideBar": true,
   "skip_h1_title": true,
   "title_cell": "Table of Contents",
   "title_sidebar": "Contents",
   "toc_cell": false,
   "toc_position": {},
   "toc_section_display": true,
   "toc_window_display": false
  }
 },
 "nbformat": 4,
 "nbformat_minor": 2
}
