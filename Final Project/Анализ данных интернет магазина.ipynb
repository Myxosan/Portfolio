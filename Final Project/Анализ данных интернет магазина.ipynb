{
 "cells": [
  {
   "cell_type": "markdown",
   "metadata": {},
   "source": [
    "# Анализ данных интернет магазина товаров для дома «Пока все ещё тут»"
   ]
  },
  {
   "cell_type": "markdown",
   "metadata": {},
   "source": [
    "# Описание проекта:\n",
    "   В нашем распоряжении данные интернет магазина товаров для дома \"Пока все еще тут\""
   ]
  },
  {
   "cell_type": "markdown",
   "metadata": {},
   "source": [
    "# Цель:\n",
    "\n",
    "Сегментировать покупателей по профилю потребления для создания рассылок"
   ]
  },
  {
   "cell_type": "markdown",
   "metadata": {},
   "source": [
    "## Импорт библиотек"
   ]
  },
  {
   "cell_type": "code",
   "execution_count": 1,
   "metadata": {},
   "outputs": [],
   "source": [
    "import pandas as pd\n",
    "import numpy as np \n",
    "import datetime as dt\n",
    "from datetime import datetime, timedelta\n",
    "import math\n",
    "import scipy.stats as stats\n",
    "from scipy import stats as st\n",
    "import seaborn as sns\n",
    "import matplotlib.pyplot as plt\n",
    "from plotly.graph_objs import Scatter, Figure, Layout\n",
    "import plotly\n",
    "import plotly.graph_objs as go\n",
    "import plotly.express as px"
   ]
  },
  {
   "cell_type": "code",
   "execution_count": 2,
   "metadata": {},
   "outputs": [],
   "source": [
    "data = pd.read_csv('/datasets/ecom_dataset_upd.csv')"
   ]
  },
  {
   "cell_type": "markdown",
   "metadata": {},
   "source": [
    "## Предобработка данных"
   ]
  },
  {
   "cell_type": "code",
   "execution_count": 3,
   "metadata": {},
   "outputs": [
    {
     "data": {
      "text/html": [
       "<div>\n",
       "<style scoped>\n",
       "    .dataframe tbody tr th:only-of-type {\n",
       "        vertical-align: middle;\n",
       "    }\n",
       "\n",
       "    .dataframe tbody tr th {\n",
       "        vertical-align: top;\n",
       "    }\n",
       "\n",
       "    .dataframe thead th {\n",
       "        text-align: right;\n",
       "    }\n",
       "</style>\n",
       "<table border=\"1\" class=\"dataframe\">\n",
       "  <thead>\n",
       "    <tr style=\"text-align: right;\">\n",
       "      <th></th>\n",
       "      <th>date</th>\n",
       "      <th>customer_id</th>\n",
       "      <th>order_id</th>\n",
       "      <th>product</th>\n",
       "      <th>quantity</th>\n",
       "      <th>price</th>\n",
       "    </tr>\n",
       "  </thead>\n",
       "  <tbody>\n",
       "    <tr>\n",
       "      <th>0</th>\n",
       "      <td>2018100100</td>\n",
       "      <td>ee47d746-6d2f-4d3c-9622-c31412542920</td>\n",
       "      <td>68477</td>\n",
       "      <td>Комнатное растение в горшке Алое Вера, d12, h30</td>\n",
       "      <td>1</td>\n",
       "      <td>142.0</td>\n",
       "    </tr>\n",
       "    <tr>\n",
       "      <th>1</th>\n",
       "      <td>2018100100</td>\n",
       "      <td>ee47d746-6d2f-4d3c-9622-c31412542920</td>\n",
       "      <td>68477</td>\n",
       "      <td>Комнатное растение в горшке Кофе Арабика, d12,...</td>\n",
       "      <td>1</td>\n",
       "      <td>194.0</td>\n",
       "    </tr>\n",
       "    <tr>\n",
       "      <th>2</th>\n",
       "      <td>2018100100</td>\n",
       "      <td>ee47d746-6d2f-4d3c-9622-c31412542920</td>\n",
       "      <td>68477</td>\n",
       "      <td>Радермахера d-12 см h-20 см</td>\n",
       "      <td>1</td>\n",
       "      <td>112.0</td>\n",
       "    </tr>\n",
       "    <tr>\n",
       "      <th>3</th>\n",
       "      <td>2018100100</td>\n",
       "      <td>ee47d746-6d2f-4d3c-9622-c31412542920</td>\n",
       "      <td>68477</td>\n",
       "      <td>Хризолидокарпус Лутесценс d-9 см</td>\n",
       "      <td>1</td>\n",
       "      <td>179.0</td>\n",
       "    </tr>\n",
       "    <tr>\n",
       "      <th>4</th>\n",
       "      <td>2018100100</td>\n",
       "      <td>ee47d746-6d2f-4d3c-9622-c31412542920</td>\n",
       "      <td>68477</td>\n",
       "      <td>Циперус Зумула d-12 см h-25 см</td>\n",
       "      <td>1</td>\n",
       "      <td>112.0</td>\n",
       "    </tr>\n",
       "  </tbody>\n",
       "</table>\n",
       "</div>"
      ],
      "text/plain": [
       "         date                           customer_id  order_id  \\\n",
       "0  2018100100  ee47d746-6d2f-4d3c-9622-c31412542920     68477   \n",
       "1  2018100100  ee47d746-6d2f-4d3c-9622-c31412542920     68477   \n",
       "2  2018100100  ee47d746-6d2f-4d3c-9622-c31412542920     68477   \n",
       "3  2018100100  ee47d746-6d2f-4d3c-9622-c31412542920     68477   \n",
       "4  2018100100  ee47d746-6d2f-4d3c-9622-c31412542920     68477   \n",
       "\n",
       "                                             product  quantity  price  \n",
       "0    Комнатное растение в горшке Алое Вера, d12, h30         1  142.0  \n",
       "1  Комнатное растение в горшке Кофе Арабика, d12,...         1  194.0  \n",
       "2                        Радермахера d-12 см h-20 см         1  112.0  \n",
       "3                   Хризолидокарпус Лутесценс d-9 см         1  179.0  \n",
       "4                     Циперус Зумула d-12 см h-25 см         1  112.0  "
      ]
     },
     "execution_count": 3,
     "metadata": {},
     "output_type": "execute_result"
    }
   ],
   "source": [
    "data.head(5)"
   ]
  },
  {
   "cell_type": "code",
   "execution_count": 4,
   "metadata": {},
   "outputs": [
    {
     "name": "stdout",
     "output_type": "stream",
     "text": [
      "<class 'pandas.core.frame.DataFrame'>\n",
      "RangeIndex: 7474 entries, 0 to 7473\n",
      "Data columns (total 6 columns):\n",
      " #   Column       Non-Null Count  Dtype  \n",
      "---  ------       --------------  -----  \n",
      " 0   date         7474 non-null   int64  \n",
      " 1   customer_id  7474 non-null   object \n",
      " 2   order_id     7474 non-null   int64  \n",
      " 3   product      7474 non-null   object \n",
      " 4   quantity     7474 non-null   int64  \n",
      " 5   price        7474 non-null   float64\n",
      "dtypes: float64(1), int64(3), object(2)\n",
      "memory usage: 350.5+ KB\n"
     ]
    }
   ],
   "source": [
    "data.info()"
   ]
  },
  {
   "cell_type": "markdown",
   "metadata": {},
   "source": [
    "- Приведем дату у корректному формату"
   ]
  },
  {
   "cell_type": "code",
   "execution_count": 5,
   "metadata": {},
   "outputs": [],
   "source": [
    "data['date'] = pd.to_datetime(data['date'], format='%Y%m%d%H')"
   ]
  },
  {
   "cell_type": "code",
   "execution_count": 6,
   "metadata": {},
   "outputs": [
    {
     "name": "stdout",
     "output_type": "stream",
     "text": [
      "<class 'pandas.core.frame.DataFrame'>\n",
      "RangeIndex: 7474 entries, 0 to 7473\n",
      "Data columns (total 6 columns):\n",
      " #   Column       Non-Null Count  Dtype         \n",
      "---  ------       --------------  -----         \n",
      " 0   date         7474 non-null   datetime64[ns]\n",
      " 1   customer_id  7474 non-null   object        \n",
      " 2   order_id     7474 non-null   int64         \n",
      " 3   product      7474 non-null   object        \n",
      " 4   quantity     7474 non-null   int64         \n",
      " 5   price        7474 non-null   float64       \n",
      "dtypes: datetime64[ns](1), float64(1), int64(2), object(2)\n",
      "memory usage: 350.5+ KB\n"
     ]
    }
   ],
   "source": [
    "data.info()"
   ]
  },
  {
   "cell_type": "markdown",
   "metadata": {},
   "source": [
    "- Приведем товары к нижнему регистру"
   ]
  },
  {
   "cell_type": "code",
   "execution_count": 7,
   "metadata": {},
   "outputs": [],
   "source": [
    "data['product'] = data['product'].str.lower()"
   ]
  },
  {
   "cell_type": "markdown",
   "metadata": {},
   "source": [
    "- Проверим дубликаты"
   ]
  },
  {
   "cell_type": "code",
   "execution_count": 8,
   "metadata": {},
   "outputs": [
    {
     "data": {
      "text/plain": [
       "0"
      ]
     },
     "execution_count": 8,
     "metadata": {},
     "output_type": "execute_result"
    }
   ],
   "source": [
    "data.duplicated().sum()"
   ]
  },
  {
   "cell_type": "code",
   "execution_count": 9,
   "metadata": {},
   "outputs": [
    {
     "data": {
      "text/plain": [
       "date           0\n",
       "customer_id    0\n",
       "order_id       0\n",
       "product        0\n",
       "quantity       0\n",
       "price          0\n",
       "dtype: int64"
      ]
     },
     "execution_count": 9,
     "metadata": {},
     "output_type": "execute_result"
    }
   ],
   "source": [
    "data.isna().sum()"
   ]
  },
  {
   "cell_type": "markdown",
   "metadata": {},
   "source": [
    "- Проверим на скрытые дубликаты"
   ]
  },
  {
   "cell_type": "code",
   "execution_count": 10,
   "metadata": {},
   "outputs": [
    {
     "data": {
      "text/plain": [
       "1886"
      ]
     },
     "execution_count": 10,
     "metadata": {},
     "output_type": "execute_result"
    }
   ],
   "source": [
    "data[['customer_id', 'order_id', 'product']].duplicated().sum() "
   ]
  },
  {
   "cell_type": "code",
   "execution_count": 11,
   "metadata": {},
   "outputs": [],
   "source": [
    "#удалим скрытые дубликаты\n",
    "data = data.drop_duplicates(subset = ['customer_id', 'order_id', 'product'])"
   ]
  },
  {
   "cell_type": "code",
   "execution_count": 12,
   "metadata": {},
   "outputs": [
    {
     "data": {
      "text/plain": [
       "0"
      ]
     },
     "execution_count": 12,
     "metadata": {},
     "output_type": "execute_result"
    }
   ],
   "source": [
    "data[['customer_id', 'order_id', 'product']].duplicated().sum() "
   ]
  },
  {
   "cell_type": "markdown",
   "metadata": {},
   "source": [
    "### Неявные дубликаты 1 заказ - 1 клиент и 1 заказ - 1 дата"
   ]
  },
  {
   "cell_type": "markdown",
   "metadata": {},
   "source": [
    "- 1 заказ - 1 клиент"
   ]
  },
  {
   "cell_type": "code",
   "execution_count": 13,
   "metadata": {},
   "outputs": [
    {
     "data": {
      "text/html": [
       "<div>\n",
       "<style scoped>\n",
       "    .dataframe tbody tr th:only-of-type {\n",
       "        vertical-align: middle;\n",
       "    }\n",
       "\n",
       "    .dataframe tbody tr th {\n",
       "        vertical-align: top;\n",
       "    }\n",
       "\n",
       "    .dataframe thead th {\n",
       "        text-align: right;\n",
       "    }\n",
       "</style>\n",
       "<table border=\"1\" class=\"dataframe\">\n",
       "  <thead>\n",
       "    <tr style=\"text-align: right;\">\n",
       "      <th></th>\n",
       "      <th>customer_id</th>\n",
       "    </tr>\n",
       "    <tr>\n",
       "      <th>order_id</th>\n",
       "      <th></th>\n",
       "    </tr>\n",
       "  </thead>\n",
       "  <tbody>\n",
       "    <tr>\n",
       "      <th>14872</th>\n",
       "      <td>2</td>\n",
       "    </tr>\n",
       "    <tr>\n",
       "      <th>68785</th>\n",
       "      <td>2</td>\n",
       "    </tr>\n",
       "    <tr>\n",
       "      <th>69283</th>\n",
       "      <td>2</td>\n",
       "    </tr>\n",
       "    <tr>\n",
       "      <th>69310</th>\n",
       "      <td>2</td>\n",
       "    </tr>\n",
       "    <tr>\n",
       "      <th>69345</th>\n",
       "      <td>2</td>\n",
       "    </tr>\n",
       "  </tbody>\n",
       "</table>\n",
       "</div>"
      ],
      "text/plain": [
       "          customer_id\n",
       "order_id             \n",
       "14872               2\n",
       "68785               2\n",
       "69283               2\n",
       "69310               2\n",
       "69345               2"
      ]
     },
     "metadata": {},
     "output_type": "display_data"
    },
    {
     "name": "stdout",
     "output_type": "stream",
     "text": [
      "Количество уникальных заказов с различными клиентскими id: 29\n"
     ]
    }
   ],
   "source": [
    "dublicates_order = data.groupby('order_id').agg({'customer_id':'nunique'}).query('customer_id > 1')\n",
    "display(dublicates_order.head(5))\n",
    "print('Количество уникальных заказов с различными клиентскими id:', dublicates_order.shape[0])"
   ]
  },
  {
   "cell_type": "markdown",
   "metadata": {},
   "source": [
    "Данных не так много, скорее всего это ошибка выгрузки, удалим их."
   ]
  },
  {
   "cell_type": "code",
   "execution_count": 14,
   "metadata": {},
   "outputs": [],
   "source": [
    "list_of_order_id = dublicates_order.index.tolist()\n",
    "data = data.query('order_id not in @list_of_order_id')"
   ]
  },
  {
   "cell_type": "markdown",
   "metadata": {},
   "source": [
    "- 1 заказ - одна дата"
   ]
  },
  {
   "cell_type": "code",
   "execution_count": 15,
   "metadata": {},
   "outputs": [
    {
     "data": {
      "text/html": [
       "<div>\n",
       "<style scoped>\n",
       "    .dataframe tbody tr th:only-of-type {\n",
       "        vertical-align: middle;\n",
       "    }\n",
       "\n",
       "    .dataframe tbody tr th {\n",
       "        vertical-align: top;\n",
       "    }\n",
       "\n",
       "    .dataframe thead th {\n",
       "        text-align: right;\n",
       "    }\n",
       "</style>\n",
       "<table border=\"1\" class=\"dataframe\">\n",
       "  <thead>\n",
       "    <tr style=\"text-align: right;\">\n",
       "      <th></th>\n",
       "      <th>date</th>\n",
       "    </tr>\n",
       "    <tr>\n",
       "      <th>order_id</th>\n",
       "      <th></th>\n",
       "    </tr>\n",
       "  </thead>\n",
       "  <tbody>\n",
       "    <tr>\n",
       "      <th>14500</th>\n",
       "      <td>2</td>\n",
       "    </tr>\n",
       "    <tr>\n",
       "      <th>14649</th>\n",
       "      <td>2</td>\n",
       "    </tr>\n",
       "    <tr>\n",
       "      <th>14898</th>\n",
       "      <td>2</td>\n",
       "    </tr>\n",
       "    <tr>\n",
       "      <th>69527</th>\n",
       "      <td>2</td>\n",
       "    </tr>\n",
       "    <tr>\n",
       "      <th>69750</th>\n",
       "      <td>2</td>\n",
       "    </tr>\n",
       "  </tbody>\n",
       "</table>\n",
       "</div>"
      ],
      "text/plain": [
       "          date\n",
       "order_id      \n",
       "14500        2\n",
       "14649        2\n",
       "14898        2\n",
       "69527        2\n",
       "69750        2"
      ]
     },
     "metadata": {},
     "output_type": "display_data"
    },
    {
     "name": "stdout",
     "output_type": "stream",
     "text": [
      "Количество уникальных заказов с различными датами: 12\n"
     ]
    }
   ],
   "source": [
    "dublicates_date = data.groupby('order_id').agg({'date':'nunique'}).query('date > 1')\n",
    "display(dublicates_date.head(5))\n",
    "print('Количество уникальных заказов с различными датами:', dublicates_date.shape[0])"
   ]
  },
  {
   "cell_type": "markdown",
   "metadata": {},
   "source": [
    "- Посмотрим на заказ поближе"
   ]
  },
  {
   "cell_type": "code",
   "execution_count": 16,
   "metadata": {},
   "outputs": [
    {
     "data": {
      "text/html": [
       "<div>\n",
       "<style scoped>\n",
       "    .dataframe tbody tr th:only-of-type {\n",
       "        vertical-align: middle;\n",
       "    }\n",
       "\n",
       "    .dataframe tbody tr th {\n",
       "        vertical-align: top;\n",
       "    }\n",
       "\n",
       "    .dataframe thead th {\n",
       "        text-align: right;\n",
       "    }\n",
       "</style>\n",
       "<table border=\"1\" class=\"dataframe\">\n",
       "  <thead>\n",
       "    <tr style=\"text-align: right;\">\n",
       "      <th></th>\n",
       "      <th>date</th>\n",
       "      <th>customer_id</th>\n",
       "      <th>order_id</th>\n",
       "      <th>product</th>\n",
       "      <th>quantity</th>\n",
       "      <th>price</th>\n",
       "    </tr>\n",
       "  </thead>\n",
       "  <tbody>\n",
       "    <tr>\n",
       "      <th>5762</th>\n",
       "      <td>2019-07-09 22:00:00</td>\n",
       "      <td>3ebc0246-48a6-4932-a759-f492c4a7d879</td>\n",
       "      <td>14898</td>\n",
       "      <td>рассада зелени для кухни душица-орегано розовы...</td>\n",
       "      <td>1</td>\n",
       "      <td>89.0</td>\n",
       "    </tr>\n",
       "    <tr>\n",
       "      <th>5763</th>\n",
       "      <td>2019-07-09 22:00:00</td>\n",
       "      <td>3ebc0246-48a6-4932-a759-f492c4a7d879</td>\n",
       "      <td>14898</td>\n",
       "      <td>рассада зелени для кухни иссоп лекарственный а...</td>\n",
       "      <td>1</td>\n",
       "      <td>188.0</td>\n",
       "    </tr>\n",
       "    <tr>\n",
       "      <th>5764</th>\n",
       "      <td>2019-07-09 22:00:00</td>\n",
       "      <td>3ebc0246-48a6-4932-a759-f492c4a7d879</td>\n",
       "      <td>14898</td>\n",
       "      <td>рассада зелени для кухни петрушка корневая сах...</td>\n",
       "      <td>1</td>\n",
       "      <td>128.0</td>\n",
       "    </tr>\n",
       "    <tr>\n",
       "      <th>5765</th>\n",
       "      <td>2019-07-09 22:00:00</td>\n",
       "      <td>3ebc0246-48a6-4932-a759-f492c4a7d879</td>\n",
       "      <td>14898</td>\n",
       "      <td>рассада зелени для кухни тимьян сильвер квин д...</td>\n",
       "      <td>1</td>\n",
       "      <td>120.0</td>\n",
       "    </tr>\n",
       "    <tr>\n",
       "      <th>5766</th>\n",
       "      <td>2019-07-09 22:00:00</td>\n",
       "      <td>3ebc0246-48a6-4932-a759-f492c4a7d879</td>\n",
       "      <td>14898</td>\n",
       "      <td>рассада пряной травы лавр в горшке 9 см</td>\n",
       "      <td>1</td>\n",
       "      <td>45.0</td>\n",
       "    </tr>\n",
       "    <tr>\n",
       "      <th>5767</th>\n",
       "      <td>2019-07-09 22:00:00</td>\n",
       "      <td>3ebc0246-48a6-4932-a759-f492c4a7d879</td>\n",
       "      <td>14898</td>\n",
       "      <td>рассада пряной травы эвкалипт сильвердроп в го...</td>\n",
       "      <td>1</td>\n",
       "      <td>52.0</td>\n",
       "    </tr>\n",
       "    <tr>\n",
       "      <th>5803</th>\n",
       "      <td>2019-07-10 11:00:00</td>\n",
       "      <td>3ebc0246-48a6-4932-a759-f492c4a7d879</td>\n",
       "      <td>14898</td>\n",
       "      <td>рассада зелени для кухни розмарина в горшке ди...</td>\n",
       "      <td>1</td>\n",
       "      <td>120.0</td>\n",
       "    </tr>\n",
       "  </tbody>\n",
       "</table>\n",
       "</div>"
      ],
      "text/plain": [
       "                    date                           customer_id  order_id  \\\n",
       "5762 2019-07-09 22:00:00  3ebc0246-48a6-4932-a759-f492c4a7d879     14898   \n",
       "5763 2019-07-09 22:00:00  3ebc0246-48a6-4932-a759-f492c4a7d879     14898   \n",
       "5764 2019-07-09 22:00:00  3ebc0246-48a6-4932-a759-f492c4a7d879     14898   \n",
       "5765 2019-07-09 22:00:00  3ebc0246-48a6-4932-a759-f492c4a7d879     14898   \n",
       "5766 2019-07-09 22:00:00  3ebc0246-48a6-4932-a759-f492c4a7d879     14898   \n",
       "5767 2019-07-09 22:00:00  3ebc0246-48a6-4932-a759-f492c4a7d879     14898   \n",
       "5803 2019-07-10 11:00:00  3ebc0246-48a6-4932-a759-f492c4a7d879     14898   \n",
       "\n",
       "                                                product  quantity  price  \n",
       "5762  рассада зелени для кухни душица-орегано розовы...         1   89.0  \n",
       "5763  рассада зелени для кухни иссоп лекарственный а...         1  188.0  \n",
       "5764  рассада зелени для кухни петрушка корневая сах...         1  128.0  \n",
       "5765  рассада зелени для кухни тимьян сильвер квин д...         1  120.0  \n",
       "5766            рассада пряной травы лавр в горшке 9 см         1   45.0  \n",
       "5767  рассада пряной травы эвкалипт сильвердроп в го...         1   52.0  \n",
       "5803  рассада зелени для кухни розмарина в горшке ди...         1  120.0  "
      ]
     },
     "execution_count": 16,
     "metadata": {},
     "output_type": "execute_result"
    }
   ],
   "source": [
    "data[data['order_id'] == 14898]"
   ]
  },
  {
   "cell_type": "markdown",
   "metadata": {},
   "source": [
    "С данными заказами все в порядке."
   ]
  },
  {
   "cell_type": "code",
   "execution_count": 17,
   "metadata": {},
   "outputs": [
    {
     "name": "stdout",
     "output_type": "stream",
     "text": [
      "<class 'pandas.core.frame.DataFrame'>\n",
      "Int64Index: 5522 entries, 0 to 7473\n",
      "Data columns (total 6 columns):\n",
      " #   Column       Non-Null Count  Dtype         \n",
      "---  ------       --------------  -----         \n",
      " 0   date         5522 non-null   datetime64[ns]\n",
      " 1   customer_id  5522 non-null   object        \n",
      " 2   order_id     5522 non-null   int64         \n",
      " 3   product      5522 non-null   object        \n",
      " 4   quantity     5522 non-null   int64         \n",
      " 5   price        5522 non-null   float64       \n",
      "dtypes: datetime64[ns](1), float64(1), int64(2), object(2)\n",
      "memory usage: 302.0+ KB\n"
     ]
    }
   ],
   "source": [
    "data.info()"
   ]
  },
  {
   "cell_type": "markdown",
   "metadata": {},
   "source": [
    "# Вывод:\n",
    "    - Выгрузили данные;\n",
    "    - Привели формат даты к корректному;\n",
    "    - Привели названия товаров к нижнему регистру;\n",
    "    - Проверили данные на явные, скрытые и неявные дубликаты;\n",
    "    - Удалили дубликаты;\n",
    "   "
   ]
  },
  {
   "cell_type": "markdown",
   "metadata": {},
   "source": [
    "## Исследовательский анализ данных"
   ]
  },
  {
   "cell_type": "markdown",
   "metadata": {},
   "source": [
    "- Посмотрим за какой период предоставлены данные"
   ]
  },
  {
   "cell_type": "code",
   "execution_count": 18,
   "metadata": {},
   "outputs": [
    {
     "name": "stdout",
     "output_type": "stream",
     "text": [
      "Начало периода: 2018-10-01 00:00:00\n",
      "Конец периода: 2020-01-31 15:00:00\n"
     ]
    }
   ],
   "source": [
    "print('Начало периода:', data['date'].min())\n",
    "print('Конец периода:', data['date'].max())"
   ]
  },
  {
   "cell_type": "markdown",
   "metadata": {},
   "source": [
    "- Добавим столбцы месяц и день покупки"
   ]
  },
  {
   "cell_type": "code",
   "execution_count": 19,
   "metadata": {},
   "outputs": [],
   "source": [
    "data['month'] = data['date'].dt.month\n",
    "data['day'] = data['date'].dt.day\n",
    "data['weekday'] = data['date'].dt.weekday\n",
    "data['year'] = data['date'].dt.year"
   ]
  },
  {
   "cell_type": "markdown",
   "metadata": {},
   "source": [
    "- Посчитаем количество уникальных заказов по дням месяца и постоим зависимость"
   ]
  },
  {
   "cell_type": "code",
   "execution_count": 20,
   "metadata": {},
   "outputs": [],
   "source": [
    "orders_per_date = data.groupby('day').agg({'order_id':'nunique'})"
   ]
  },
  {
   "cell_type": "code",
   "execution_count": 21,
   "metadata": {},
   "outputs": [
    {
     "data": {
      "image/png": "[encoded data removed]",
      "text/plain": [
       "<Figure size 1080x360 with 1 Axes>"
      ]
     },
     "metadata": {
      "needs_background": "light"
     },
     "output_type": "display_data"
    }
   ],
   "source": [
    "orders_per_date.plot(grid=True, figsize=(15,5))\n",
    "plt.title('Количество заказов по дням месяца')\n",
    "plt.xlabel('День месяца')\n",
    "plt.ylabel('Количество заказов')\n",
    "plt.show()"
   ]
  },
  {
   "cell_type": "markdown",
   "metadata": {},
   "source": [
    "Пик заказов приходится на 4е число месяца."
   ]
  },
  {
   "cell_type": "markdown",
   "metadata": {},
   "source": [
    "- Сделаем то же самое с месяцами, сделаем разбивку по годам."
   ]
  },
  {
   "cell_type": "code",
   "execution_count": 22,
   "metadata": {},
   "outputs": [],
   "source": [
    "data['month_year'] = data['date'].dt.to_period('M').astype(str)"
   ]
  },
  {
   "cell_type": "code",
   "execution_count": 23,
   "metadata": {},
   "outputs": [],
   "source": [
    "orders_per_month = data.groupby('month_year').agg({'order_id':'nunique'})"
   ]
  },
  {
   "cell_type": "code",
   "execution_count": 24,
   "metadata": {},
   "outputs": [
    {
     "data": {
      "image/png": "[encoded data removed]",
      "text/plain": [
       "<Figure size 720x360 with 1 Axes>"
      ]
     },
     "metadata": {
      "needs_background": "light"
     },
     "output_type": "display_data"
    }
   ],
   "source": [
    "orders_per_month.plot(grid=True, figsize=(10,5)) \n",
    "plt.title('Количество заказов в разные месяцы')\n",
    "plt.xlabel('Месяц')\n",
    "plt.ylabel('Количество заказов')\n",
    "plt.show()"
   ]
  },
  {
   "cell_type": "markdown",
   "metadata": {},
   "source": [
    "Вывод: \n",
    "- Виден рост заказов к Новому году\n",
    "- Рост с Февраля 2019 по Апрель 2019 проихсодит скорее всего из-за сезонности\n",
    "- С Августа 2019 виден рост до конца года."
   ]
  },
  {
   "cell_type": "markdown",
   "metadata": {},
   "source": [
    "- Теперь посмотрим на количество заказов по дням недели"
   ]
  },
  {
   "cell_type": "code",
   "execution_count": 25,
   "metadata": {},
   "outputs": [
    {
     "data": {
      "image/png": "[encoded data removed]",
      "text/plain": [
       "<Figure size 1080x360 with 1 Axes>"
      ]
     },
     "metadata": {
      "needs_background": "light"
     },
     "output_type": "display_data"
    }
   ],
   "source": [
    "orders_per_weekday = data.groupby('weekday').agg({'order_id':'nunique'})\n",
    "orders_per_weekday.plot(grid=True, figsize=(15,5)) \n",
    "plt.title('Количество заказов по дням недели')\n",
    "plt.xlabel('День недели')\n",
    "plt.ylabel('Количество заказов')\n",
    "plt.show()"
   ]
  },
  {
   "cell_type": "markdown",
   "metadata": {},
   "source": [
    "По графику видно, что большинство заказов происходнят в будни"
   ]
  },
  {
   "cell_type": "markdown",
   "metadata": {},
   "source": [
    "- Посмотрим сколько у нас всего уникальных заказов"
   ]
  },
  {
   "cell_type": "code",
   "execution_count": 26,
   "metadata": {},
   "outputs": [
    {
     "data": {
      "text/plain": [
       "3492"
      ]
     },
     "execution_count": 26,
     "metadata": {},
     "output_type": "execute_result"
    }
   ],
   "source": [
    "data['order_id'].nunique()"
   ]
  },
  {
   "cell_type": "markdown",
   "metadata": {},
   "source": [
    "- Посмотрим сколько у нас всего уникальных пользователей"
   ]
  },
  {
   "cell_type": "code",
   "execution_count": 27,
   "metadata": {},
   "outputs": [
    {
     "data": {
      "text/plain": [
       "2413"
      ]
     },
     "execution_count": 27,
     "metadata": {},
     "output_type": "execute_result"
    }
   ],
   "source": [
    "data['customer_id'].nunique()"
   ]
  },
  {
   "cell_type": "markdown",
   "metadata": {},
   "source": [
    "- Посмотрим сколько всего товара было продано за период"
   ]
  },
  {
   "cell_type": "code",
   "execution_count": 28,
   "metadata": {},
   "outputs": [
    {
     "data": {
      "text/plain": [
       "14233"
      ]
     },
     "execution_count": 28,
     "metadata": {},
     "output_type": "execute_result"
    }
   ],
   "source": [
    "data['quantity'].sum()"
   ]
  },
  {
   "cell_type": "markdown",
   "metadata": {},
   "source": [
    "- Добавим столбец с ценой за количество товара в заказе и посчиаем сумму всех проданных товаров"
   ]
  },
  {
   "cell_type": "code",
   "execution_count": 29,
   "metadata": {},
   "outputs": [
    {
     "data": {
      "text/plain": [
       "4589736.42"
      ]
     },
     "execution_count": 29,
     "metadata": {},
     "output_type": "execute_result"
    }
   ],
   "source": [
    "data['total'] = data['quantity'] * data['price']\n",
    "round(data['total'].sum(),2)"
   ]
  },
  {
   "cell_type": "markdown",
   "metadata": {},
   "source": [
    "- Посчитаем сумму каждого заказа"
   ]
  },
  {
   "cell_type": "code",
   "execution_count": 30,
   "metadata": {},
   "outputs": [
    {
     "data": {
      "text/html": [
       "<div>\n",
       "<style scoped>\n",
       "    .dataframe tbody tr th:only-of-type {\n",
       "        vertical-align: middle;\n",
       "    }\n",
       "\n",
       "    .dataframe tbody tr th {\n",
       "        vertical-align: top;\n",
       "    }\n",
       "\n",
       "    .dataframe thead th {\n",
       "        text-align: right;\n",
       "    }\n",
       "</style>\n",
       "<table border=\"1\" class=\"dataframe\">\n",
       "  <thead>\n",
       "    <tr style=\"text-align: right;\">\n",
       "      <th></th>\n",
       "      <th>total</th>\n",
       "    </tr>\n",
       "    <tr>\n",
       "      <th>order_id</th>\n",
       "      <th></th>\n",
       "    </tr>\n",
       "  </thead>\n",
       "  <tbody>\n",
       "    <tr>\n",
       "      <th>12624</th>\n",
       "      <td>375.0</td>\n",
       "    </tr>\n",
       "    <tr>\n",
       "      <th>13547</th>\n",
       "      <td>684.0</td>\n",
       "    </tr>\n",
       "    <tr>\n",
       "      <th>14480</th>\n",
       "      <td>359.0</td>\n",
       "    </tr>\n",
       "    <tr>\n",
       "      <th>14481</th>\n",
       "      <td>600.0</td>\n",
       "    </tr>\n",
       "    <tr>\n",
       "      <th>14482</th>\n",
       "      <td>376.0</td>\n",
       "    </tr>\n",
       "    <tr>\n",
       "      <th>...</th>\n",
       "      <td>...</td>\n",
       "    </tr>\n",
       "    <tr>\n",
       "      <th>112722</th>\n",
       "      <td>450.0</td>\n",
       "    </tr>\n",
       "    <tr>\n",
       "      <th>112732</th>\n",
       "      <td>90.0</td>\n",
       "    </tr>\n",
       "    <tr>\n",
       "      <th>112767</th>\n",
       "      <td>38.0</td>\n",
       "    </tr>\n",
       "    <tr>\n",
       "      <th>112779</th>\n",
       "      <td>172.0</td>\n",
       "    </tr>\n",
       "    <tr>\n",
       "      <th>112789</th>\n",
       "      <td>2698.0</td>\n",
       "    </tr>\n",
       "  </tbody>\n",
       "</table>\n",
       "<p>3492 rows × 1 columns</p>\n",
       "</div>"
      ],
      "text/plain": [
       "           total\n",
       "order_id        \n",
       "12624      375.0\n",
       "13547      684.0\n",
       "14480      359.0\n",
       "14481      600.0\n",
       "14482      376.0\n",
       "...          ...\n",
       "112722     450.0\n",
       "112732      90.0\n",
       "112767      38.0\n",
       "112779     172.0\n",
       "112789    2698.0\n",
       "\n",
       "[3492 rows x 1 columns]"
      ]
     },
     "execution_count": 30,
     "metadata": {},
     "output_type": "execute_result"
    }
   ],
   "source": [
    "total_per_order = data.groupby('order_id').agg({'total':'sum'})\n",
    "total_per_order"
   ]
  },
  {
   "cell_type": "markdown",
   "metadata": {},
   "source": [
    "- Узнаем значения"
   ]
  },
  {
   "cell_type": "code",
   "execution_count": 31,
   "metadata": {},
   "outputs": [
    {
     "data": {
      "text/html": [
       "<div>\n",
       "<style scoped>\n",
       "    .dataframe tbody tr th:only-of-type {\n",
       "        vertical-align: middle;\n",
       "    }\n",
       "\n",
       "    .dataframe tbody tr th {\n",
       "        vertical-align: top;\n",
       "    }\n",
       "\n",
       "    .dataframe thead th {\n",
       "        text-align: right;\n",
       "    }\n",
       "</style>\n",
       "<table border=\"1\" class=\"dataframe\">\n",
       "  <thead>\n",
       "    <tr style=\"text-align: right;\">\n",
       "      <th></th>\n",
       "      <th>total</th>\n",
       "    </tr>\n",
       "  </thead>\n",
       "  <tbody>\n",
       "    <tr>\n",
       "      <th>count</th>\n",
       "      <td>3492.000000</td>\n",
       "    </tr>\n",
       "    <tr>\n",
       "      <th>mean</th>\n",
       "      <td>1314.357508</td>\n",
       "    </tr>\n",
       "    <tr>\n",
       "      <th>std</th>\n",
       "      <td>11592.972525</td>\n",
       "    </tr>\n",
       "    <tr>\n",
       "      <th>min</th>\n",
       "      <td>9.000000</td>\n",
       "    </tr>\n",
       "    <tr>\n",
       "      <th>25%</th>\n",
       "      <td>194.000000</td>\n",
       "    </tr>\n",
       "    <tr>\n",
       "      <th>50%</th>\n",
       "      <td>581.000000</td>\n",
       "    </tr>\n",
       "    <tr>\n",
       "      <th>75%</th>\n",
       "      <td>1253.000000</td>\n",
       "    </tr>\n",
       "    <tr>\n",
       "      <th>max</th>\n",
       "      <td>675000.000000</td>\n",
       "    </tr>\n",
       "  </tbody>\n",
       "</table>\n",
       "</div>"
      ],
      "text/plain": [
       "               total\n",
       "count    3492.000000\n",
       "mean     1314.357508\n",
       "std     11592.972525\n",
       "min         9.000000\n",
       "25%       194.000000\n",
       "50%       581.000000\n",
       "75%      1253.000000\n",
       "max    675000.000000"
      ]
     },
     "execution_count": 31,
     "metadata": {},
     "output_type": "execute_result"
    }
   ],
   "source": [
    "total_per_order.describe()"
   ]
  },
  {
   "cell_type": "markdown",
   "metadata": {},
   "source": [
    "Очень странное значение максимум, посмотрим ближе"
   ]
  },
  {
   "cell_type": "code",
   "execution_count": 32,
   "metadata": {},
   "outputs": [
    {
     "data": {
      "text/html": [
       "<div>\n",
       "<style scoped>\n",
       "    .dataframe tbody tr th:only-of-type {\n",
       "        vertical-align: middle;\n",
       "    }\n",
       "\n",
       "    .dataframe tbody tr th {\n",
       "        vertical-align: top;\n",
       "    }\n",
       "\n",
       "    .dataframe thead th {\n",
       "        text-align: right;\n",
       "    }\n",
       "</style>\n",
       "<table border=\"1\" class=\"dataframe\">\n",
       "  <thead>\n",
       "    <tr style=\"text-align: right;\">\n",
       "      <th></th>\n",
       "      <th>total</th>\n",
       "    </tr>\n",
       "    <tr>\n",
       "      <th>order_id</th>\n",
       "      <th></th>\n",
       "    </tr>\n",
       "  </thead>\n",
       "  <tbody>\n",
       "    <tr>\n",
       "      <th>71743</th>\n",
       "      <td>675000.0</td>\n",
       "    </tr>\n",
       "  </tbody>\n",
       "</table>\n",
       "</div>"
      ],
      "text/plain": [
       "             total\n",
       "order_id          \n",
       "71743     675000.0"
      ]
     },
     "execution_count": 32,
     "metadata": {},
     "output_type": "execute_result"
    }
   ],
   "source": [
    "total_per_order[total_per_order['total'] > 600000]"
   ]
  },
  {
   "cell_type": "code",
   "execution_count": 33,
   "metadata": {},
   "outputs": [
    {
     "data": {
      "text/html": [
       "<div>\n",
       "<style scoped>\n",
       "    .dataframe tbody tr th:only-of-type {\n",
       "        vertical-align: middle;\n",
       "    }\n",
       "\n",
       "    .dataframe tbody tr th {\n",
       "        vertical-align: top;\n",
       "    }\n",
       "\n",
       "    .dataframe thead th {\n",
       "        text-align: right;\n",
       "    }\n",
       "</style>\n",
       "<table border=\"1\" class=\"dataframe\">\n",
       "  <thead>\n",
       "    <tr style=\"text-align: right;\">\n",
       "      <th></th>\n",
       "      <th>date</th>\n",
       "      <th>customer_id</th>\n",
       "      <th>order_id</th>\n",
       "      <th>product</th>\n",
       "      <th>quantity</th>\n",
       "      <th>price</th>\n",
       "      <th>month</th>\n",
       "      <th>day</th>\n",
       "      <th>weekday</th>\n",
       "      <th>year</th>\n",
       "      <th>month_year</th>\n",
       "      <th>total</th>\n",
       "    </tr>\n",
       "  </thead>\n",
       "  <tbody>\n",
       "    <tr>\n",
       "      <th>5456</th>\n",
       "      <td>2019-06-18 15:00:00</td>\n",
       "      <td>312e9a3e-5fca-43ff-a6a1-892d2b2d5ba6</td>\n",
       "      <td>71743</td>\n",
       "      <td>вантуз с деревянной ручкой d14 см красный, bur...</td>\n",
       "      <td>1000</td>\n",
       "      <td>675.0</td>\n",
       "      <td>6</td>\n",
       "      <td>18</td>\n",
       "      <td>1</td>\n",
       "      <td>2019</td>\n",
       "      <td>2019-06</td>\n",
       "      <td>675000.0</td>\n",
       "    </tr>\n",
       "  </tbody>\n",
       "</table>\n",
       "</div>"
      ],
      "text/plain": [
       "                    date                           customer_id  order_id  \\\n",
       "5456 2019-06-18 15:00:00  312e9a3e-5fca-43ff-a6a1-892d2b2d5ba6     71743   \n",
       "\n",
       "                                                product  quantity  price  \\\n",
       "5456  вантуз с деревянной ручкой d14 см красный, bur...      1000  675.0   \n",
       "\n",
       "      month  day  weekday  year month_year     total  \n",
       "5456      6   18        1  2019    2019-06  675000.0  "
      ]
     },
     "execution_count": 33,
     "metadata": {},
     "output_type": "execute_result"
    }
   ],
   "source": [
    "data[data['order_id'] == 71743]"
   ]
  },
  {
   "cell_type": "markdown",
   "metadata": {},
   "source": [
    "Получается, что самый дорогой товар, это вантуз.\n",
    "Удалим его."
   ]
  },
  {
   "cell_type": "code",
   "execution_count": 34,
   "metadata": {},
   "outputs": [
    {
     "data": {
      "text/html": [
       "<div>\n",
       "<style scoped>\n",
       "    .dataframe tbody tr th:only-of-type {\n",
       "        vertical-align: middle;\n",
       "    }\n",
       "\n",
       "    .dataframe tbody tr th {\n",
       "        vertical-align: top;\n",
       "    }\n",
       "\n",
       "    .dataframe thead th {\n",
       "        text-align: right;\n",
       "    }\n",
       "</style>\n",
       "<table border=\"1\" class=\"dataframe\">\n",
       "  <thead>\n",
       "    <tr style=\"text-align: right;\">\n",
       "      <th></th>\n",
       "      <th>total</th>\n",
       "    </tr>\n",
       "  </thead>\n",
       "  <tbody>\n",
       "    <tr>\n",
       "      <th>count</th>\n",
       "      <td>3491.000000</td>\n",
       "    </tr>\n",
       "    <tr>\n",
       "      <th>mean</th>\n",
       "      <td>1121.379667</td>\n",
       "    </tr>\n",
       "    <tr>\n",
       "      <th>std</th>\n",
       "      <td>2086.772191</td>\n",
       "    </tr>\n",
       "    <tr>\n",
       "      <th>min</th>\n",
       "      <td>9.000000</td>\n",
       "    </tr>\n",
       "    <tr>\n",
       "      <th>25%</th>\n",
       "      <td>194.000000</td>\n",
       "    </tr>\n",
       "    <tr>\n",
       "      <th>50%</th>\n",
       "      <td>580.000000</td>\n",
       "    </tr>\n",
       "    <tr>\n",
       "      <th>75%</th>\n",
       "      <td>1247.833333</td>\n",
       "    </tr>\n",
       "    <tr>\n",
       "      <th>max</th>\n",
       "      <td>49432.000000</td>\n",
       "    </tr>\n",
       "  </tbody>\n",
       "</table>\n",
       "</div>"
      ],
      "text/plain": [
       "              total\n",
       "count   3491.000000\n",
       "mean    1121.379667\n",
       "std     2086.772191\n",
       "min        9.000000\n",
       "25%      194.000000\n",
       "50%      580.000000\n",
       "75%     1247.833333\n",
       "max    49432.000000"
      ]
     },
     "execution_count": 34,
     "metadata": {},
     "output_type": "execute_result"
    }
   ],
   "source": [
    "data = data.drop([5456],axis = 0)\n",
    "total_per_order = total_per_order.drop([71743],axis = 0)\n",
    "total_per_order.describe()"
   ]
  },
  {
   "cell_type": "markdown",
   "metadata": {},
   "source": [
    "- Построим гистограмму"
   ]
  },
  {
   "cell_type": "code",
   "execution_count": 35,
   "metadata": {},
   "outputs": [
    {
     "data": {
      "image/png": "[encoded data removed]",
      "text/plain": [
       "<Figure size 432x288 with 1 Axes>"
      ]
     },
     "metadata": {
      "needs_background": "light"
     },
     "output_type": "display_data"
    }
   ],
   "source": [
    "plt.hist(total_per_order['total'], bins = 50, range = (0,9500))\n",
    "plt.title('Гистограмма выручки по заказам')\n",
    "plt.xlabel('Цена за заказ')\n",
    "plt.ylabel('Количество заказов')\n",
    "plt.show()"
   ]
  },
  {
   "cell_type": "markdown",
   "metadata": {},
   "source": [
    "На графике видно, что основная часть заказов до 300у.е, большая часть заказов находится в сегменте до 2000$"
   ]
  },
  {
   "cell_type": "code",
   "execution_count": 36,
   "metadata": {},
   "outputs": [
    {
     "data": {
      "text/plain": [
       "['date',\n",
       " 'customer_id',\n",
       " 'order_id',\n",
       " 'product',\n",
       " 'quantity',\n",
       " 'price',\n",
       " 'month',\n",
       " 'day',\n",
       " 'weekday',\n",
       " 'year',\n",
       " 'month_year',\n",
       " 'total']"
      ]
     },
     "execution_count": 36,
     "metadata": {},
     "output_type": "execute_result"
    }
   ],
   "source": [
    "data.columns.tolist()"
   ]
  },
  {
   "cell_type": "markdown",
   "metadata": {},
   "source": [
    "- Присоединим получившиеся данные к таблице"
   ]
  },
  {
   "cell_type": "code",
   "execution_count": 37,
   "metadata": {},
   "outputs": [
    {
     "data": {
      "text/html": [
       "<div>\n",
       "<style scoped>\n",
       "    .dataframe tbody tr th:only-of-type {\n",
       "        vertical-align: middle;\n",
       "    }\n",
       "\n",
       "    .dataframe tbody tr th {\n",
       "        vertical-align: top;\n",
       "    }\n",
       "\n",
       "    .dataframe thead th {\n",
       "        text-align: right;\n",
       "    }\n",
       "</style>\n",
       "<table border=\"1\" class=\"dataframe\">\n",
       "  <thead>\n",
       "    <tr style=\"text-align: right;\">\n",
       "      <th></th>\n",
       "      <th>date</th>\n",
       "      <th>customer_id</th>\n",
       "      <th>order_id</th>\n",
       "      <th>product</th>\n",
       "      <th>quantity</th>\n",
       "      <th>price</th>\n",
       "      <th>month</th>\n",
       "      <th>day</th>\n",
       "      <th>weekday</th>\n",
       "      <th>year</th>\n",
       "      <th>month_year</th>\n",
       "      <th>total_price</th>\n",
       "      <th>total_per_order</th>\n",
       "    </tr>\n",
       "  </thead>\n",
       "  <tbody>\n",
       "    <tr>\n",
       "      <th>0</th>\n",
       "      <td>2018-10-01</td>\n",
       "      <td>ee47d746-6d2f-4d3c-9622-c31412542920</td>\n",
       "      <td>68477</td>\n",
       "      <td>комнатное растение в горшке алое вера, d12, h30</td>\n",
       "      <td>1</td>\n",
       "      <td>142.0</td>\n",
       "      <td>10</td>\n",
       "      <td>1</td>\n",
       "      <td>0</td>\n",
       "      <td>2018</td>\n",
       "      <td>2018-10</td>\n",
       "      <td>142.0</td>\n",
       "      <td>1037.0</td>\n",
       "    </tr>\n",
       "    <tr>\n",
       "      <th>1</th>\n",
       "      <td>2018-10-01</td>\n",
       "      <td>ee47d746-6d2f-4d3c-9622-c31412542920</td>\n",
       "      <td>68477</td>\n",
       "      <td>комнатное растение в горшке кофе арабика, d12,...</td>\n",
       "      <td>1</td>\n",
       "      <td>194.0</td>\n",
       "      <td>10</td>\n",
       "      <td>1</td>\n",
       "      <td>0</td>\n",
       "      <td>2018</td>\n",
       "      <td>2018-10</td>\n",
       "      <td>194.0</td>\n",
       "      <td>1037.0</td>\n",
       "    </tr>\n",
       "    <tr>\n",
       "      <th>2</th>\n",
       "      <td>2018-10-01</td>\n",
       "      <td>ee47d746-6d2f-4d3c-9622-c31412542920</td>\n",
       "      <td>68477</td>\n",
       "      <td>радермахера d-12 см h-20 см</td>\n",
       "      <td>1</td>\n",
       "      <td>112.0</td>\n",
       "      <td>10</td>\n",
       "      <td>1</td>\n",
       "      <td>0</td>\n",
       "      <td>2018</td>\n",
       "      <td>2018-10</td>\n",
       "      <td>112.0</td>\n",
       "      <td>1037.0</td>\n",
       "    </tr>\n",
       "    <tr>\n",
       "      <th>3</th>\n",
       "      <td>2018-10-01</td>\n",
       "      <td>ee47d746-6d2f-4d3c-9622-c31412542920</td>\n",
       "      <td>68477</td>\n",
       "      <td>хризолидокарпус лутесценс d-9 см</td>\n",
       "      <td>1</td>\n",
       "      <td>179.0</td>\n",
       "      <td>10</td>\n",
       "      <td>1</td>\n",
       "      <td>0</td>\n",
       "      <td>2018</td>\n",
       "      <td>2018-10</td>\n",
       "      <td>179.0</td>\n",
       "      <td>1037.0</td>\n",
       "    </tr>\n",
       "    <tr>\n",
       "      <th>4</th>\n",
       "      <td>2018-10-01</td>\n",
       "      <td>ee47d746-6d2f-4d3c-9622-c31412542920</td>\n",
       "      <td>68477</td>\n",
       "      <td>циперус зумула d-12 см h-25 см</td>\n",
       "      <td>1</td>\n",
       "      <td>112.0</td>\n",
       "      <td>10</td>\n",
       "      <td>1</td>\n",
       "      <td>0</td>\n",
       "      <td>2018</td>\n",
       "      <td>2018-10</td>\n",
       "      <td>112.0</td>\n",
       "      <td>1037.0</td>\n",
       "    </tr>\n",
       "  </tbody>\n",
       "</table>\n",
       "</div>"
      ],
      "text/plain": [
       "        date                           customer_id  order_id  \\\n",
       "0 2018-10-01  ee47d746-6d2f-4d3c-9622-c31412542920     68477   \n",
       "1 2018-10-01  ee47d746-6d2f-4d3c-9622-c31412542920     68477   \n",
       "2 2018-10-01  ee47d746-6d2f-4d3c-9622-c31412542920     68477   \n",
       "3 2018-10-01  ee47d746-6d2f-4d3c-9622-c31412542920     68477   \n",
       "4 2018-10-01  ee47d746-6d2f-4d3c-9622-c31412542920     68477   \n",
       "\n",
       "                                             product  quantity  price  month  \\\n",
       "0    комнатное растение в горшке алое вера, d12, h30         1  142.0     10   \n",
       "1  комнатное растение в горшке кофе арабика, d12,...         1  194.0     10   \n",
       "2                        радермахера d-12 см h-20 см         1  112.0     10   \n",
       "3                   хризолидокарпус лутесценс d-9 см         1  179.0     10   \n",
       "4                     циперус зумула d-12 см h-25 см         1  112.0     10   \n",
       "\n",
       "   day  weekday  year month_year  total_price  total_per_order  \n",
       "0    1        0  2018    2018-10        142.0           1037.0  \n",
       "1    1        0  2018    2018-10        194.0           1037.0  \n",
       "2    1        0  2018    2018-10        112.0           1037.0  \n",
       "3    1        0  2018    2018-10        179.0           1037.0  \n",
       "4    1        0  2018    2018-10        112.0           1037.0  "
      ]
     },
     "execution_count": 37,
     "metadata": {},
     "output_type": "execute_result"
    }
   ],
   "source": [
    "data = data.merge(total_per_order, how='outer', on='order_id')\n",
    "data.columns = ['date',\n",
    " 'customer_id',\n",
    " 'order_id',\n",
    " 'product',\n",
    " 'quantity',\n",
    " 'price',\n",
    " 'month',\n",
    " 'day',\n",
    " 'weekday',\n",
    " 'year',\n",
    " 'month_year',\n",
    " 'total_price',               \n",
    " 'total_per_order']\n",
    "data.head(5)"
   ]
  },
  {
   "cell_type": "markdown",
   "metadata": {},
   "source": [
    "- Сведем информацию о клиенте - общая сумма покупок, количество купленных товаров  количество заказов."
   ]
  },
  {
   "cell_type": "code",
   "execution_count": 38,
   "metadata": {},
   "outputs": [
    {
     "data": {
      "text/html": [
       "<div>\n",
       "<style scoped>\n",
       "    .dataframe tbody tr th:only-of-type {\n",
       "        vertical-align: middle;\n",
       "    }\n",
       "\n",
       "    .dataframe tbody tr th {\n",
       "        vertical-align: top;\n",
       "    }\n",
       "\n",
       "    .dataframe thead th {\n",
       "        text-align: right;\n",
       "    }\n",
       "</style>\n",
       "<table border=\"1\" class=\"dataframe\">\n",
       "  <thead>\n",
       "    <tr style=\"text-align: right;\">\n",
       "      <th></th>\n",
       "      <th>total_price</th>\n",
       "      <th>quantity</th>\n",
       "      <th>order_id</th>\n",
       "    </tr>\n",
       "    <tr>\n",
       "      <th>customer_id</th>\n",
       "      <th></th>\n",
       "      <th></th>\n",
       "      <th></th>\n",
       "    </tr>\n",
       "  </thead>\n",
       "  <tbody>\n",
       "    <tr>\n",
       "      <th>000d6849-084e-4d9f-ac03-37174eaf60c4</th>\n",
       "      <td>555.0</td>\n",
       "      <td>4</td>\n",
       "      <td>1</td>\n",
       "    </tr>\n",
       "    <tr>\n",
       "      <th>001cee7f-0b29-4716-b202-0042213ab038</th>\n",
       "      <td>442.0</td>\n",
       "      <td>1</td>\n",
       "      <td>1</td>\n",
       "    </tr>\n",
       "    <tr>\n",
       "      <th>00299f34-5385-4d13-9aea-c80b81658e1b</th>\n",
       "      <td>914.0</td>\n",
       "      <td>2</td>\n",
       "      <td>1</td>\n",
       "    </tr>\n",
       "    <tr>\n",
       "      <th>002d4d3a-4a59-406b-86ec-c3314357e498</th>\n",
       "      <td>1649.0</td>\n",
       "      <td>1</td>\n",
       "      <td>1</td>\n",
       "    </tr>\n",
       "    <tr>\n",
       "      <th>003bbd39-0000-41ff-b7f9-2ddaec152037</th>\n",
       "      <td>2324.0</td>\n",
       "      <td>2</td>\n",
       "      <td>1</td>\n",
       "    </tr>\n",
       "  </tbody>\n",
       "</table>\n",
       "</div>"
      ],
      "text/plain": [
       "                                      total_price  quantity  order_id\n",
       "customer_id                                                          \n",
       "000d6849-084e-4d9f-ac03-37174eaf60c4        555.0         4         1\n",
       "001cee7f-0b29-4716-b202-0042213ab038        442.0         1         1\n",
       "00299f34-5385-4d13-9aea-c80b81658e1b        914.0         2         1\n",
       "002d4d3a-4a59-406b-86ec-c3314357e498       1649.0         1         1\n",
       "003bbd39-0000-41ff-b7f9-2ddaec152037       2324.0         2         1"
      ]
     },
     "execution_count": 38,
     "metadata": {},
     "output_type": "execute_result"
    }
   ],
   "source": [
    "info_customer = data.groupby('customer_id').agg({'total_price':'sum', 'quantity':'sum', 'order_id':'nunique'})\n",
    "info_customer.head(5)"
   ]
  },
  {
   "cell_type": "markdown",
   "metadata": {},
   "source": [
    "- Посчитаем средний чек для каждого клиента"
   ]
  },
  {
   "cell_type": "code",
   "execution_count": 39,
   "metadata": {},
   "outputs": [
    {
     "data": {
      "text/html": [
       "<div>\n",
       "<style scoped>\n",
       "    .dataframe tbody tr th:only-of-type {\n",
       "        vertical-align: middle;\n",
       "    }\n",
       "\n",
       "    .dataframe tbody tr th {\n",
       "        vertical-align: top;\n",
       "    }\n",
       "\n",
       "    .dataframe thead th {\n",
       "        text-align: right;\n",
       "    }\n",
       "</style>\n",
       "<table border=\"1\" class=\"dataframe\">\n",
       "  <thead>\n",
       "    <tr style=\"text-align: right;\">\n",
       "      <th></th>\n",
       "      <th>total_per_order</th>\n",
       "    </tr>\n",
       "    <tr>\n",
       "      <th>customer_id</th>\n",
       "      <th></th>\n",
       "    </tr>\n",
       "  </thead>\n",
       "  <tbody>\n",
       "    <tr>\n",
       "      <th>000d6849-084e-4d9f-ac03-37174eaf60c4</th>\n",
       "      <td>555.0</td>\n",
       "    </tr>\n",
       "    <tr>\n",
       "      <th>001cee7f-0b29-4716-b202-0042213ab038</th>\n",
       "      <td>442.0</td>\n",
       "    </tr>\n",
       "    <tr>\n",
       "      <th>00299f34-5385-4d13-9aea-c80b81658e1b</th>\n",
       "      <td>914.0</td>\n",
       "    </tr>\n",
       "    <tr>\n",
       "      <th>002d4d3a-4a59-406b-86ec-c3314357e498</th>\n",
       "      <td>1649.0</td>\n",
       "    </tr>\n",
       "    <tr>\n",
       "      <th>003bbd39-0000-41ff-b7f9-2ddaec152037</th>\n",
       "      <td>2324.0</td>\n",
       "    </tr>\n",
       "  </tbody>\n",
       "</table>\n",
       "</div>"
      ],
      "text/plain": [
       "                                      total_per_order\n",
       "customer_id                                          \n",
       "000d6849-084e-4d9f-ac03-37174eaf60c4            555.0\n",
       "001cee7f-0b29-4716-b202-0042213ab038            442.0\n",
       "00299f34-5385-4d13-9aea-c80b81658e1b            914.0\n",
       "002d4d3a-4a59-406b-86ec-c3314357e498           1649.0\n",
       "003bbd39-0000-41ff-b7f9-2ddaec152037           2324.0"
      ]
     },
     "execution_count": 39,
     "metadata": {},
     "output_type": "execute_result"
    }
   ],
   "source": [
    "avg_per_customer = data.groupby(['customer_id', 'order_id']).agg({'total_per_order':'sum'})\n",
    "avg_per_customer_1 = data.groupby('customer_id').agg({'total_per_order':'mean'})\n",
    "avg_per_customer_1.head(5)"
   ]
  },
  {
   "cell_type": "markdown",
   "metadata": {},
   "source": [
    "- Посмотрим средние, минимальные и максимальные значения по среднему чеку клиентов"
   ]
  },
  {
   "cell_type": "code",
   "execution_count": 40,
   "metadata": {},
   "outputs": [
    {
     "data": {
      "text/html": [
       "<div>\n",
       "<style scoped>\n",
       "    .dataframe tbody tr th:only-of-type {\n",
       "        vertical-align: middle;\n",
       "    }\n",
       "\n",
       "    .dataframe tbody tr th {\n",
       "        vertical-align: top;\n",
       "    }\n",
       "\n",
       "    .dataframe thead th {\n",
       "        text-align: right;\n",
       "    }\n",
       "</style>\n",
       "<table border=\"1\" class=\"dataframe\">\n",
       "  <thead>\n",
       "    <tr style=\"text-align: right;\">\n",
       "      <th></th>\n",
       "      <th>total_per_order</th>\n",
       "    </tr>\n",
       "  </thead>\n",
       "  <tbody>\n",
       "    <tr>\n",
       "      <th>count</th>\n",
       "      <td>2412.000000</td>\n",
       "    </tr>\n",
       "    <tr>\n",
       "      <th>mean</th>\n",
       "      <td>1172.932503</td>\n",
       "    </tr>\n",
       "    <tr>\n",
       "      <th>std</th>\n",
       "      <td>2108.884550</td>\n",
       "    </tr>\n",
       "    <tr>\n",
       "      <th>min</th>\n",
       "      <td>15.000000</td>\n",
       "    </tr>\n",
       "    <tr>\n",
       "      <th>25%</th>\n",
       "      <td>300.000000</td>\n",
       "    </tr>\n",
       "    <tr>\n",
       "      <th>50%</th>\n",
       "      <td>652.000000</td>\n",
       "    </tr>\n",
       "    <tr>\n",
       "      <th>75%</th>\n",
       "      <td>1349.000000</td>\n",
       "    </tr>\n",
       "    <tr>\n",
       "      <th>max</th>\n",
       "      <td>49432.000000</td>\n",
       "    </tr>\n",
       "  </tbody>\n",
       "</table>\n",
       "</div>"
      ],
      "text/plain": [
       "       total_per_order\n",
       "count      2412.000000\n",
       "mean       1172.932503\n",
       "std        2108.884550\n",
       "min          15.000000\n",
       "25%         300.000000\n",
       "50%         652.000000\n",
       "75%        1349.000000\n",
       "max       49432.000000"
      ]
     },
     "execution_count": 40,
     "metadata": {},
     "output_type": "execute_result"
    }
   ],
   "source": [
    "avg_per_customer_1.describe()"
   ]
  },
  {
   "cell_type": "markdown",
   "metadata": {},
   "source": [
    "Максимальный чек составил 49432, минимальный 15, в среднем клиенты покупают на сумму 1173"
   ]
  },
  {
   "cell_type": "markdown",
   "metadata": {},
   "source": [
    "- Посмотрим на средние, минимальные и максимальные значения по суммарным тратам клиентов и построим гистограмму"
   ]
  },
  {
   "cell_type": "code",
   "execution_count": 41,
   "metadata": {},
   "outputs": [
    {
     "data": {
      "text/plain": [
       "count      2412.000000\n",
       "mean       1623.025048\n",
       "std        4341.333501\n",
       "min          15.000000\n",
       "25%         389.000000\n",
       "50%         837.000000\n",
       "75%        1798.250000\n",
       "max      159508.000000\n",
       "Name: total_price, dtype: float64"
      ]
     },
     "execution_count": 41,
     "metadata": {},
     "output_type": "execute_result"
    }
   ],
   "source": [
    "info_customer['total_price'].describe()"
   ]
  },
  {
   "cell_type": "code",
   "execution_count": 42,
   "metadata": {},
   "outputs": [
    {
     "data": {
      "image/png": "[encoded data removed]",
      "text/plain": [
       "<Figure size 432x288 with 1 Axes>"
      ]
     },
     "metadata": {
      "needs_background": "light"
     },
     "output_type": "display_data"
    }
   ],
   "source": [
    "plt.hist(info_customer['total_price'], bins = 50, range = (0,10000))\n",
    "plt.title('Гистограмма трат')\n",
    "plt.xlabel('Сумма потраченная клиентом')\n",
    "plt.ylabel('Количество клиентов')\n",
    "plt.show()"
   ]
  },
  {
   "cell_type": "markdown",
   "metadata": {},
   "source": [
    "В среднем клиенты тратят 1624, минимально 15, максимум 159508"
   ]
  },
  {
   "cell_type": "markdown",
   "metadata": {},
   "source": [
    "- Посмотрим на минимальные, максимальные и средние значения по количеству купленных товаров"
   ]
  },
  {
   "cell_type": "code",
   "execution_count": 43,
   "metadata": {},
   "outputs": [
    {
     "data": {
      "text/plain": [
       "count    2412.000000\n",
       "mean        5.486318\n",
       "std        18.077424\n",
       "min         1.000000\n",
       "25%         1.000000\n",
       "50%         2.000000\n",
       "75%         3.000000\n",
       "max       334.000000\n",
       "Name: quantity, dtype: float64"
      ]
     },
     "execution_count": 43,
     "metadata": {},
     "output_type": "execute_result"
    }
   ],
   "source": [
    "info_customer['quantity'].describe()"
   ]
  },
  {
   "cell_type": "markdown",
   "metadata": {},
   "source": [
    "- Посмотрим на минимальные, максимальные и средние значения по количеству заказов"
   ]
  },
  {
   "cell_type": "code",
   "execution_count": 44,
   "metadata": {},
   "outputs": [
    {
     "data": {
      "text/plain": [
       "count    2412.000000\n",
       "mean        1.447347\n",
       "std         2.698627\n",
       "min         1.000000\n",
       "25%         1.000000\n",
       "50%         1.000000\n",
       "75%         2.000000\n",
       "max       126.000000\n",
       "Name: order_id, dtype: float64"
      ]
     },
     "execution_count": 44,
     "metadata": {},
     "output_type": "execute_result"
    }
   ],
   "source": [
    "info_customer['order_id'].describe()"
   ]
  },
  {
   "cell_type": "markdown",
   "metadata": {},
   "source": [
    "Минимтально клиенты делают 1 заказ с одним товаром, максимально 126 заказов с 334 товарами, в среднем за период было куплено 5-6 товаров и большинство клиентов сделали 1-2 заказа."
   ]
  },
  {
   "cell_type": "markdown",
   "metadata": {},
   "source": [
    "Для интереса взглянем на клиента потратившего больше всего денег."
   ]
  },
  {
   "cell_type": "code",
   "execution_count": 45,
   "metadata": {},
   "outputs": [
    {
     "data": {
      "text/html": [
       "<div>\n",
       "<style scoped>\n",
       "    .dataframe tbody tr th:only-of-type {\n",
       "        vertical-align: middle;\n",
       "    }\n",
       "\n",
       "    .dataframe tbody tr th {\n",
       "        vertical-align: top;\n",
       "    }\n",
       "\n",
       "    .dataframe thead th {\n",
       "        text-align: right;\n",
       "    }\n",
       "</style>\n",
       "<table border=\"1\" class=\"dataframe\">\n",
       "  <thead>\n",
       "    <tr style=\"text-align: right;\">\n",
       "      <th></th>\n",
       "      <th>total_price</th>\n",
       "      <th>quantity</th>\n",
       "      <th>order_id</th>\n",
       "    </tr>\n",
       "    <tr>\n",
       "      <th>customer_id</th>\n",
       "      <th></th>\n",
       "      <th></th>\n",
       "      <th></th>\n",
       "    </tr>\n",
       "  </thead>\n",
       "  <tbody>\n",
       "    <tr>\n",
       "      <th>c971fb21-d54c-4134-938f-16b62ee86d3b</th>\n",
       "      <td>159508.0</td>\n",
       "      <td>334</td>\n",
       "      <td>126</td>\n",
       "    </tr>\n",
       "  </tbody>\n",
       "</table>\n",
       "</div>"
      ],
      "text/plain": [
       "                                      total_price  quantity  order_id\n",
       "customer_id                                                          \n",
       "c971fb21-d54c-4134-938f-16b62ee86d3b     159508.0       334       126"
      ]
     },
     "execution_count": 45,
     "metadata": {},
     "output_type": "execute_result"
    }
   ],
   "source": [
    "info_customer[info_customer['total_price'] > 60000]"
   ]
  },
  {
   "cell_type": "markdown",
   "metadata": {},
   "source": [
    "Логично, что максимальные значения по количеству заказов и количеству товаров соответствуют этому клиенту."
   ]
  },
  {
   "cell_type": "markdown",
   "metadata": {},
   "source": [
    "- Присоединим все данные к основной таблице и переименуем столбцы"
   ]
  },
  {
   "cell_type": "code",
   "execution_count": 46,
   "metadata": {},
   "outputs": [
    {
     "data": {
      "text/plain": [
       "['date',\n",
       " 'customer_id',\n",
       " 'order_id',\n",
       " 'product',\n",
       " 'quantity',\n",
       " 'price',\n",
       " 'month',\n",
       " 'day',\n",
       " 'weekday',\n",
       " 'year',\n",
       " 'month_year',\n",
       " 'total_price',\n",
       " 'total_per_order']"
      ]
     },
     "execution_count": 46,
     "metadata": {},
     "output_type": "execute_result"
    }
   ],
   "source": [
    "data.columns.tolist()"
   ]
  },
  {
   "cell_type": "code",
   "execution_count": 47,
   "metadata": {},
   "outputs": [
    {
     "data": {
      "text/html": [
       "<div>\n",
       "<style scoped>\n",
       "    .dataframe tbody tr th:only-of-type {\n",
       "        vertical-align: middle;\n",
       "    }\n",
       "\n",
       "    .dataframe tbody tr th {\n",
       "        vertical-align: top;\n",
       "    }\n",
       "\n",
       "    .dataframe thead th {\n",
       "        text-align: right;\n",
       "    }\n",
       "</style>\n",
       "<table border=\"1\" class=\"dataframe\">\n",
       "  <thead>\n",
       "    <tr style=\"text-align: right;\">\n",
       "      <th></th>\n",
       "      <th>date</th>\n",
       "      <th>customer_id</th>\n",
       "      <th>order_id</th>\n",
       "      <th>product</th>\n",
       "      <th>quantity</th>\n",
       "      <th>price</th>\n",
       "      <th>month</th>\n",
       "      <th>day</th>\n",
       "      <th>weekday</th>\n",
       "      <th>total_price</th>\n",
       "      <th>year</th>\n",
       "      <th>month_year</th>\n",
       "      <th>total_per_order</th>\n",
       "      <th>total_per_customer</th>\n",
       "      <th>products_per_customer</th>\n",
       "      <th>orders_per_customer</th>\n",
       "      <th>avg_customer_receipt</th>\n",
       "    </tr>\n",
       "  </thead>\n",
       "  <tbody>\n",
       "    <tr>\n",
       "      <th>0</th>\n",
       "      <td>2018-10-01</td>\n",
       "      <td>ee47d746-6d2f-4d3c-9622-c31412542920</td>\n",
       "      <td>68477</td>\n",
       "      <td>комнатное растение в горшке алое вера, d12, h30</td>\n",
       "      <td>1</td>\n",
       "      <td>142.0</td>\n",
       "      <td>10</td>\n",
       "      <td>1</td>\n",
       "      <td>0</td>\n",
       "      <td>2018</td>\n",
       "      <td>2018-10</td>\n",
       "      <td>142.0</td>\n",
       "      <td>1037.0</td>\n",
       "      <td>1037.0</td>\n",
       "      <td>7</td>\n",
       "      <td>1</td>\n",
       "      <td>1037.0</td>\n",
       "    </tr>\n",
       "    <tr>\n",
       "      <th>1</th>\n",
       "      <td>2018-10-01</td>\n",
       "      <td>ee47d746-6d2f-4d3c-9622-c31412542920</td>\n",
       "      <td>68477</td>\n",
       "      <td>комнатное растение в горшке кофе арабика, d12,...</td>\n",
       "      <td>1</td>\n",
       "      <td>194.0</td>\n",
       "      <td>10</td>\n",
       "      <td>1</td>\n",
       "      <td>0</td>\n",
       "      <td>2018</td>\n",
       "      <td>2018-10</td>\n",
       "      <td>194.0</td>\n",
       "      <td>1037.0</td>\n",
       "      <td>1037.0</td>\n",
       "      <td>7</td>\n",
       "      <td>1</td>\n",
       "      <td>1037.0</td>\n",
       "    </tr>\n",
       "    <tr>\n",
       "      <th>2</th>\n",
       "      <td>2018-10-01</td>\n",
       "      <td>ee47d746-6d2f-4d3c-9622-c31412542920</td>\n",
       "      <td>68477</td>\n",
       "      <td>радермахера d-12 см h-20 см</td>\n",
       "      <td>1</td>\n",
       "      <td>112.0</td>\n",
       "      <td>10</td>\n",
       "      <td>1</td>\n",
       "      <td>0</td>\n",
       "      <td>2018</td>\n",
       "      <td>2018-10</td>\n",
       "      <td>112.0</td>\n",
       "      <td>1037.0</td>\n",
       "      <td>1037.0</td>\n",
       "      <td>7</td>\n",
       "      <td>1</td>\n",
       "      <td>1037.0</td>\n",
       "    </tr>\n",
       "    <tr>\n",
       "      <th>3</th>\n",
       "      <td>2018-10-01</td>\n",
       "      <td>ee47d746-6d2f-4d3c-9622-c31412542920</td>\n",
       "      <td>68477</td>\n",
       "      <td>хризолидокарпус лутесценс d-9 см</td>\n",
       "      <td>1</td>\n",
       "      <td>179.0</td>\n",
       "      <td>10</td>\n",
       "      <td>1</td>\n",
       "      <td>0</td>\n",
       "      <td>2018</td>\n",
       "      <td>2018-10</td>\n",
       "      <td>179.0</td>\n",
       "      <td>1037.0</td>\n",
       "      <td>1037.0</td>\n",
       "      <td>7</td>\n",
       "      <td>1</td>\n",
       "      <td>1037.0</td>\n",
       "    </tr>\n",
       "    <tr>\n",
       "      <th>4</th>\n",
       "      <td>2018-10-01</td>\n",
       "      <td>ee47d746-6d2f-4d3c-9622-c31412542920</td>\n",
       "      <td>68477</td>\n",
       "      <td>циперус зумула d-12 см h-25 см</td>\n",
       "      <td>1</td>\n",
       "      <td>112.0</td>\n",
       "      <td>10</td>\n",
       "      <td>1</td>\n",
       "      <td>0</td>\n",
       "      <td>2018</td>\n",
       "      <td>2018-10</td>\n",
       "      <td>112.0</td>\n",
       "      <td>1037.0</td>\n",
       "      <td>1037.0</td>\n",
       "      <td>7</td>\n",
       "      <td>1</td>\n",
       "      <td>1037.0</td>\n",
       "    </tr>\n",
       "  </tbody>\n",
       "</table>\n",
       "</div>"
      ],
      "text/plain": [
       "        date                           customer_id  order_id  \\\n",
       "0 2018-10-01  ee47d746-6d2f-4d3c-9622-c31412542920     68477   \n",
       "1 2018-10-01  ee47d746-6d2f-4d3c-9622-c31412542920     68477   \n",
       "2 2018-10-01  ee47d746-6d2f-4d3c-9622-c31412542920     68477   \n",
       "3 2018-10-01  ee47d746-6d2f-4d3c-9622-c31412542920     68477   \n",
       "4 2018-10-01  ee47d746-6d2f-4d3c-9622-c31412542920     68477   \n",
       "\n",
       "                                             product  quantity  price  month  \\\n",
       "0    комнатное растение в горшке алое вера, d12, h30         1  142.0     10   \n",
       "1  комнатное растение в горшке кофе арабика, d12,...         1  194.0     10   \n",
       "2                        радермахера d-12 см h-20 см         1  112.0     10   \n",
       "3                   хризолидокарпус лутесценс d-9 см         1  179.0     10   \n",
       "4                     циперус зумула d-12 см h-25 см         1  112.0     10   \n",
       "\n",
       "   day  weekday  total_price     year  month_year  total_per_order  \\\n",
       "0    1        0         2018  2018-10       142.0           1037.0   \n",
       "1    1        0         2018  2018-10       194.0           1037.0   \n",
       "2    1        0         2018  2018-10       112.0           1037.0   \n",
       "3    1        0         2018  2018-10       179.0           1037.0   \n",
       "4    1        0         2018  2018-10       112.0           1037.0   \n",
       "\n",
       "   total_per_customer  products_per_customer  orders_per_customer  \\\n",
       "0              1037.0                      7                    1   \n",
       "1              1037.0                      7                    1   \n",
       "2              1037.0                      7                    1   \n",
       "3              1037.0                      7                    1   \n",
       "4              1037.0                      7                    1   \n",
       "\n",
       "   avg_customer_receipt  \n",
       "0                1037.0  \n",
       "1                1037.0  \n",
       "2                1037.0  \n",
       "3                1037.0  \n",
       "4                1037.0  "
      ]
     },
     "execution_count": 47,
     "metadata": {},
     "output_type": "execute_result"
    }
   ],
   "source": [
    "data = data.merge(info_customer, how='outer', on='customer_id')\n",
    "data = data.merge(avg_per_customer_1, how='outer', on='customer_id')\n",
    "data.columns = ['date',\n",
    " 'customer_id',\n",
    " 'order_id',\n",
    " 'product',\n",
    " 'quantity',\n",
    " 'price',\n",
    " 'month',\n",
    " 'day',\n",
    " 'weekday',                   \n",
    " 'total_price',\n",
    " 'year',\n",
    " 'month_year',               \n",
    " 'total_per_order',\n",
    " 'total_per_customer',\n",
    " 'products_per_customer',             \n",
    " 'orders_per_customer',\n",
    " 'avg_customer_receipt']\n",
    "data.head(5)"
   ]
  },
  {
   "cell_type": "markdown",
   "metadata": {},
   "source": [
    "# Вывод:\n",
    "\n",
    "- Данные предоставлены за период с 01.10.2018 по 31.01.2020;\n",
    "- Разбивка по месяцам за весь период.\n",
    "        - Виден рост заказов к Новому году\n",
    "        - Рост с Февраля 2019 по Апрель 2019 проихсодит скорее всего из-за сезонности\n",
    "        - С Августа 2019 виден рост до конца года.\n",
    "- Большинство заказов происходят в будни;\n",
    "- Всего у нас 3492 эникальных заказа и 2413 уникальных пользователя;\n",
    "- За период было продано 14233 товара;\n",
    "- Основная часть заказов до 300у.е, большая часть заказов находится в сегменте до 2000у.е;\n",
    "- Максимальный чек составил 49432, минимальный 15, в среднем клиенты покупают на сумму 1173;\n",
    "- В среднем клиенты тратят 1624, минимально 15, максимум 159508;\n",
    "- Минимтально клиенты делают 1 заказ с одним товаром, максимально 126 заказов с 334 товарами, в среднем за период было куплено 5-6 товаров и большинство клиентов сделали 1-2 заказа;"
   ]
  },
  {
   "cell_type": "markdown",
   "metadata": {},
   "source": [
    "## Сегментирование покупателей по профилю потребления.\n"
   ]
  },
  {
   "cell_type": "markdown",
   "metadata": {},
   "source": [
    "Для RFM-анализа нам нужны: id клиента, id заказа, дата заказа, количество покупок и итоговая сумма покупок."
   ]
  },
  {
   "cell_type": "code",
   "execution_count": 48,
   "metadata": {},
   "outputs": [
    {
     "data": {
      "text/html": [
       "<div>\n",
       "<style scoped>\n",
       "    .dataframe tbody tr th:only-of-type {\n",
       "        vertical-align: middle;\n",
       "    }\n",
       "\n",
       "    .dataframe tbody tr th {\n",
       "        vertical-align: top;\n",
       "    }\n",
       "\n",
       "    .dataframe thead th {\n",
       "        text-align: right;\n",
       "    }\n",
       "</style>\n",
       "<table border=\"1\" class=\"dataframe\">\n",
       "  <thead>\n",
       "    <tr style=\"text-align: right;\">\n",
       "      <th></th>\n",
       "      <th>recency</th>\n",
       "      <th>frequency</th>\n",
       "      <th>monetary_value</th>\n",
       "    </tr>\n",
       "    <tr>\n",
       "      <th>customer_id</th>\n",
       "      <th></th>\n",
       "      <th></th>\n",
       "      <th></th>\n",
       "    </tr>\n",
       "  </thead>\n",
       "  <tbody>\n",
       "    <tr>\n",
       "      <th>000d6849-084e-4d9f-ac03-37174eaf60c4</th>\n",
       "      <td>106</td>\n",
       "      <td>1</td>\n",
       "      <td>8076</td>\n",
       "    </tr>\n",
       "    <tr>\n",
       "      <th>001cee7f-0b29-4716-b202-0042213ab038</th>\n",
       "      <td>348</td>\n",
       "      <td>1</td>\n",
       "      <td>2019</td>\n",
       "    </tr>\n",
       "    <tr>\n",
       "      <th>00299f34-5385-4d13-9aea-c80b81658e1b</th>\n",
       "      <td>108</td>\n",
       "      <td>1</td>\n",
       "      <td>2019</td>\n",
       "    </tr>\n",
       "    <tr>\n",
       "      <th>002d4d3a-4a59-406b-86ec-c3314357e498</th>\n",
       "      <td>368</td>\n",
       "      <td>1</td>\n",
       "      <td>2019</td>\n",
       "    </tr>\n",
       "    <tr>\n",
       "      <th>003bbd39-0000-41ff-b7f9-2ddaec152037</th>\n",
       "      <td>123</td>\n",
       "      <td>1</td>\n",
       "      <td>2019</td>\n",
       "    </tr>\n",
       "    <tr>\n",
       "      <th>004d24e9-4a6c-4d0e-8727-8391dfd4b43a</th>\n",
       "      <td>368</td>\n",
       "      <td>1</td>\n",
       "      <td>2019</td>\n",
       "    </tr>\n",
       "    <tr>\n",
       "      <th>005ba170-45e8-42de-93f7-192481ae2659</th>\n",
       "      <td>86</td>\n",
       "      <td>2</td>\n",
       "      <td>4037</td>\n",
       "    </tr>\n",
       "    <tr>\n",
       "      <th>00bd74b1-2792-47db-a2f1-680a09ac5026</th>\n",
       "      <td>466</td>\n",
       "      <td>1</td>\n",
       "      <td>2018</td>\n",
       "    </tr>\n",
       "    <tr>\n",
       "      <th>00c0f92a-121a-4883-a78d-2c7b5fe187de</th>\n",
       "      <td>49</td>\n",
       "      <td>2</td>\n",
       "      <td>4038</td>\n",
       "    </tr>\n",
       "    <tr>\n",
       "      <th>00c95d20-923e-4b45-88fc-53b12931d462</th>\n",
       "      <td>42</td>\n",
       "      <td>1</td>\n",
       "      <td>2019</td>\n",
       "    </tr>\n",
       "  </tbody>\n",
       "</table>\n",
       "</div>"
      ],
      "text/plain": [
       "                                      recency  frequency  monetary_value\n",
       "customer_id                                                             \n",
       "000d6849-084e-4d9f-ac03-37174eaf60c4      106          1            8076\n",
       "001cee7f-0b29-4716-b202-0042213ab038      348          1            2019\n",
       "00299f34-5385-4d13-9aea-c80b81658e1b      108          1            2019\n",
       "002d4d3a-4a59-406b-86ec-c3314357e498      368          1            2019\n",
       "003bbd39-0000-41ff-b7f9-2ddaec152037      123          1            2019\n",
       "004d24e9-4a6c-4d0e-8727-8391dfd4b43a      368          1            2019\n",
       "005ba170-45e8-42de-93f7-192481ae2659       86          2            4037\n",
       "00bd74b1-2792-47db-a2f1-680a09ac5026      466          1            2018\n",
       "00c0f92a-121a-4883-a78d-2c7b5fe187de       49          2            4038\n",
       "00c95d20-923e-4b45-88fc-53b12931d462       42          1            2019"
      ]
     },
     "execution_count": 48,
     "metadata": {},
     "output_type": "execute_result"
    }
   ],
   "source": [
    "NOW = dt.datetime(2020,1,31)\n",
    "# Создаём таблицу RFM\n",
    "RFM_table = data.groupby('customer_id').agg({'date': lambda x: (NOW - x.max()).days, # Recency\n",
    "                                                'order_id': lambda x: len(x.unique()), # Frequency\n",
    "                                                'total_price': lambda x: x.sum()})    # Monetary \n",
    "\n",
    "RFM_table['date'] = RFM_table['date'].astype(int)\n",
    "\n",
    "RFM_table.rename(columns={'date': 'recency', \n",
    "                         'order_id': 'frequency',\n",
    "                         'total_price': 'monetary_value'}, inplace=True)\n",
    "RFM_table.head(10)"
   ]
  },
  {
   "cell_type": "markdown",
   "metadata": {},
   "source": [
    "- Распределим на 3 квинтиля"
   ]
  },
  {
   "cell_type": "code",
   "execution_count": 49,
   "metadata": {},
   "outputs": [
    {
     "data": {
      "text/html": [
       "<div>\n",
       "<style scoped>\n",
       "    .dataframe tbody tr th:only-of-type {\n",
       "        vertical-align: middle;\n",
       "    }\n",
       "\n",
       "    .dataframe tbody tr th {\n",
       "        vertical-align: top;\n",
       "    }\n",
       "\n",
       "    .dataframe thead th {\n",
       "        text-align: right;\n",
       "    }\n",
       "</style>\n",
       "<table border=\"1\" class=\"dataframe\">\n",
       "  <thead>\n",
       "    <tr style=\"text-align: right;\">\n",
       "      <th></th>\n",
       "      <th>recency</th>\n",
       "      <th>frequency</th>\n",
       "      <th>monetary_value</th>\n",
       "    </tr>\n",
       "  </thead>\n",
       "  <tbody>\n",
       "    <tr>\n",
       "      <th>0.33</th>\n",
       "      <td>103.00</td>\n",
       "      <td>1.0</td>\n",
       "      <td>2019.0</td>\n",
       "    </tr>\n",
       "    <tr>\n",
       "      <th>0.66</th>\n",
       "      <td>298.00</td>\n",
       "      <td>2.0</td>\n",
       "      <td>4038.0</td>\n",
       "    </tr>\n",
       "    <tr>\n",
       "      <th>0.99</th>\n",
       "      <td>482.89</td>\n",
       "      <td>3.0</td>\n",
       "      <td>36342.0</td>\n",
       "    </tr>\n",
       "  </tbody>\n",
       "</table>\n",
       "</div>"
      ],
      "text/plain": [
       "      recency  frequency  monetary_value\n",
       "0.33   103.00        1.0          2019.0\n",
       "0.66   298.00        2.0          4038.0\n",
       "0.99   482.89        3.0         36342.0"
      ]
     },
     "execution_count": 49,
     "metadata": {},
     "output_type": "execute_result"
    }
   ],
   "source": [
    "quantiles = RFM_table.quantile(q=[0.33,0.66,0.99])\n",
    "quantiles"
   ]
  },
  {
   "cell_type": "markdown",
   "metadata": {},
   "source": [
    "- Конвертируем инфорацию в словарь"
   ]
  },
  {
   "cell_type": "code",
   "execution_count": 50,
   "metadata": {},
   "outputs": [],
   "source": [
    "quantiles = quantiles.to_dict()"
   ]
  },
  {
   "cell_type": "markdown",
   "metadata": {},
   "source": [
    "- \n",
    "Делаем копию таблицы"
   ]
  },
  {
   "cell_type": "code",
   "execution_count": 51,
   "metadata": {},
   "outputs": [],
   "source": [
    "RFM_Segment = RFM_table.copy()"
   ]
  },
  {
   "cell_type": "markdown",
   "metadata": {},
   "source": [
    "- Присваиваем каждому клиенту свою группу давности, частоты и суммы покупок"
   ]
  },
  {
   "cell_type": "code",
   "execution_count": 52,
   "metadata": {},
   "outputs": [],
   "source": [
    "def R_Class(x,p,d):\n",
    "    if x <= d[p][0.33]:\n",
    "        return 3\n",
    "    elif x <= d[p][0.66]:\n",
    "        return 2\n",
    "    else:\n",
    "        return 1\n",
    "    \n",
    "def FM_Class(x,p,d):\n",
    "    if x <= d[p][0.33]:\n",
    "        return 1\n",
    "    elif x <= d[p][0.66]:\n",
    "        return 2\n",
    "    else:\n",
    "        return 3"
   ]
  },
  {
   "cell_type": "markdown",
   "metadata": {},
   "source": [
    "- Добавляем группы в итоговую таблицу и считаем RFM показатель для каждого клиента"
   ]
  },
  {
   "cell_type": "code",
   "execution_count": 53,
   "metadata": {},
   "outputs": [],
   "source": [
    "RFM_Segment['R_Quartile'] = RFM_Segment['recency'].apply(R_Class, args=('recency',quantiles,))\n",
    "RFM_Segment['F_Quartile'] = RFM_Segment['frequency'].apply(FM_Class, args=('frequency',quantiles,))\n",
    "RFM_Segment['M_Quartile'] = RFM_Segment['monetary_value'].apply(FM_Class, args=('monetary_value',quantiles,))\n",
    "RFM_Segment['RFMClass'] = RFM_Segment.R_Quartile.map(str) \\\n",
    "                            + RFM_Segment.F_Quartile.map(str) \\\n",
    "                            + RFM_Segment.M_Quartile.map(str)"
   ]
  },
  {
   "cell_type": "code",
   "execution_count": 54,
   "metadata": {},
   "outputs": [
    {
     "data": {
      "text/html": [
       "<div>\n",
       "<style scoped>\n",
       "    .dataframe tbody tr th:only-of-type {\n",
       "        vertical-align: middle;\n",
       "    }\n",
       "\n",
       "    .dataframe tbody tr th {\n",
       "        vertical-align: top;\n",
       "    }\n",
       "\n",
       "    .dataframe thead th {\n",
       "        text-align: right;\n",
       "    }\n",
       "</style>\n",
       "<table border=\"1\" class=\"dataframe\">\n",
       "  <thead>\n",
       "    <tr style=\"text-align: right;\">\n",
       "      <th></th>\n",
       "      <th>recency</th>\n",
       "      <th>frequency</th>\n",
       "      <th>monetary_value</th>\n",
       "      <th>R_Quartile</th>\n",
       "      <th>F_Quartile</th>\n",
       "      <th>M_Quartile</th>\n",
       "      <th>RFMClass</th>\n",
       "    </tr>\n",
       "    <tr>\n",
       "      <th>customer_id</th>\n",
       "      <th></th>\n",
       "      <th></th>\n",
       "      <th></th>\n",
       "      <th></th>\n",
       "      <th></th>\n",
       "      <th></th>\n",
       "      <th></th>\n",
       "    </tr>\n",
       "  </thead>\n",
       "  <tbody>\n",
       "    <tr>\n",
       "      <th>000d6849-084e-4d9f-ac03-37174eaf60c4</th>\n",
       "      <td>106</td>\n",
       "      <td>1</td>\n",
       "      <td>8076</td>\n",
       "      <td>2</td>\n",
       "      <td>1</td>\n",
       "      <td>3</td>\n",
       "      <td>213</td>\n",
       "    </tr>\n",
       "    <tr>\n",
       "      <th>001cee7f-0b29-4716-b202-0042213ab038</th>\n",
       "      <td>348</td>\n",
       "      <td>1</td>\n",
       "      <td>2019</td>\n",
       "      <td>1</td>\n",
       "      <td>1</td>\n",
       "      <td>1</td>\n",
       "      <td>111</td>\n",
       "    </tr>\n",
       "    <tr>\n",
       "      <th>00299f34-5385-4d13-9aea-c80b81658e1b</th>\n",
       "      <td>108</td>\n",
       "      <td>1</td>\n",
       "      <td>2019</td>\n",
       "      <td>2</td>\n",
       "      <td>1</td>\n",
       "      <td>1</td>\n",
       "      <td>211</td>\n",
       "    </tr>\n",
       "    <tr>\n",
       "      <th>002d4d3a-4a59-406b-86ec-c3314357e498</th>\n",
       "      <td>368</td>\n",
       "      <td>1</td>\n",
       "      <td>2019</td>\n",
       "      <td>1</td>\n",
       "      <td>1</td>\n",
       "      <td>1</td>\n",
       "      <td>111</td>\n",
       "    </tr>\n",
       "    <tr>\n",
       "      <th>003bbd39-0000-41ff-b7f9-2ddaec152037</th>\n",
       "      <td>123</td>\n",
       "      <td>1</td>\n",
       "      <td>2019</td>\n",
       "      <td>2</td>\n",
       "      <td>1</td>\n",
       "      <td>1</td>\n",
       "      <td>211</td>\n",
       "    </tr>\n",
       "  </tbody>\n",
       "</table>\n",
       "</div>"
      ],
      "text/plain": [
       "                                      recency  frequency  monetary_value  \\\n",
       "customer_id                                                                \n",
       "000d6849-084e-4d9f-ac03-37174eaf60c4      106          1            8076   \n",
       "001cee7f-0b29-4716-b202-0042213ab038      348          1            2019   \n",
       "00299f34-5385-4d13-9aea-c80b81658e1b      108          1            2019   \n",
       "002d4d3a-4a59-406b-86ec-c3314357e498      368          1            2019   \n",
       "003bbd39-0000-41ff-b7f9-2ddaec152037      123          1            2019   \n",
       "\n",
       "                                      R_Quartile  F_Quartile  M_Quartile  \\\n",
       "customer_id                                                                \n",
       "000d6849-084e-4d9f-ac03-37174eaf60c4           2           1           3   \n",
       "001cee7f-0b29-4716-b202-0042213ab038           1           1           1   \n",
       "00299f34-5385-4d13-9aea-c80b81658e1b           2           1           1   \n",
       "002d4d3a-4a59-406b-86ec-c3314357e498           1           1           1   \n",
       "003bbd39-0000-41ff-b7f9-2ddaec152037           2           1           1   \n",
       "\n",
       "                                     RFMClass  \n",
       "customer_id                                    \n",
       "000d6849-084e-4d9f-ac03-37174eaf60c4      213  \n",
       "001cee7f-0b29-4716-b202-0042213ab038      111  \n",
       "00299f34-5385-4d13-9aea-c80b81658e1b      211  \n",
       "002d4d3a-4a59-406b-86ec-c3314357e498      111  \n",
       "003bbd39-0000-41ff-b7f9-2ddaec152037      211  "
      ]
     },
     "execution_count": 54,
     "metadata": {},
     "output_type": "execute_result"
    }
   ],
   "source": [
    "RFM_Segment.head()"
   ]
  },
  {
   "cell_type": "markdown",
   "metadata": {},
   "source": [
    "### Присвоенные значения:\n",
    "\n",
    "#### Давность заказа (recency)\n",
    " - 1 - давно\n",
    " - 2 - относительно недавно\n",
    " - 3 - недавно\n",
    "#### Частота покупок (frequency):\n",
    " - 1 - редко\n",
    " - 2 - нечасто\n",
    " - 3 - часто\n",
    "#### Сумма покупок (monetary):\n",
    " - 1 - маленькая сумма\n",
    " - 2 - средняя сумма\n",
    " - 3 - большая сумма"
   ]
  },
  {
   "cell_type": "code",
   "execution_count": 55,
   "metadata": {},
   "outputs": [
    {
     "data": {
      "image/png": "[encoded data removed]",
      "text/plain": [
       "<Figure size 1080x360 with 1 Axes>"
      ]
     },
     "metadata": {
      "needs_background": "light"
     },
     "output_type": "display_data"
    }
   ],
   "source": [
    "fig=plt.figure(figsize=(15, 5)), \n",
    "RFM_Segment.groupby('RFMClass').agg('recency').count().plot(kind='bar')\n",
    "plt.title('График распростроненности RFM показателя среди клиентов')\n",
    "plt.xlabel('Показатель RFM')\n",
    "plt.ylabel('Количество клиентов')\n",
    "plt.show()"
   ]
  },
  {
   "cell_type": "markdown",
   "metadata": {},
   "source": [
    "# Вывод:\n",
    "\n",
    "Из графика выше выделим 3 категории:\n",
    "\n",
    "1. 133, 213, 222, 223, 233, 313, 323, 333 - эти клиенты чаще заходят в магазин и недавно делали покупки, назовем их \"Золотые\"\n",
    "\n",
    "\n",
    "2. 113, 122, 123, 212, 221, 232, 321, 322 - эти клиенты покупают на большие и средние суммы, но заходили в магазин давно или редко, назавом их \"Постоянные\"\n",
    "\n",
    "\n",
    "2. 111, 112, 121, 131, 211, 231, 311, 312 - эти клиенты заходили в магазин давно, покупают редко и на небольшую сумму, назовем их \"Малоактивные\"\n"
   ]
  },
  {
   "cell_type": "code",
   "execution_count": 56,
   "metadata": {},
   "outputs": [],
   "source": [
    "filter_1 = ['133', '213', '222', '223', '233', '313', '323', '333']\n",
    "filter_2 = ['113', '122', '123', '212', '221', '232', '321', '322']\n",
    "filter_3 = ['111', '112', '121', '131', '211', '231', '311', '312']\n",
    "group_1 = RFM_Segment[RFM_Segment.RFMClass.isin(filter_1)]\n",
    "group_2 = RFM_Segment[RFM_Segment.RFMClass.isin(filter_2)]\n",
    "group_3 = RFM_Segment[RFM_Segment.RFMClass.isin(filter_3)]"
   ]
  },
  {
   "cell_type": "code",
   "execution_count": 57,
   "metadata": {},
   "outputs": [
    {
     "data": {
      "text/html": [
       "<div>\n",
       "<style scoped>\n",
       "    .dataframe tbody tr th:only-of-type {\n",
       "        vertical-align: middle;\n",
       "    }\n",
       "\n",
       "    .dataframe tbody tr th {\n",
       "        vertical-align: top;\n",
       "    }\n",
       "\n",
       "    .dataframe thead th {\n",
       "        text-align: right;\n",
       "    }\n",
       "</style>\n",
       "<table border=\"1\" class=\"dataframe\">\n",
       "  <thead>\n",
       "    <tr style=\"text-align: right;\">\n",
       "      <th></th>\n",
       "      <th>recency</th>\n",
       "      <th>frequency</th>\n",
       "      <th>monetary_value</th>\n",
       "      <th>R_Quartile</th>\n",
       "      <th>F_Quartile</th>\n",
       "      <th>M_Quartile</th>\n",
       "      <th>RFMClass</th>\n",
       "    </tr>\n",
       "    <tr>\n",
       "      <th>customer_id</th>\n",
       "      <th></th>\n",
       "      <th></th>\n",
       "      <th></th>\n",
       "      <th></th>\n",
       "      <th></th>\n",
       "      <th></th>\n",
       "      <th></th>\n",
       "    </tr>\n",
       "  </thead>\n",
       "  <tbody>\n",
       "    <tr>\n",
       "      <th>000d6849-084e-4d9f-ac03-37174eaf60c4</th>\n",
       "      <td>106</td>\n",
       "      <td>1</td>\n",
       "      <td>8076</td>\n",
       "      <td>2</td>\n",
       "      <td>1</td>\n",
       "      <td>3</td>\n",
       "      <td>213</td>\n",
       "    </tr>\n",
       "    <tr>\n",
       "      <th>0184f535-b60a-4914-a982-231e3f615206</th>\n",
       "      <td>252</td>\n",
       "      <td>5</td>\n",
       "      <td>60570</td>\n",
       "      <td>2</td>\n",
       "      <td>3</td>\n",
       "      <td>3</td>\n",
       "      <td>233</td>\n",
       "    </tr>\n",
       "    <tr>\n",
       "      <th>01a53da1-c3ae-47cf-916e-7e345fe2f2bc</th>\n",
       "      <td>17</td>\n",
       "      <td>2</td>\n",
       "      <td>4039</td>\n",
       "      <td>3</td>\n",
       "      <td>2</td>\n",
       "      <td>3</td>\n",
       "      <td>323</td>\n",
       "    </tr>\n",
       "    <tr>\n",
       "      <th>01bd5b9a-2b4e-483c-95a3-40b040c392e8</th>\n",
       "      <td>248</td>\n",
       "      <td>1</td>\n",
       "      <td>14133</td>\n",
       "      <td>2</td>\n",
       "      <td>1</td>\n",
       "      <td>3</td>\n",
       "      <td>213</td>\n",
       "    </tr>\n",
       "    <tr>\n",
       "      <th>02a27adc-a1fe-4aaf-9945-1ab779979537</th>\n",
       "      <td>9</td>\n",
       "      <td>2</td>\n",
       "      <td>4039</td>\n",
       "      <td>3</td>\n",
       "      <td>2</td>\n",
       "      <td>3</td>\n",
       "      <td>323</td>\n",
       "    </tr>\n",
       "  </tbody>\n",
       "</table>\n",
       "</div>"
      ],
      "text/plain": [
       "                                      recency  frequency  monetary_value  \\\n",
       "customer_id                                                                \n",
       "000d6849-084e-4d9f-ac03-37174eaf60c4      106          1            8076   \n",
       "0184f535-b60a-4914-a982-231e3f615206      252          5           60570   \n",
       "01a53da1-c3ae-47cf-916e-7e345fe2f2bc       17          2            4039   \n",
       "01bd5b9a-2b4e-483c-95a3-40b040c392e8      248          1           14133   \n",
       "02a27adc-a1fe-4aaf-9945-1ab779979537        9          2            4039   \n",
       "\n",
       "                                      R_Quartile  F_Quartile  M_Quartile  \\\n",
       "customer_id                                                                \n",
       "000d6849-084e-4d9f-ac03-37174eaf60c4           2           1           3   \n",
       "0184f535-b60a-4914-a982-231e3f615206           2           3           3   \n",
       "01a53da1-c3ae-47cf-916e-7e345fe2f2bc           3           2           3   \n",
       "01bd5b9a-2b4e-483c-95a3-40b040c392e8           2           1           3   \n",
       "02a27adc-a1fe-4aaf-9945-1ab779979537           3           2           3   \n",
       "\n",
       "                                     RFMClass  \n",
       "customer_id                                    \n",
       "000d6849-084e-4d9f-ac03-37174eaf60c4      213  \n",
       "0184f535-b60a-4914-a982-231e3f615206      233  \n",
       "01a53da1-c3ae-47cf-916e-7e345fe2f2bc      323  \n",
       "01bd5b9a-2b4e-483c-95a3-40b040c392e8      213  \n",
       "02a27adc-a1fe-4aaf-9945-1ab779979537      323  "
      ]
     },
     "execution_count": 57,
     "metadata": {},
     "output_type": "execute_result"
    }
   ],
   "source": [
    "group_1.head()"
   ]
  },
  {
   "cell_type": "code",
   "execution_count": 58,
   "metadata": {},
   "outputs": [
    {
     "data": {
      "text/html": [
       "<div>\n",
       "<style scoped>\n",
       "    .dataframe tbody tr th:only-of-type {\n",
       "        vertical-align: middle;\n",
       "    }\n",
       "\n",
       "    .dataframe tbody tr th {\n",
       "        vertical-align: top;\n",
       "    }\n",
       "\n",
       "    .dataframe thead th {\n",
       "        text-align: right;\n",
       "    }\n",
       "</style>\n",
       "<table border=\"1\" class=\"dataframe\">\n",
       "  <thead>\n",
       "    <tr style=\"text-align: right;\">\n",
       "      <th></th>\n",
       "      <th>recency</th>\n",
       "      <th>frequency</th>\n",
       "      <th>monetary_value</th>\n",
       "      <th>R_Quartile</th>\n",
       "      <th>F_Quartile</th>\n",
       "      <th>M_Quartile</th>\n",
       "      <th>RFMClass</th>\n",
       "    </tr>\n",
       "    <tr>\n",
       "      <th>customer_id</th>\n",
       "      <th></th>\n",
       "      <th></th>\n",
       "      <th></th>\n",
       "      <th></th>\n",
       "      <th></th>\n",
       "      <th></th>\n",
       "      <th></th>\n",
       "    </tr>\n",
       "  </thead>\n",
       "  <tbody>\n",
       "    <tr>\n",
       "      <th>005ba170-45e8-42de-93f7-192481ae2659</th>\n",
       "      <td>86</td>\n",
       "      <td>2</td>\n",
       "      <td>4037</td>\n",
       "      <td>3</td>\n",
       "      <td>2</td>\n",
       "      <td>2</td>\n",
       "      <td>322</td>\n",
       "    </tr>\n",
       "    <tr>\n",
       "      <th>00c0f92a-121a-4883-a78d-2c7b5fe187de</th>\n",
       "      <td>49</td>\n",
       "      <td>2</td>\n",
       "      <td>4038</td>\n",
       "      <td>3</td>\n",
       "      <td>2</td>\n",
       "      <td>2</td>\n",
       "      <td>322</td>\n",
       "    </tr>\n",
       "    <tr>\n",
       "      <th>00cd704a-a65c-4865-b39a-779f1b4f1d1a</th>\n",
       "      <td>50</td>\n",
       "      <td>2</td>\n",
       "      <td>4038</td>\n",
       "      <td>3</td>\n",
       "      <td>2</td>\n",
       "      <td>2</td>\n",
       "      <td>322</td>\n",
       "    </tr>\n",
       "    <tr>\n",
       "      <th>00ff5327-0fba-481c-8a07-47a95093a213</th>\n",
       "      <td>43</td>\n",
       "      <td>2</td>\n",
       "      <td>4038</td>\n",
       "      <td>3</td>\n",
       "      <td>2</td>\n",
       "      <td>2</td>\n",
       "      <td>322</td>\n",
       "    </tr>\n",
       "    <tr>\n",
       "      <th>01c31cf3-cdb3-4b90-a2ef-ebe1b9e1fc33</th>\n",
       "      <td>452</td>\n",
       "      <td>1</td>\n",
       "      <td>6054</td>\n",
       "      <td>1</td>\n",
       "      <td>1</td>\n",
       "      <td>3</td>\n",
       "      <td>113</td>\n",
       "    </tr>\n",
       "  </tbody>\n",
       "</table>\n",
       "</div>"
      ],
      "text/plain": [
       "                                      recency  frequency  monetary_value  \\\n",
       "customer_id                                                                \n",
       "005ba170-45e8-42de-93f7-192481ae2659       86          2            4037   \n",
       "00c0f92a-121a-4883-a78d-2c7b5fe187de       49          2            4038   \n",
       "00cd704a-a65c-4865-b39a-779f1b4f1d1a       50          2            4038   \n",
       "00ff5327-0fba-481c-8a07-47a95093a213       43          2            4038   \n",
       "01c31cf3-cdb3-4b90-a2ef-ebe1b9e1fc33      452          1            6054   \n",
       "\n",
       "                                      R_Quartile  F_Quartile  M_Quartile  \\\n",
       "customer_id                                                                \n",
       "005ba170-45e8-42de-93f7-192481ae2659           3           2           2   \n",
       "00c0f92a-121a-4883-a78d-2c7b5fe187de           3           2           2   \n",
       "00cd704a-a65c-4865-b39a-779f1b4f1d1a           3           2           2   \n",
       "00ff5327-0fba-481c-8a07-47a95093a213           3           2           2   \n",
       "01c31cf3-cdb3-4b90-a2ef-ebe1b9e1fc33           1           1           3   \n",
       "\n",
       "                                     RFMClass  \n",
       "customer_id                                    \n",
       "005ba170-45e8-42de-93f7-192481ae2659      322  \n",
       "00c0f92a-121a-4883-a78d-2c7b5fe187de      322  \n",
       "00cd704a-a65c-4865-b39a-779f1b4f1d1a      322  \n",
       "00ff5327-0fba-481c-8a07-47a95093a213      322  \n",
       "01c31cf3-cdb3-4b90-a2ef-ebe1b9e1fc33      113  "
      ]
     },
     "execution_count": 58,
     "metadata": {},
     "output_type": "execute_result"
    }
   ],
   "source": [
    "group_2.head()"
   ]
  },
  {
   "cell_type": "code",
   "execution_count": 59,
   "metadata": {},
   "outputs": [
    {
     "data": {
      "text/html": [
       "<div>\n",
       "<style scoped>\n",
       "    .dataframe tbody tr th:only-of-type {\n",
       "        vertical-align: middle;\n",
       "    }\n",
       "\n",
       "    .dataframe tbody tr th {\n",
       "        vertical-align: top;\n",
       "    }\n",
       "\n",
       "    .dataframe thead th {\n",
       "        text-align: right;\n",
       "    }\n",
       "</style>\n",
       "<table border=\"1\" class=\"dataframe\">\n",
       "  <thead>\n",
       "    <tr style=\"text-align: right;\">\n",
       "      <th></th>\n",
       "      <th>recency</th>\n",
       "      <th>frequency</th>\n",
       "      <th>monetary_value</th>\n",
       "      <th>R_Quartile</th>\n",
       "      <th>F_Quartile</th>\n",
       "      <th>M_Quartile</th>\n",
       "      <th>RFMClass</th>\n",
       "    </tr>\n",
       "    <tr>\n",
       "      <th>customer_id</th>\n",
       "      <th></th>\n",
       "      <th></th>\n",
       "      <th></th>\n",
       "      <th></th>\n",
       "      <th></th>\n",
       "      <th></th>\n",
       "      <th></th>\n",
       "    </tr>\n",
       "  </thead>\n",
       "  <tbody>\n",
       "    <tr>\n",
       "      <th>001cee7f-0b29-4716-b202-0042213ab038</th>\n",
       "      <td>348</td>\n",
       "      <td>1</td>\n",
       "      <td>2019</td>\n",
       "      <td>1</td>\n",
       "      <td>1</td>\n",
       "      <td>1</td>\n",
       "      <td>111</td>\n",
       "    </tr>\n",
       "    <tr>\n",
       "      <th>00299f34-5385-4d13-9aea-c80b81658e1b</th>\n",
       "      <td>108</td>\n",
       "      <td>1</td>\n",
       "      <td>2019</td>\n",
       "      <td>2</td>\n",
       "      <td>1</td>\n",
       "      <td>1</td>\n",
       "      <td>211</td>\n",
       "    </tr>\n",
       "    <tr>\n",
       "      <th>002d4d3a-4a59-406b-86ec-c3314357e498</th>\n",
       "      <td>368</td>\n",
       "      <td>1</td>\n",
       "      <td>2019</td>\n",
       "      <td>1</td>\n",
       "      <td>1</td>\n",
       "      <td>1</td>\n",
       "      <td>111</td>\n",
       "    </tr>\n",
       "    <tr>\n",
       "      <th>003bbd39-0000-41ff-b7f9-2ddaec152037</th>\n",
       "      <td>123</td>\n",
       "      <td>1</td>\n",
       "      <td>2019</td>\n",
       "      <td>2</td>\n",
       "      <td>1</td>\n",
       "      <td>1</td>\n",
       "      <td>211</td>\n",
       "    </tr>\n",
       "    <tr>\n",
       "      <th>004d24e9-4a6c-4d0e-8727-8391dfd4b43a</th>\n",
       "      <td>368</td>\n",
       "      <td>1</td>\n",
       "      <td>2019</td>\n",
       "      <td>1</td>\n",
       "      <td>1</td>\n",
       "      <td>1</td>\n",
       "      <td>111</td>\n",
       "    </tr>\n",
       "  </tbody>\n",
       "</table>\n",
       "</div>"
      ],
      "text/plain": [
       "                                      recency  frequency  monetary_value  \\\n",
       "customer_id                                                                \n",
       "001cee7f-0b29-4716-b202-0042213ab038      348          1            2019   \n",
       "00299f34-5385-4d13-9aea-c80b81658e1b      108          1            2019   \n",
       "002d4d3a-4a59-406b-86ec-c3314357e498      368          1            2019   \n",
       "003bbd39-0000-41ff-b7f9-2ddaec152037      123          1            2019   \n",
       "004d24e9-4a6c-4d0e-8727-8391dfd4b43a      368          1            2019   \n",
       "\n",
       "                                      R_Quartile  F_Quartile  M_Quartile  \\\n",
       "customer_id                                                                \n",
       "001cee7f-0b29-4716-b202-0042213ab038           1           1           1   \n",
       "00299f34-5385-4d13-9aea-c80b81658e1b           2           1           1   \n",
       "002d4d3a-4a59-406b-86ec-c3314357e498           1           1           1   \n",
       "003bbd39-0000-41ff-b7f9-2ddaec152037           2           1           1   \n",
       "004d24e9-4a6c-4d0e-8727-8391dfd4b43a           1           1           1   \n",
       "\n",
       "                                     RFMClass  \n",
       "customer_id                                    \n",
       "001cee7f-0b29-4716-b202-0042213ab038      111  \n",
       "00299f34-5385-4d13-9aea-c80b81658e1b      211  \n",
       "002d4d3a-4a59-406b-86ec-c3314357e498      111  \n",
       "003bbd39-0000-41ff-b7f9-2ddaec152037      211  \n",
       "004d24e9-4a6c-4d0e-8727-8391dfd4b43a      111  "
      ]
     },
     "execution_count": 59,
     "metadata": {},
     "output_type": "execute_result"
    }
   ],
   "source": [
    "group_3.head()"
   ]
  },
  {
   "cell_type": "markdown",
   "metadata": {},
   "source": [
    "## Разбивка товаров на категории"
   ]
  },
  {
   "cell_type": "markdown",
   "metadata": {},
   "source": [
    "- Определим уникальные наименования"
   ]
  },
  {
   "cell_type": "code",
   "execution_count": 60,
   "metadata": {},
   "outputs": [
    {
     "data": {
      "text/html": [
       "<div>\n",
       "<style scoped>\n",
       "    .dataframe tbody tr th:only-of-type {\n",
       "        vertical-align: middle;\n",
       "    }\n",
       "\n",
       "    .dataframe tbody tr th {\n",
       "        vertical-align: top;\n",
       "    }\n",
       "\n",
       "    .dataframe thead th {\n",
       "        text-align: right;\n",
       "    }\n",
       "</style>\n",
       "<table border=\"1\" class=\"dataframe\">\n",
       "  <thead>\n",
       "    <tr style=\"text-align: right;\">\n",
       "      <th></th>\n",
       "      <th>product</th>\n",
       "    </tr>\n",
       "  </thead>\n",
       "  <tbody>\n",
       "    <tr>\n",
       "      <th>43</th>\n",
       "      <td>фиалка микс d-9 см</td>\n",
       "    </tr>\n",
       "    <tr>\n",
       "      <th>510</th>\n",
       "      <td>гладильная доска ника бэлль 106,5х29 см б</td>\n",
       "    </tr>\n",
       "    <tr>\n",
       "      <th>1222</th>\n",
       "      <td>фуксия swingtime белая с красным чашелистом об...</td>\n",
       "    </tr>\n",
       "    <tr>\n",
       "      <th>2298</th>\n",
       "      <td>сушилка для белья потолочная zalger lift comfo...</td>\n",
       "    </tr>\n",
       "    <tr>\n",
       "      <th>1906</th>\n",
       "      <td>нож универсальный pro 13 см, attribute, akl113</td>\n",
       "    </tr>\n",
       "    <tr>\n",
       "      <th>795</th>\n",
       "      <td>кореопсис толл 0,1 г 4650091480258</td>\n",
       "    </tr>\n",
       "    <tr>\n",
       "      <th>1245</th>\n",
       "      <td>корзина для белья эльфпласт виола 30 л коричне...</td>\n",
       "    </tr>\n",
       "    <tr>\n",
       "      <th>980</th>\n",
       "      <td>термос 1л svb-1000h</td>\n",
       "    </tr>\n",
       "    <tr>\n",
       "      <th>663</th>\n",
       "      <td>муляж виноград желтый 24 см полиуретан</td>\n",
       "    </tr>\n",
       "    <tr>\n",
       "      <th>1851</th>\n",
       "      <td>рассада огурца сорт персей, кассета по 6шт</td>\n",
       "    </tr>\n",
       "  </tbody>\n",
       "</table>\n",
       "</div>"
      ],
      "text/plain": [
       "                                                product\n",
       "43                                   фиалка микс d-9 см\n",
       "510           гладильная доска ника бэлль 106,5х29 см б\n",
       "1222  фуксия swingtime белая с красным чашелистом об...\n",
       "2298  сушилка для белья потолочная zalger lift comfo...\n",
       "1906     нож универсальный pro 13 см, attribute, akl113\n",
       "795                  кореопсис толл 0,1 г 4650091480258\n",
       "1245  корзина для белья эльфпласт виола 30 л коричне...\n",
       "980                                 термос 1л svb-1000h\n",
       "663              муляж виноград желтый 24 см полиуретан\n",
       "1851         рассада огурца сорт персей, кассета по 6шт"
      ]
     },
     "execution_count": 60,
     "metadata": {},
     "output_type": "execute_result"
    }
   ],
   "source": [
    "unique_items = pd.DataFrame(data['product'].unique(), columns = ['product'])\n",
    "unique_items.sample(10)"
   ]
  },
  {
   "cell_type": "code",
   "execution_count": 61,
   "metadata": {},
   "outputs": [
    {
     "data": {
      "text/html": [
       "<div>\n",
       "<style scoped>\n",
       "    .dataframe tbody tr th:only-of-type {\n",
       "        vertical-align: middle;\n",
       "    }\n",
       "\n",
       "    .dataframe tbody tr th {\n",
       "        vertical-align: top;\n",
       "    }\n",
       "\n",
       "    .dataframe thead th {\n",
       "        text-align: right;\n",
       "    }\n",
       "</style>\n",
       "<table border=\"1\" class=\"dataframe\">\n",
       "  <thead>\n",
       "    <tr style=\"text-align: right;\">\n",
       "      <th></th>\n",
       "      <th>item</th>\n",
       "    </tr>\n",
       "  </thead>\n",
       "  <tbody>\n",
       "    <tr>\n",
       "      <th>4441</th>\n",
       "      <td>ванна</td>\n",
       "    </tr>\n",
       "    <tr>\n",
       "      <th>482</th>\n",
       "      <td>стремянка</td>\n",
       "    </tr>\n",
       "    <tr>\n",
       "      <th>2457</th>\n",
       "      <td>гладильная</td>\n",
       "    </tr>\n",
       "    <tr>\n",
       "      <th>3205</th>\n",
       "      <td>томата</td>\n",
       "    </tr>\n",
       "    <tr>\n",
       "      <th>1126</th>\n",
       "      <td>лапчатка</td>\n",
       "    </tr>\n",
       "    <tr>\n",
       "      <th>956</th>\n",
       "      <td>салатник</td>\n",
       "    </tr>\n",
       "    <tr>\n",
       "      <th>3130</th>\n",
       "      <td>томата</td>\n",
       "    </tr>\n",
       "    <tr>\n",
       "      <th>5324</th>\n",
       "      <td>чехол</td>\n",
       "    </tr>\n",
       "    <tr>\n",
       "      <th>4796</th>\n",
       "      <td>сумка-тележка</td>\n",
       "    </tr>\n",
       "    <tr>\n",
       "      <th>2275</th>\n",
       "      <td>рассада</td>\n",
       "    </tr>\n",
       "  </tbody>\n",
       "</table>\n",
       "</div>"
      ],
      "text/plain": [
       "               item\n",
       "4441          ванна\n",
       "482       стремянка\n",
       "2457     гладильная\n",
       "3205         томата\n",
       "1126       лапчатка\n",
       "956        салатник\n",
       "3130         томата\n",
       "5324          чехол\n",
       "4796  сумка-тележка\n",
       "2275        рассада"
      ]
     },
     "execution_count": 61,
     "metadata": {},
     "output_type": "execute_result"
    }
   ],
   "source": [
    "data['item'] = data['product'].apply(lambda x: x.split()[:1]).str.join(', ')\n",
    "data['item'].to_frame().sample(10)"
   ]
  },
  {
   "cell_type": "code",
   "execution_count": 62,
   "metadata": {},
   "outputs": [
    {
     "data": {
      "text/plain": [
       "461"
      ]
     },
     "execution_count": 62,
     "metadata": {},
     "output_type": "execute_result"
    }
   ],
   "source": [
    "data['item'].nunique()"
   ]
  },
  {
   "cell_type": "markdown",
   "metadata": {},
   "source": [
    "- Делим товары на категории:"
   ]
  },
  {
   "cell_type": "code",
   "execution_count": 63,
   "metadata": {},
   "outputs": [],
   "source": [
    "garden_tools = ['сушилка', 'гладильный', 'сумка', 'доска', 'горшок', 'сушилк', 'тележка', 'хозяйственный',\\\n",
    "               'искусственный', 'чехол', 'стремян', 'алюминиевый', 'черенок', 'кашпо', 'багажный', \\\n",
    "               'ведро', 'контейнер', 'швабра', 'ведро', 'мытье', 'крючок', 'обув', 'перчатк', 'ящик', 'лоток',\\\n",
    "               ]"
   ]
  },
  {
   "cell_type": "code",
   "execution_count": 64,
   "metadata": {},
   "outputs": [],
   "source": [
    "plants = ['цветок', 'рассада', 'среднеспелый', 'томат', 'помидор', 'диам', 'пеларгония', 'розовый',\\\n",
    "          'зелень', 'роза', 'среднеспелый', 'муляж', 'однолетний', 'пластиковый', 'петуния', 'раннеспелый',\\\n",
    "          'растение', 'огурец', 'герань', 'тимьян', 'цикламен', 'калибрахоа', 'флокс', 'тыква', 'клубника',\\\n",
    "          'петрушка', 'фиалка', 'бегония', 'трава', 'флокс', 'перец', 'душица', 'комнатн', 'фуксия', 'капуста',\\\n",
    "          'дыня', 'хлорофитум', 'хризантема', 'зверобой', 'кореопсис', 'цветущее', 'лавр', 'ель', 'антуриум', 'укроп'\\\n",
    "          'осина', 'бадан', 'антинакипин', 'радермахер', 'хризолидокарпус', 'юкка', 'суккулент', \\\n",
    "          'цинерария', 'диффенбахий', 'эхинокактус', 'гипсофил', 'ранункулус', 'эхинацея', 'мускарь',\\\n",
    "          'горох', 'эхинокактус', 'табак', 'петрушка', 'шеффлер', 'многолетний', 'алиссум', 'бальзам', 'настурция',\\\n",
    "          'адиантум', 'кампануть', 'нолина', 'глоксиния', 'иссоп', 'сантолина', 'мелисса', \\\n",
    "          'космея', 'бархатцы', 'монарда', 'гортензия', 'диффенбахий', 'цинерария', 'шалфей', 'валериана', 'бадан',\\\n",
    "          'агератум', 'аргирантерум', 'вероника', 'целозия', 'сальвия', 'фатсия', 'хоста', 'монард', \\\n",
    "          'настольный', 'альбук', 'артемизия', 'калоцефалус', 'каллун', 'капсикум', 'соланум',\\\n",
    "          'бархатцы', 'годеция', 'эшшольция', 'пуансетия', 'кипарисовик', 'фиттоний', 'кодонант',\\\n",
    "          'калла', 'портулак', 'патиссон', 'эхеверие', 'хризантема', 'лаванда', 'кофе', 'овсянница',\\\n",
    "          'суккулент', 'драцена', 'морковь', 'годеция', 'эшшольция', 'комнатный', 'аптение', 'настурция', 'цветущий',\\\n",
    "          'девичий', 'лантан', 'ель', 'фикус', 'лен', 'лапчатка', 'рудбекия', 'цитрофортунелла', 'подсолнечник']"
   ]
  },
  {
   "cell_type": "code",
   "execution_count": 65,
   "metadata": {},
   "outputs": [],
   "source": [
    "crockery = ['luminarc', 'тарелк', 'салатник', 'чайник', 'салфетк', 'ложк', 'стакан', 'крышк', 'вилк', 'нож',\\\n",
    "           'сковород', 'кружк', 'термос', 'губка', 'измельчитель', 'миска', 'хлебница', 'сахарн', 'рыбочистка',\\\n",
    "           'соковарка', 'бидон', 'картофелемялка','орехоколка',  'скраб', 'венчик', 'сито',\\\n",
    "           'блюдо','tepмокружка','кухонный','миска','блюдце', \\\n",
    "           'скалка', 'завертка',  'толкушка', 'пружина', 'молодить', 'лопатка', ]"
   ]
  },
  {
   "cell_type": "code",
   "execution_count": 66,
   "metadata": {},
   "outputs": [],
   "source": [
    "furniture = ['кухня', 'ванный', 'коврик', 'вешалк', 'потолочный', 'ванна', 'обеденн', 'щетк', 'карниз',\\\n",
    "             'таз', 'штора', 'зубн', 'коробк', 'полка', 'комод', 'лестниц', 'щетка', 'щётка', 'увлажнять',\\\n",
    "             'скоба', 'пресс', 'кольцо', 'фоторамка', 'ключница', 'перекладина', 'модульный', 'фал',   \\\n",
    "             'корыто', 'ковер', 'сидение', 'плед', 'полотенце', 'ваза', 'подушка', 'утюг', 'кисточка', 'шило',\\\n",
    "             'этажерка', 'стойка', 'стеллаж', 'нетканый', 'полк', 'моп', 'тряпкодержатель', 'шпагат', 'шприц', 'крышка',\\\n",
    "             'бензин', 'пробка', 'универсальный', 'сменный', 'кисточка', 'сетка', 'ручка', 'складной', 'просеиватель', 'отжим', \\\n",
    "             'вкладыш', 'стиральный', 'чистить', 'светильник', 'жидкий', 'пена', 'ножеточка', 'линейка', 'салфетница', 'овощечистка', \\\n",
    "             'держатель', 'губка', 'антижир', 'ролик', 'картофелемялка', 'ароматизированный', 'бальзам', 'рассекатель', 'ополаскиватель', \\\n",
    "             'скоба', 'пресс', 'кольцо', 'фоторамка', 'ключница', 'перекладина', 'модульный', 'фал', 'орехоколка', 'увлажнять', \\\n",
    "              'концентрат', 'смолевка', 'фиксатор', 'шар', 'обувница', 'штангенциркуль','совок', 'измерительный',\\\n",
    "             'сотейник', 'ванна', 'прищепок', 'отделитель', 'веревка', 'отбеливатель', 'решетка', 'запасный', 'уголок', 'тряпка', \\\n",
    "             'сахарница', 'половник', 'котел', 'готовый',]"
   ]
  },
  {
   "cell_type": "code",
   "execution_count": 67,
   "metadata": {},
   "outputs": [],
   "source": [
    "other = ['']"
   ]
  },
  {
   "cell_type": "code",
   "execution_count": 68,
   "metadata": {},
   "outputs": [],
   "source": [
    "def category(row):   \n",
    "    for i in garden_tools:\n",
    "        if i in row:\n",
    "            return \"Товары для сада\"\n",
    "\n",
    "    for i in plants:\n",
    "        if i in row:\n",
    "            return \"Растения\"\n",
    "\n",
    "    for i in crockery:\n",
    "        if i in row:\n",
    "            return \"Кухонные принадлежности\"\n",
    "\n",
    "    for i in furniture:\n",
    "        if i in row:\n",
    "            return \"Товары для дома\"\n",
    "\n",
    "    for i in other:\n",
    "        if i in row:\n",
    "            return \"Другое\"\n",
    "\n",
    "data['category'] = data['product'].str.lower().apply(category)"
   ]
  },
  {
   "cell_type": "code",
   "execution_count": 69,
   "metadata": {},
   "outputs": [
    {
     "data": {
      "text/html": [
       "<div>\n",
       "<style scoped>\n",
       "    .dataframe tbody tr th:only-of-type {\n",
       "        vertical-align: middle;\n",
       "    }\n",
       "\n",
       "    .dataframe tbody tr th {\n",
       "        vertical-align: top;\n",
       "    }\n",
       "\n",
       "    .dataframe thead th {\n",
       "        text-align: right;\n",
       "    }\n",
       "</style>\n",
       "<table border=\"1\" class=\"dataframe\">\n",
       "  <thead>\n",
       "    <tr style=\"text-align: right;\">\n",
       "      <th></th>\n",
       "      <th>date</th>\n",
       "      <th>customer_id</th>\n",
       "      <th>order_id</th>\n",
       "      <th>product</th>\n",
       "      <th>quantity</th>\n",
       "      <th>price</th>\n",
       "      <th>month</th>\n",
       "      <th>day</th>\n",
       "      <th>weekday</th>\n",
       "      <th>total_price</th>\n",
       "      <th>year</th>\n",
       "      <th>month_year</th>\n",
       "      <th>total_per_order</th>\n",
       "      <th>total_per_customer</th>\n",
       "      <th>products_per_customer</th>\n",
       "      <th>orders_per_customer</th>\n",
       "      <th>avg_customer_receipt</th>\n",
       "      <th>item</th>\n",
       "      <th>category</th>\n",
       "    </tr>\n",
       "  </thead>\n",
       "  <tbody>\n",
       "    <tr>\n",
       "      <th>0</th>\n",
       "      <td>2018-10-01</td>\n",
       "      <td>ee47d746-6d2f-4d3c-9622-c31412542920</td>\n",
       "      <td>68477</td>\n",
       "      <td>комнатное растение в горшке алое вера, d12, h30</td>\n",
       "      <td>1</td>\n",
       "      <td>142.0</td>\n",
       "      <td>10</td>\n",
       "      <td>1</td>\n",
       "      <td>0</td>\n",
       "      <td>2018</td>\n",
       "      <td>2018-10</td>\n",
       "      <td>142.0</td>\n",
       "      <td>1037.0</td>\n",
       "      <td>1037.0</td>\n",
       "      <td>7</td>\n",
       "      <td>1</td>\n",
       "      <td>1037.0</td>\n",
       "      <td>комнатное</td>\n",
       "      <td>Растения</td>\n",
       "    </tr>\n",
       "    <tr>\n",
       "      <th>1</th>\n",
       "      <td>2018-10-01</td>\n",
       "      <td>ee47d746-6d2f-4d3c-9622-c31412542920</td>\n",
       "      <td>68477</td>\n",
       "      <td>комнатное растение в горшке кофе арабика, d12,...</td>\n",
       "      <td>1</td>\n",
       "      <td>194.0</td>\n",
       "      <td>10</td>\n",
       "      <td>1</td>\n",
       "      <td>0</td>\n",
       "      <td>2018</td>\n",
       "      <td>2018-10</td>\n",
       "      <td>194.0</td>\n",
       "      <td>1037.0</td>\n",
       "      <td>1037.0</td>\n",
       "      <td>7</td>\n",
       "      <td>1</td>\n",
       "      <td>1037.0</td>\n",
       "      <td>комнатное</td>\n",
       "      <td>Растения</td>\n",
       "    </tr>\n",
       "    <tr>\n",
       "      <th>2</th>\n",
       "      <td>2018-10-01</td>\n",
       "      <td>ee47d746-6d2f-4d3c-9622-c31412542920</td>\n",
       "      <td>68477</td>\n",
       "      <td>радермахера d-12 см h-20 см</td>\n",
       "      <td>1</td>\n",
       "      <td>112.0</td>\n",
       "      <td>10</td>\n",
       "      <td>1</td>\n",
       "      <td>0</td>\n",
       "      <td>2018</td>\n",
       "      <td>2018-10</td>\n",
       "      <td>112.0</td>\n",
       "      <td>1037.0</td>\n",
       "      <td>1037.0</td>\n",
       "      <td>7</td>\n",
       "      <td>1</td>\n",
       "      <td>1037.0</td>\n",
       "      <td>радермахера</td>\n",
       "      <td>Растения</td>\n",
       "    </tr>\n",
       "    <tr>\n",
       "      <th>3</th>\n",
       "      <td>2018-10-01</td>\n",
       "      <td>ee47d746-6d2f-4d3c-9622-c31412542920</td>\n",
       "      <td>68477</td>\n",
       "      <td>хризолидокарпус лутесценс d-9 см</td>\n",
       "      <td>1</td>\n",
       "      <td>179.0</td>\n",
       "      <td>10</td>\n",
       "      <td>1</td>\n",
       "      <td>0</td>\n",
       "      <td>2018</td>\n",
       "      <td>2018-10</td>\n",
       "      <td>179.0</td>\n",
       "      <td>1037.0</td>\n",
       "      <td>1037.0</td>\n",
       "      <td>7</td>\n",
       "      <td>1</td>\n",
       "      <td>1037.0</td>\n",
       "      <td>хризолидокарпус</td>\n",
       "      <td>Растения</td>\n",
       "    </tr>\n",
       "    <tr>\n",
       "      <th>4</th>\n",
       "      <td>2018-10-01</td>\n",
       "      <td>ee47d746-6d2f-4d3c-9622-c31412542920</td>\n",
       "      <td>68477</td>\n",
       "      <td>циперус зумула d-12 см h-25 см</td>\n",
       "      <td>1</td>\n",
       "      <td>112.0</td>\n",
       "      <td>10</td>\n",
       "      <td>1</td>\n",
       "      <td>0</td>\n",
       "      <td>2018</td>\n",
       "      <td>2018-10</td>\n",
       "      <td>112.0</td>\n",
       "      <td>1037.0</td>\n",
       "      <td>1037.0</td>\n",
       "      <td>7</td>\n",
       "      <td>1</td>\n",
       "      <td>1037.0</td>\n",
       "      <td>циперус</td>\n",
       "      <td>Другое</td>\n",
       "    </tr>\n",
       "  </tbody>\n",
       "</table>\n",
       "</div>"
      ],
      "text/plain": [
       "        date                           customer_id  order_id  \\\n",
       "0 2018-10-01  ee47d746-6d2f-4d3c-9622-c31412542920     68477   \n",
       "1 2018-10-01  ee47d746-6d2f-4d3c-9622-c31412542920     68477   \n",
       "2 2018-10-01  ee47d746-6d2f-4d3c-9622-c31412542920     68477   \n",
       "3 2018-10-01  ee47d746-6d2f-4d3c-9622-c31412542920     68477   \n",
       "4 2018-10-01  ee47d746-6d2f-4d3c-9622-c31412542920     68477   \n",
       "\n",
       "                                             product  quantity  price  month  \\\n",
       "0    комнатное растение в горшке алое вера, d12, h30         1  142.0     10   \n",
       "1  комнатное растение в горшке кофе арабика, d12,...         1  194.0     10   \n",
       "2                        радермахера d-12 см h-20 см         1  112.0     10   \n",
       "3                   хризолидокарпус лутесценс d-9 см         1  179.0     10   \n",
       "4                     циперус зумула d-12 см h-25 см         1  112.0     10   \n",
       "\n",
       "   day  weekday  total_price     year  month_year  total_per_order  \\\n",
       "0    1        0         2018  2018-10       142.0           1037.0   \n",
       "1    1        0         2018  2018-10       194.0           1037.0   \n",
       "2    1        0         2018  2018-10       112.0           1037.0   \n",
       "3    1        0         2018  2018-10       179.0           1037.0   \n",
       "4    1        0         2018  2018-10       112.0           1037.0   \n",
       "\n",
       "   total_per_customer  products_per_customer  orders_per_customer  \\\n",
       "0              1037.0                      7                    1   \n",
       "1              1037.0                      7                    1   \n",
       "2              1037.0                      7                    1   \n",
       "3              1037.0                      7                    1   \n",
       "4              1037.0                      7                    1   \n",
       "\n",
       "   avg_customer_receipt             item  category  \n",
       "0                1037.0        комнатное  Растения  \n",
       "1                1037.0        комнатное  Растения  \n",
       "2                1037.0      радермахера  Растения  \n",
       "3                1037.0  хризолидокарпус  Растения  \n",
       "4                1037.0          циперус    Другое  "
      ]
     },
     "execution_count": 69,
     "metadata": {},
     "output_type": "execute_result"
    }
   ],
   "source": [
    "data.head()"
   ]
  },
  {
   "cell_type": "markdown",
   "metadata": {},
   "source": [
    "- Добавим в наши группы столбцы date и category из основного ДФ."
   ]
  },
  {
   "cell_type": "code",
   "execution_count": 70,
   "metadata": {},
   "outputs": [],
   "source": [
    "group_1 = pd.merge(group_1,data[['customer_id','category','date']],on='customer_id', how='left')"
   ]
  },
  {
   "cell_type": "code",
   "execution_count": 71,
   "metadata": {},
   "outputs": [
    {
     "data": {
      "text/html": [
       "<div>\n",
       "<style scoped>\n",
       "    .dataframe tbody tr th:only-of-type {\n",
       "        vertical-align: middle;\n",
       "    }\n",
       "\n",
       "    .dataframe tbody tr th {\n",
       "        vertical-align: top;\n",
       "    }\n",
       "\n",
       "    .dataframe thead th {\n",
       "        text-align: right;\n",
       "    }\n",
       "</style>\n",
       "<table border=\"1\" class=\"dataframe\">\n",
       "  <thead>\n",
       "    <tr style=\"text-align: right;\">\n",
       "      <th></th>\n",
       "      <th>customer_id</th>\n",
       "      <th>recency</th>\n",
       "      <th>frequency</th>\n",
       "      <th>monetary_value</th>\n",
       "      <th>R_Quartile</th>\n",
       "      <th>F_Quartile</th>\n",
       "      <th>M_Quartile</th>\n",
       "      <th>RFMClass</th>\n",
       "      <th>category</th>\n",
       "      <th>date</th>\n",
       "    </tr>\n",
       "  </thead>\n",
       "  <tbody>\n",
       "    <tr>\n",
       "      <th>0</th>\n",
       "      <td>000d6849-084e-4d9f-ac03-37174eaf60c4</td>\n",
       "      <td>106</td>\n",
       "      <td>1</td>\n",
       "      <td>8076</td>\n",
       "      <td>2</td>\n",
       "      <td>1</td>\n",
       "      <td>3</td>\n",
       "      <td>213</td>\n",
       "      <td>Растения</td>\n",
       "      <td>2019-10-16 08:00:00</td>\n",
       "    </tr>\n",
       "    <tr>\n",
       "      <th>1</th>\n",
       "      <td>000d6849-084e-4d9f-ac03-37174eaf60c4</td>\n",
       "      <td>106</td>\n",
       "      <td>1</td>\n",
       "      <td>8076</td>\n",
       "      <td>2</td>\n",
       "      <td>1</td>\n",
       "      <td>3</td>\n",
       "      <td>213</td>\n",
       "      <td>Товары для сада</td>\n",
       "      <td>2019-10-16 08:00:00</td>\n",
       "    </tr>\n",
       "    <tr>\n",
       "      <th>2</th>\n",
       "      <td>000d6849-084e-4d9f-ac03-37174eaf60c4</td>\n",
       "      <td>106</td>\n",
       "      <td>1</td>\n",
       "      <td>8076</td>\n",
       "      <td>2</td>\n",
       "      <td>1</td>\n",
       "      <td>3</td>\n",
       "      <td>213</td>\n",
       "      <td>Растения</td>\n",
       "      <td>2019-10-16 08:00:00</td>\n",
       "    </tr>\n",
       "    <tr>\n",
       "      <th>3</th>\n",
       "      <td>000d6849-084e-4d9f-ac03-37174eaf60c4</td>\n",
       "      <td>106</td>\n",
       "      <td>1</td>\n",
       "      <td>8076</td>\n",
       "      <td>2</td>\n",
       "      <td>1</td>\n",
       "      <td>3</td>\n",
       "      <td>213</td>\n",
       "      <td>Растения</td>\n",
       "      <td>2019-10-16 08:00:00</td>\n",
       "    </tr>\n",
       "    <tr>\n",
       "      <th>4</th>\n",
       "      <td>0184f535-b60a-4914-a982-231e3f615206</td>\n",
       "      <td>252</td>\n",
       "      <td>5</td>\n",
       "      <td>60570</td>\n",
       "      <td>2</td>\n",
       "      <td>3</td>\n",
       "      <td>3</td>\n",
       "      <td>233</td>\n",
       "      <td>Товары для сада</td>\n",
       "      <td>2019-03-07 10:00:00</td>\n",
       "    </tr>\n",
       "    <tr>\n",
       "      <th>...</th>\n",
       "      <td>...</td>\n",
       "      <td>...</td>\n",
       "      <td>...</td>\n",
       "      <td>...</td>\n",
       "      <td>...</td>\n",
       "      <td>...</td>\n",
       "      <td>...</td>\n",
       "      <td>...</td>\n",
       "      <td>...</td>\n",
       "      <td>...</td>\n",
       "    </tr>\n",
       "    <tr>\n",
       "      <th>2319</th>\n",
       "      <td>ff422162-fc4a-4b65-a0e2-17f5095ea2c6</td>\n",
       "      <td>325</td>\n",
       "      <td>3</td>\n",
       "      <td>6057</td>\n",
       "      <td>1</td>\n",
       "      <td>3</td>\n",
       "      <td>3</td>\n",
       "      <td>133</td>\n",
       "      <td>Товары для сада</td>\n",
       "      <td>2019-03-11 10:00:00</td>\n",
       "    </tr>\n",
       "    <tr>\n",
       "      <th>2320</th>\n",
       "      <td>ff422162-fc4a-4b65-a0e2-17f5095ea2c6</td>\n",
       "      <td>325</td>\n",
       "      <td>3</td>\n",
       "      <td>6057</td>\n",
       "      <td>1</td>\n",
       "      <td>3</td>\n",
       "      <td>3</td>\n",
       "      <td>133</td>\n",
       "      <td>Товары для сада</td>\n",
       "      <td>2019-03-11 11:00:00</td>\n",
       "    </tr>\n",
       "    <tr>\n",
       "      <th>2321</th>\n",
       "      <td>ff422162-fc4a-4b65-a0e2-17f5095ea2c6</td>\n",
       "      <td>325</td>\n",
       "      <td>3</td>\n",
       "      <td>6057</td>\n",
       "      <td>1</td>\n",
       "      <td>3</td>\n",
       "      <td>3</td>\n",
       "      <td>133</td>\n",
       "      <td>Кухонные принадлежности</td>\n",
       "      <td>2019-03-11 15:00:00</td>\n",
       "    </tr>\n",
       "    <tr>\n",
       "      <th>2322</th>\n",
       "      <td>ff601403-b094-4b86-9ac6-264d725b9277</td>\n",
       "      <td>11</td>\n",
       "      <td>2</td>\n",
       "      <td>4039</td>\n",
       "      <td>3</td>\n",
       "      <td>2</td>\n",
       "      <td>3</td>\n",
       "      <td>323</td>\n",
       "      <td>Товары для сада</td>\n",
       "      <td>2019-08-16 16:00:00</td>\n",
       "    </tr>\n",
       "    <tr>\n",
       "      <th>2323</th>\n",
       "      <td>ff601403-b094-4b86-9ac6-264d725b9277</td>\n",
       "      <td>11</td>\n",
       "      <td>2</td>\n",
       "      <td>4039</td>\n",
       "      <td>3</td>\n",
       "      <td>2</td>\n",
       "      <td>3</td>\n",
       "      <td>323</td>\n",
       "      <td>Другое</td>\n",
       "      <td>2020-01-19 11:00:00</td>\n",
       "    </tr>\n",
       "  </tbody>\n",
       "</table>\n",
       "<p>2324 rows × 10 columns</p>\n",
       "</div>"
      ],
      "text/plain": [
       "                               customer_id  recency  frequency  \\\n",
       "0     000d6849-084e-4d9f-ac03-37174eaf60c4      106          1   \n",
       "1     000d6849-084e-4d9f-ac03-37174eaf60c4      106          1   \n",
       "2     000d6849-084e-4d9f-ac03-37174eaf60c4      106          1   \n",
       "3     000d6849-084e-4d9f-ac03-37174eaf60c4      106          1   \n",
       "4     0184f535-b60a-4914-a982-231e3f615206      252          5   \n",
       "...                                    ...      ...        ...   \n",
       "2319  ff422162-fc4a-4b65-a0e2-17f5095ea2c6      325          3   \n",
       "2320  ff422162-fc4a-4b65-a0e2-17f5095ea2c6      325          3   \n",
       "2321  ff422162-fc4a-4b65-a0e2-17f5095ea2c6      325          3   \n",
       "2322  ff601403-b094-4b86-9ac6-264d725b9277       11          2   \n",
       "2323  ff601403-b094-4b86-9ac6-264d725b9277       11          2   \n",
       "\n",
       "      monetary_value  R_Quartile  F_Quartile  M_Quartile RFMClass  \\\n",
       "0               8076           2           1           3      213   \n",
       "1               8076           2           1           3      213   \n",
       "2               8076           2           1           3      213   \n",
       "3               8076           2           1           3      213   \n",
       "4              60570           2           3           3      233   \n",
       "...              ...         ...         ...         ...      ...   \n",
       "2319            6057           1           3           3      133   \n",
       "2320            6057           1           3           3      133   \n",
       "2321            6057           1           3           3      133   \n",
       "2322            4039           3           2           3      323   \n",
       "2323            4039           3           2           3      323   \n",
       "\n",
       "                     category                date  \n",
       "0                    Растения 2019-10-16 08:00:00  \n",
       "1             Товары для сада 2019-10-16 08:00:00  \n",
       "2                    Растения 2019-10-16 08:00:00  \n",
       "3                    Растения 2019-10-16 08:00:00  \n",
       "4             Товары для сада 2019-03-07 10:00:00  \n",
       "...                       ...                 ...  \n",
       "2319          Товары для сада 2019-03-11 10:00:00  \n",
       "2320          Товары для сада 2019-03-11 11:00:00  \n",
       "2321  Кухонные принадлежности 2019-03-11 15:00:00  \n",
       "2322          Товары для сада 2019-08-16 16:00:00  \n",
       "2323                   Другое 2020-01-19 11:00:00  \n",
       "\n",
       "[2324 rows x 10 columns]"
      ]
     },
     "execution_count": 71,
     "metadata": {},
     "output_type": "execute_result"
    }
   ],
   "source": [
    "group_1"
   ]
  },
  {
   "cell_type": "code",
   "execution_count": 72,
   "metadata": {},
   "outputs": [],
   "source": [
    "group_2 = pd.merge(group_2,data[['customer_id','category','date']],on='customer_id', how='left')"
   ]
  },
  {
   "cell_type": "code",
   "execution_count": 73,
   "metadata": {},
   "outputs": [
    {
     "data": {
      "text/html": [
       "<div>\n",
       "<style scoped>\n",
       "    .dataframe tbody tr th:only-of-type {\n",
       "        vertical-align: middle;\n",
       "    }\n",
       "\n",
       "    .dataframe tbody tr th {\n",
       "        vertical-align: top;\n",
       "    }\n",
       "\n",
       "    .dataframe thead th {\n",
       "        text-align: right;\n",
       "    }\n",
       "</style>\n",
       "<table border=\"1\" class=\"dataframe\">\n",
       "  <thead>\n",
       "    <tr style=\"text-align: right;\">\n",
       "      <th></th>\n",
       "      <th>customer_id</th>\n",
       "      <th>recency</th>\n",
       "      <th>frequency</th>\n",
       "      <th>monetary_value</th>\n",
       "      <th>R_Quartile</th>\n",
       "      <th>F_Quartile</th>\n",
       "      <th>M_Quartile</th>\n",
       "      <th>RFMClass</th>\n",
       "      <th>category</th>\n",
       "      <th>date</th>\n",
       "    </tr>\n",
       "  </thead>\n",
       "  <tbody>\n",
       "    <tr>\n",
       "      <th>0</th>\n",
       "      <td>005ba170-45e8-42de-93f7-192481ae2659</td>\n",
       "      <td>86</td>\n",
       "      <td>2</td>\n",
       "      <td>4037</td>\n",
       "      <td>3</td>\n",
       "      <td>2</td>\n",
       "      <td>2</td>\n",
       "      <td>322</td>\n",
       "      <td>Товары для дома</td>\n",
       "      <td>2018-10-30 20:00:00</td>\n",
       "    </tr>\n",
       "    <tr>\n",
       "      <th>1</th>\n",
       "      <td>005ba170-45e8-42de-93f7-192481ae2659</td>\n",
       "      <td>86</td>\n",
       "      <td>2</td>\n",
       "      <td>4037</td>\n",
       "      <td>3</td>\n",
       "      <td>2</td>\n",
       "      <td>2</td>\n",
       "      <td>322</td>\n",
       "      <td>Товары для сада</td>\n",
       "      <td>2019-11-05 21:00:00</td>\n",
       "    </tr>\n",
       "    <tr>\n",
       "      <th>2</th>\n",
       "      <td>00c0f92a-121a-4883-a78d-2c7b5fe187de</td>\n",
       "      <td>49</td>\n",
       "      <td>2</td>\n",
       "      <td>4038</td>\n",
       "      <td>3</td>\n",
       "      <td>2</td>\n",
       "      <td>2</td>\n",
       "      <td>322</td>\n",
       "      <td>Товары для сада</td>\n",
       "      <td>2019-02-23 16:00:00</td>\n",
       "    </tr>\n",
       "    <tr>\n",
       "      <th>3</th>\n",
       "      <td>00c0f92a-121a-4883-a78d-2c7b5fe187de</td>\n",
       "      <td>49</td>\n",
       "      <td>2</td>\n",
       "      <td>4038</td>\n",
       "      <td>3</td>\n",
       "      <td>2</td>\n",
       "      <td>2</td>\n",
       "      <td>322</td>\n",
       "      <td>Растения</td>\n",
       "      <td>2019-12-12 12:00:00</td>\n",
       "    </tr>\n",
       "    <tr>\n",
       "      <th>4</th>\n",
       "      <td>00cd704a-a65c-4865-b39a-779f1b4f1d1a</td>\n",
       "      <td>50</td>\n",
       "      <td>2</td>\n",
       "      <td>4038</td>\n",
       "      <td>3</td>\n",
       "      <td>2</td>\n",
       "      <td>2</td>\n",
       "      <td>322</td>\n",
       "      <td>Товары для сада</td>\n",
       "      <td>2019-02-21 08:00:00</td>\n",
       "    </tr>\n",
       "    <tr>\n",
       "      <th>...</th>\n",
       "      <td>...</td>\n",
       "      <td>...</td>\n",
       "      <td>...</td>\n",
       "      <td>...</td>\n",
       "      <td>...</td>\n",
       "      <td>...</td>\n",
       "      <td>...</td>\n",
       "      <td>...</td>\n",
       "      <td>...</td>\n",
       "      <td>...</td>\n",
       "    </tr>\n",
       "    <tr>\n",
       "      <th>1865</th>\n",
       "      <td>fd81297f-0495-4045-be04-d65061ab5e98</td>\n",
       "      <td>65</td>\n",
       "      <td>2</td>\n",
       "      <td>4038</td>\n",
       "      <td>3</td>\n",
       "      <td>2</td>\n",
       "      <td>2</td>\n",
       "      <td>322</td>\n",
       "      <td>Товары для дома</td>\n",
       "      <td>2019-11-26 20:00:00</td>\n",
       "    </tr>\n",
       "    <tr>\n",
       "      <th>1866</th>\n",
       "      <td>fe3e6382-3272-4045-8601-c9acfc08006f</td>\n",
       "      <td>51</td>\n",
       "      <td>2</td>\n",
       "      <td>4038</td>\n",
       "      <td>3</td>\n",
       "      <td>2</td>\n",
       "      <td>2</td>\n",
       "      <td>322</td>\n",
       "      <td>Товары для сада</td>\n",
       "      <td>2019-02-18 14:00:00</td>\n",
       "    </tr>\n",
       "    <tr>\n",
       "      <th>1867</th>\n",
       "      <td>fe3e6382-3272-4045-8601-c9acfc08006f</td>\n",
       "      <td>51</td>\n",
       "      <td>2</td>\n",
       "      <td>4038</td>\n",
       "      <td>3</td>\n",
       "      <td>2</td>\n",
       "      <td>2</td>\n",
       "      <td>322</td>\n",
       "      <td>Другое</td>\n",
       "      <td>2019-12-10 10:00:00</td>\n",
       "    </tr>\n",
       "    <tr>\n",
       "      <th>1868</th>\n",
       "      <td>fef19457-5e7b-4d5d-b031-806041bc251a</td>\n",
       "      <td>70</td>\n",
       "      <td>2</td>\n",
       "      <td>4037</td>\n",
       "      <td>3</td>\n",
       "      <td>2</td>\n",
       "      <td>2</td>\n",
       "      <td>322</td>\n",
       "      <td>Товары для сада</td>\n",
       "      <td>2018-12-19 14:00:00</td>\n",
       "    </tr>\n",
       "    <tr>\n",
       "      <th>1869</th>\n",
       "      <td>fef19457-5e7b-4d5d-b031-806041bc251a</td>\n",
       "      <td>70</td>\n",
       "      <td>2</td>\n",
       "      <td>4037</td>\n",
       "      <td>3</td>\n",
       "      <td>2</td>\n",
       "      <td>2</td>\n",
       "      <td>322</td>\n",
       "      <td>Растения</td>\n",
       "      <td>2019-11-21 11:00:00</td>\n",
       "    </tr>\n",
       "  </tbody>\n",
       "</table>\n",
       "<p>1870 rows × 10 columns</p>\n",
       "</div>"
      ],
      "text/plain": [
       "                               customer_id  recency  frequency  \\\n",
       "0     005ba170-45e8-42de-93f7-192481ae2659       86          2   \n",
       "1     005ba170-45e8-42de-93f7-192481ae2659       86          2   \n",
       "2     00c0f92a-121a-4883-a78d-2c7b5fe187de       49          2   \n",
       "3     00c0f92a-121a-4883-a78d-2c7b5fe187de       49          2   \n",
       "4     00cd704a-a65c-4865-b39a-779f1b4f1d1a       50          2   \n",
       "...                                    ...      ...        ...   \n",
       "1865  fd81297f-0495-4045-be04-d65061ab5e98       65          2   \n",
       "1866  fe3e6382-3272-4045-8601-c9acfc08006f       51          2   \n",
       "1867  fe3e6382-3272-4045-8601-c9acfc08006f       51          2   \n",
       "1868  fef19457-5e7b-4d5d-b031-806041bc251a       70          2   \n",
       "1869  fef19457-5e7b-4d5d-b031-806041bc251a       70          2   \n",
       "\n",
       "      monetary_value  R_Quartile  F_Quartile  M_Quartile RFMClass  \\\n",
       "0               4037           3           2           2      322   \n",
       "1               4037           3           2           2      322   \n",
       "2               4038           3           2           2      322   \n",
       "3               4038           3           2           2      322   \n",
       "4               4038           3           2           2      322   \n",
       "...              ...         ...         ...         ...      ...   \n",
       "1865            4038           3           2           2      322   \n",
       "1866            4038           3           2           2      322   \n",
       "1867            4038           3           2           2      322   \n",
       "1868            4037           3           2           2      322   \n",
       "1869            4037           3           2           2      322   \n",
       "\n",
       "             category                date  \n",
       "0     Товары для дома 2018-10-30 20:00:00  \n",
       "1     Товары для сада 2019-11-05 21:00:00  \n",
       "2     Товары для сада 2019-02-23 16:00:00  \n",
       "3            Растения 2019-12-12 12:00:00  \n",
       "4     Товары для сада 2019-02-21 08:00:00  \n",
       "...               ...                 ...  \n",
       "1865  Товары для дома 2019-11-26 20:00:00  \n",
       "1866  Товары для сада 2019-02-18 14:00:00  \n",
       "1867           Другое 2019-12-10 10:00:00  \n",
       "1868  Товары для сада 2018-12-19 14:00:00  \n",
       "1869         Растения 2019-11-21 11:00:00  \n",
       "\n",
       "[1870 rows x 10 columns]"
      ]
     },
     "execution_count": 73,
     "metadata": {},
     "output_type": "execute_result"
    }
   ],
   "source": [
    "group_2"
   ]
  },
  {
   "cell_type": "code",
   "execution_count": 74,
   "metadata": {},
   "outputs": [],
   "source": [
    "group_3 = pd.merge(group_3,data[['customer_id','category','date']],on='customer_id', how='left')"
   ]
  },
  {
   "cell_type": "code",
   "execution_count": 75,
   "metadata": {},
   "outputs": [
    {
     "data": {
      "text/html": [
       "<div>\n",
       "<style scoped>\n",
       "    .dataframe tbody tr th:only-of-type {\n",
       "        vertical-align: middle;\n",
       "    }\n",
       "\n",
       "    .dataframe tbody tr th {\n",
       "        vertical-align: top;\n",
       "    }\n",
       "\n",
       "    .dataframe thead th {\n",
       "        text-align: right;\n",
       "    }\n",
       "</style>\n",
       "<table border=\"1\" class=\"dataframe\">\n",
       "  <thead>\n",
       "    <tr style=\"text-align: right;\">\n",
       "      <th></th>\n",
       "      <th>customer_id</th>\n",
       "      <th>recency</th>\n",
       "      <th>frequency</th>\n",
       "      <th>monetary_value</th>\n",
       "      <th>R_Quartile</th>\n",
       "      <th>F_Quartile</th>\n",
       "      <th>M_Quartile</th>\n",
       "      <th>RFMClass</th>\n",
       "      <th>category</th>\n",
       "      <th>date</th>\n",
       "    </tr>\n",
       "  </thead>\n",
       "  <tbody>\n",
       "    <tr>\n",
       "      <th>0</th>\n",
       "      <td>001cee7f-0b29-4716-b202-0042213ab038</td>\n",
       "      <td>348</td>\n",
       "      <td>1</td>\n",
       "      <td>2019</td>\n",
       "      <td>1</td>\n",
       "      <td>1</td>\n",
       "      <td>1</td>\n",
       "      <td>111</td>\n",
       "      <td>Товары для сада</td>\n",
       "      <td>2019-02-16 11:00:00</td>\n",
       "    </tr>\n",
       "    <tr>\n",
       "      <th>1</th>\n",
       "      <td>00299f34-5385-4d13-9aea-c80b81658e1b</td>\n",
       "      <td>108</td>\n",
       "      <td>1</td>\n",
       "      <td>2019</td>\n",
       "      <td>2</td>\n",
       "      <td>1</td>\n",
       "      <td>1</td>\n",
       "      <td>211</td>\n",
       "      <td>Другое</td>\n",
       "      <td>2019-10-14 23:00:00</td>\n",
       "    </tr>\n",
       "    <tr>\n",
       "      <th>2</th>\n",
       "      <td>002d4d3a-4a59-406b-86ec-c3314357e498</td>\n",
       "      <td>368</td>\n",
       "      <td>1</td>\n",
       "      <td>2019</td>\n",
       "      <td>1</td>\n",
       "      <td>1</td>\n",
       "      <td>1</td>\n",
       "      <td>111</td>\n",
       "      <td>Товары для сада</td>\n",
       "      <td>2019-01-27 17:00:00</td>\n",
       "    </tr>\n",
       "    <tr>\n",
       "      <th>3</th>\n",
       "      <td>003bbd39-0000-41ff-b7f9-2ddaec152037</td>\n",
       "      <td>123</td>\n",
       "      <td>1</td>\n",
       "      <td>2019</td>\n",
       "      <td>2</td>\n",
       "      <td>1</td>\n",
       "      <td>1</td>\n",
       "      <td>211</td>\n",
       "      <td>Товары для сада</td>\n",
       "      <td>2019-09-29 17:00:00</td>\n",
       "    </tr>\n",
       "    <tr>\n",
       "      <th>4</th>\n",
       "      <td>004d24e9-4a6c-4d0e-8727-8391dfd4b43a</td>\n",
       "      <td>368</td>\n",
       "      <td>1</td>\n",
       "      <td>2019</td>\n",
       "      <td>1</td>\n",
       "      <td>1</td>\n",
       "      <td>1</td>\n",
       "      <td>111</td>\n",
       "      <td>Товары для дома</td>\n",
       "      <td>2019-01-27 12:00:00</td>\n",
       "    </tr>\n",
       "    <tr>\n",
       "      <th>...</th>\n",
       "      <td>...</td>\n",
       "      <td>...</td>\n",
       "      <td>...</td>\n",
       "      <td>...</td>\n",
       "      <td>...</td>\n",
       "      <td>...</td>\n",
       "      <td>...</td>\n",
       "      <td>...</td>\n",
       "      <td>...</td>\n",
       "      <td>...</td>\n",
       "    </tr>\n",
       "    <tr>\n",
       "      <th>1322</th>\n",
       "      <td>ff0c73c3-6b62-4e67-8e12-bb83ed1851d5</td>\n",
       "      <td>92</td>\n",
       "      <td>1</td>\n",
       "      <td>2019</td>\n",
       "      <td>3</td>\n",
       "      <td>1</td>\n",
       "      <td>1</td>\n",
       "      <td>311</td>\n",
       "      <td>Товары для сада</td>\n",
       "      <td>2019-10-30 19:00:00</td>\n",
       "    </tr>\n",
       "    <tr>\n",
       "      <th>1323</th>\n",
       "      <td>ffaeab76-3a8d-49ee-860f-17273b2fc8a2</td>\n",
       "      <td>92</td>\n",
       "      <td>1</td>\n",
       "      <td>2019</td>\n",
       "      <td>3</td>\n",
       "      <td>1</td>\n",
       "      <td>1</td>\n",
       "      <td>311</td>\n",
       "      <td>Товары для дома</td>\n",
       "      <td>2019-10-30 07:00:00</td>\n",
       "    </tr>\n",
       "    <tr>\n",
       "      <th>1324</th>\n",
       "      <td>ffb5976a-7a4d-460b-95c4-5ffaba31cb24</td>\n",
       "      <td>412</td>\n",
       "      <td>1</td>\n",
       "      <td>2018</td>\n",
       "      <td>1</td>\n",
       "      <td>1</td>\n",
       "      <td>1</td>\n",
       "      <td>111</td>\n",
       "      <td>Растения</td>\n",
       "      <td>2018-12-14 23:00:00</td>\n",
       "    </tr>\n",
       "    <tr>\n",
       "      <th>1325</th>\n",
       "      <td>ffb80538-3fda-4351-8ea9-9d2bec58bb07</td>\n",
       "      <td>143</td>\n",
       "      <td>1</td>\n",
       "      <td>2019</td>\n",
       "      <td>2</td>\n",
       "      <td>1</td>\n",
       "      <td>1</td>\n",
       "      <td>211</td>\n",
       "      <td>Кухонные принадлежности</td>\n",
       "      <td>2019-09-09 12:00:00</td>\n",
       "    </tr>\n",
       "    <tr>\n",
       "      <th>1326</th>\n",
       "      <td>ffe82299-3f5b-4214-87fe-3d36ecccfac3</td>\n",
       "      <td>100</td>\n",
       "      <td>1</td>\n",
       "      <td>2019</td>\n",
       "      <td>3</td>\n",
       "      <td>1</td>\n",
       "      <td>1</td>\n",
       "      <td>311</td>\n",
       "      <td>Товары для сада</td>\n",
       "      <td>2019-10-22 13:00:00</td>\n",
       "    </tr>\n",
       "  </tbody>\n",
       "</table>\n",
       "<p>1327 rows × 10 columns</p>\n",
       "</div>"
      ],
      "text/plain": [
       "                               customer_id  recency  frequency  \\\n",
       "0     001cee7f-0b29-4716-b202-0042213ab038      348          1   \n",
       "1     00299f34-5385-4d13-9aea-c80b81658e1b      108          1   \n",
       "2     002d4d3a-4a59-406b-86ec-c3314357e498      368          1   \n",
       "3     003bbd39-0000-41ff-b7f9-2ddaec152037      123          1   \n",
       "4     004d24e9-4a6c-4d0e-8727-8391dfd4b43a      368          1   \n",
       "...                                    ...      ...        ...   \n",
       "1322  ff0c73c3-6b62-4e67-8e12-bb83ed1851d5       92          1   \n",
       "1323  ffaeab76-3a8d-49ee-860f-17273b2fc8a2       92          1   \n",
       "1324  ffb5976a-7a4d-460b-95c4-5ffaba31cb24      412          1   \n",
       "1325  ffb80538-3fda-4351-8ea9-9d2bec58bb07      143          1   \n",
       "1326  ffe82299-3f5b-4214-87fe-3d36ecccfac3      100          1   \n",
       "\n",
       "      monetary_value  R_Quartile  F_Quartile  M_Quartile RFMClass  \\\n",
       "0               2019           1           1           1      111   \n",
       "1               2019           2           1           1      211   \n",
       "2               2019           1           1           1      111   \n",
       "3               2019           2           1           1      211   \n",
       "4               2019           1           1           1      111   \n",
       "...              ...         ...         ...         ...      ...   \n",
       "1322            2019           3           1           1      311   \n",
       "1323            2019           3           1           1      311   \n",
       "1324            2018           1           1           1      111   \n",
       "1325            2019           2           1           1      211   \n",
       "1326            2019           3           1           1      311   \n",
       "\n",
       "                     category                date  \n",
       "0             Товары для сада 2019-02-16 11:00:00  \n",
       "1                      Другое 2019-10-14 23:00:00  \n",
       "2             Товары для сада 2019-01-27 17:00:00  \n",
       "3             Товары для сада 2019-09-29 17:00:00  \n",
       "4             Товары для дома 2019-01-27 12:00:00  \n",
       "...                       ...                 ...  \n",
       "1322          Товары для сада 2019-10-30 19:00:00  \n",
       "1323          Товары для дома 2019-10-30 07:00:00  \n",
       "1324                 Растения 2018-12-14 23:00:00  \n",
       "1325  Кухонные принадлежности 2019-09-09 12:00:00  \n",
       "1326          Товары для сада 2019-10-22 13:00:00  \n",
       "\n",
       "[1327 rows x 10 columns]"
      ]
     },
     "execution_count": 75,
     "metadata": {},
     "output_type": "execute_result"
    }
   ],
   "source": [
    "group_3"
   ]
  },
  {
   "cell_type": "code",
   "execution_count": 76,
   "metadata": {},
   "outputs": [],
   "source": [
    "group_1['month'] = group_1['date'].dt.month\n",
    "group_2['month'] = group_2['date'].dt.month\n",
    "\n",
    "group_1['weekday'] = group_1['date'].dt.weekday\n",
    "group_2['weekday'] = group_2['date'].dt.weekday\n",
    "\n",
    "group_1['year'] = group_1['date'].dt.year\n",
    "group_2['year'] = group_2['date'].dt.year"
   ]
  },
  {
   "cell_type": "markdown",
   "metadata": {},
   "source": [
    "- Данные разбиваем по годам и смотрим сезонность"
   ]
  },
  {
   "cell_type": "code",
   "execution_count": 77,
   "metadata": {},
   "outputs": [],
   "source": [
    "group_1['m_y'] = group_1['date'].dt.to_period('M').astype(str)"
   ]
  },
  {
   "cell_type": "code",
   "execution_count": 78,
   "metadata": {},
   "outputs": [
    {
     "data": {
      "image/png": "[encoded data removed]",
      "text/plain": [
       "<Figure size 1080x720 with 1 Axes>"
      ]
     },
     "metadata": {
      "needs_background": "light"
     },
     "output_type": "display_data"
    }
   ],
   "source": [
    "group_1.pivot_table(\n",
    "    index='m_y',  \n",
    "    columns='category',  \n",
    "    values='customer_id',  \n",
    "    aggfunc='nunique',  \n",
    ").plot(figsize=(15, 10), grid=True)\n",
    "\n",
    "plt.title('Сезоность в группе 1 по годам.')\n",
    "plt.xlabel('Месяц')\n",
    "plt.ylabel('Количество уникальных покупателей')\n",
    "plt.legend(bbox_to_anchor=(1.02, 1.0), loc='best')\n",
    "plt.show()"
   ]
  },
  {
   "cell_type": "markdown",
   "metadata": {},
   "source": [
    "### Группа 1:\n",
    "\n",
    " - Лидерами за весь период являются растения и товары для сада\n",
    " - Начиная с Марта 2019 категории растения и товары для сада растут (Начинается дачный сезон). На протяжении всего лета эти категории в лидерах.\n",
    " - Начиная с октября 2019 до января 2020 все категории показывают рост. \n",
    " - Хуже всего продаются кухонные принадлежности."
   ]
  },
  {
   "cell_type": "code",
   "execution_count": 79,
   "metadata": {},
   "outputs": [],
   "source": [
    "group_2['m_y'] = group_2['date'].dt.to_period('M').astype(str)"
   ]
  },
  {
   "cell_type": "code",
   "execution_count": 80,
   "metadata": {},
   "outputs": [
    {
     "data": {
      "image/png": "[encoded data removed]",
      "text/plain": [
       "<Figure size 1080x720 with 1 Axes>"
      ]
     },
     "metadata": {
      "needs_background": "light"
     },
     "output_type": "display_data"
    }
   ],
   "source": [
    "group_2.pivot_table(\n",
    "    index='m_y',  \n",
    "    columns='category',  \n",
    "    values='customer_id',  \n",
    "    aggfunc='nunique',  \n",
    ").plot(figsize=(15, 10), grid=True)\n",
    "\n",
    "plt.title('Сезоность в группе 2 по годам.')\n",
    "plt.xlabel('Месяц')\n",
    "plt.ylabel('Количество уникальных покупателей')\n",
    "plt.legend(bbox_to_anchor=(1.02, 1.0), loc='best')\n",
    "plt.show()"
   ]
  },
  {
   "cell_type": "markdown",
   "metadata": {},
   "source": [
    "### Группа 2:\n",
    "\n",
    "- Лидер: Товары для сада и Растерия. \n",
    "- Видна сезонность этих товаров в весенне-летние месяцы начиная с Марта и заканчивая Августом. \n",
    "- Осенью, начиная с Октября виден рост всех товаров. Лидеры так же товары для сада и растения. (Распродажа)\n",
    "- В период с Апреля по Июнь наблюдается рост всех категорий.\n",
    "- Хуже всего продается категория кухонные принадлежности."
   ]
  },
  {
   "cell_type": "code",
   "execution_count": 81,
   "metadata": {},
   "outputs": [],
   "source": [
    "group_3['m_y'] = group_3['date'].dt.to_period('M').astype(str)"
   ]
  },
  {
   "cell_type": "code",
   "execution_count": 82,
   "metadata": {},
   "outputs": [
    {
     "data": {
      "image/png": "[encoded data removed]",
      "text/plain": [
       "<Figure size 1080x720 with 1 Axes>"
      ]
     },
     "metadata": {
      "needs_background": "light"
     },
     "output_type": "display_data"
    }
   ],
   "source": [
    "group_3.pivot_table(\n",
    "    index='m_y',  \n",
    "    columns='category',  \n",
    "    values='customer_id',  \n",
    "    aggfunc='nunique',  \n",
    ").plot(figsize=(15, 10), grid=True)\n",
    "\n",
    "plt.title('Сезоность в группе 3 по годам.')\n",
    "plt.xlabel('Месяц')\n",
    "plt.ylabel('Количество уникальных покупателей')\n",
    "plt.legend(bbox_to_anchor=(1.02, 1.0), loc='best')\n",
    "plt.show()"
   ]
  },
  {
   "cell_type": "markdown",
   "metadata": {},
   "source": [
    "### Группа 3:\n",
    "\n",
    "- Лидер: Товары для сада и Растерия. \n",
    "- Видна сезонность этих товаров в весной и осенью в Ноябре.\n",
    "- В летние месяцы почти все товары продавались одинаково.\n",
    "- Виден спад в Ноябре 2019, скорее всего эти клиенты перестали покупать.\n",
    "- Хуже всего продается категория кухонные принадлежности."
   ]
  },
  {
   "cell_type": "markdown",
   "metadata": {},
   "source": [
    "## Проверка гипотез\n"
   ]
  },
  {
   "cell_type": "markdown",
   "metadata": {},
   "source": [
    "### Гипотеза о различии количества товаров в группах\n",
    "\n",
    "- Н0 : Нет различий в количестве купленных товаров между сегментами\n",
    "- H1:  Есть разница в количестве купленных товаров между сегментами\n",
    "\n",
    "\n",
    "Уровень значимости: 0,05\n",
    "\n",
    "Для проверики используем U-тест Манна-Уитни"
   ]
  },
  {
   "cell_type": "markdown",
   "metadata": {},
   "source": [
    "Добавим столбец с количеством товара для наших групп."
   ]
  },
  {
   "cell_type": "code",
   "execution_count": 83,
   "metadata": {},
   "outputs": [],
   "source": [
    "quantity = data.groupby('customer_id').agg({'quantity':'sum'})\n",
    "group_1 = group_1.merge(quantity, on='customer_id')\n",
    "group_2 = group_2.merge(quantity, on='customer_id')\n",
    "group_3 = group_3.merge(quantity, on='customer_id')"
   ]
  },
  {
   "cell_type": "code",
   "execution_count": 84,
   "metadata": {},
   "outputs": [
    {
     "name": "stdout",
     "output_type": "stream",
     "text": [
      "Отвергаем нулевую гипотезу для сравнения групп А и B\n",
      "Отвергаем нулевую гипотезу для сравнения групп B и C\n",
      "Отвергаем нулевую гипотезу для сравнения групп А и C\n"
     ]
    }
   ],
   "source": [
    "alpha = 0.05 \n",
    "\n",
    "# Проводим тест U-тест Манна-Уитни\n",
    "\n",
    "bonferroni_alpha = alpha / 3\n",
    "\n",
    "results_AB = stats.mannwhitneyu(group_1['quantity'], group_2['quantity'])\n",
    "results_BC = stats.mannwhitneyu(group_2['quantity'], group_3['quantity'])\n",
    "results_AC = stats.mannwhitneyu(group_1['quantity'], group_3['quantity'])\n",
    "\n",
    "\n",
    "if results_AB.pvalue < bonferroni_alpha:\n",
    "    print('Отвергаем нулевую гипотезу для сравнения групп А и B')\n",
    "else:\n",
    "    print(\n",
    "        'Не получилось отвергнуть нулевую гипотезу для сравнения групп А и B'\n",
    "    )\n",
    "\n",
    "if results_BC.pvalue < bonferroni_alpha:\n",
    "    print('Отвергаем нулевую гипотезу для сравнения групп B и C')\n",
    "else:\n",
    "    print(\n",
    "        'Не получилось отвергнуть нулевую гипотезу для сравнения групп B и C'\n",
    "    )\n",
    "\n",
    "if results_AC.pvalue < bonferroni_alpha:\n",
    "    print('Отвергаем нулевую гипотезу для сравнения групп А и C')\n",
    "else:\n",
    "    print(\n",
    "        'Не получилось отвергнуть нулевую гипотезу для сравнения групп А и C'\n",
    "    ) "
   ]
  },
  {
   "cell_type": "markdown",
   "metadata": {},
   "source": [
    "# Вывод: \n",
    "\n",
    " Есть разница в количестве купленных товаров между сегментами"
   ]
  },
  {
   "cell_type": "markdown",
   "metadata": {},
   "source": [
    "### Гипотеза о различии среднего чека в группах"
   ]
  },
  {
   "cell_type": "markdown",
   "metadata": {},
   "source": [
    "Сформируем гипотезу:\n",
    "\n",
    "- Н0 : Нет различий в среднем чеке между сегментами\n",
    "- H1:  Есть разница в среднем чеке между сегментами\n",
    "\n",
    "Уровень значимости: 0,05\n",
    "\n",
    "Для проверики используем U-тест Манна-Уитни"
   ]
  },
  {
   "cell_type": "markdown",
   "metadata": {},
   "source": [
    "Для проверки гипотезы посчитаем средний чек группы 1, 2, 3"
   ]
  },
  {
   "cell_type": "code",
   "execution_count": 85,
   "metadata": {},
   "outputs": [
    {
     "data": {
      "text/html": [
       "<div>\n",
       "<style scoped>\n",
       "    .dataframe tbody tr th:only-of-type {\n",
       "        vertical-align: middle;\n",
       "    }\n",
       "\n",
       "    .dataframe tbody tr th {\n",
       "        vertical-align: top;\n",
       "    }\n",
       "\n",
       "    .dataframe thead th {\n",
       "        text-align: right;\n",
       "    }\n",
       "</style>\n",
       "<table border=\"1\" class=\"dataframe\">\n",
       "  <thead>\n",
       "    <tr style=\"text-align: right;\">\n",
       "      <th></th>\n",
       "      <th>monetary_value_mean</th>\n",
       "    </tr>\n",
       "    <tr>\n",
       "      <th>customer_id</th>\n",
       "      <th></th>\n",
       "    </tr>\n",
       "  </thead>\n",
       "  <tbody>\n",
       "    <tr>\n",
       "      <th>000d6849-084e-4d9f-ac03-37174eaf60c4</th>\n",
       "      <td>2019.000000</td>\n",
       "    </tr>\n",
       "    <tr>\n",
       "      <th>0184f535-b60a-4914-a982-231e3f615206</th>\n",
       "      <td>1044.310345</td>\n",
       "    </tr>\n",
       "    <tr>\n",
       "      <th>01a53da1-c3ae-47cf-916e-7e345fe2f2bc</th>\n",
       "      <td>2019.500000</td>\n",
       "    </tr>\n",
       "    <tr>\n",
       "      <th>01bd5b9a-2b4e-483c-95a3-40b040c392e8</th>\n",
       "      <td>1766.625000</td>\n",
       "    </tr>\n",
       "    <tr>\n",
       "      <th>02a27adc-a1fe-4aaf-9945-1ab779979537</th>\n",
       "      <td>2019.500000</td>\n",
       "    </tr>\n",
       "    <tr>\n",
       "      <th>...</th>\n",
       "      <td>...</td>\n",
       "    </tr>\n",
       "    <tr>\n",
       "      <th>fd9e34ca-13c6-486d-bc47-366fbfe488f8</th>\n",
       "      <td>2019.500000</td>\n",
       "    </tr>\n",
       "    <tr>\n",
       "      <th>fe2ef13a-4c8f-4cad-9c2d-49b535b5857e</th>\n",
       "      <td>2019.500000</td>\n",
       "    </tr>\n",
       "    <tr>\n",
       "      <th>ff31d802-dae6-484d-a3dc-c9723f1cb538</th>\n",
       "      <td>2019.000000</td>\n",
       "    </tr>\n",
       "    <tr>\n",
       "      <th>ff422162-fc4a-4b65-a0e2-17f5095ea2c6</th>\n",
       "      <td>2019.000000</td>\n",
       "    </tr>\n",
       "    <tr>\n",
       "      <th>ff601403-b094-4b86-9ac6-264d725b9277</th>\n",
       "      <td>2019.500000</td>\n",
       "    </tr>\n",
       "  </tbody>\n",
       "</table>\n",
       "<p>478 rows × 1 columns</p>\n",
       "</div>"
      ],
      "text/plain": [
       "                                      monetary_value_mean\n",
       "customer_id                                              \n",
       "000d6849-084e-4d9f-ac03-37174eaf60c4          2019.000000\n",
       "0184f535-b60a-4914-a982-231e3f615206          1044.310345\n",
       "01a53da1-c3ae-47cf-916e-7e345fe2f2bc          2019.500000\n",
       "01bd5b9a-2b4e-483c-95a3-40b040c392e8          1766.625000\n",
       "02a27adc-a1fe-4aaf-9945-1ab779979537          2019.500000\n",
       "...                                                   ...\n",
       "fd9e34ca-13c6-486d-bc47-366fbfe488f8          2019.500000\n",
       "fe2ef13a-4c8f-4cad-9c2d-49b535b5857e          2019.500000\n",
       "ff31d802-dae6-484d-a3dc-c9723f1cb538          2019.000000\n",
       "ff422162-fc4a-4b65-a0e2-17f5095ea2c6          2019.000000\n",
       "ff601403-b094-4b86-9ac6-264d725b9277          2019.500000\n",
       "\n",
       "[478 rows x 1 columns]"
      ]
     },
     "execution_count": 85,
     "metadata": {},
     "output_type": "execute_result"
    }
   ],
   "source": [
    "group_1['monetary_value_mean'] = group_1['monetary_value'] / group_1['quantity']\n",
    "avg_check_group_1 = group_1.groupby('customer_id').agg({'monetary_value_mean': 'mean'})\n",
    "avg_check_group_1"
   ]
  },
  {
   "cell_type": "code",
   "execution_count": 86,
   "metadata": {},
   "outputs": [
    {
     "data": {
      "text/html": [
       "<div>\n",
       "<style scoped>\n",
       "    .dataframe tbody tr th:only-of-type {\n",
       "        vertical-align: middle;\n",
       "    }\n",
       "\n",
       "    .dataframe tbody tr th {\n",
       "        vertical-align: top;\n",
       "    }\n",
       "\n",
       "    .dataframe thead th {\n",
       "        text-align: right;\n",
       "    }\n",
       "</style>\n",
       "<table border=\"1\" class=\"dataframe\">\n",
       "  <thead>\n",
       "    <tr style=\"text-align: right;\">\n",
       "      <th></th>\n",
       "      <th>monetary_value_mean</th>\n",
       "    </tr>\n",
       "    <tr>\n",
       "      <th>customer_id</th>\n",
       "      <th></th>\n",
       "    </tr>\n",
       "  </thead>\n",
       "  <tbody>\n",
       "    <tr>\n",
       "      <th>005ba170-45e8-42de-93f7-192481ae2659</th>\n",
       "      <td>1345.666667</td>\n",
       "    </tr>\n",
       "    <tr>\n",
       "      <th>00c0f92a-121a-4883-a78d-2c7b5fe187de</th>\n",
       "      <td>2019.000000</td>\n",
       "    </tr>\n",
       "    <tr>\n",
       "      <th>00cd704a-a65c-4865-b39a-779f1b4f1d1a</th>\n",
       "      <td>2019.000000</td>\n",
       "    </tr>\n",
       "    <tr>\n",
       "      <th>00ff5327-0fba-481c-8a07-47a95093a213</th>\n",
       "      <td>2019.000000</td>\n",
       "    </tr>\n",
       "    <tr>\n",
       "      <th>01c31cf3-cdb3-4b90-a2ef-ebe1b9e1fc33</th>\n",
       "      <td>2018.000000</td>\n",
       "    </tr>\n",
       "    <tr>\n",
       "      <th>...</th>\n",
       "      <td>...</td>\n",
       "    </tr>\n",
       "    <tr>\n",
       "      <th>fd003d94-d728-49ca-9b6a-f17a43786d8a</th>\n",
       "      <td>2019.000000</td>\n",
       "    </tr>\n",
       "    <tr>\n",
       "      <th>fd723976-e0e0-41bc-9f08-e81436ebfff3</th>\n",
       "      <td>2018.500000</td>\n",
       "    </tr>\n",
       "    <tr>\n",
       "      <th>fd81297f-0495-4045-be04-d65061ab5e98</th>\n",
       "      <td>2019.000000</td>\n",
       "    </tr>\n",
       "    <tr>\n",
       "      <th>fe3e6382-3272-4045-8601-c9acfc08006f</th>\n",
       "      <td>2019.000000</td>\n",
       "    </tr>\n",
       "    <tr>\n",
       "      <th>fef19457-5e7b-4d5d-b031-806041bc251a</th>\n",
       "      <td>2018.500000</td>\n",
       "    </tr>\n",
       "  </tbody>\n",
       "</table>\n",
       "<p>659 rows × 1 columns</p>\n",
       "</div>"
      ],
      "text/plain": [
       "                                      monetary_value_mean\n",
       "customer_id                                              \n",
       "005ba170-45e8-42de-93f7-192481ae2659          1345.666667\n",
       "00c0f92a-121a-4883-a78d-2c7b5fe187de          2019.000000\n",
       "00cd704a-a65c-4865-b39a-779f1b4f1d1a          2019.000000\n",
       "00ff5327-0fba-481c-8a07-47a95093a213          2019.000000\n",
       "01c31cf3-cdb3-4b90-a2ef-ebe1b9e1fc33          2018.000000\n",
       "...                                                   ...\n",
       "fd003d94-d728-49ca-9b6a-f17a43786d8a          2019.000000\n",
       "fd723976-e0e0-41bc-9f08-e81436ebfff3          2018.500000\n",
       "fd81297f-0495-4045-be04-d65061ab5e98          2019.000000\n",
       "fe3e6382-3272-4045-8601-c9acfc08006f          2019.000000\n",
       "fef19457-5e7b-4d5d-b031-806041bc251a          2018.500000\n",
       "\n",
       "[659 rows x 1 columns]"
      ]
     },
     "execution_count": 86,
     "metadata": {},
     "output_type": "execute_result"
    }
   ],
   "source": [
    "group_2['monetary_value_mean'] = group_2['monetary_value'] / group_2['quantity']\n",
    "avg_check_group_2 = group_2.groupby('customer_id').agg({'monetary_value_mean': 'mean'})\n",
    "avg_check_group_2"
   ]
  },
  {
   "cell_type": "code",
   "execution_count": 87,
   "metadata": {},
   "outputs": [
    {
     "data": {
      "text/html": [
       "<div>\n",
       "<style scoped>\n",
       "    .dataframe tbody tr th:only-of-type {\n",
       "        vertical-align: middle;\n",
       "    }\n",
       "\n",
       "    .dataframe tbody tr th {\n",
       "        vertical-align: top;\n",
       "    }\n",
       "\n",
       "    .dataframe thead th {\n",
       "        text-align: right;\n",
       "    }\n",
       "</style>\n",
       "<table border=\"1\" class=\"dataframe\">\n",
       "  <thead>\n",
       "    <tr style=\"text-align: right;\">\n",
       "      <th></th>\n",
       "      <th>monetary_value_mean</th>\n",
       "    </tr>\n",
       "    <tr>\n",
       "      <th>customer_id</th>\n",
       "      <th></th>\n",
       "    </tr>\n",
       "  </thead>\n",
       "  <tbody>\n",
       "    <tr>\n",
       "      <th>001cee7f-0b29-4716-b202-0042213ab038</th>\n",
       "      <td>2019.00</td>\n",
       "    </tr>\n",
       "    <tr>\n",
       "      <th>00299f34-5385-4d13-9aea-c80b81658e1b</th>\n",
       "      <td>1009.50</td>\n",
       "    </tr>\n",
       "    <tr>\n",
       "      <th>002d4d3a-4a59-406b-86ec-c3314357e498</th>\n",
       "      <td>2019.00</td>\n",
       "    </tr>\n",
       "    <tr>\n",
       "      <th>003bbd39-0000-41ff-b7f9-2ddaec152037</th>\n",
       "      <td>1009.50</td>\n",
       "    </tr>\n",
       "    <tr>\n",
       "      <th>004d24e9-4a6c-4d0e-8727-8391dfd4b43a</th>\n",
       "      <td>168.25</td>\n",
       "    </tr>\n",
       "    <tr>\n",
       "      <th>...</th>\n",
       "      <td>...</td>\n",
       "    </tr>\n",
       "    <tr>\n",
       "      <th>ff0c73c3-6b62-4e67-8e12-bb83ed1851d5</th>\n",
       "      <td>2019.00</td>\n",
       "    </tr>\n",
       "    <tr>\n",
       "      <th>ffaeab76-3a8d-49ee-860f-17273b2fc8a2</th>\n",
       "      <td>2019.00</td>\n",
       "    </tr>\n",
       "    <tr>\n",
       "      <th>ffb5976a-7a4d-460b-95c4-5ffaba31cb24</th>\n",
       "      <td>2018.00</td>\n",
       "    </tr>\n",
       "    <tr>\n",
       "      <th>ffb80538-3fda-4351-8ea9-9d2bec58bb07</th>\n",
       "      <td>2019.00</td>\n",
       "    </tr>\n",
       "    <tr>\n",
       "      <th>ffe82299-3f5b-4214-87fe-3d36ecccfac3</th>\n",
       "      <td>2019.00</td>\n",
       "    </tr>\n",
       "  </tbody>\n",
       "</table>\n",
       "<p>1275 rows × 1 columns</p>\n",
       "</div>"
      ],
      "text/plain": [
       "                                      monetary_value_mean\n",
       "customer_id                                              \n",
       "001cee7f-0b29-4716-b202-0042213ab038              2019.00\n",
       "00299f34-5385-4d13-9aea-c80b81658e1b              1009.50\n",
       "002d4d3a-4a59-406b-86ec-c3314357e498              2019.00\n",
       "003bbd39-0000-41ff-b7f9-2ddaec152037              1009.50\n",
       "004d24e9-4a6c-4d0e-8727-8391dfd4b43a               168.25\n",
       "...                                                   ...\n",
       "ff0c73c3-6b62-4e67-8e12-bb83ed1851d5              2019.00\n",
       "ffaeab76-3a8d-49ee-860f-17273b2fc8a2              2019.00\n",
       "ffb5976a-7a4d-460b-95c4-5ffaba31cb24              2018.00\n",
       "ffb80538-3fda-4351-8ea9-9d2bec58bb07              2019.00\n",
       "ffe82299-3f5b-4214-87fe-3d36ecccfac3              2019.00\n",
       "\n",
       "[1275 rows x 1 columns]"
      ]
     },
     "execution_count": 87,
     "metadata": {},
     "output_type": "execute_result"
    }
   ],
   "source": [
    "group_3['monetary_value_mean'] = group_3['monetary_value'] / group_3['quantity']\n",
    "avg_check_group_3 = group_3.groupby('customer_id').agg({'monetary_value_mean': 'mean'})\n",
    "avg_check_group_3"
   ]
  },
  {
   "cell_type": "code",
   "execution_count": 88,
   "metadata": {},
   "outputs": [
    {
     "name": "stdout",
     "output_type": "stream",
     "text": [
      "Отвергаем нулевую гипотезу для сравнения групп А и B\n",
      "Отвергаем нулевую гипотезу для сравнения групп B и C\n",
      "Отвергаем нулевую гипотезу для сравнения групп А и C\n"
     ]
    }
   ],
   "source": [
    "alpha = 0.05 \n",
    "\n",
    "bonferroni_alpha = alpha / 3\n",
    "\n",
    "results_AB = stats.mannwhitneyu(avg_check_group_1, avg_check_group_2)\n",
    "results_BC = stats.mannwhitneyu(avg_check_group_2, avg_check_group_3)\n",
    "results_AC = stats.mannwhitneyu(avg_check_group_1, avg_check_group_3)\n",
    "\n",
    "\n",
    "if results_AB.pvalue < bonferroni_alpha:\n",
    "    print('Отвергаем нулевую гипотезу для сравнения групп А и B')\n",
    "else:\n",
    "    print(\n",
    "        'Не получилось отвергнуть нулевую гипотезу для сравнения групп А и B'\n",
    "    )\n",
    "\n",
    "if results_BC.pvalue < bonferroni_alpha:\n",
    "    print('Отвергаем нулевую гипотезу для сравнения групп B и C')\n",
    "else:\n",
    "    print(\n",
    "        'Не получилось отвергнуть нулевую гипотезу для сравнения групп B и C'\n",
    "    )\n",
    "\n",
    "if results_AC.pvalue < bonferroni_alpha:\n",
    "    print('Отвергаем нулевую гипотезу для сравнения групп А и C')\n",
    "else:\n",
    "    print(\n",
    "        'Не получилось отвергнуть нулевую гипотезу для сравнения групп А и C'\n",
    "    ) "
   ]
  },
  {
   "cell_type": "markdown",
   "metadata": {},
   "source": [
    "# Вывод:\n",
    "\n",
    "Есть разница в среднем чеке между сегментами"
   ]
  },
  {
   "cell_type": "markdown",
   "metadata": {},
   "source": [
    "## Итоговые выводы:\n",
    "\n",
    "### Предобработка данных:\n",
    "\n",
    "- Выгрузили данные;\n",
    "- Привели формат даты к корректному;\n",
    "- Привели названия товаров к нижнему регистру;\n",
    "- Проверили данные на явные, скрытые и неявные дубликаты;\n",
    "- Удалили дубликаты;\n",
    "\n",
    "\n",
    "### Исследовательский анализ данных\n",
    "\n",
    "- Данные предоставлены за период с 01.10.2018 по 31.01.2020;\n",
    "- Пиковый период продаж с Апреля по Июнь и с Сентября по Февраль;\n",
    "- Большинство заказов происходят в будни;\n",
    "- Всего у нас 3492 эникальных заказа и 2413 уникальных пользователя;\n",
    "- За период было продано 14233 товара;\n",
    "- Основная часть заказов до 300у.е, большая часть заказов находится в сегменте до 2000у.е;\n",
    "- Максимальный чек составил 49432, минимальный 15, в среднем клиенты покупают на сумму 1173;\n",
    "- В среднем клиенты тратят 1624, минимально 15, максимум 159508;\n",
    "- Минимтально клиенты делают 1 заказ с одним товаром, максимально 126 заказов с 334 товарами, в среднем за период было куплено 5-6 товаров и большинство клиентов сделали 1-2 заказа;\n",
    "\n",
    "\n",
    "### Сегментирование покупателей по профилю потребления.\n",
    "\n",
    "- Проведен RFM анализ и выделены 3 группы клиентов:\n",
    "\n",
    "1. 133, 213, 222, 223, 233, 313, 323, 333 - эти клиенты чаще заходят в магазин и недавно делали покупки, назовем их \"Золотые\"\n",
    "\n",
    "\n",
    "2. 113, 122, 123, 212, 221, 232, 321, 322 - эти клиенты покупают на большие и средние суммы, но заходили в магазин давно или редко, назавом их \"Постоянные\"\n",
    "\n",
    "\n",
    "2. 111, 112, 121, 131, 211, 231, 311, 312 - эти клиенты заходили в магазин давно, покупают редко и на небольшую сумму, назовем их \"Малоактивные\"\n",
    "    \n",
    "### Покупки в зависимости от сезонности\n",
    "\n",
    "- Во всех группах лидерами являются категории растения и товары для сада. На них сильнее всего влияет сезонность.\n",
    "- Сезонность в группах видна весной(Февраль-Март) и начиная с Сентября - Октября.\n",
    "- Во третьей группе рост продолжается более долго, но к Декабрю 2019 покупатели перестают вообще покупать.\n",
    "- Хуже всего в обеих группах продаются кухонные принадлежности.\n",
    "\n",
    "### Проверка гипотез\n",
    "\n",
    "Для проверки были составлены 2 гипотезы:\n",
    "\n",
    "1. Гипотеза о различии количества товаров в группах\n",
    "\n",
    "- Н0 : Нет различий в количестве купленных товаров между сегментами\n",
    "- H1: Есть разница в количестве купленных товаров между сегментами\n",
    "\n",
    "Уровень значимости: 0,05\n",
    "\n",
    "Для проверики используем U-тест Манна-Уитни с поправкой Бонферрони\n",
    "\n",
    "Ее результат: Есть разница в количестве купленных товаров между сегментами\n",
    "\n",
    "2. Гипотеза о различии среднего чека в группах\n",
    "\n",
    "- Н0 : Нет различий в среднем чеке между сегментами\n",
    "- H1:  Есть разница в среднем чеке между сегментами\n",
    "\n",
    "Уровень значимости: 0,05\n",
    "\n",
    "Для проверики используем U-тест Манна-Уитни с поправкой Бонферрони\n",
    "\n",
    "\n",
    "Ее результат: Есть разница в среднем чеке между сегментами\n",
    "\n",
    "### Рекомендации:\n",
    "\n",
    "Группа 1:Данная группа часто заходит в магазин и делает покупки\n",
    " \n",
    "     - Чаще всего покупаются категории: Товары для сада, Растения и Товары для дома.\n",
    "     - Меньше всего данная группа покупает кухонные принадлежности.\n",
    "     - Сезон для это группы: с Марта по Сентябрь (Растения и товары для сада) и с Октября до Декабря (Все категории)\n",
    "     - В конце Января сделать расслыку с предстоящей сезонной распродажей Растений и Товаров для сада\n",
    "     - Предложить скидку на следующию покупку категории кухонные принадлежности, чтобы поднять продажи этой категории\n",
    "     - Получить обратную связь по качеству товаров и работе самого магазина.\n",
    "     \n",
    "Группа 2: Эти клиенты покупают на большие и средние суммы, но заходили в магазин давно или редко\n",
    "\n",
    "     - Чаще всего покупаются категории: Товары для сада, Растения.\n",
    "     - Меньше всего данная группа покупает кухонные принадлежности.\n",
    "     - Сезон этой группы с Января по Апрель и с Октбря по Декбрь\n",
    "     - В Январе сделать рассылу о старте распродажи растений и товаов для сада.\n",
    "     - Получить обратную связь, почему эта категория перестала заходить на сайт\n",
    "     - Сделать опрос о качестве работы сайта, удобстве пользования.\n",
    "     - Предоставить бонус/скидку при совершении покупки после перерыва.\n",
    "     \n",
    "     \n",
    "Группа 3: Эти клиенты заходили в магазин давно, покупают редко и на небольшую сумму\n",
    "\n",
    "     - Лидер: Товары для сада и Растерия. \n",
    "     - Видна сезонность этих товаров в весной и осенью в Ноябре.\n",
    "     - В летние месяцы почти все товары продавались одинаково.\n",
    "     - Виден спад в Ноябре 2019, скорее всего эти клиенты перестали покупать.\n",
    "     - Хуже всего продается категория кухонные принадлежности.\n",
    "     - Сделать рассылку-опрос с целью сбора обратной связи. Так получится выявить, почему данные клиенты мало заходят на сайт и покупают на небольшие суммы.\n",
    "     - Предложить скидку на покупку 2-3 товаров за раз. Так получится поднять продажи.\n",
    "     - Провести рассылку-конкурс. При совершении 5-6 покупок - возможность выиграть призы.\n",
    "     - Провести \"закрытую распродажу\" для тех, кто покупает редко, но на больше суммы.\n",
    "     - Предложить скидку на следующию покупку категории кухонные принадлежности, чтобы поднять продажи этой категории."
   ]
  },
  {
   "cell_type": "markdown",
   "metadata": {},
   "source": [
    "## Ссылка на презентацию: https://drive.google.com/file/d/1Ga3tOq5DP9Iolpv9Ho7dR4RgI6IkpNW8/view?usp=sharing"
   ]
  }
 ],
 "metadata": {
  "ExecuteTimeLog": [
   {
    "duration": 1517,
    "start_time": "2024-03-05T08:41:34.637Z"
   },
   {
    "duration": 151,
    "start_time": "2024-03-05T08:41:49.123Z"
   },
   {
    "duration": 150,
    "start_time": "2024-03-05T08:42:23.071Z"
   },
   {
    "duration": 13,
    "start_time": "2024-03-05T08:43:17.804Z"
   },
   {
    "duration": 15,
    "start_time": "2024-03-05T08:45:20.779Z"
   },
   {
    "duration": 13,
    "start_time": "2024-03-05T08:46:11.548Z"
   },
   {
    "duration": 12,
    "start_time": "2024-03-05T08:46:18.843Z"
   },
   {
    "duration": 10,
    "start_time": "2024-03-05T08:46:53.611Z"
   },
   {
    "duration": 8,
    "start_time": "2024-03-05T08:49:12.988Z"
   },
   {
    "duration": 1315,
    "start_time": "2024-03-05T08:57:10.247Z"
   },
   {
    "duration": 54,
    "start_time": "2024-03-05T08:57:11.563Z"
   },
   {
    "duration": 13,
    "start_time": "2024-03-05T08:57:11.618Z"
   },
   {
    "duration": 19,
    "start_time": "2024-03-05T08:57:11.633Z"
   },
   {
    "duration": 12,
    "start_time": "2024-03-05T08:57:11.653Z"
   },
   {
    "duration": 33,
    "start_time": "2024-03-05T08:57:11.667Z"
   },
   {
    "duration": 11,
    "start_time": "2024-03-05T08:57:11.702Z"
   },
   {
    "duration": 13,
    "start_time": "2024-03-05T08:57:11.715Z"
   },
   {
    "duration": 10,
    "start_time": "2024-03-05T09:02:10.541Z"
   },
   {
    "duration": 9,
    "start_time": "2024-03-05T09:15:52.934Z"
   },
   {
    "duration": 10,
    "start_time": "2024-03-05T09:16:01.331Z"
   },
   {
    "duration": 15,
    "start_time": "2024-03-05T09:17:50.934Z"
   },
   {
    "duration": 11,
    "start_time": "2024-03-05T09:23:13.454Z"
   },
   {
    "duration": 10,
    "start_time": "2024-03-05T09:24:26.359Z"
   },
   {
    "duration": 12,
    "start_time": "2024-03-05T09:24:34.764Z"
   },
   {
    "duration": 11,
    "start_time": "2024-03-05T09:24:44.896Z"
   },
   {
    "duration": 11,
    "start_time": "2024-03-05T09:24:52.782Z"
   },
   {
    "duration": 13,
    "start_time": "2024-03-05T09:26:45.259Z"
   },
   {
    "duration": 8,
    "start_time": "2024-03-05T09:27:15.017Z"
   },
   {
    "duration": 6,
    "start_time": "2024-03-05T09:28:46.083Z"
   },
   {
    "duration": 13,
    "start_time": "2024-03-05T09:29:32.993Z"
   },
   {
    "duration": 6,
    "start_time": "2024-03-05T09:30:15.203Z"
   },
   {
    "duration": 12,
    "start_time": "2024-03-05T09:30:19.553Z"
   },
   {
    "duration": 13,
    "start_time": "2024-03-05T09:31:28.922Z"
   },
   {
    "duration": 9,
    "start_time": "2024-03-05T09:32:05.077Z"
   },
   {
    "duration": 13,
    "start_time": "2024-03-05T09:32:12.092Z"
   },
   {
    "duration": 11,
    "start_time": "2024-03-05T09:33:21.461Z"
   },
   {
    "duration": 11,
    "start_time": "2024-03-05T09:33:28.208Z"
   },
   {
    "duration": 19,
    "start_time": "2024-03-05T09:34:16.758Z"
   },
   {
    "duration": 11,
    "start_time": "2024-03-05T09:34:39.325Z"
   },
   {
    "duration": 100,
    "start_time": "2024-03-05T09:37:11.846Z"
   },
   {
    "duration": 9,
    "start_time": "2024-03-05T09:37:31.299Z"
   },
   {
    "duration": 1284,
    "start_time": "2024-03-05T09:37:38.287Z"
   },
   {
    "duration": 48,
    "start_time": "2024-03-05T09:37:39.574Z"
   },
   {
    "duration": 13,
    "start_time": "2024-03-05T09:37:39.626Z"
   },
   {
    "duration": 12,
    "start_time": "2024-03-05T09:37:39.641Z"
   },
   {
    "duration": 14,
    "start_time": "2024-03-05T09:37:39.654Z"
   },
   {
    "duration": 16,
    "start_time": "2024-03-05T09:37:39.669Z"
   },
   {
    "duration": 24,
    "start_time": "2024-03-05T09:37:39.687Z"
   },
   {
    "duration": 30,
    "start_time": "2024-03-05T09:37:39.712Z"
   },
   {
    "duration": 8,
    "start_time": "2024-03-05T09:37:39.745Z"
   },
   {
    "duration": 31,
    "start_time": "2024-03-05T09:37:39.754Z"
   },
   {
    "duration": 20,
    "start_time": "2024-03-05T09:37:39.787Z"
   },
   {
    "duration": 9,
    "start_time": "2024-03-05T09:37:39.808Z"
   },
   {
    "duration": 16,
    "start_time": "2024-03-05T09:37:39.819Z"
   },
   {
    "duration": 9,
    "start_time": "2024-03-05T09:37:39.836Z"
   },
   {
    "duration": 13,
    "start_time": "2024-03-05T09:37:39.847Z"
   },
   {
    "duration": 27,
    "start_time": "2024-03-05T09:37:39.862Z"
   },
   {
    "duration": 12,
    "start_time": "2024-03-05T09:40:19.045Z"
   },
   {
    "duration": 14,
    "start_time": "2024-03-05T09:41:53.185Z"
   },
   {
    "duration": 6,
    "start_time": "2024-03-05T11:05:07.353Z"
   },
   {
    "duration": 4,
    "start_time": "2024-03-05T11:05:27.815Z"
   },
   {
    "duration": 7,
    "start_time": "2024-03-05T11:06:06.608Z"
   },
   {
    "duration": 6,
    "start_time": "2024-03-05T11:07:04.181Z"
   },
   {
    "duration": 203,
    "start_time": "2024-03-05T11:07:16.493Z"
   },
   {
    "duration": 7,
    "start_time": "2024-03-05T11:10:30.771Z"
   },
   {
    "duration": 189,
    "start_time": "2024-03-05T11:10:40.474Z"
   },
   {
    "duration": 187,
    "start_time": "2024-03-05T11:12:08.915Z"
   },
   {
    "duration": 200,
    "start_time": "2024-03-05T11:12:24.056Z"
   },
   {
    "duration": 177,
    "start_time": "2024-03-05T11:12:34.886Z"
   },
   {
    "duration": 166,
    "start_time": "2024-03-05T11:12:41.196Z"
   },
   {
    "duration": 171,
    "start_time": "2024-03-05T11:18:03.272Z"
   },
   {
    "duration": 174,
    "start_time": "2024-03-05T11:33:59.144Z"
   },
   {
    "duration": 267,
    "start_time": "2024-03-05T11:34:09.757Z"
   },
   {
    "duration": 172,
    "start_time": "2024-03-05T11:34:22.127Z"
   },
   {
    "duration": 4,
    "start_time": "2024-03-05T11:36:05.864Z"
   },
   {
    "duration": 128,
    "start_time": "2024-03-05T11:36:21.447Z"
   },
   {
    "duration": 1615,
    "start_time": "2024-03-05T11:36:37.229Z"
   },
   {
    "duration": 7,
    "start_time": "2024-03-05T11:36:45.056Z"
   },
   {
    "duration": 4,
    "start_time": "2024-03-05T11:38:31.376Z"
   },
   {
    "duration": 12,
    "start_time": "2024-03-05T11:55:30.127Z"
   },
   {
    "duration": 17,
    "start_time": "2024-03-05T11:55:59.166Z"
   },
   {
    "duration": 6,
    "start_time": "2024-03-05T12:13:28.085Z"
   },
   {
    "duration": 12,
    "start_time": "2024-03-05T12:14:11.280Z"
   },
   {
    "duration": 13,
    "start_time": "2024-03-05T12:15:27.608Z"
   },
   {
    "duration": 12,
    "start_time": "2024-03-05T12:16:01.737Z"
   },
   {
    "duration": 12,
    "start_time": "2024-03-05T12:16:19.088Z"
   },
   {
    "duration": 8,
    "start_time": "2024-03-05T12:16:29.152Z"
   },
   {
    "duration": 8,
    "start_time": "2024-03-05T12:16:32.784Z"
   },
   {
    "duration": 8,
    "start_time": "2024-03-05T12:16:38.543Z"
   },
   {
    "duration": 11,
    "start_time": "2024-03-05T12:16:48.551Z"
   },
   {
    "duration": 14,
    "start_time": "2024-03-05T12:17:01.576Z"
   },
   {
    "duration": 13,
    "start_time": "2024-03-05T12:17:10.328Z"
   },
   {
    "duration": 12,
    "start_time": "2024-03-05T12:18:42.688Z"
   },
   {
    "duration": 7,
    "start_time": "2024-03-05T12:19:38.632Z"
   },
   {
    "duration": 12,
    "start_time": "2024-03-05T12:20:03.944Z"
   },
   {
    "duration": 15,
    "start_time": "2024-03-05T12:20:59.264Z"
   },
   {
    "duration": 172,
    "start_time": "2024-03-05T12:21:39.635Z"
   },
   {
    "duration": 156,
    "start_time": "2024-03-05T12:21:44.090Z"
   },
   {
    "duration": 185,
    "start_time": "2024-03-05T12:21:50.266Z"
   },
   {
    "duration": 192,
    "start_time": "2024-03-05T12:23:20.425Z"
   },
   {
    "duration": 204,
    "start_time": "2024-03-05T12:23:25.704Z"
   },
   {
    "duration": 175,
    "start_time": "2024-03-05T12:23:38.769Z"
   },
   {
    "duration": 167,
    "start_time": "2024-03-05T12:23:47.920Z"
   },
   {
    "duration": 6,
    "start_time": "2024-03-05T12:37:33.378Z"
   },
   {
    "duration": 1184,
    "start_time": "2024-03-05T12:39:02.397Z"
   },
   {
    "duration": 15,
    "start_time": "2024-03-05T12:40:00.930Z"
   },
   {
    "duration": 415,
    "start_time": "2024-03-05T12:42:43.061Z"
   },
   {
    "duration": 430,
    "start_time": "2024-03-05T12:43:17.824Z"
   },
   {
    "duration": 1307,
    "start_time": "2024-03-05T12:43:23.584Z"
   },
   {
    "duration": 50,
    "start_time": "2024-03-05T12:43:24.893Z"
   },
   {
    "duration": 13,
    "start_time": "2024-03-05T12:43:24.945Z"
   },
   {
    "duration": 16,
    "start_time": "2024-03-05T12:43:24.960Z"
   },
   {
    "duration": 14,
    "start_time": "2024-03-05T12:43:24.977Z"
   },
   {
    "duration": 21,
    "start_time": "2024-03-05T12:43:24.992Z"
   },
   {
    "duration": 14,
    "start_time": "2024-03-05T12:43:25.014Z"
   },
   {
    "duration": 25,
    "start_time": "2024-03-05T12:43:25.029Z"
   },
   {
    "duration": 7,
    "start_time": "2024-03-05T12:43:25.055Z"
   },
   {
    "duration": 10,
    "start_time": "2024-03-05T12:43:25.065Z"
   },
   {
    "duration": 7,
    "start_time": "2024-03-05T12:43:25.080Z"
   },
   {
    "duration": 8,
    "start_time": "2024-03-05T12:43:25.089Z"
   },
   {
    "duration": 14,
    "start_time": "2024-03-05T12:43:25.098Z"
   },
   {
    "duration": 29,
    "start_time": "2024-03-05T12:43:25.113Z"
   },
   {
    "duration": 36,
    "start_time": "2024-03-05T12:43:25.143Z"
   },
   {
    "duration": 23,
    "start_time": "2024-03-05T12:43:25.181Z"
   },
   {
    "duration": 18,
    "start_time": "2024-03-05T12:43:25.205Z"
   },
   {
    "duration": 4,
    "start_time": "2024-03-05T12:43:25.224Z"
   },
   {
    "duration": 10,
    "start_time": "2024-03-05T12:43:25.229Z"
   },
   {
    "duration": 22,
    "start_time": "2024-03-05T12:43:25.240Z"
   },
   {
    "duration": 197,
    "start_time": "2024-03-05T12:43:25.264Z"
   },
   {
    "duration": 5,
    "start_time": "2024-03-05T12:43:25.463Z"
   },
   {
    "duration": 220,
    "start_time": "2024-03-05T12:43:25.479Z"
   },
   {
    "duration": 183,
    "start_time": "2024-03-05T12:43:25.700Z"
   },
   {
    "duration": 4,
    "start_time": "2024-03-05T12:43:25.885Z"
   },
   {
    "duration": 7,
    "start_time": "2024-03-05T12:43:25.891Z"
   },
   {
    "duration": 12,
    "start_time": "2024-03-05T12:43:25.900Z"
   },
   {
    "duration": 8,
    "start_time": "2024-03-05T12:43:25.915Z"
   },
   {
    "duration": 19,
    "start_time": "2024-03-05T12:43:25.925Z"
   },
   {
    "duration": 26,
    "start_time": "2024-03-05T12:43:25.945Z"
   },
   {
    "duration": 9,
    "start_time": "2024-03-05T12:43:25.972Z"
   },
   {
    "duration": 14,
    "start_time": "2024-03-05T12:43:25.982Z"
   },
   {
    "duration": 13,
    "start_time": "2024-03-05T12:43:25.997Z"
   },
   {
    "duration": 202,
    "start_time": "2024-03-05T12:43:26.012Z"
   },
   {
    "duration": 3,
    "start_time": "2024-03-05T12:43:26.216Z"
   },
   {
    "duration": 578,
    "start_time": "2024-03-05T12:43:26.221Z"
   },
   {
    "duration": 415,
    "start_time": "2024-03-05T12:43:59.570Z"
   },
   {
    "duration": 416,
    "start_time": "2024-03-05T12:44:15.989Z"
   },
   {
    "duration": 447,
    "start_time": "2024-03-05T12:46:01.008Z"
   },
   {
    "duration": 10,
    "start_time": "2024-03-05T12:49:07.012Z"
   },
   {
    "duration": 1313,
    "start_time": "2024-03-05T12:49:16.156Z"
   },
   {
    "duration": 50,
    "start_time": "2024-03-05T12:49:17.471Z"
   },
   {
    "duration": 14,
    "start_time": "2024-03-05T12:49:17.522Z"
   },
   {
    "duration": 14,
    "start_time": "2024-03-05T12:49:17.538Z"
   },
   {
    "duration": 14,
    "start_time": "2024-03-05T12:49:17.553Z"
   },
   {
    "duration": 15,
    "start_time": "2024-03-05T12:49:17.568Z"
   },
   {
    "duration": 10,
    "start_time": "2024-03-05T12:49:17.585Z"
   },
   {
    "duration": 18,
    "start_time": "2024-03-05T12:49:17.596Z"
   },
   {
    "duration": 6,
    "start_time": "2024-03-05T12:49:17.616Z"
   },
   {
    "duration": 8,
    "start_time": "2024-03-05T12:49:17.625Z"
   },
   {
    "duration": 6,
    "start_time": "2024-03-05T12:49:17.635Z"
   },
   {
    "duration": 8,
    "start_time": "2024-03-05T12:49:17.643Z"
   },
   {
    "duration": 39,
    "start_time": "2024-03-05T12:49:17.652Z"
   },
   {
    "duration": 5,
    "start_time": "2024-03-05T12:49:17.693Z"
   },
   {
    "duration": 15,
    "start_time": "2024-03-05T12:49:17.699Z"
   },
   {
    "duration": 12,
    "start_time": "2024-03-05T12:49:17.716Z"
   },
   {
    "duration": 25,
    "start_time": "2024-03-05T12:49:17.729Z"
   },
   {
    "duration": 4,
    "start_time": "2024-03-05T12:49:17.756Z"
   },
   {
    "duration": 23,
    "start_time": "2024-03-05T12:49:17.761Z"
   },
   {
    "duration": 15,
    "start_time": "2024-03-05T12:49:17.785Z"
   },
   {
    "duration": 197,
    "start_time": "2024-03-05T12:49:17.802Z"
   },
   {
    "duration": 5,
    "start_time": "2024-03-05T12:49:18.001Z"
   },
   {
    "duration": 191,
    "start_time": "2024-03-05T12:49:18.008Z"
   },
   {
    "duration": 183,
    "start_time": "2024-03-05T12:49:18.200Z"
   },
   {
    "duration": 4,
    "start_time": "2024-03-05T12:49:18.385Z"
   },
   {
    "duration": 9,
    "start_time": "2024-03-05T12:49:18.390Z"
   },
   {
    "duration": 4,
    "start_time": "2024-03-05T12:49:18.401Z"
   },
   {
    "duration": 12,
    "start_time": "2024-03-05T12:49:18.408Z"
   },
   {
    "duration": 13,
    "start_time": "2024-03-05T12:49:18.421Z"
   },
   {
    "duration": 16,
    "start_time": "2024-03-05T12:49:18.436Z"
   },
   {
    "duration": 33,
    "start_time": "2024-03-05T12:49:18.454Z"
   },
   {
    "duration": 12,
    "start_time": "2024-03-05T12:49:18.489Z"
   },
   {
    "duration": 14,
    "start_time": "2024-03-05T12:49:18.503Z"
   },
   {
    "duration": 243,
    "start_time": "2024-03-05T12:49:18.519Z"
   },
   {
    "duration": 4,
    "start_time": "2024-03-05T12:49:18.764Z"
   },
   {
    "duration": 496,
    "start_time": "2024-03-05T12:49:18.770Z"
   },
   {
    "duration": 415,
    "start_time": "2024-03-05T12:49:49.162Z"
   },
   {
    "duration": 16,
    "start_time": "2024-03-05T12:50:21.608Z"
   },
   {
    "duration": 13,
    "start_time": "2024-03-05T12:50:35.524Z"
   },
   {
    "duration": 4,
    "start_time": "2024-03-05T12:50:51.938Z"
   },
   {
    "duration": 6,
    "start_time": "2024-03-05T12:51:57.026Z"
   },
   {
    "duration": 14,
    "start_time": "2024-03-05T12:52:06.621Z"
   },
   {
    "duration": 14,
    "start_time": "2024-03-05T12:53:37.691Z"
   },
   {
    "duration": 9,
    "start_time": "2024-03-05T12:53:46.722Z"
   },
   {
    "duration": 1260,
    "start_time": "2024-03-05T12:53:50.806Z"
   },
   {
    "duration": 51,
    "start_time": "2024-03-05T12:53:52.068Z"
   },
   {
    "duration": 20,
    "start_time": "2024-03-05T12:53:52.121Z"
   },
   {
    "duration": 17,
    "start_time": "2024-03-05T12:53:52.144Z"
   },
   {
    "duration": 27,
    "start_time": "2024-03-05T12:53:52.163Z"
   },
   {
    "duration": 20,
    "start_time": "2024-03-05T12:53:52.191Z"
   },
   {
    "duration": 12,
    "start_time": "2024-03-05T12:53:52.212Z"
   },
   {
    "duration": 16,
    "start_time": "2024-03-05T12:53:52.226Z"
   },
   {
    "duration": 11,
    "start_time": "2024-03-05T12:53:52.244Z"
   },
   {
    "duration": 15,
    "start_time": "2024-03-05T12:53:52.258Z"
   },
   {
    "duration": 8,
    "start_time": "2024-03-05T12:53:52.279Z"
   },
   {
    "duration": 15,
    "start_time": "2024-03-05T12:53:52.289Z"
   },
   {
    "duration": 21,
    "start_time": "2024-03-05T12:53:52.305Z"
   },
   {
    "duration": 11,
    "start_time": "2024-03-05T12:53:52.328Z"
   },
   {
    "duration": 16,
    "start_time": "2024-03-05T12:53:52.340Z"
   },
   {
    "duration": 25,
    "start_time": "2024-03-05T12:53:52.357Z"
   },
   {
    "duration": 35,
    "start_time": "2024-03-05T12:53:52.384Z"
   },
   {
    "duration": 20,
    "start_time": "2024-03-05T12:53:52.421Z"
   },
   {
    "duration": 13,
    "start_time": "2024-03-05T12:53:52.442Z"
   },
   {
    "duration": 7,
    "start_time": "2024-03-05T12:53:52.456Z"
   },
   {
    "duration": 205,
    "start_time": "2024-03-05T12:53:52.465Z"
   },
   {
    "duration": 11,
    "start_time": "2024-03-05T12:53:52.672Z"
   },
   {
    "duration": 195,
    "start_time": "2024-03-05T12:53:52.685Z"
   },
   {
    "duration": 184,
    "start_time": "2024-03-05T12:53:52.882Z"
   },
   {
    "duration": 12,
    "start_time": "2024-03-05T12:53:53.068Z"
   },
   {
    "duration": 14,
    "start_time": "2024-03-05T12:53:53.082Z"
   },
   {
    "duration": 4,
    "start_time": "2024-03-05T12:53:53.098Z"
   },
   {
    "duration": 20,
    "start_time": "2024-03-05T12:53:53.105Z"
   },
   {
    "duration": 14,
    "start_time": "2024-03-05T12:53:53.126Z"
   },
   {
    "duration": 22,
    "start_time": "2024-03-05T12:53:53.142Z"
   },
   {
    "duration": 9,
    "start_time": "2024-03-05T12:53:53.166Z"
   },
   {
    "duration": 27,
    "start_time": "2024-03-05T12:53:53.177Z"
   },
   {
    "duration": 13,
    "start_time": "2024-03-05T12:53:53.205Z"
   },
   {
    "duration": 173,
    "start_time": "2024-03-05T12:53:53.220Z"
   },
   {
    "duration": 4,
    "start_time": "2024-03-05T12:53:53.394Z"
   },
   {
    "duration": 17,
    "start_time": "2024-03-05T12:53:53.400Z"
   },
   {
    "duration": 12,
    "start_time": "2024-03-05T12:54:17.881Z"
   },
   {
    "duration": 12,
    "start_time": "2024-03-05T12:54:39.343Z"
   },
   {
    "duration": 5,
    "start_time": "2024-03-05T12:54:55.337Z"
   },
   {
    "duration": 4,
    "start_time": "2024-03-05T12:55:27.087Z"
   },
   {
    "duration": 19,
    "start_time": "2024-03-05T12:55:50.760Z"
   },
   {
    "duration": 1286,
    "start_time": "2024-03-05T12:56:00.872Z"
   },
   {
    "duration": 48,
    "start_time": "2024-03-05T12:56:02.160Z"
   },
   {
    "duration": 56,
    "start_time": "2024-03-05T12:56:02.210Z"
   },
   {
    "duration": 11,
    "start_time": "2024-03-05T12:56:02.267Z"
   },
   {
    "duration": 65,
    "start_time": "2024-03-05T12:56:02.280Z"
   },
   {
    "duration": 19,
    "start_time": "2024-03-05T12:56:02.346Z"
   },
   {
    "duration": 11,
    "start_time": "2024-03-05T12:56:02.367Z"
   },
   {
    "duration": 32,
    "start_time": "2024-03-05T12:56:02.379Z"
   },
   {
    "duration": 18,
    "start_time": "2024-03-05T12:56:02.413Z"
   },
   {
    "duration": 14,
    "start_time": "2024-03-05T12:56:02.433Z"
   },
   {
    "duration": 14,
    "start_time": "2024-03-05T12:56:02.448Z"
   },
   {
    "duration": 74,
    "start_time": "2024-03-05T12:56:02.463Z"
   },
   {
    "duration": 27,
    "start_time": "2024-03-05T12:56:02.538Z"
   },
   {
    "duration": 7,
    "start_time": "2024-03-05T12:56:02.568Z"
   },
   {
    "duration": 20,
    "start_time": "2024-03-05T12:56:02.577Z"
   },
   {
    "duration": 11,
    "start_time": "2024-03-05T12:56:02.599Z"
   },
   {
    "duration": 39,
    "start_time": "2024-03-05T12:56:02.612Z"
   },
   {
    "duration": 12,
    "start_time": "2024-03-05T12:56:02.653Z"
   },
   {
    "duration": 12,
    "start_time": "2024-03-05T12:56:02.667Z"
   },
   {
    "duration": 11,
    "start_time": "2024-03-05T12:56:02.681Z"
   },
   {
    "duration": 234,
    "start_time": "2024-03-05T12:56:02.694Z"
   },
   {
    "duration": 5,
    "start_time": "2024-03-05T12:56:02.929Z"
   },
   {
    "duration": 210,
    "start_time": "2024-03-05T12:56:02.935Z"
   },
   {
    "duration": 177,
    "start_time": "2024-03-05T12:56:03.146Z"
   },
   {
    "duration": 5,
    "start_time": "2024-03-05T12:56:03.324Z"
   },
   {
    "duration": 47,
    "start_time": "2024-03-05T12:56:03.330Z"
   },
   {
    "duration": 20,
    "start_time": "2024-03-05T12:56:03.379Z"
   },
   {
    "duration": 16,
    "start_time": "2024-03-05T12:56:03.401Z"
   },
   {
    "duration": 16,
    "start_time": "2024-03-05T12:56:03.419Z"
   },
   {
    "duration": 30,
    "start_time": "2024-03-05T12:56:03.437Z"
   },
   {
    "duration": 13,
    "start_time": "2024-03-05T12:56:03.469Z"
   },
   {
    "duration": 21,
    "start_time": "2024-03-05T12:56:03.484Z"
   },
   {
    "duration": 14,
    "start_time": "2024-03-05T12:56:03.507Z"
   },
   {
    "duration": 189,
    "start_time": "2024-03-05T12:56:03.523Z"
   },
   {
    "duration": 4,
    "start_time": "2024-03-05T12:56:03.714Z"
   },
   {
    "duration": 28,
    "start_time": "2024-03-05T12:56:03.719Z"
   },
   {
    "duration": 15,
    "start_time": "2024-03-05T12:57:59.565Z"
   },
   {
    "duration": 20,
    "start_time": "2024-03-05T13:11:48.249Z"
   },
   {
    "duration": 13,
    "start_time": "2024-03-05T13:17:48.398Z"
   },
   {
    "duration": 8,
    "start_time": "2024-03-05T13:20:32.211Z"
   },
   {
    "duration": 191,
    "start_time": "2024-03-05T13:20:53.250Z"
   },
   {
    "duration": 183,
    "start_time": "2024-03-05T13:21:48.138Z"
   },
   {
    "duration": 7,
    "start_time": "2024-03-05T13:24:06.166Z"
   },
   {
    "duration": 8,
    "start_time": "2024-03-05T13:24:52.041Z"
   },
   {
    "duration": 8,
    "start_time": "2024-03-05T13:26:10.254Z"
   },
   {
    "duration": 27,
    "start_time": "2024-03-05T13:30:09.845Z"
   },
   {
    "duration": 430,
    "start_time": "2024-03-05T13:36:13.423Z"
   },
   {
    "duration": 11,
    "start_time": "2024-03-05T13:36:24.306Z"
   },
   {
    "duration": 18,
    "start_time": "2024-03-05T13:36:33.636Z"
   },
   {
    "duration": 9,
    "start_time": "2024-03-05T13:36:39.386Z"
   },
   {
    "duration": 246,
    "start_time": "2024-03-05T13:36:51.682Z"
   },
   {
    "duration": 7,
    "start_time": "2024-03-05T13:36:59.466Z"
   },
   {
    "duration": 14,
    "start_time": "2024-03-05T13:37:05.789Z"
   },
   {
    "duration": 20,
    "start_time": "2024-03-05T13:37:49.237Z"
   },
   {
    "duration": 76,
    "start_time": "2024-03-06T06:44:18.467Z"
   },
   {
    "duration": 1662,
    "start_time": "2024-03-06T06:44:28.301Z"
   },
   {
    "duration": 162,
    "start_time": "2024-03-06T06:44:29.965Z"
   },
   {
    "duration": 14,
    "start_time": "2024-03-06T06:44:30.132Z"
   },
   {
    "duration": 270,
    "start_time": "2024-03-06T06:44:30.148Z"
   },
   {
    "duration": 232,
    "start_time": "2024-03-06T06:44:30.420Z"
   },
   {
    "duration": 183,
    "start_time": "2024-03-06T06:44:30.655Z"
   },
   {
    "duration": 53,
    "start_time": "2024-03-06T06:44:30.840Z"
   },
   {
    "duration": 59,
    "start_time": "2024-03-06T06:44:30.894Z"
   },
   {
    "duration": 65,
    "start_time": "2024-03-06T06:44:30.955Z"
   },
   {
    "duration": 116,
    "start_time": "2024-03-06T06:44:31.022Z"
   },
   {
    "duration": 229,
    "start_time": "2024-03-06T06:44:31.140Z"
   },
   {
    "duration": 184,
    "start_time": "2024-03-06T06:44:31.371Z"
   },
   {
    "duration": 414,
    "start_time": "2024-03-06T06:44:31.560Z"
   },
   {
    "duration": 332,
    "start_time": "2024-03-06T06:44:31.976Z"
   },
   {
    "duration": 57,
    "start_time": "2024-03-06T06:44:32.310Z"
   },
   {
    "duration": 26,
    "start_time": "2024-03-06T06:44:32.370Z"
   },
   {
    "duration": 26,
    "start_time": "2024-03-06T06:44:32.399Z"
   },
   {
    "duration": 23,
    "start_time": "2024-03-06T06:44:32.427Z"
   },
   {
    "duration": 28,
    "start_time": "2024-03-06T06:44:32.452Z"
   },
   {
    "duration": 21,
    "start_time": "2024-03-06T06:44:32.482Z"
   },
   {
    "duration": 210,
    "start_time": "2024-03-06T06:44:32.505Z"
   },
   {
    "duration": 8,
    "start_time": "2024-03-06T06:44:32.717Z"
   },
   {
    "duration": 219,
    "start_time": "2024-03-06T06:44:32.727Z"
   },
   {
    "duration": 205,
    "start_time": "2024-03-06T06:44:32.948Z"
   },
   {
    "duration": 8,
    "start_time": "2024-03-06T06:44:33.155Z"
   },
   {
    "duration": 40,
    "start_time": "2024-03-06T06:44:33.165Z"
   },
   {
    "duration": 115,
    "start_time": "2024-03-06T06:44:33.207Z"
   },
   {
    "duration": 385,
    "start_time": "2024-03-06T06:44:33.324Z"
   },
   {
    "duration": 143,
    "start_time": "2024-03-06T06:44:33.710Z"
   },
   {
    "duration": 58,
    "start_time": "2024-03-06T06:44:33.855Z"
   },
   {
    "duration": 22,
    "start_time": "2024-03-06T06:44:33.915Z"
   },
   {
    "duration": 34,
    "start_time": "2024-03-06T06:44:33.938Z"
   },
   {
    "duration": 53,
    "start_time": "2024-03-06T06:44:33.973Z"
   },
   {
    "duration": 234,
    "start_time": "2024-03-06T06:44:34.028Z"
   },
   {
    "duration": 6,
    "start_time": "2024-03-06T06:44:34.264Z"
   },
   {
    "duration": 71,
    "start_time": "2024-03-06T06:44:34.272Z"
   },
   {
    "duration": 16,
    "start_time": "2024-03-06T06:44:34.345Z"
   },
   {
    "duration": 19,
    "start_time": "2024-03-06T06:44:34.363Z"
   },
   {
    "duration": 13,
    "start_time": "2024-03-06T06:44:34.383Z"
   },
   {
    "duration": 9,
    "start_time": "2024-03-06T06:44:34.402Z"
   },
   {
    "duration": 211,
    "start_time": "2024-03-06T06:44:34.412Z"
   },
   {
    "duration": 10,
    "start_time": "2024-03-06T06:44:34.625Z"
   },
   {
    "duration": 102,
    "start_time": "2024-03-06T06:44:34.637Z"
   },
   {
    "duration": 0,
    "start_time": "2024-03-06T06:44:34.741Z"
   },
   {
    "duration": 0,
    "start_time": "2024-03-06T06:44:34.742Z"
   },
   {
    "duration": 0,
    "start_time": "2024-03-06T06:44:34.744Z"
   },
   {
    "duration": 0,
    "start_time": "2024-03-06T06:44:34.745Z"
   },
   {
    "duration": 458,
    "start_time": "2024-03-06T06:44:54.048Z"
   },
   {
    "duration": 14,
    "start_time": "2024-03-06T06:45:59.515Z"
   },
   {
    "duration": 3,
    "start_time": "2024-03-06T06:51:35.142Z"
   },
   {
    "duration": 2,
    "start_time": "2024-03-06T06:51:52.388Z"
   },
   {
    "duration": 4,
    "start_time": "2024-03-06T06:52:50.532Z"
   },
   {
    "duration": 16,
    "start_time": "2024-03-06T06:54:50.926Z"
   },
   {
    "duration": 10,
    "start_time": "2024-03-06T06:54:56.808Z"
   },
   {
    "duration": 267,
    "start_time": "2024-03-06T07:01:38.722Z"
   },
   {
    "duration": 268,
    "start_time": "2024-03-06T07:08:21.931Z"
   },
   {
    "duration": 7,
    "start_time": "2024-03-06T07:13:47.249Z"
   },
   {
    "duration": 10,
    "start_time": "2024-03-06T07:13:59.867Z"
   },
   {
    "duration": 13,
    "start_time": "2024-03-06T07:14:38.780Z"
   },
   {
    "duration": 7,
    "start_time": "2024-03-06T07:22:38.620Z"
   },
   {
    "duration": 9,
    "start_time": "2024-03-06T07:23:23.795Z"
   },
   {
    "duration": 1765,
    "start_time": "2024-03-06T07:23:57.238Z"
   },
   {
    "duration": 10,
    "start_time": "2024-03-06T07:26:01.571Z"
   },
   {
    "duration": 103,
    "start_time": "2024-03-06T07:26:17.924Z"
   },
   {
    "duration": 6,
    "start_time": "2024-03-06T07:26:22.474Z"
   },
   {
    "duration": 4,
    "start_time": "2024-03-06T07:30:13.535Z"
   },
   {
    "duration": 6,
    "start_time": "2024-03-06T07:30:21.809Z"
   },
   {
    "duration": 4,
    "start_time": "2024-03-06T07:30:29.690Z"
   },
   {
    "duration": 5,
    "start_time": "2024-03-06T07:30:35.796Z"
   },
   {
    "duration": 3,
    "start_time": "2024-03-06T07:30:40.328Z"
   },
   {
    "duration": 14,
    "start_time": "2024-03-06T07:30:55.073Z"
   },
   {
    "duration": 14,
    "start_time": "2024-03-06T07:39:09.080Z"
   },
   {
    "duration": 54,
    "start_time": "2024-03-06T07:39:24.909Z"
   },
   {
    "duration": 14,
    "start_time": "2024-03-06T07:39:35.244Z"
   },
   {
    "duration": 10,
    "start_time": "2024-03-06T07:57:55.425Z"
   },
   {
    "duration": 15,
    "start_time": "2024-03-06T08:03:49.619Z"
   },
   {
    "duration": 12,
    "start_time": "2024-03-06T08:04:38.174Z"
   },
   {
    "duration": 10,
    "start_time": "2024-03-06T08:05:04.379Z"
   },
   {
    "duration": 22,
    "start_time": "2024-03-06T08:06:16.760Z"
   },
   {
    "duration": 14,
    "start_time": "2024-03-06T08:12:52.607Z"
   },
   {
    "duration": 38,
    "start_time": "2024-03-06T08:13:02.007Z"
   },
   {
    "duration": 13,
    "start_time": "2024-03-06T08:13:30.159Z"
   },
   {
    "duration": 32,
    "start_time": "2024-03-06T08:13:38.581Z"
   },
   {
    "duration": 153,
    "start_time": "2024-03-06T08:15:15.415Z"
   },
   {
    "duration": 14,
    "start_time": "2024-03-06T08:15:36.305Z"
   },
   {
    "duration": 33,
    "start_time": "2024-03-06T08:19:54.826Z"
   },
   {
    "duration": 94,
    "start_time": "2024-03-06T08:19:59.276Z"
   },
   {
    "duration": 41,
    "start_time": "2024-03-06T08:20:24.477Z"
   },
   {
    "duration": 1321,
    "start_time": "2024-03-06T08:20:42.686Z"
   },
   {
    "duration": 59,
    "start_time": "2024-03-06T08:20:44.009Z"
   },
   {
    "duration": 13,
    "start_time": "2024-03-06T08:20:44.070Z"
   },
   {
    "duration": 17,
    "start_time": "2024-03-06T08:20:44.085Z"
   },
   {
    "duration": 20,
    "start_time": "2024-03-06T08:20:44.104Z"
   },
   {
    "duration": 14,
    "start_time": "2024-03-06T08:20:44.125Z"
   },
   {
    "duration": 11,
    "start_time": "2024-03-06T08:20:44.141Z"
   },
   {
    "duration": 49,
    "start_time": "2024-03-06T08:20:44.153Z"
   },
   {
    "duration": 24,
    "start_time": "2024-03-06T08:20:44.204Z"
   },
   {
    "duration": 31,
    "start_time": "2024-03-06T08:20:44.230Z"
   },
   {
    "duration": 7,
    "start_time": "2024-03-06T08:20:44.263Z"
   },
   {
    "duration": 17,
    "start_time": "2024-03-06T08:20:44.272Z"
   },
   {
    "duration": 15,
    "start_time": "2024-03-06T08:20:44.290Z"
   },
   {
    "duration": 6,
    "start_time": "2024-03-06T08:20:44.307Z"
   },
   {
    "duration": 23,
    "start_time": "2024-03-06T08:20:44.314Z"
   },
   {
    "duration": 12,
    "start_time": "2024-03-06T08:20:44.339Z"
   },
   {
    "duration": 36,
    "start_time": "2024-03-06T08:20:44.353Z"
   },
   {
    "duration": 19,
    "start_time": "2024-03-06T08:20:44.390Z"
   },
   {
    "duration": 11,
    "start_time": "2024-03-06T08:20:44.411Z"
   },
   {
    "duration": 5,
    "start_time": "2024-03-06T08:20:44.424Z"
   },
   {
    "duration": 193,
    "start_time": "2024-03-06T08:20:44.430Z"
   },
   {
    "duration": 6,
    "start_time": "2024-03-06T08:20:44.624Z"
   },
   {
    "duration": 193,
    "start_time": "2024-03-06T08:20:44.632Z"
   },
   {
    "duration": 197,
    "start_time": "2024-03-06T08:20:44.827Z"
   },
   {
    "duration": 5,
    "start_time": "2024-03-06T08:20:45.026Z"
   },
   {
    "duration": 225,
    "start_time": "2024-03-06T08:20:45.032Z"
   },
   {
    "duration": 260,
    "start_time": "2024-03-06T08:20:45.260Z"
   },
   {
    "duration": 72,
    "start_time": "2024-03-06T08:20:45.526Z"
   },
   {
    "duration": 37,
    "start_time": "2024-03-06T08:20:45.599Z"
   },
   {
    "duration": 30,
    "start_time": "2024-03-06T08:20:45.638Z"
   },
   {
    "duration": 31,
    "start_time": "2024-03-06T08:20:45.669Z"
   },
   {
    "duration": 45,
    "start_time": "2024-03-06T08:20:45.701Z"
   },
   {
    "duration": 48,
    "start_time": "2024-03-06T08:20:45.748Z"
   },
   {
    "duration": 223,
    "start_time": "2024-03-06T08:20:45.797Z"
   },
   {
    "duration": 6,
    "start_time": "2024-03-06T08:20:46.022Z"
   },
   {
    "duration": 104,
    "start_time": "2024-03-06T08:20:46.030Z"
   },
   {
    "duration": 76,
    "start_time": "2024-03-06T08:20:46.135Z"
   },
   {
    "duration": 20,
    "start_time": "2024-03-06T08:20:46.212Z"
   },
   {
    "duration": 13,
    "start_time": "2024-03-06T08:20:46.234Z"
   },
   {
    "duration": 39,
    "start_time": "2024-03-06T08:20:46.248Z"
   },
   {
    "duration": 205,
    "start_time": "2024-03-06T08:20:46.289Z"
   },
   {
    "duration": 9,
    "start_time": "2024-03-06T08:20:46.496Z"
   },
   {
    "duration": 95,
    "start_time": "2024-03-06T08:20:46.507Z"
   },
   {
    "duration": 0,
    "start_time": "2024-03-06T08:20:46.604Z"
   },
   {
    "duration": 0,
    "start_time": "2024-03-06T08:20:46.605Z"
   },
   {
    "duration": 0,
    "start_time": "2024-03-06T08:20:46.607Z"
   },
   {
    "duration": 0,
    "start_time": "2024-03-06T08:20:46.608Z"
   },
   {
    "duration": 0,
    "start_time": "2024-03-06T08:20:46.609Z"
   },
   {
    "duration": 0,
    "start_time": "2024-03-06T08:20:46.610Z"
   },
   {
    "duration": 0,
    "start_time": "2024-03-06T08:20:46.611Z"
   },
   {
    "duration": 0,
    "start_time": "2024-03-06T08:20:46.612Z"
   },
   {
    "duration": 0,
    "start_time": "2024-03-06T08:20:46.614Z"
   },
   {
    "duration": 0,
    "start_time": "2024-03-06T08:20:46.615Z"
   },
   {
    "duration": 0,
    "start_time": "2024-03-06T08:20:46.616Z"
   },
   {
    "duration": 0,
    "start_time": "2024-03-06T08:20:46.617Z"
   },
   {
    "duration": 0,
    "start_time": "2024-03-06T08:20:46.619Z"
   },
   {
    "duration": 0,
    "start_time": "2024-03-06T08:20:46.619Z"
   },
   {
    "duration": 0,
    "start_time": "2024-03-06T08:20:46.621Z"
   },
   {
    "duration": 0,
    "start_time": "2024-03-06T08:20:46.622Z"
   },
   {
    "duration": 0,
    "start_time": "2024-03-06T08:20:46.623Z"
   },
   {
    "duration": 0,
    "start_time": "2024-03-06T08:20:46.624Z"
   },
   {
    "duration": 0,
    "start_time": "2024-03-06T08:20:46.625Z"
   },
   {
    "duration": 0,
    "start_time": "2024-03-06T08:20:46.626Z"
   },
   {
    "duration": 0,
    "start_time": "2024-03-06T08:20:46.628Z"
   },
   {
    "duration": 0,
    "start_time": "2024-03-06T08:20:46.629Z"
   },
   {
    "duration": 0,
    "start_time": "2024-03-06T08:20:46.630Z"
   },
   {
    "duration": 0,
    "start_time": "2024-03-06T08:20:46.631Z"
   },
   {
    "duration": 0,
    "start_time": "2024-03-06T08:20:46.632Z"
   },
   {
    "duration": 0,
    "start_time": "2024-03-06T08:20:46.633Z"
   },
   {
    "duration": 0,
    "start_time": "2024-03-06T08:20:46.635Z"
   },
   {
    "duration": 0,
    "start_time": "2024-03-06T08:20:46.636Z"
   },
   {
    "duration": 0,
    "start_time": "2024-03-06T08:20:46.637Z"
   },
   {
    "duration": 1358,
    "start_time": "2024-03-06T08:21:16.613Z"
   },
   {
    "duration": 57,
    "start_time": "2024-03-06T08:21:17.974Z"
   },
   {
    "duration": 20,
    "start_time": "2024-03-06T08:21:18.034Z"
   },
   {
    "duration": 18,
    "start_time": "2024-03-06T08:21:18.056Z"
   },
   {
    "duration": 25,
    "start_time": "2024-03-06T08:21:18.076Z"
   },
   {
    "duration": 13,
    "start_time": "2024-03-06T08:21:18.103Z"
   },
   {
    "duration": 22,
    "start_time": "2024-03-06T08:21:18.118Z"
   },
   {
    "duration": 21,
    "start_time": "2024-03-06T08:21:18.142Z"
   },
   {
    "duration": 9,
    "start_time": "2024-03-06T08:21:18.165Z"
   },
   {
    "duration": 47,
    "start_time": "2024-03-06T08:21:18.176Z"
   },
   {
    "duration": 90,
    "start_time": "2024-03-06T08:21:18.225Z"
   },
   {
    "duration": 26,
    "start_time": "2024-03-06T08:21:18.317Z"
   },
   {
    "duration": 36,
    "start_time": "2024-03-06T08:21:18.344Z"
   },
   {
    "duration": 7,
    "start_time": "2024-03-06T08:21:18.381Z"
   },
   {
    "duration": 37,
    "start_time": "2024-03-06T08:21:18.389Z"
   },
   {
    "duration": 58,
    "start_time": "2024-03-06T08:21:18.428Z"
   },
   {
    "duration": 15,
    "start_time": "2024-03-06T08:21:18.487Z"
   },
   {
    "duration": 5,
    "start_time": "2024-03-06T08:21:18.503Z"
   },
   {
    "duration": 18,
    "start_time": "2024-03-06T08:21:18.510Z"
   },
   {
    "duration": 7,
    "start_time": "2024-03-06T08:21:18.530Z"
   },
   {
    "duration": 209,
    "start_time": "2024-03-06T08:21:18.539Z"
   },
   {
    "duration": 6,
    "start_time": "2024-03-06T08:21:18.749Z"
   },
   {
    "duration": 222,
    "start_time": "2024-03-06T08:21:18.757Z"
   },
   {
    "duration": 185,
    "start_time": "2024-03-06T08:21:18.981Z"
   },
   {
    "duration": 6,
    "start_time": "2024-03-06T08:21:19.168Z"
   },
   {
    "duration": 18,
    "start_time": "2024-03-06T08:21:19.176Z"
   },
   {
    "duration": 9,
    "start_time": "2024-03-06T08:21:19.196Z"
   },
   {
    "duration": 19,
    "start_time": "2024-03-06T08:21:19.209Z"
   },
   {
    "duration": 15,
    "start_time": "2024-03-06T08:21:19.229Z"
   },
   {
    "duration": 13,
    "start_time": "2024-03-06T08:21:19.246Z"
   },
   {
    "duration": 7,
    "start_time": "2024-03-06T08:21:19.261Z"
   },
   {
    "duration": 13,
    "start_time": "2024-03-06T08:21:19.292Z"
   },
   {
    "duration": 15,
    "start_time": "2024-03-06T08:21:19.306Z"
   },
   {
    "duration": 227,
    "start_time": "2024-03-06T08:21:19.322Z"
   },
   {
    "duration": 4,
    "start_time": "2024-03-06T08:21:19.551Z"
   },
   {
    "duration": 37,
    "start_time": "2024-03-06T08:21:19.556Z"
   },
   {
    "duration": 16,
    "start_time": "2024-03-06T08:21:19.594Z"
   },
   {
    "duration": 24,
    "start_time": "2024-03-06T08:21:19.611Z"
   },
   {
    "duration": 16,
    "start_time": "2024-03-06T08:21:19.637Z"
   },
   {
    "duration": 21,
    "start_time": "2024-03-06T08:21:19.656Z"
   },
   {
    "duration": 218,
    "start_time": "2024-03-06T08:21:19.679Z"
   },
   {
    "duration": 10,
    "start_time": "2024-03-06T08:21:19.899Z"
   },
   {
    "duration": 95,
    "start_time": "2024-03-06T08:21:19.911Z"
   },
   {
    "duration": 0,
    "start_time": "2024-03-06T08:21:20.008Z"
   },
   {
    "duration": 1,
    "start_time": "2024-03-06T08:21:20.009Z"
   },
   {
    "duration": 0,
    "start_time": "2024-03-06T08:21:20.011Z"
   },
   {
    "duration": 0,
    "start_time": "2024-03-06T08:21:20.013Z"
   },
   {
    "duration": 0,
    "start_time": "2024-03-06T08:21:20.015Z"
   },
   {
    "duration": 0,
    "start_time": "2024-03-06T08:21:20.016Z"
   },
   {
    "duration": 0,
    "start_time": "2024-03-06T08:21:20.018Z"
   },
   {
    "duration": 0,
    "start_time": "2024-03-06T08:21:20.020Z"
   },
   {
    "duration": 0,
    "start_time": "2024-03-06T08:21:20.021Z"
   },
   {
    "duration": 0,
    "start_time": "2024-03-06T08:21:20.023Z"
   },
   {
    "duration": 0,
    "start_time": "2024-03-06T08:21:20.025Z"
   },
   {
    "duration": 0,
    "start_time": "2024-03-06T08:21:20.026Z"
   },
   {
    "duration": 0,
    "start_time": "2024-03-06T08:21:20.028Z"
   },
   {
    "duration": 0,
    "start_time": "2024-03-06T08:21:20.030Z"
   },
   {
    "duration": 0,
    "start_time": "2024-03-06T08:21:20.032Z"
   },
   {
    "duration": 0,
    "start_time": "2024-03-06T08:21:20.034Z"
   },
   {
    "duration": 0,
    "start_time": "2024-03-06T08:21:20.036Z"
   },
   {
    "duration": 0,
    "start_time": "2024-03-06T08:21:20.037Z"
   },
   {
    "duration": 0,
    "start_time": "2024-03-06T08:21:20.039Z"
   },
   {
    "duration": 0,
    "start_time": "2024-03-06T08:21:20.040Z"
   },
   {
    "duration": 0,
    "start_time": "2024-03-06T08:21:20.042Z"
   },
   {
    "duration": 0,
    "start_time": "2024-03-06T08:21:20.043Z"
   },
   {
    "duration": 0,
    "start_time": "2024-03-06T08:21:20.045Z"
   },
   {
    "duration": 0,
    "start_time": "2024-03-06T08:21:20.047Z"
   },
   {
    "duration": 0,
    "start_time": "2024-03-06T08:21:20.092Z"
   },
   {
    "duration": 0,
    "start_time": "2024-03-06T08:21:20.094Z"
   },
   {
    "duration": 1,
    "start_time": "2024-03-06T08:21:20.095Z"
   },
   {
    "duration": 1,
    "start_time": "2024-03-06T08:21:20.097Z"
   },
   {
    "duration": 0,
    "start_time": "2024-03-06T08:21:20.099Z"
   },
   {
    "duration": 9,
    "start_time": "2024-03-06T08:21:56.587Z"
   },
   {
    "duration": 9,
    "start_time": "2024-03-06T08:21:59.159Z"
   },
   {
    "duration": 27,
    "start_time": "2024-03-06T08:22:01.729Z"
   },
   {
    "duration": 482,
    "start_time": "2024-03-06T08:22:05.449Z"
   },
   {
    "duration": 1472,
    "start_time": "2024-03-06T08:22:14.381Z"
   },
   {
    "duration": 62,
    "start_time": "2024-03-06T08:22:15.856Z"
   },
   {
    "duration": 14,
    "start_time": "2024-03-06T08:22:15.920Z"
   },
   {
    "duration": 36,
    "start_time": "2024-03-06T08:22:15.937Z"
   },
   {
    "duration": 37,
    "start_time": "2024-03-06T08:22:15.975Z"
   },
   {
    "duration": 47,
    "start_time": "2024-03-06T08:22:16.015Z"
   },
   {
    "duration": 18,
    "start_time": "2024-03-06T08:22:16.064Z"
   },
   {
    "duration": 30,
    "start_time": "2024-03-06T08:22:16.084Z"
   },
   {
    "duration": 11,
    "start_time": "2024-03-06T08:22:16.116Z"
   },
   {
    "duration": 16,
    "start_time": "2024-03-06T08:22:16.130Z"
   },
   {
    "duration": 28,
    "start_time": "2024-03-06T08:22:16.148Z"
   },
   {
    "duration": 18,
    "start_time": "2024-03-06T08:22:16.178Z"
   },
   {
    "duration": 21,
    "start_time": "2024-03-06T08:22:16.203Z"
   },
   {
    "duration": 6,
    "start_time": "2024-03-06T08:22:16.225Z"
   },
   {
    "duration": 18,
    "start_time": "2024-03-06T08:22:16.233Z"
   },
   {
    "duration": 34,
    "start_time": "2024-03-06T08:22:16.252Z"
   },
   {
    "duration": 23,
    "start_time": "2024-03-06T08:22:16.288Z"
   },
   {
    "duration": 10,
    "start_time": "2024-03-06T08:22:16.313Z"
   },
   {
    "duration": 25,
    "start_time": "2024-03-06T08:22:16.325Z"
   },
   {
    "duration": 50,
    "start_time": "2024-03-06T08:22:16.352Z"
   },
   {
    "duration": 232,
    "start_time": "2024-03-06T08:22:16.406Z"
   },
   {
    "duration": 6,
    "start_time": "2024-03-06T08:22:16.640Z"
   },
   {
    "duration": 235,
    "start_time": "2024-03-06T08:22:16.648Z"
   },
   {
    "duration": 207,
    "start_time": "2024-03-06T08:22:16.885Z"
   },
   {
    "duration": 9,
    "start_time": "2024-03-06T08:22:17.094Z"
   },
   {
    "duration": 12,
    "start_time": "2024-03-06T08:22:17.105Z"
   },
   {
    "duration": 8,
    "start_time": "2024-03-06T08:22:17.119Z"
   },
   {
    "duration": 6,
    "start_time": "2024-03-06T08:22:17.131Z"
   },
   {
    "duration": 15,
    "start_time": "2024-03-06T08:22:17.139Z"
   },
   {
    "duration": 46,
    "start_time": "2024-03-06T08:22:17.156Z"
   },
   {
    "duration": 11,
    "start_time": "2024-03-06T08:22:17.205Z"
   },
   {
    "duration": 30,
    "start_time": "2024-03-06T08:22:17.217Z"
   },
   {
    "duration": 13,
    "start_time": "2024-03-06T08:22:17.249Z"
   },
   {
    "duration": 219,
    "start_time": "2024-03-06T08:22:17.264Z"
   },
   {
    "duration": 11,
    "start_time": "2024-03-06T08:22:17.485Z"
   },
   {
    "duration": 32,
    "start_time": "2024-03-06T08:22:17.498Z"
   },
   {
    "duration": 17,
    "start_time": "2024-03-06T08:22:17.532Z"
   },
   {
    "duration": 54,
    "start_time": "2024-03-06T08:22:17.550Z"
   },
   {
    "duration": 16,
    "start_time": "2024-03-06T08:22:17.606Z"
   },
   {
    "duration": 14,
    "start_time": "2024-03-06T08:22:17.624Z"
   },
   {
    "duration": 238,
    "start_time": "2024-03-06T08:22:17.640Z"
   },
   {
    "duration": 21,
    "start_time": "2024-03-06T08:22:17.880Z"
   },
   {
    "duration": 114,
    "start_time": "2024-03-06T08:22:17.904Z"
   },
   {
    "duration": 0,
    "start_time": "2024-03-06T08:22:18.020Z"
   },
   {
    "duration": 0,
    "start_time": "2024-03-06T08:22:18.022Z"
   },
   {
    "duration": 0,
    "start_time": "2024-03-06T08:22:18.023Z"
   },
   {
    "duration": 0,
    "start_time": "2024-03-06T08:22:18.024Z"
   },
   {
    "duration": 0,
    "start_time": "2024-03-06T08:22:18.025Z"
   },
   {
    "duration": 0,
    "start_time": "2024-03-06T08:22:18.027Z"
   },
   {
    "duration": 0,
    "start_time": "2024-03-06T08:22:18.028Z"
   },
   {
    "duration": 0,
    "start_time": "2024-03-06T08:22:18.030Z"
   },
   {
    "duration": 0,
    "start_time": "2024-03-06T08:22:18.031Z"
   },
   {
    "duration": 0,
    "start_time": "2024-03-06T08:22:18.032Z"
   },
   {
    "duration": 0,
    "start_time": "2024-03-06T08:22:18.033Z"
   },
   {
    "duration": 0,
    "start_time": "2024-03-06T08:22:18.034Z"
   },
   {
    "duration": 0,
    "start_time": "2024-03-06T08:22:18.036Z"
   },
   {
    "duration": 0,
    "start_time": "2024-03-06T08:22:18.038Z"
   },
   {
    "duration": 0,
    "start_time": "2024-03-06T08:22:18.040Z"
   },
   {
    "duration": 0,
    "start_time": "2024-03-06T08:22:18.041Z"
   },
   {
    "duration": 0,
    "start_time": "2024-03-06T08:22:18.042Z"
   },
   {
    "duration": 0,
    "start_time": "2024-03-06T08:22:18.043Z"
   },
   {
    "duration": 0,
    "start_time": "2024-03-06T08:22:18.045Z"
   },
   {
    "duration": 0,
    "start_time": "2024-03-06T08:22:18.046Z"
   },
   {
    "duration": 0,
    "start_time": "2024-03-06T08:22:18.048Z"
   },
   {
    "duration": 0,
    "start_time": "2024-03-06T08:22:18.049Z"
   },
   {
    "duration": 0,
    "start_time": "2024-03-06T08:22:18.051Z"
   },
   {
    "duration": 0,
    "start_time": "2024-03-06T08:22:18.052Z"
   },
   {
    "duration": 0,
    "start_time": "2024-03-06T08:22:18.054Z"
   },
   {
    "duration": 0,
    "start_time": "2024-03-06T08:22:18.055Z"
   },
   {
    "duration": 0,
    "start_time": "2024-03-06T08:22:18.057Z"
   },
   {
    "duration": 0,
    "start_time": "2024-03-06T08:22:18.058Z"
   },
   {
    "duration": 0,
    "start_time": "2024-03-06T08:22:18.091Z"
   },
   {
    "duration": 1417,
    "start_time": "2024-03-06T08:22:36.942Z"
   },
   {
    "duration": 59,
    "start_time": "2024-03-06T08:22:38.361Z"
   },
   {
    "duration": 13,
    "start_time": "2024-03-06T08:22:38.422Z"
   },
   {
    "duration": 16,
    "start_time": "2024-03-06T08:22:38.437Z"
   },
   {
    "duration": 14,
    "start_time": "2024-03-06T08:22:38.454Z"
   },
   {
    "duration": 34,
    "start_time": "2024-03-06T08:22:38.470Z"
   },
   {
    "duration": 12,
    "start_time": "2024-03-06T08:22:38.507Z"
   },
   {
    "duration": 16,
    "start_time": "2024-03-06T08:22:38.521Z"
   },
   {
    "duration": 8,
    "start_time": "2024-03-06T08:22:38.539Z"
   },
   {
    "duration": 9,
    "start_time": "2024-03-06T08:22:38.549Z"
   },
   {
    "duration": 38,
    "start_time": "2024-03-06T08:22:38.560Z"
   },
   {
    "duration": 10,
    "start_time": "2024-03-06T08:22:38.600Z"
   },
   {
    "duration": 14,
    "start_time": "2024-03-06T08:22:38.612Z"
   },
   {
    "duration": 6,
    "start_time": "2024-03-06T08:22:38.628Z"
   },
   {
    "duration": 22,
    "start_time": "2024-03-06T08:22:38.636Z"
   },
   {
    "duration": 37,
    "start_time": "2024-03-06T08:22:38.659Z"
   },
   {
    "duration": 16,
    "start_time": "2024-03-06T08:22:38.698Z"
   },
   {
    "duration": 4,
    "start_time": "2024-03-06T08:22:38.716Z"
   },
   {
    "duration": 10,
    "start_time": "2024-03-06T08:22:38.722Z"
   },
   {
    "duration": 5,
    "start_time": "2024-03-06T08:22:38.733Z"
   },
   {
    "duration": 246,
    "start_time": "2024-03-06T08:22:38.740Z"
   },
   {
    "duration": 8,
    "start_time": "2024-03-06T08:22:38.991Z"
   },
   {
    "duration": 211,
    "start_time": "2024-03-06T08:22:39.000Z"
   },
   {
    "duration": 191,
    "start_time": "2024-03-06T08:22:39.213Z"
   },
   {
    "duration": 7,
    "start_time": "2024-03-06T08:22:39.406Z"
   },
   {
    "duration": 12,
    "start_time": "2024-03-06T08:22:39.414Z"
   },
   {
    "duration": 5,
    "start_time": "2024-03-06T08:22:39.427Z"
   },
   {
    "duration": 7,
    "start_time": "2024-03-06T08:22:39.437Z"
   },
   {
    "duration": 16,
    "start_time": "2024-03-06T08:22:39.445Z"
   },
   {
    "duration": 41,
    "start_time": "2024-03-06T08:22:39.462Z"
   },
   {
    "duration": 9,
    "start_time": "2024-03-06T08:22:39.505Z"
   },
   {
    "duration": 32,
    "start_time": "2024-03-06T08:22:39.516Z"
   },
   {
    "duration": 13,
    "start_time": "2024-03-06T08:22:39.550Z"
   },
   {
    "duration": 218,
    "start_time": "2024-03-06T08:22:39.565Z"
   },
   {
    "duration": 12,
    "start_time": "2024-03-06T08:22:39.785Z"
   },
   {
    "duration": 26,
    "start_time": "2024-03-06T08:22:39.799Z"
   },
   {
    "duration": 16,
    "start_time": "2024-03-06T08:22:39.826Z"
   },
   {
    "duration": 49,
    "start_time": "2024-03-06T08:22:39.844Z"
   },
   {
    "duration": 18,
    "start_time": "2024-03-06T08:22:39.896Z"
   },
   {
    "duration": 9,
    "start_time": "2024-03-06T08:22:39.916Z"
   },
   {
    "duration": 245,
    "start_time": "2024-03-06T08:22:39.927Z"
   },
   {
    "duration": 22,
    "start_time": "2024-03-06T08:22:40.174Z"
   },
   {
    "duration": 11,
    "start_time": "2024-03-06T08:22:40.198Z"
   },
   {
    "duration": 12,
    "start_time": "2024-03-06T08:22:40.211Z"
   },
   {
    "duration": 27,
    "start_time": "2024-03-06T08:22:40.224Z"
   },
   {
    "duration": 512,
    "start_time": "2024-03-06T08:22:40.252Z"
   },
   {
    "duration": 10,
    "start_time": "2024-03-06T08:22:40.766Z"
   },
   {
    "duration": 2,
    "start_time": "2024-03-06T08:22:40.778Z"
   },
   {
    "duration": 8,
    "start_time": "2024-03-06T08:22:40.791Z"
   },
   {
    "duration": 6,
    "start_time": "2024-03-06T08:22:40.801Z"
   },
   {
    "duration": 20,
    "start_time": "2024-03-06T08:22:40.808Z"
   },
   {
    "duration": 12,
    "start_time": "2024-03-06T08:22:40.830Z"
   },
   {
    "duration": 274,
    "start_time": "2024-03-06T08:22:40.843Z"
   },
   {
    "duration": 7,
    "start_time": "2024-03-06T08:22:41.119Z"
   },
   {
    "duration": 18,
    "start_time": "2024-03-06T08:22:41.128Z"
   },
   {
    "duration": 27,
    "start_time": "2024-03-06T08:22:41.148Z"
   },
   {
    "duration": 15,
    "start_time": "2024-03-06T08:22:41.177Z"
   },
   {
    "duration": 110,
    "start_time": "2024-03-06T08:22:41.194Z"
   },
   {
    "duration": 9,
    "start_time": "2024-03-06T08:22:41.306Z"
   },
   {
    "duration": 3,
    "start_time": "2024-03-06T08:22:41.317Z"
   },
   {
    "duration": 7,
    "start_time": "2024-03-06T08:22:41.322Z"
   },
   {
    "duration": 16,
    "start_time": "2024-03-06T08:22:41.330Z"
   },
   {
    "duration": 9,
    "start_time": "2024-03-06T08:22:41.347Z"
   },
   {
    "duration": 5,
    "start_time": "2024-03-06T08:22:41.357Z"
   },
   {
    "duration": 79,
    "start_time": "2024-03-06T08:22:41.364Z"
   },
   {
    "duration": 16,
    "start_time": "2024-03-06T08:22:41.445Z"
   },
   {
    "duration": 30,
    "start_time": "2024-03-06T08:22:41.463Z"
   },
   {
    "duration": 14,
    "start_time": "2024-03-06T08:22:41.496Z"
   },
   {
    "duration": 20,
    "start_time": "2024-03-06T08:22:41.512Z"
   },
   {
    "duration": 13,
    "start_time": "2024-03-06T08:22:41.533Z"
   },
   {
    "duration": 94,
    "start_time": "2024-03-06T08:22:41.548Z"
   },
   {
    "duration": 40,
    "start_time": "2024-03-06T08:23:05.443Z"
   },
   {
    "duration": 1397,
    "start_time": "2024-03-06T08:23:12.815Z"
   },
   {
    "duration": 49,
    "start_time": "2024-03-06T08:23:14.215Z"
   },
   {
    "duration": 14,
    "start_time": "2024-03-06T08:23:14.269Z"
   },
   {
    "duration": 14,
    "start_time": "2024-03-06T08:23:14.284Z"
   },
   {
    "duration": 14,
    "start_time": "2024-03-06T08:23:14.300Z"
   },
   {
    "duration": 16,
    "start_time": "2024-03-06T08:23:14.316Z"
   },
   {
    "duration": 19,
    "start_time": "2024-03-06T08:23:14.334Z"
   },
   {
    "duration": 22,
    "start_time": "2024-03-06T08:23:14.355Z"
   },
   {
    "duration": 13,
    "start_time": "2024-03-06T08:23:14.380Z"
   },
   {
    "duration": 15,
    "start_time": "2024-03-06T08:23:14.394Z"
   },
   {
    "duration": 11,
    "start_time": "2024-03-06T08:23:14.411Z"
   },
   {
    "duration": 9,
    "start_time": "2024-03-06T08:23:14.423Z"
   },
   {
    "duration": 14,
    "start_time": "2024-03-06T08:23:14.435Z"
   },
   {
    "duration": 43,
    "start_time": "2024-03-06T08:23:14.450Z"
   },
   {
    "duration": 16,
    "start_time": "2024-03-06T08:23:14.494Z"
   },
   {
    "duration": 11,
    "start_time": "2024-03-06T08:23:14.513Z"
   },
   {
    "duration": 16,
    "start_time": "2024-03-06T08:23:14.525Z"
   },
   {
    "duration": 5,
    "start_time": "2024-03-06T08:23:14.543Z"
   },
   {
    "duration": 43,
    "start_time": "2024-03-06T08:23:14.550Z"
   },
   {
    "duration": 6,
    "start_time": "2024-03-06T08:23:14.597Z"
   },
   {
    "duration": 230,
    "start_time": "2024-03-06T08:23:14.605Z"
   },
   {
    "duration": 7,
    "start_time": "2024-03-06T08:23:14.837Z"
   },
   {
    "duration": 255,
    "start_time": "2024-03-06T08:23:14.846Z"
   },
   {
    "duration": 208,
    "start_time": "2024-03-06T08:23:15.103Z"
   },
   {
    "duration": 7,
    "start_time": "2024-03-06T08:23:15.313Z"
   },
   {
    "duration": 53,
    "start_time": "2024-03-06T08:23:15.322Z"
   },
   {
    "duration": 41,
    "start_time": "2024-03-06T08:23:15.376Z"
   },
   {
    "duration": 28,
    "start_time": "2024-03-06T08:23:15.420Z"
   },
   {
    "duration": 54,
    "start_time": "2024-03-06T08:23:15.451Z"
   },
   {
    "duration": 25,
    "start_time": "2024-03-06T08:23:15.507Z"
   },
   {
    "duration": 25,
    "start_time": "2024-03-06T08:23:15.534Z"
   },
   {
    "duration": 32,
    "start_time": "2024-03-06T08:23:15.561Z"
   },
   {
    "duration": 16,
    "start_time": "2024-03-06T08:23:15.595Z"
   },
   {
    "duration": 216,
    "start_time": "2024-03-06T08:23:15.613Z"
   },
   {
    "duration": 4,
    "start_time": "2024-03-06T08:23:15.831Z"
   },
   {
    "duration": 23,
    "start_time": "2024-03-06T08:23:15.837Z"
   },
   {
    "duration": 34,
    "start_time": "2024-03-06T08:23:15.863Z"
   },
   {
    "duration": 21,
    "start_time": "2024-03-06T08:23:15.899Z"
   },
   {
    "duration": 35,
    "start_time": "2024-03-06T08:23:15.922Z"
   },
   {
    "duration": 10,
    "start_time": "2024-03-06T08:23:15.959Z"
   },
   {
    "duration": 214,
    "start_time": "2024-03-06T08:23:15.971Z"
   },
   {
    "duration": 13,
    "start_time": "2024-03-06T08:23:16.186Z"
   },
   {
    "duration": 11,
    "start_time": "2024-03-06T08:23:16.201Z"
   },
   {
    "duration": 25,
    "start_time": "2024-03-06T08:23:16.214Z"
   },
   {
    "duration": 31,
    "start_time": "2024-03-06T08:23:16.242Z"
   },
   {
    "duration": 472,
    "start_time": "2024-03-06T08:23:16.275Z"
   },
   {
    "duration": 10,
    "start_time": "2024-03-06T08:23:16.749Z"
   },
   {
    "duration": 4,
    "start_time": "2024-03-06T08:23:16.760Z"
   },
   {
    "duration": 8,
    "start_time": "2024-03-06T08:23:16.766Z"
   },
   {
    "duration": 17,
    "start_time": "2024-03-06T08:23:16.776Z"
   },
   {
    "duration": 22,
    "start_time": "2024-03-06T08:23:16.794Z"
   },
   {
    "duration": 11,
    "start_time": "2024-03-06T08:23:16.817Z"
   },
   {
    "duration": 263,
    "start_time": "2024-03-06T08:23:16.830Z"
   },
   {
    "duration": 6,
    "start_time": "2024-03-06T08:23:17.095Z"
   },
   {
    "duration": 10,
    "start_time": "2024-03-06T08:23:17.103Z"
   },
   {
    "duration": 15,
    "start_time": "2024-03-06T08:23:17.114Z"
   },
   {
    "duration": 10,
    "start_time": "2024-03-06T08:23:17.130Z"
   },
   {
    "duration": 114,
    "start_time": "2024-03-06T08:23:17.141Z"
   },
   {
    "duration": 7,
    "start_time": "2024-03-06T08:23:17.257Z"
   },
   {
    "duration": 26,
    "start_time": "2024-03-06T08:23:17.266Z"
   },
   {
    "duration": 7,
    "start_time": "2024-03-06T08:23:17.293Z"
   },
   {
    "duration": 13,
    "start_time": "2024-03-06T08:23:17.302Z"
   },
   {
    "duration": 9,
    "start_time": "2024-03-06T08:23:17.317Z"
   },
   {
    "duration": 12,
    "start_time": "2024-03-06T08:23:17.327Z"
   },
   {
    "duration": 65,
    "start_time": "2024-03-06T08:23:17.341Z"
   },
   {
    "duration": 31,
    "start_time": "2024-03-06T08:23:17.408Z"
   },
   {
    "duration": 14,
    "start_time": "2024-03-06T08:23:17.440Z"
   },
   {
    "duration": 27,
    "start_time": "2024-03-06T08:23:17.455Z"
   },
   {
    "duration": 21,
    "start_time": "2024-03-06T08:23:17.484Z"
   },
   {
    "duration": 17,
    "start_time": "2024-03-06T08:23:17.507Z"
   },
   {
    "duration": 24,
    "start_time": "2024-03-06T08:23:17.525Z"
   },
   {
    "duration": 16,
    "start_time": "2024-03-06T08:35:23.031Z"
   },
   {
    "duration": 12,
    "start_time": "2024-03-06T08:35:50.545Z"
   },
   {
    "duration": 21,
    "start_time": "2024-03-06T08:35:51.949Z"
   },
   {
    "duration": 1333,
    "start_time": "2024-03-06T08:36:19.542Z"
   },
   {
    "duration": 49,
    "start_time": "2024-03-06T08:36:20.877Z"
   },
   {
    "duration": 12,
    "start_time": "2024-03-06T08:36:20.928Z"
   },
   {
    "duration": 29,
    "start_time": "2024-03-06T08:36:20.942Z"
   },
   {
    "duration": 48,
    "start_time": "2024-03-06T08:36:20.972Z"
   },
   {
    "duration": 12,
    "start_time": "2024-03-06T08:36:21.023Z"
   },
   {
    "duration": 16,
    "start_time": "2024-03-06T08:36:21.037Z"
   },
   {
    "duration": 29,
    "start_time": "2024-03-06T08:36:21.055Z"
   },
   {
    "duration": 11,
    "start_time": "2024-03-06T08:36:21.086Z"
   },
   {
    "duration": 17,
    "start_time": "2024-03-06T08:36:21.100Z"
   },
   {
    "duration": 12,
    "start_time": "2024-03-06T08:36:21.119Z"
   },
   {
    "duration": 36,
    "start_time": "2024-03-06T08:36:21.133Z"
   },
   {
    "duration": 19,
    "start_time": "2024-03-06T08:36:21.172Z"
   },
   {
    "duration": 7,
    "start_time": "2024-03-06T08:36:21.193Z"
   },
   {
    "duration": 17,
    "start_time": "2024-03-06T08:36:21.201Z"
   },
   {
    "duration": 12,
    "start_time": "2024-03-06T08:36:21.220Z"
   },
   {
    "duration": 15,
    "start_time": "2024-03-06T08:36:21.234Z"
   },
   {
    "duration": 5,
    "start_time": "2024-03-06T08:36:21.251Z"
   },
   {
    "duration": 39,
    "start_time": "2024-03-06T08:36:21.258Z"
   },
   {
    "duration": 13,
    "start_time": "2024-03-06T08:36:21.299Z"
   },
   {
    "duration": 203,
    "start_time": "2024-03-06T08:36:21.314Z"
   },
   {
    "duration": 5,
    "start_time": "2024-03-06T08:36:21.519Z"
   },
   {
    "duration": 196,
    "start_time": "2024-03-06T08:36:21.526Z"
   },
   {
    "duration": 194,
    "start_time": "2024-03-06T08:36:21.724Z"
   },
   {
    "duration": 5,
    "start_time": "2024-03-06T08:36:21.920Z"
   },
   {
    "duration": 14,
    "start_time": "2024-03-06T08:36:21.927Z"
   },
   {
    "duration": 4,
    "start_time": "2024-03-06T08:36:21.942Z"
   },
   {
    "duration": 6,
    "start_time": "2024-03-06T08:36:21.950Z"
   },
   {
    "duration": 39,
    "start_time": "2024-03-06T08:36:21.958Z"
   },
   {
    "duration": 13,
    "start_time": "2024-03-06T08:36:21.998Z"
   },
   {
    "duration": 31,
    "start_time": "2024-03-06T08:36:22.012Z"
   },
   {
    "duration": 14,
    "start_time": "2024-03-06T08:36:22.045Z"
   },
   {
    "duration": 14,
    "start_time": "2024-03-06T08:36:22.060Z"
   },
   {
    "duration": 193,
    "start_time": "2024-03-06T08:36:22.076Z"
   },
   {
    "duration": 3,
    "start_time": "2024-03-06T08:36:22.271Z"
   },
   {
    "duration": 28,
    "start_time": "2024-03-06T08:36:22.276Z"
   },
   {
    "duration": 15,
    "start_time": "2024-03-06T08:36:22.305Z"
   },
   {
    "duration": 17,
    "start_time": "2024-03-06T08:36:22.322Z"
   },
   {
    "duration": 31,
    "start_time": "2024-03-06T08:36:22.341Z"
   },
   {
    "duration": 19,
    "start_time": "2024-03-06T08:36:22.374Z"
   },
   {
    "duration": 222,
    "start_time": "2024-03-06T08:36:22.394Z"
   },
   {
    "duration": 8,
    "start_time": "2024-03-06T08:36:22.618Z"
   },
   {
    "duration": 17,
    "start_time": "2024-03-06T08:36:22.628Z"
   },
   {
    "duration": 7,
    "start_time": "2024-03-06T08:36:22.647Z"
   },
   {
    "duration": 42,
    "start_time": "2024-03-06T08:36:22.656Z"
   },
   {
    "duration": 468,
    "start_time": "2024-03-06T08:36:22.700Z"
   },
   {
    "duration": 9,
    "start_time": "2024-03-06T08:36:23.170Z"
   },
   {
    "duration": 14,
    "start_time": "2024-03-06T08:36:23.180Z"
   },
   {
    "duration": 10,
    "start_time": "2024-03-06T08:36:23.196Z"
   },
   {
    "duration": 5,
    "start_time": "2024-03-06T08:36:23.208Z"
   },
   {
    "duration": 20,
    "start_time": "2024-03-06T08:36:23.215Z"
   },
   {
    "duration": 29,
    "start_time": "2024-03-06T08:36:23.237Z"
   },
   {
    "duration": 293,
    "start_time": "2024-03-06T08:36:23.267Z"
   },
   {
    "duration": 7,
    "start_time": "2024-03-06T08:36:23.562Z"
   },
   {
    "duration": 52,
    "start_time": "2024-03-06T08:36:23.571Z"
   },
   {
    "duration": 11,
    "start_time": "2024-03-06T08:36:23.625Z"
   },
   {
    "duration": 11,
    "start_time": "2024-03-06T08:36:23.637Z"
   },
   {
    "duration": 95,
    "start_time": "2024-03-06T08:36:23.649Z"
   },
   {
    "duration": 5,
    "start_time": "2024-03-06T08:36:23.746Z"
   },
   {
    "duration": 3,
    "start_time": "2024-03-06T08:36:23.753Z"
   },
   {
    "duration": 6,
    "start_time": "2024-03-06T08:36:23.758Z"
   },
   {
    "duration": 26,
    "start_time": "2024-03-06T08:36:23.766Z"
   },
   {
    "duration": 25,
    "start_time": "2024-03-06T08:36:23.794Z"
   },
   {
    "duration": 14,
    "start_time": "2024-03-06T08:36:23.828Z"
   },
   {
    "duration": 81,
    "start_time": "2024-03-06T08:36:23.843Z"
   },
   {
    "duration": 20,
    "start_time": "2024-03-06T08:36:23.926Z"
   },
   {
    "duration": 9,
    "start_time": "2024-03-06T08:36:23.947Z"
   },
   {
    "duration": 11,
    "start_time": "2024-03-06T08:36:23.958Z"
   },
   {
    "duration": 43,
    "start_time": "2024-03-06T08:36:23.971Z"
   },
   {
    "duration": 11,
    "start_time": "2024-03-06T08:36:24.015Z"
   },
   {
    "duration": 22,
    "start_time": "2024-03-06T08:36:24.028Z"
   },
   {
    "duration": 134,
    "start_time": "2024-03-06T08:44:56.013Z"
   },
   {
    "duration": 13,
    "start_time": "2024-03-06T08:51:56.154Z"
   },
   {
    "duration": 15,
    "start_time": "2024-03-06T08:53:09.882Z"
   },
   {
    "duration": 7,
    "start_time": "2024-03-06T08:53:36.173Z"
   },
   {
    "duration": 185,
    "start_time": "2024-03-06T08:54:05.728Z"
   },
   {
    "duration": 179,
    "start_time": "2024-03-06T08:54:29.422Z"
   },
   {
    "duration": 180,
    "start_time": "2024-03-06T08:54:32.201Z"
   },
   {
    "duration": 178,
    "start_time": "2024-03-06T08:55:00.339Z"
   },
   {
    "duration": 7,
    "start_time": "2024-03-06T08:55:26.517Z"
   },
   {
    "duration": 175,
    "start_time": "2024-03-06T08:55:28.716Z"
   },
   {
    "duration": 28,
    "start_time": "2024-03-06T09:15:07.187Z"
   },
   {
    "duration": 300,
    "start_time": "2024-03-06T09:15:55.240Z"
   },
   {
    "duration": 336,
    "start_time": "2024-03-06T09:16:09.312Z"
   },
   {
    "duration": 4,
    "start_time": "2024-03-06T09:17:11.653Z"
   },
   {
    "duration": 308,
    "start_time": "2024-03-06T09:17:12.523Z"
   },
   {
    "duration": 334,
    "start_time": "2024-03-06T09:17:56.853Z"
   },
   {
    "duration": 289,
    "start_time": "2024-03-06T09:18:03.337Z"
   },
   {
    "duration": 6,
    "start_time": "2024-03-06T09:18:38.376Z"
   },
   {
    "duration": 346,
    "start_time": "2024-03-06T09:18:48.064Z"
   },
   {
    "duration": 28,
    "start_time": "2024-03-06T11:03:27.497Z"
   },
   {
    "duration": 8,
    "start_time": "2024-03-06T11:03:49.431Z"
   },
   {
    "duration": 7,
    "start_time": "2024-03-06T11:08:50.212Z"
   },
   {
    "duration": 18,
    "start_time": "2024-03-06T11:12:21.624Z"
   },
   {
    "duration": 8,
    "start_time": "2024-03-06T11:12:49.637Z"
   },
   {
    "duration": 6,
    "start_time": "2024-03-06T11:13:47.978Z"
   },
   {
    "duration": 389,
    "start_time": "2024-03-06T12:19:44.337Z"
   },
   {
    "duration": 290,
    "start_time": "2024-03-06T12:20:00.056Z"
   },
   {
    "duration": 275,
    "start_time": "2024-03-06T12:20:13.060Z"
   },
   {
    "duration": 125,
    "start_time": "2024-03-06T12:22:55.580Z"
   },
   {
    "duration": 1524,
    "start_time": "2024-03-07T06:00:43.440Z"
   },
   {
    "duration": 163,
    "start_time": "2024-03-07T06:00:44.966Z"
   },
   {
    "duration": 14,
    "start_time": "2024-03-07T06:00:45.131Z"
   },
   {
    "duration": 57,
    "start_time": "2024-03-07T06:00:45.147Z"
   },
   {
    "duration": 51,
    "start_time": "2024-03-07T06:00:45.206Z"
   },
   {
    "duration": 58,
    "start_time": "2024-03-07T06:00:45.259Z"
   },
   {
    "duration": 66,
    "start_time": "2024-03-07T06:00:45.319Z"
   },
   {
    "duration": 90,
    "start_time": "2024-03-07T06:00:45.387Z"
   },
   {
    "duration": 22,
    "start_time": "2024-03-07T06:00:45.478Z"
   },
   {
    "duration": 40,
    "start_time": "2024-03-07T06:00:45.502Z"
   },
   {
    "duration": 17,
    "start_time": "2024-03-07T06:00:45.544Z"
   },
   {
    "duration": 11,
    "start_time": "2024-03-07T06:00:45.563Z"
   },
   {
    "duration": 19,
    "start_time": "2024-03-07T06:00:45.576Z"
   },
   {
    "duration": 8,
    "start_time": "2024-03-07T06:00:45.598Z"
   },
   {
    "duration": 26,
    "start_time": "2024-03-07T06:00:45.607Z"
   },
   {
    "duration": 11,
    "start_time": "2024-03-07T06:00:45.634Z"
   },
   {
    "duration": 16,
    "start_time": "2024-03-07T06:00:45.647Z"
   },
   {
    "duration": 4,
    "start_time": "2024-03-07T06:00:45.672Z"
   },
   {
    "duration": 13,
    "start_time": "2024-03-07T06:00:45.678Z"
   },
   {
    "duration": 5,
    "start_time": "2024-03-07T06:00:45.693Z"
   },
   {
    "duration": 205,
    "start_time": "2024-03-07T06:00:45.699Z"
   },
   {
    "duration": 6,
    "start_time": "2024-03-07T06:00:45.905Z"
   },
   {
    "duration": 196,
    "start_time": "2024-03-07T06:00:45.912Z"
   },
   {
    "duration": 182,
    "start_time": "2024-03-07T06:00:46.110Z"
   },
   {
    "duration": 5,
    "start_time": "2024-03-07T06:00:46.294Z"
   },
   {
    "duration": 27,
    "start_time": "2024-03-07T06:00:46.300Z"
   },
   {
    "duration": 28,
    "start_time": "2024-03-07T06:00:46.329Z"
   },
   {
    "duration": 17,
    "start_time": "2024-03-07T06:00:46.359Z"
   },
   {
    "duration": 16,
    "start_time": "2024-03-07T06:00:46.377Z"
   },
   {
    "duration": 15,
    "start_time": "2024-03-07T06:00:46.395Z"
   },
   {
    "duration": 20,
    "start_time": "2024-03-07T06:00:46.412Z"
   },
   {
    "duration": 32,
    "start_time": "2024-03-07T06:00:46.434Z"
   },
   {
    "duration": 21,
    "start_time": "2024-03-07T06:00:46.468Z"
   },
   {
    "duration": 185,
    "start_time": "2024-03-07T06:00:46.491Z"
   },
   {
    "duration": 4,
    "start_time": "2024-03-07T06:00:46.677Z"
   },
   {
    "duration": 36,
    "start_time": "2024-03-07T06:00:46.682Z"
   },
   {
    "duration": 15,
    "start_time": "2024-03-07T06:00:46.720Z"
   },
   {
    "duration": 18,
    "start_time": "2024-03-07T06:00:46.736Z"
   },
   {
    "duration": 25,
    "start_time": "2024-03-07T06:00:46.756Z"
   },
   {
    "duration": 10,
    "start_time": "2024-03-07T06:00:46.782Z"
   },
   {
    "duration": 212,
    "start_time": "2024-03-07T06:00:46.796Z"
   },
   {
    "duration": 8,
    "start_time": "2024-03-07T06:00:47.009Z"
   },
   {
    "duration": 31,
    "start_time": "2024-03-07T06:00:47.019Z"
   },
   {
    "duration": 51,
    "start_time": "2024-03-07T06:00:47.052Z"
   },
   {
    "duration": 27,
    "start_time": "2024-03-07T06:00:47.104Z"
   },
   {
    "duration": 447,
    "start_time": "2024-03-07T06:00:47.133Z"
   },
   {
    "duration": 10,
    "start_time": "2024-03-07T06:00:47.581Z"
   },
   {
    "duration": 7,
    "start_time": "2024-03-07T06:00:47.592Z"
   },
   {
    "duration": 14,
    "start_time": "2024-03-07T06:00:47.600Z"
   },
   {
    "duration": 5,
    "start_time": "2024-03-07T06:00:47.616Z"
   },
   {
    "duration": 55,
    "start_time": "2024-03-07T06:00:47.623Z"
   },
   {
    "duration": 32,
    "start_time": "2024-03-07T06:00:47.680Z"
   },
   {
    "duration": 275,
    "start_time": "2024-03-07T06:00:47.714Z"
   },
   {
    "duration": 7,
    "start_time": "2024-03-07T06:00:47.991Z"
   },
   {
    "duration": 16,
    "start_time": "2024-03-07T06:00:47.999Z"
   },
   {
    "duration": 33,
    "start_time": "2024-03-07T06:00:48.016Z"
   },
   {
    "duration": 16,
    "start_time": "2024-03-07T06:00:48.051Z"
   },
   {
    "duration": 106,
    "start_time": "2024-03-07T06:00:48.069Z"
   },
   {
    "duration": 5,
    "start_time": "2024-03-07T06:00:48.177Z"
   },
   {
    "duration": 6,
    "start_time": "2024-03-07T06:00:48.183Z"
   },
   {
    "duration": 20,
    "start_time": "2024-03-07T06:00:48.191Z"
   },
   {
    "duration": 19,
    "start_time": "2024-03-07T06:00:48.212Z"
   },
   {
    "duration": 19,
    "start_time": "2024-03-07T06:00:48.233Z"
   },
   {
    "duration": 37,
    "start_time": "2024-03-07T06:00:48.254Z"
   },
   {
    "duration": 58,
    "start_time": "2024-03-07T06:00:48.293Z"
   },
   {
    "duration": 16,
    "start_time": "2024-03-07T06:00:48.353Z"
   },
   {
    "duration": 21,
    "start_time": "2024-03-07T06:00:48.371Z"
   },
   {
    "duration": 19,
    "start_time": "2024-03-07T06:00:48.394Z"
   },
   {
    "duration": 12,
    "start_time": "2024-03-07T06:00:48.415Z"
   },
   {
    "duration": 18,
    "start_time": "2024-03-07T06:00:48.429Z"
   },
   {
    "duration": 5,
    "start_time": "2024-03-07T06:00:48.449Z"
   },
   {
    "duration": 318,
    "start_time": "2024-03-07T06:00:48.455Z"
   },
   {
    "duration": 300,
    "start_time": "2024-03-07T06:00:48.775Z"
   },
   {
    "duration": 16,
    "start_time": "2024-03-07T06:00:49.077Z"
   },
   {
    "duration": 27,
    "start_time": "2024-03-07T06:00:49.095Z"
   },
   {
    "duration": 22,
    "start_time": "2024-03-07T06:00:49.124Z"
   },
   {
    "duration": 22,
    "start_time": "2024-03-07T06:00:49.148Z"
   },
   {
    "duration": 7,
    "start_time": "2024-03-07T06:00:49.172Z"
   },
   {
    "duration": 14,
    "start_time": "2024-03-07T06:00:49.181Z"
   },
   {
    "duration": 1282,
    "start_time": "2024-03-07T06:01:17.176Z"
   },
   {
    "duration": 51,
    "start_time": "2024-03-07T06:01:18.460Z"
   },
   {
    "duration": 12,
    "start_time": "2024-03-07T06:01:18.513Z"
   },
   {
    "duration": 11,
    "start_time": "2024-03-07T06:01:18.527Z"
   },
   {
    "duration": 13,
    "start_time": "2024-03-07T06:01:18.540Z"
   },
   {
    "duration": 26,
    "start_time": "2024-03-07T06:01:18.554Z"
   },
   {
    "duration": 11,
    "start_time": "2024-03-07T06:01:18.581Z"
   },
   {
    "duration": 27,
    "start_time": "2024-03-07T06:01:18.594Z"
   },
   {
    "duration": 7,
    "start_time": "2024-03-07T06:01:18.623Z"
   },
   {
    "duration": 12,
    "start_time": "2024-03-07T06:01:18.631Z"
   },
   {
    "duration": 23,
    "start_time": "2024-03-07T06:01:18.644Z"
   },
   {
    "duration": 14,
    "start_time": "2024-03-07T06:01:18.669Z"
   },
   {
    "duration": 14,
    "start_time": "2024-03-07T06:01:18.685Z"
   },
   {
    "duration": 6,
    "start_time": "2024-03-07T06:01:18.702Z"
   },
   {
    "duration": 17,
    "start_time": "2024-03-07T06:01:18.709Z"
   },
   {
    "duration": 15,
    "start_time": "2024-03-07T06:01:18.728Z"
   },
   {
    "duration": 33,
    "start_time": "2024-03-07T06:01:18.745Z"
   },
   {
    "duration": 6,
    "start_time": "2024-03-07T06:01:18.780Z"
   },
   {
    "duration": 31,
    "start_time": "2024-03-07T06:01:18.788Z"
   },
   {
    "duration": 7,
    "start_time": "2024-03-07T06:01:18.820Z"
   },
   {
    "duration": 202,
    "start_time": "2024-03-07T06:01:18.828Z"
   },
   {
    "duration": 6,
    "start_time": "2024-03-07T06:01:19.031Z"
   },
   {
    "duration": 213,
    "start_time": "2024-03-07T06:01:19.038Z"
   },
   {
    "duration": 183,
    "start_time": "2024-03-07T06:01:19.253Z"
   },
   {
    "duration": 4,
    "start_time": "2024-03-07T06:01:19.438Z"
   },
   {
    "duration": 35,
    "start_time": "2024-03-07T06:01:19.443Z"
   },
   {
    "duration": 16,
    "start_time": "2024-03-07T06:01:19.480Z"
   },
   {
    "duration": 17,
    "start_time": "2024-03-07T06:01:19.497Z"
   },
   {
    "duration": 39,
    "start_time": "2024-03-07T06:01:19.516Z"
   },
   {
    "duration": 25,
    "start_time": "2024-03-07T06:01:19.556Z"
   },
   {
    "duration": 20,
    "start_time": "2024-03-07T06:01:19.582Z"
   },
   {
    "duration": 15,
    "start_time": "2024-03-07T06:01:19.603Z"
   },
   {
    "duration": 13,
    "start_time": "2024-03-07T06:01:19.620Z"
   },
   {
    "duration": 186,
    "start_time": "2024-03-07T06:01:19.634Z"
   },
   {
    "duration": 4,
    "start_time": "2024-03-07T06:01:19.821Z"
   },
   {
    "duration": 30,
    "start_time": "2024-03-07T06:01:19.826Z"
   },
   {
    "duration": 22,
    "start_time": "2024-03-07T06:01:19.858Z"
   },
   {
    "duration": 17,
    "start_time": "2024-03-07T06:01:19.882Z"
   },
   {
    "duration": 12,
    "start_time": "2024-03-07T06:01:19.900Z"
   },
   {
    "duration": 10,
    "start_time": "2024-03-07T06:01:19.913Z"
   },
   {
    "duration": 227,
    "start_time": "2024-03-07T06:01:19.927Z"
   },
   {
    "duration": 8,
    "start_time": "2024-03-07T06:01:20.155Z"
   },
   {
    "duration": 20,
    "start_time": "2024-03-07T06:01:20.165Z"
   },
   {
    "duration": 22,
    "start_time": "2024-03-07T06:01:20.186Z"
   },
   {
    "duration": 42,
    "start_time": "2024-03-07T06:01:20.209Z"
   },
   {
    "duration": 433,
    "start_time": "2024-03-07T06:01:20.253Z"
   },
   {
    "duration": 10,
    "start_time": "2024-03-07T06:01:20.687Z"
   },
   {
    "duration": 25,
    "start_time": "2024-03-07T06:01:20.698Z"
   },
   {
    "duration": 12,
    "start_time": "2024-03-07T06:01:20.724Z"
   },
   {
    "duration": 21,
    "start_time": "2024-03-07T06:01:20.738Z"
   },
   {
    "duration": 32,
    "start_time": "2024-03-07T06:01:20.761Z"
   },
   {
    "duration": 50,
    "start_time": "2024-03-07T06:01:20.795Z"
   },
   {
    "duration": 262,
    "start_time": "2024-03-07T06:01:20.847Z"
   },
   {
    "duration": 7,
    "start_time": "2024-03-07T06:01:21.110Z"
   },
   {
    "duration": 18,
    "start_time": "2024-03-07T06:01:21.118Z"
   },
   {
    "duration": 12,
    "start_time": "2024-03-07T06:01:21.138Z"
   },
   {
    "duration": 25,
    "start_time": "2024-03-07T06:01:21.151Z"
   },
   {
    "duration": 92,
    "start_time": "2024-03-07T06:01:21.177Z"
   },
   {
    "duration": 33,
    "start_time": "2024-03-07T06:01:21.270Z"
   },
   {
    "duration": 8,
    "start_time": "2024-03-07T06:01:21.305Z"
   },
   {
    "duration": 10,
    "start_time": "2024-03-07T06:01:21.315Z"
   },
   {
    "duration": 19,
    "start_time": "2024-03-07T06:01:21.326Z"
   },
   {
    "duration": 6,
    "start_time": "2024-03-07T06:01:21.346Z"
   },
   {
    "duration": 13,
    "start_time": "2024-03-07T06:01:21.354Z"
   },
   {
    "duration": 55,
    "start_time": "2024-03-07T06:01:21.368Z"
   },
   {
    "duration": 16,
    "start_time": "2024-03-07T06:01:21.425Z"
   },
   {
    "duration": 22,
    "start_time": "2024-03-07T06:01:21.442Z"
   },
   {
    "duration": 28,
    "start_time": "2024-03-07T06:01:21.466Z"
   },
   {
    "duration": 17,
    "start_time": "2024-03-07T06:01:21.496Z"
   },
   {
    "duration": 19,
    "start_time": "2024-03-07T06:01:21.514Z"
   },
   {
    "duration": 5,
    "start_time": "2024-03-07T06:01:21.535Z"
   },
   {
    "duration": 316,
    "start_time": "2024-03-07T06:01:21.541Z"
   },
   {
    "duration": 283,
    "start_time": "2024-03-07T06:01:21.859Z"
   },
   {
    "duration": 15,
    "start_time": "2024-03-07T06:01:22.144Z"
   },
   {
    "duration": 14,
    "start_time": "2024-03-07T06:01:22.161Z"
   },
   {
    "duration": 32,
    "start_time": "2024-03-07T06:01:22.177Z"
   },
   {
    "duration": 17,
    "start_time": "2024-03-07T06:01:22.210Z"
   },
   {
    "duration": 10,
    "start_time": "2024-03-07T06:01:22.229Z"
   },
   {
    "duration": 10,
    "start_time": "2024-03-07T06:01:22.240Z"
   },
   {
    "duration": 19,
    "start_time": "2024-03-07T06:02:41.559Z"
   },
   {
    "duration": 6,
    "start_time": "2024-03-07T06:09:25.906Z"
   },
   {
    "duration": 56,
    "start_time": "2024-03-07T07:40:51.753Z"
   },
   {
    "duration": 1665,
    "start_time": "2024-03-07T08:32:35.368Z"
   },
   {
    "duration": 157,
    "start_time": "2024-03-07T08:32:37.035Z"
   },
   {
    "duration": 21,
    "start_time": "2024-03-07T08:32:37.194Z"
   },
   {
    "duration": 16,
    "start_time": "2024-03-07T08:32:37.218Z"
   },
   {
    "duration": 14,
    "start_time": "2024-03-07T08:32:37.236Z"
   },
   {
    "duration": 11,
    "start_time": "2024-03-07T08:32:37.252Z"
   },
   {
    "duration": 39,
    "start_time": "2024-03-07T08:32:37.264Z"
   },
   {
    "duration": 15,
    "start_time": "2024-03-07T08:32:37.305Z"
   },
   {
    "duration": 7,
    "start_time": "2024-03-07T08:32:37.321Z"
   },
   {
    "duration": 19,
    "start_time": "2024-03-07T08:32:37.331Z"
   },
   {
    "duration": 7,
    "start_time": "2024-03-07T08:32:37.352Z"
   },
   {
    "duration": 34,
    "start_time": "2024-03-07T08:32:37.361Z"
   },
   {
    "duration": 18,
    "start_time": "2024-03-07T08:32:37.397Z"
   },
   {
    "duration": 8,
    "start_time": "2024-03-07T08:32:37.418Z"
   },
   {
    "duration": 18,
    "start_time": "2024-03-07T08:32:37.427Z"
   },
   {
    "duration": 21,
    "start_time": "2024-03-07T08:32:37.446Z"
   },
   {
    "duration": 30,
    "start_time": "2024-03-07T08:32:37.468Z"
   },
   {
    "duration": 6,
    "start_time": "2024-03-07T08:32:37.500Z"
   },
   {
    "duration": 39,
    "start_time": "2024-03-07T08:32:37.508Z"
   },
   {
    "duration": 9,
    "start_time": "2024-03-07T08:32:37.549Z"
   },
   {
    "duration": 222,
    "start_time": "2024-03-07T08:32:37.559Z"
   },
   {
    "duration": 11,
    "start_time": "2024-03-07T08:32:37.783Z"
   },
   {
    "duration": 237,
    "start_time": "2024-03-07T08:32:37.797Z"
   },
   {
    "duration": 188,
    "start_time": "2024-03-07T08:32:38.036Z"
   },
   {
    "duration": 5,
    "start_time": "2024-03-07T08:32:38.226Z"
   },
   {
    "duration": 15,
    "start_time": "2024-03-07T08:32:38.232Z"
   },
   {
    "duration": 14,
    "start_time": "2024-03-07T08:32:38.248Z"
   },
   {
    "duration": 7,
    "start_time": "2024-03-07T08:32:38.266Z"
   },
   {
    "duration": 36,
    "start_time": "2024-03-07T08:32:38.274Z"
   },
   {
    "duration": 36,
    "start_time": "2024-03-07T08:32:38.313Z"
   },
   {
    "duration": 14,
    "start_time": "2024-03-07T08:32:38.351Z"
   },
   {
    "duration": 31,
    "start_time": "2024-03-07T08:32:38.367Z"
   },
   {
    "duration": 23,
    "start_time": "2024-03-07T08:32:38.401Z"
   },
   {
    "duration": 236,
    "start_time": "2024-03-07T08:32:38.426Z"
   },
   {
    "duration": 4,
    "start_time": "2024-03-07T08:32:38.663Z"
   },
   {
    "duration": 35,
    "start_time": "2024-03-07T08:32:38.669Z"
   },
   {
    "duration": 19,
    "start_time": "2024-03-07T08:32:38.707Z"
   },
   {
    "duration": 18,
    "start_time": "2024-03-07T08:32:38.727Z"
   },
   {
    "duration": 11,
    "start_time": "2024-03-07T08:32:38.747Z"
   },
   {
    "duration": 33,
    "start_time": "2024-03-07T08:32:38.760Z"
   },
   {
    "duration": 238,
    "start_time": "2024-03-07T08:32:38.796Z"
   },
   {
    "duration": 8,
    "start_time": "2024-03-07T08:32:39.035Z"
   },
   {
    "duration": 11,
    "start_time": "2024-03-07T08:32:39.044Z"
   },
   {
    "duration": 9,
    "start_time": "2024-03-07T08:32:39.057Z"
   },
   {
    "duration": 62,
    "start_time": "2024-03-07T08:32:39.067Z"
   },
   {
    "duration": 512,
    "start_time": "2024-03-07T08:32:39.131Z"
   },
   {
    "duration": 11,
    "start_time": "2024-03-07T08:32:39.644Z"
   },
   {
    "duration": 13,
    "start_time": "2024-03-07T08:32:39.656Z"
   },
   {
    "duration": 28,
    "start_time": "2024-03-07T08:32:39.671Z"
   },
   {
    "duration": 94,
    "start_time": "2024-03-07T08:32:39.702Z"
   },
   {
    "duration": 147,
    "start_time": "2024-03-07T08:32:39.800Z"
   },
   {
    "duration": 27,
    "start_time": "2024-03-07T08:32:39.949Z"
   },
   {
    "duration": 284,
    "start_time": "2024-03-07T08:32:39.978Z"
   },
   {
    "duration": 7,
    "start_time": "2024-03-07T08:32:40.263Z"
   },
   {
    "duration": 29,
    "start_time": "2024-03-07T08:32:40.272Z"
   },
   {
    "duration": 22,
    "start_time": "2024-03-07T08:32:40.303Z"
   },
   {
    "duration": 33,
    "start_time": "2024-03-07T08:32:40.327Z"
   },
   {
    "duration": 96,
    "start_time": "2024-03-07T08:32:40.362Z"
   },
   {
    "duration": 19,
    "start_time": "2024-03-07T08:32:40.460Z"
   },
   {
    "duration": 24,
    "start_time": "2024-03-07T08:32:40.481Z"
   },
   {
    "duration": 20,
    "start_time": "2024-03-07T08:32:40.507Z"
   },
   {
    "duration": 44,
    "start_time": "2024-03-07T08:32:40.529Z"
   },
   {
    "duration": 29,
    "start_time": "2024-03-07T08:32:40.574Z"
   },
   {
    "duration": 13,
    "start_time": "2024-03-07T08:32:40.605Z"
   },
   {
    "duration": 54,
    "start_time": "2024-03-07T08:32:40.620Z"
   },
   {
    "duration": 18,
    "start_time": "2024-03-07T08:32:40.675Z"
   },
   {
    "duration": 38,
    "start_time": "2024-03-07T08:32:40.695Z"
   },
   {
    "duration": 19,
    "start_time": "2024-03-07T08:32:40.735Z"
   },
   {
    "duration": 10,
    "start_time": "2024-03-07T08:32:40.756Z"
   },
   {
    "duration": 24,
    "start_time": "2024-03-07T08:32:40.767Z"
   },
   {
    "duration": 22,
    "start_time": "2024-03-07T08:32:40.793Z"
   },
   {
    "duration": 439,
    "start_time": "2024-03-07T08:32:40.817Z"
   },
   {
    "duration": 327,
    "start_time": "2024-03-07T08:32:41.258Z"
   },
   {
    "duration": 18,
    "start_time": "2024-03-07T08:32:41.586Z"
   },
   {
    "duration": 9,
    "start_time": "2024-03-07T08:32:41.606Z"
   },
   {
    "duration": 10,
    "start_time": "2024-03-07T08:32:41.616Z"
   },
   {
    "duration": 15,
    "start_time": "2024-03-07T08:32:41.629Z"
   },
   {
    "duration": 50,
    "start_time": "2024-03-07T08:32:41.646Z"
   },
   {
    "duration": 18,
    "start_time": "2024-03-07T08:32:41.697Z"
   },
   {
    "duration": 106,
    "start_time": "2024-03-07T08:34:02.088Z"
   },
   {
    "duration": 97,
    "start_time": "2024-03-07T08:34:13.037Z"
   },
   {
    "duration": 100,
    "start_time": "2024-03-07T09:31:51.301Z"
   },
   {
    "duration": 112,
    "start_time": "2024-03-07T09:32:19.714Z"
   },
   {
    "duration": 99,
    "start_time": "2024-03-07T09:33:02.396Z"
   },
   {
    "duration": 114,
    "start_time": "2024-03-07T09:34:31.834Z"
   },
   {
    "duration": 12,
    "start_time": "2024-03-07T09:34:47.182Z"
   },
   {
    "duration": 104,
    "start_time": "2024-03-07T09:35:41.234Z"
   },
   {
    "duration": 10,
    "start_time": "2024-03-07T09:36:34.626Z"
   },
   {
    "duration": 11,
    "start_time": "2024-03-07T09:39:16.596Z"
   },
   {
    "duration": 11,
    "start_time": "2024-03-07T09:39:23.818Z"
   },
   {
    "duration": 12,
    "start_time": "2024-03-07T09:40:18.267Z"
   },
   {
    "duration": 10,
    "start_time": "2024-03-07T09:55:08.019Z"
   },
   {
    "duration": 14,
    "start_time": "2024-03-07T10:24:22.578Z"
   },
   {
    "duration": 14,
    "start_time": "2024-03-07T10:24:45.674Z"
   },
   {
    "duration": 8,
    "start_time": "2024-03-07T10:26:47.372Z"
   },
   {
    "duration": 9,
    "start_time": "2024-03-07T10:27:48.186Z"
   },
   {
    "duration": 1591,
    "start_time": "2024-03-07T10:55:51.716Z"
   },
   {
    "duration": 10,
    "start_time": "2024-03-07T10:56:31.802Z"
   },
   {
    "duration": 8,
    "start_time": "2024-03-07T10:56:35.090Z"
   },
   {
    "duration": 184,
    "start_time": "2024-03-07T10:56:52.235Z"
   },
   {
    "duration": 6,
    "start_time": "2024-03-07T10:57:54.960Z"
   },
   {
    "duration": 7,
    "start_time": "2024-03-07T10:58:07.388Z"
   },
   {
    "duration": 196,
    "start_time": "2024-03-07T10:59:33.902Z"
   },
   {
    "duration": 7,
    "start_time": "2024-03-07T11:04:02.048Z"
   },
   {
    "duration": 5,
    "start_time": "2024-03-07T11:06:33.199Z"
   },
   {
    "duration": 302,
    "start_time": "2024-03-07T11:06:44.237Z"
   },
   {
    "duration": 311,
    "start_time": "2024-03-07T11:08:49.415Z"
   },
   {
    "duration": 7,
    "start_time": "2024-03-07T11:10:02.620Z"
   },
   {
    "duration": 190,
    "start_time": "2024-03-07T11:10:03.914Z"
   },
   {
    "duration": 7,
    "start_time": "2024-03-07T11:11:54.504Z"
   },
   {
    "duration": 6,
    "start_time": "2024-03-07T11:13:15.996Z"
   },
   {
    "duration": 293,
    "start_time": "2024-03-07T11:13:28.239Z"
   },
   {
    "duration": 275,
    "start_time": "2024-03-07T11:14:01.230Z"
   },
   {
    "duration": 287,
    "start_time": "2024-03-07T11:14:07.065Z"
   },
   {
    "duration": 346,
    "start_time": "2024-03-07T11:14:12.225Z"
   },
   {
    "duration": 247,
    "start_time": "2024-03-07T11:14:31.303Z"
   },
   {
    "duration": 7,
    "start_time": "2024-03-07T11:24:59.670Z"
   },
   {
    "duration": 215,
    "start_time": "2024-03-07T11:25:00.176Z"
   },
   {
    "duration": 197,
    "start_time": "2024-03-07T11:25:13.946Z"
   },
   {
    "duration": 176,
    "start_time": "2024-03-07T11:25:20.946Z"
   },
   {
    "duration": 7,
    "start_time": "2024-03-07T11:26:02.160Z"
   },
   {
    "duration": 173,
    "start_time": "2024-03-07T11:26:15.005Z"
   },
   {
    "duration": 6,
    "start_time": "2024-03-07T11:26:36.662Z"
   },
   {
    "duration": 7,
    "start_time": "2024-03-07T11:27:38.703Z"
   },
   {
    "duration": 172,
    "start_time": "2024-03-07T11:27:39.894Z"
   },
   {
    "duration": 7,
    "start_time": "2024-03-07T11:39:04.294Z"
   },
   {
    "duration": 160,
    "start_time": "2024-03-07T11:39:06.396Z"
   },
   {
    "duration": 139,
    "start_time": "2024-03-07T11:39:12.626Z"
   },
   {
    "duration": 182,
    "start_time": "2024-03-07T11:39:20.932Z"
   },
   {
    "duration": 207,
    "start_time": "2024-03-07T11:39:26.774Z"
   },
   {
    "duration": 243,
    "start_time": "2024-03-07T11:40:50.448Z"
   },
   {
    "duration": 163,
    "start_time": "2024-03-07T11:42:03.410Z"
   },
   {
    "duration": 14,
    "start_time": "2024-03-07T11:45:06.598Z"
   },
   {
    "duration": 460,
    "start_time": "2024-03-07T11:45:06.972Z"
   },
   {
    "duration": 6,
    "start_time": "2024-03-07T11:45:27.659Z"
   },
   {
    "duration": 173,
    "start_time": "2024-03-07T11:45:29.241Z"
   },
   {
    "duration": 4,
    "start_time": "2024-03-07T11:53:36.297Z"
   },
   {
    "duration": 255,
    "start_time": "2024-03-07T11:53:49.196Z"
   },
   {
    "duration": 4,
    "start_time": "2024-03-07T12:00:23.796Z"
   },
   {
    "duration": 238,
    "start_time": "2024-03-07T12:00:38.581Z"
   },
   {
    "duration": 17,
    "start_time": "2024-03-07T12:00:49.814Z"
   },
   {
    "duration": 9,
    "start_time": "2024-03-07T12:01:47.498Z"
   },
   {
    "duration": 15,
    "start_time": "2024-03-07T12:01:51.528Z"
   },
   {
    "duration": 1377,
    "start_time": "2024-03-07T12:02:53.240Z"
   },
   {
    "duration": 51,
    "start_time": "2024-03-07T12:02:54.619Z"
   },
   {
    "duration": 14,
    "start_time": "2024-03-07T12:02:54.672Z"
   },
   {
    "duration": 16,
    "start_time": "2024-03-07T12:02:54.688Z"
   },
   {
    "duration": 13,
    "start_time": "2024-03-07T12:02:54.706Z"
   },
   {
    "duration": 16,
    "start_time": "2024-03-07T12:02:54.721Z"
   },
   {
    "duration": 31,
    "start_time": "2024-03-07T12:02:54.739Z"
   },
   {
    "duration": 18,
    "start_time": "2024-03-07T12:02:54.772Z"
   },
   {
    "duration": 7,
    "start_time": "2024-03-07T12:02:54.792Z"
   },
   {
    "duration": 13,
    "start_time": "2024-03-07T12:02:54.801Z"
   },
   {
    "duration": 12,
    "start_time": "2024-03-07T12:02:54.815Z"
   },
   {
    "duration": 9,
    "start_time": "2024-03-07T12:02:54.829Z"
   },
   {
    "duration": 14,
    "start_time": "2024-03-07T12:02:54.840Z"
   },
   {
    "duration": 29,
    "start_time": "2024-03-07T12:02:54.856Z"
   },
   {
    "duration": 34,
    "start_time": "2024-03-07T12:02:54.891Z"
   },
   {
    "duration": 24,
    "start_time": "2024-03-07T12:02:54.926Z"
   },
   {
    "duration": 60,
    "start_time": "2024-03-07T12:02:54.952Z"
   },
   {
    "duration": 17,
    "start_time": "2024-03-07T12:02:55.014Z"
   },
   {
    "duration": 30,
    "start_time": "2024-03-07T12:02:55.032Z"
   },
   {
    "duration": 14,
    "start_time": "2024-03-07T12:02:55.064Z"
   },
   {
    "duration": 214,
    "start_time": "2024-03-07T12:02:55.080Z"
   },
   {
    "duration": 8,
    "start_time": "2024-03-07T12:02:55.296Z"
   },
   {
    "duration": 249,
    "start_time": "2024-03-07T12:02:55.305Z"
   },
   {
    "duration": 17,
    "start_time": "2024-03-07T12:02:55.555Z"
   },
   {
    "duration": 191,
    "start_time": "2024-03-07T12:02:55.574Z"
   },
   {
    "duration": 7,
    "start_time": "2024-03-07T12:02:55.768Z"
   },
   {
    "duration": 185,
    "start_time": "2024-03-07T12:02:55.776Z"
   },
   {
    "duration": 191,
    "start_time": "2024-03-07T12:02:55.966Z"
   },
   {
    "duration": 5,
    "start_time": "2024-03-07T12:02:56.158Z"
   },
   {
    "duration": 29,
    "start_time": "2024-03-07T12:02:56.165Z"
   },
   {
    "duration": 7,
    "start_time": "2024-03-07T12:02:56.196Z"
   },
   {
    "duration": 12,
    "start_time": "2024-03-07T12:02:56.205Z"
   },
   {
    "duration": 56,
    "start_time": "2024-03-07T12:02:56.219Z"
   },
   {
    "duration": 26,
    "start_time": "2024-03-07T12:02:56.277Z"
   },
   {
    "duration": 15,
    "start_time": "2024-03-07T12:02:56.305Z"
   },
   {
    "duration": 46,
    "start_time": "2024-03-07T12:02:56.321Z"
   },
   {
    "duration": 18,
    "start_time": "2024-03-07T12:02:56.369Z"
   },
   {
    "duration": 180,
    "start_time": "2024-03-07T12:02:56.389Z"
   },
   {
    "duration": 5,
    "start_time": "2024-03-07T12:02:56.570Z"
   },
   {
    "duration": 512,
    "start_time": "2024-03-07T12:02:56.577Z"
   },
   {
    "duration": 1,
    "start_time": "2024-03-07T12:02:57.091Z"
   },
   {
    "duration": 0,
    "start_time": "2024-03-07T12:02:57.093Z"
   },
   {
    "duration": 0,
    "start_time": "2024-03-07T12:02:57.094Z"
   },
   {
    "duration": 0,
    "start_time": "2024-03-07T12:02:57.095Z"
   },
   {
    "duration": 0,
    "start_time": "2024-03-07T12:02:57.096Z"
   },
   {
    "duration": 0,
    "start_time": "2024-03-07T12:02:57.098Z"
   },
   {
    "duration": 0,
    "start_time": "2024-03-07T12:02:57.098Z"
   },
   {
    "duration": 0,
    "start_time": "2024-03-07T12:02:57.099Z"
   },
   {
    "duration": 0,
    "start_time": "2024-03-07T12:02:57.101Z"
   },
   {
    "duration": 0,
    "start_time": "2024-03-07T12:02:57.102Z"
   },
   {
    "duration": 0,
    "start_time": "2024-03-07T12:02:57.103Z"
   },
   {
    "duration": 0,
    "start_time": "2024-03-07T12:02:57.105Z"
   },
   {
    "duration": 0,
    "start_time": "2024-03-07T12:02:57.106Z"
   },
   {
    "duration": 0,
    "start_time": "2024-03-07T12:02:57.107Z"
   },
   {
    "duration": 0,
    "start_time": "2024-03-07T12:02:57.108Z"
   },
   {
    "duration": 0,
    "start_time": "2024-03-07T12:02:57.109Z"
   },
   {
    "duration": 0,
    "start_time": "2024-03-07T12:02:57.110Z"
   },
   {
    "duration": 0,
    "start_time": "2024-03-07T12:02:57.111Z"
   },
   {
    "duration": 0,
    "start_time": "2024-03-07T12:02:57.112Z"
   },
   {
    "duration": 0,
    "start_time": "2024-03-07T12:02:57.113Z"
   },
   {
    "duration": 0,
    "start_time": "2024-03-07T12:02:57.114Z"
   },
   {
    "duration": 0,
    "start_time": "2024-03-07T12:02:57.115Z"
   },
   {
    "duration": 0,
    "start_time": "2024-03-07T12:02:57.116Z"
   },
   {
    "duration": 0,
    "start_time": "2024-03-07T12:02:57.117Z"
   },
   {
    "duration": 0,
    "start_time": "2024-03-07T12:02:57.119Z"
   },
   {
    "duration": 0,
    "start_time": "2024-03-07T12:02:57.120Z"
   },
   {
    "duration": 0,
    "start_time": "2024-03-07T12:02:57.121Z"
   },
   {
    "duration": 0,
    "start_time": "2024-03-07T12:02:57.122Z"
   },
   {
    "duration": 0,
    "start_time": "2024-03-07T12:02:57.123Z"
   },
   {
    "duration": 0,
    "start_time": "2024-03-07T12:02:57.124Z"
   },
   {
    "duration": 0,
    "start_time": "2024-03-07T12:02:57.125Z"
   },
   {
    "duration": 0,
    "start_time": "2024-03-07T12:02:57.127Z"
   },
   {
    "duration": 0,
    "start_time": "2024-03-07T12:02:57.128Z"
   },
   {
    "duration": 0,
    "start_time": "2024-03-07T12:02:57.129Z"
   },
   {
    "duration": 0,
    "start_time": "2024-03-07T12:02:57.130Z"
   },
   {
    "duration": 0,
    "start_time": "2024-03-07T12:02:57.131Z"
   },
   {
    "duration": 0,
    "start_time": "2024-03-07T12:02:57.133Z"
   },
   {
    "duration": 0,
    "start_time": "2024-03-07T12:02:57.134Z"
   },
   {
    "duration": 0,
    "start_time": "2024-03-07T12:02:57.192Z"
   },
   {
    "duration": 0,
    "start_time": "2024-03-07T12:02:57.193Z"
   },
   {
    "duration": 0,
    "start_time": "2024-03-07T12:02:57.194Z"
   },
   {
    "duration": 0,
    "start_time": "2024-03-07T12:02:57.195Z"
   },
   {
    "duration": 0,
    "start_time": "2024-03-07T12:02:57.196Z"
   },
   {
    "duration": 0,
    "start_time": "2024-03-07T12:02:57.197Z"
   },
   {
    "duration": 0,
    "start_time": "2024-03-07T12:02:57.198Z"
   },
   {
    "duration": 0,
    "start_time": "2024-03-07T12:02:57.200Z"
   },
   {
    "duration": 0,
    "start_time": "2024-03-07T12:02:57.201Z"
   },
   {
    "duration": 0,
    "start_time": "2024-03-07T12:02:57.202Z"
   },
   {
    "duration": 4,
    "start_time": "2024-03-07T12:03:48.565Z"
   },
   {
    "duration": 416,
    "start_time": "2024-03-07T12:03:51.424Z"
   },
   {
    "duration": 1387,
    "start_time": "2024-03-07T12:03:56.629Z"
   },
   {
    "duration": 49,
    "start_time": "2024-03-07T12:03:58.018Z"
   },
   {
    "duration": 14,
    "start_time": "2024-03-07T12:03:58.068Z"
   },
   {
    "duration": 18,
    "start_time": "2024-03-07T12:03:58.084Z"
   },
   {
    "duration": 14,
    "start_time": "2024-03-07T12:03:58.104Z"
   },
   {
    "duration": 13,
    "start_time": "2024-03-07T12:03:58.119Z"
   },
   {
    "duration": 11,
    "start_time": "2024-03-07T12:03:58.133Z"
   },
   {
    "duration": 20,
    "start_time": "2024-03-07T12:03:58.145Z"
   },
   {
    "duration": 30,
    "start_time": "2024-03-07T12:03:58.167Z"
   },
   {
    "duration": 9,
    "start_time": "2024-03-07T12:03:58.200Z"
   },
   {
    "duration": 8,
    "start_time": "2024-03-07T12:03:58.211Z"
   },
   {
    "duration": 9,
    "start_time": "2024-03-07T12:03:58.221Z"
   },
   {
    "duration": 19,
    "start_time": "2024-03-07T12:03:58.231Z"
   },
   {
    "duration": 6,
    "start_time": "2024-03-07T12:03:58.251Z"
   },
   {
    "duration": 44,
    "start_time": "2024-03-07T12:03:58.259Z"
   },
   {
    "duration": 11,
    "start_time": "2024-03-07T12:03:58.305Z"
   },
   {
    "duration": 18,
    "start_time": "2024-03-07T12:03:58.318Z"
   },
   {
    "duration": 5,
    "start_time": "2024-03-07T12:03:58.337Z"
   },
   {
    "duration": 9,
    "start_time": "2024-03-07T12:03:58.343Z"
   },
   {
    "duration": 5,
    "start_time": "2024-03-07T12:03:58.353Z"
   },
   {
    "duration": 247,
    "start_time": "2024-03-07T12:03:58.360Z"
   },
   {
    "duration": 7,
    "start_time": "2024-03-07T12:03:58.609Z"
   },
   {
    "duration": 209,
    "start_time": "2024-03-07T12:03:58.618Z"
   },
   {
    "duration": 8,
    "start_time": "2024-03-07T12:03:58.828Z"
   },
   {
    "duration": 187,
    "start_time": "2024-03-07T12:03:58.837Z"
   },
   {
    "duration": 7,
    "start_time": "2024-03-07T12:03:59.026Z"
   },
   {
    "duration": 185,
    "start_time": "2024-03-07T12:03:59.035Z"
   },
   {
    "duration": 191,
    "start_time": "2024-03-07T12:03:59.225Z"
   },
   {
    "duration": 6,
    "start_time": "2024-03-07T12:03:59.418Z"
   },
   {
    "duration": 7,
    "start_time": "2024-03-07T12:03:59.426Z"
   },
   {
    "duration": 10,
    "start_time": "2024-03-07T12:03:59.435Z"
   },
   {
    "duration": 12,
    "start_time": "2024-03-07T12:03:59.446Z"
   },
   {
    "duration": 38,
    "start_time": "2024-03-07T12:03:59.460Z"
   },
   {
    "duration": 13,
    "start_time": "2024-03-07T12:03:59.500Z"
   },
   {
    "duration": 9,
    "start_time": "2024-03-07T12:03:59.515Z"
   },
   {
    "duration": 17,
    "start_time": "2024-03-07T12:03:59.526Z"
   },
   {
    "duration": 27,
    "start_time": "2024-03-07T12:03:59.545Z"
   },
   {
    "duration": 220,
    "start_time": "2024-03-07T12:03:59.574Z"
   },
   {
    "duration": 5,
    "start_time": "2024-03-07T12:03:59.796Z"
   },
   {
    "duration": 564,
    "start_time": "2024-03-07T12:03:59.803Z"
   },
   {
    "duration": 0,
    "start_time": "2024-03-07T12:04:00.369Z"
   },
   {
    "duration": 0,
    "start_time": "2024-03-07T12:04:00.370Z"
   },
   {
    "duration": 0,
    "start_time": "2024-03-07T12:04:00.372Z"
   },
   {
    "duration": 0,
    "start_time": "2024-03-07T12:04:00.373Z"
   },
   {
    "duration": 0,
    "start_time": "2024-03-07T12:04:00.374Z"
   },
   {
    "duration": 0,
    "start_time": "2024-03-07T12:04:00.376Z"
   },
   {
    "duration": 0,
    "start_time": "2024-03-07T12:04:00.377Z"
   },
   {
    "duration": 0,
    "start_time": "2024-03-07T12:04:00.378Z"
   },
   {
    "duration": 0,
    "start_time": "2024-03-07T12:04:00.379Z"
   },
   {
    "duration": 0,
    "start_time": "2024-03-07T12:04:00.381Z"
   },
   {
    "duration": 0,
    "start_time": "2024-03-07T12:04:00.382Z"
   },
   {
    "duration": 0,
    "start_time": "2024-03-07T12:04:00.383Z"
   },
   {
    "duration": 0,
    "start_time": "2024-03-07T12:04:00.385Z"
   },
   {
    "duration": 0,
    "start_time": "2024-03-07T12:04:00.386Z"
   },
   {
    "duration": 0,
    "start_time": "2024-03-07T12:04:00.387Z"
   },
   {
    "duration": 0,
    "start_time": "2024-03-07T12:04:00.389Z"
   },
   {
    "duration": 0,
    "start_time": "2024-03-07T12:04:00.389Z"
   },
   {
    "duration": 0,
    "start_time": "2024-03-07T12:04:00.391Z"
   },
   {
    "duration": 0,
    "start_time": "2024-03-07T12:04:00.392Z"
   },
   {
    "duration": 0,
    "start_time": "2024-03-07T12:04:00.393Z"
   },
   {
    "duration": 0,
    "start_time": "2024-03-07T12:04:00.394Z"
   },
   {
    "duration": 0,
    "start_time": "2024-03-07T12:04:00.395Z"
   },
   {
    "duration": 0,
    "start_time": "2024-03-07T12:04:00.396Z"
   },
   {
    "duration": 0,
    "start_time": "2024-03-07T12:04:00.397Z"
   },
   {
    "duration": 1,
    "start_time": "2024-03-07T12:04:00.398Z"
   },
   {
    "duration": 0,
    "start_time": "2024-03-07T12:04:00.399Z"
   },
   {
    "duration": 1,
    "start_time": "2024-03-07T12:04:00.400Z"
   },
   {
    "duration": 0,
    "start_time": "2024-03-07T12:04:00.402Z"
   },
   {
    "duration": 0,
    "start_time": "2024-03-07T12:04:00.403Z"
   },
   {
    "duration": 0,
    "start_time": "2024-03-07T12:04:00.404Z"
   },
   {
    "duration": 0,
    "start_time": "2024-03-07T12:04:00.405Z"
   },
   {
    "duration": 0,
    "start_time": "2024-03-07T12:04:00.406Z"
   },
   {
    "duration": 0,
    "start_time": "2024-03-07T12:04:00.407Z"
   },
   {
    "duration": 0,
    "start_time": "2024-03-07T12:04:00.408Z"
   },
   {
    "duration": 0,
    "start_time": "2024-03-07T12:04:00.409Z"
   },
   {
    "duration": 0,
    "start_time": "2024-03-07T12:04:00.410Z"
   },
   {
    "duration": 0,
    "start_time": "2024-03-07T12:04:00.410Z"
   },
   {
    "duration": 0,
    "start_time": "2024-03-07T12:04:00.412Z"
   },
   {
    "duration": 0,
    "start_time": "2024-03-07T12:04:00.413Z"
   },
   {
    "duration": 0,
    "start_time": "2024-03-07T12:04:00.414Z"
   },
   {
    "duration": 0,
    "start_time": "2024-03-07T12:04:00.415Z"
   },
   {
    "duration": 1,
    "start_time": "2024-03-07T12:04:00.416Z"
   },
   {
    "duration": 0,
    "start_time": "2024-03-07T12:04:00.418Z"
   },
   {
    "duration": 0,
    "start_time": "2024-03-07T12:04:00.419Z"
   },
   {
    "duration": 0,
    "start_time": "2024-03-07T12:04:00.420Z"
   },
   {
    "duration": 0,
    "start_time": "2024-03-07T12:04:00.421Z"
   },
   {
    "duration": 0,
    "start_time": "2024-03-07T12:04:00.422Z"
   },
   {
    "duration": 0,
    "start_time": "2024-03-07T12:04:00.423Z"
   },
   {
    "duration": 426,
    "start_time": "2024-03-07T12:05:08.871Z"
   },
   {
    "duration": 1366,
    "start_time": "2024-03-07T12:05:26.116Z"
   },
   {
    "duration": 49,
    "start_time": "2024-03-07T12:05:27.484Z"
   },
   {
    "duration": 14,
    "start_time": "2024-03-07T12:05:27.534Z"
   },
   {
    "duration": 66,
    "start_time": "2024-03-07T12:05:27.550Z"
   },
   {
    "duration": 28,
    "start_time": "2024-03-07T12:05:27.618Z"
   },
   {
    "duration": 49,
    "start_time": "2024-03-07T12:05:27.648Z"
   },
   {
    "duration": 40,
    "start_time": "2024-03-07T12:05:27.699Z"
   },
   {
    "duration": 36,
    "start_time": "2024-03-07T12:05:27.741Z"
   },
   {
    "duration": 24,
    "start_time": "2024-03-07T12:05:27.779Z"
   },
   {
    "duration": 39,
    "start_time": "2024-03-07T12:05:27.807Z"
   },
   {
    "duration": 28,
    "start_time": "2024-03-07T12:05:27.848Z"
   },
   {
    "duration": 24,
    "start_time": "2024-03-07T12:05:27.877Z"
   },
   {
    "duration": 25,
    "start_time": "2024-03-07T12:05:27.903Z"
   },
   {
    "duration": 15,
    "start_time": "2024-03-07T12:05:27.929Z"
   },
   {
    "duration": 30,
    "start_time": "2024-03-07T12:05:27.946Z"
   },
   {
    "duration": 29,
    "start_time": "2024-03-07T12:05:27.978Z"
   },
   {
    "duration": 45,
    "start_time": "2024-03-07T12:05:28.009Z"
   },
   {
    "duration": 29,
    "start_time": "2024-03-07T12:05:28.057Z"
   },
   {
    "duration": 25,
    "start_time": "2024-03-07T12:05:28.087Z"
   },
   {
    "duration": 11,
    "start_time": "2024-03-07T12:05:28.114Z"
   },
   {
    "duration": 224,
    "start_time": "2024-03-07T12:05:28.127Z"
   },
   {
    "duration": 8,
    "start_time": "2024-03-07T12:05:28.353Z"
   },
   {
    "duration": 222,
    "start_time": "2024-03-07T12:05:28.363Z"
   },
   {
    "duration": 11,
    "start_time": "2024-03-07T12:05:28.586Z"
   },
   {
    "duration": 192,
    "start_time": "2024-03-07T12:05:28.598Z"
   },
   {
    "duration": 7,
    "start_time": "2024-03-07T12:05:28.792Z"
   },
   {
    "duration": 199,
    "start_time": "2024-03-07T12:05:28.801Z"
   },
   {
    "duration": 195,
    "start_time": "2024-03-07T12:05:29.006Z"
   },
   {
    "duration": 5,
    "start_time": "2024-03-07T12:05:29.202Z"
   },
   {
    "duration": 29,
    "start_time": "2024-03-07T12:05:29.209Z"
   },
   {
    "duration": 31,
    "start_time": "2024-03-07T12:05:29.239Z"
   },
   {
    "duration": 36,
    "start_time": "2024-03-07T12:05:29.271Z"
   },
   {
    "duration": 23,
    "start_time": "2024-03-07T12:05:29.309Z"
   },
   {
    "duration": 26,
    "start_time": "2024-03-07T12:05:29.333Z"
   },
   {
    "duration": 9,
    "start_time": "2024-03-07T12:05:29.360Z"
   },
   {
    "duration": 90,
    "start_time": "2024-03-07T12:05:29.371Z"
   },
   {
    "duration": 47,
    "start_time": "2024-03-07T12:05:29.463Z"
   },
   {
    "duration": 189,
    "start_time": "2024-03-07T12:05:29.512Z"
   },
   {
    "duration": 5,
    "start_time": "2024-03-07T12:05:29.703Z"
   },
   {
    "duration": 39,
    "start_time": "2024-03-07T12:05:29.709Z"
   },
   {
    "duration": 20,
    "start_time": "2024-03-07T12:05:29.750Z"
   },
   {
    "duration": 30,
    "start_time": "2024-03-07T12:05:29.772Z"
   },
   {
    "duration": 22,
    "start_time": "2024-03-07T12:05:29.804Z"
   },
   {
    "duration": 16,
    "start_time": "2024-03-07T12:05:29.828Z"
   },
   {
    "duration": 219,
    "start_time": "2024-03-07T12:05:29.846Z"
   },
   {
    "duration": 9,
    "start_time": "2024-03-07T12:05:30.067Z"
   },
   {
    "duration": 246,
    "start_time": "2024-03-07T12:05:30.077Z"
   },
   {
    "duration": 359,
    "start_time": "2024-03-07T12:05:30.325Z"
   },
   {
    "duration": 644,
    "start_time": "2024-03-07T12:05:30.685Z"
   },
   {
    "duration": 0,
    "start_time": "2024-03-07T12:05:31.331Z"
   },
   {
    "duration": 0,
    "start_time": "2024-03-07T12:05:31.332Z"
   },
   {
    "duration": 0,
    "start_time": "2024-03-07T12:05:31.334Z"
   },
   {
    "duration": 0,
    "start_time": "2024-03-07T12:05:31.335Z"
   },
   {
    "duration": 0,
    "start_time": "2024-03-07T12:05:31.337Z"
   },
   {
    "duration": 0,
    "start_time": "2024-03-07T12:05:31.338Z"
   },
   {
    "duration": 0,
    "start_time": "2024-03-07T12:05:31.339Z"
   },
   {
    "duration": 0,
    "start_time": "2024-03-07T12:05:31.341Z"
   },
   {
    "duration": 0,
    "start_time": "2024-03-07T12:05:31.342Z"
   },
   {
    "duration": 0,
    "start_time": "2024-03-07T12:05:31.430Z"
   },
   {
    "duration": 0,
    "start_time": "2024-03-07T12:05:31.432Z"
   },
   {
    "duration": 0,
    "start_time": "2024-03-07T12:05:31.433Z"
   },
   {
    "duration": 0,
    "start_time": "2024-03-07T12:05:31.434Z"
   },
   {
    "duration": 0,
    "start_time": "2024-03-07T12:05:31.435Z"
   },
   {
    "duration": 0,
    "start_time": "2024-03-07T12:05:31.436Z"
   },
   {
    "duration": 0,
    "start_time": "2024-03-07T12:05:31.438Z"
   },
   {
    "duration": 0,
    "start_time": "2024-03-07T12:05:31.439Z"
   },
   {
    "duration": 0,
    "start_time": "2024-03-07T12:05:31.440Z"
   },
   {
    "duration": 0,
    "start_time": "2024-03-07T12:05:31.441Z"
   },
   {
    "duration": 0,
    "start_time": "2024-03-07T12:05:31.442Z"
   },
   {
    "duration": 0,
    "start_time": "2024-03-07T12:05:31.443Z"
   },
   {
    "duration": 0,
    "start_time": "2024-03-07T12:05:31.444Z"
   },
   {
    "duration": 0,
    "start_time": "2024-03-07T12:05:31.445Z"
   },
   {
    "duration": 0,
    "start_time": "2024-03-07T12:05:31.446Z"
   },
   {
    "duration": 0,
    "start_time": "2024-03-07T12:05:31.447Z"
   },
   {
    "duration": 0,
    "start_time": "2024-03-07T12:05:31.448Z"
   },
   {
    "duration": 0,
    "start_time": "2024-03-07T12:05:31.449Z"
   },
   {
    "duration": 0,
    "start_time": "2024-03-07T12:05:31.450Z"
   },
   {
    "duration": 0,
    "start_time": "2024-03-07T12:05:31.452Z"
   },
   {
    "duration": 0,
    "start_time": "2024-03-07T12:05:31.453Z"
   },
   {
    "duration": 0,
    "start_time": "2024-03-07T12:05:31.491Z"
   },
   {
    "duration": 0,
    "start_time": "2024-03-07T12:05:31.493Z"
   },
   {
    "duration": 0,
    "start_time": "2024-03-07T12:05:31.494Z"
   },
   {
    "duration": 0,
    "start_time": "2024-03-07T12:05:31.495Z"
   },
   {
    "duration": 0,
    "start_time": "2024-03-07T12:05:31.496Z"
   },
   {
    "duration": 0,
    "start_time": "2024-03-07T12:05:31.497Z"
   },
   {
    "duration": 0,
    "start_time": "2024-03-07T12:05:31.498Z"
   },
   {
    "duration": 0,
    "start_time": "2024-03-07T12:05:31.500Z"
   },
   {
    "duration": 0,
    "start_time": "2024-03-07T12:05:31.501Z"
   },
   {
    "duration": 4,
    "start_time": "2024-03-07T12:06:06.880Z"
   },
   {
    "duration": 1413,
    "start_time": "2024-03-07T12:06:52.067Z"
   },
   {
    "duration": 50,
    "start_time": "2024-03-07T12:06:53.482Z"
   },
   {
    "duration": 14,
    "start_time": "2024-03-07T12:06:53.533Z"
   },
   {
    "duration": 13,
    "start_time": "2024-03-07T12:06:53.549Z"
   },
   {
    "duration": 28,
    "start_time": "2024-03-07T12:06:53.563Z"
   },
   {
    "duration": 31,
    "start_time": "2024-03-07T12:06:53.593Z"
   },
   {
    "duration": 13,
    "start_time": "2024-03-07T12:06:53.626Z"
   },
   {
    "duration": 19,
    "start_time": "2024-03-07T12:06:53.641Z"
   },
   {
    "duration": 7,
    "start_time": "2024-03-07T12:06:53.662Z"
   },
   {
    "duration": 10,
    "start_time": "2024-03-07T12:06:53.673Z"
   },
   {
    "duration": 13,
    "start_time": "2024-03-07T12:06:53.685Z"
   },
   {
    "duration": 9,
    "start_time": "2024-03-07T12:06:53.700Z"
   },
   {
    "duration": 14,
    "start_time": "2024-03-07T12:06:53.711Z"
   },
   {
    "duration": 6,
    "start_time": "2024-03-07T12:06:53.726Z"
   },
   {
    "duration": 17,
    "start_time": "2024-03-07T12:06:53.734Z"
   },
   {
    "duration": 11,
    "start_time": "2024-03-07T12:06:53.753Z"
   },
   {
    "duration": 25,
    "start_time": "2024-03-07T12:06:53.792Z"
   },
   {
    "duration": 19,
    "start_time": "2024-03-07T12:06:53.818Z"
   },
   {
    "duration": 15,
    "start_time": "2024-03-07T12:06:53.838Z"
   },
   {
    "duration": 11,
    "start_time": "2024-03-07T12:06:53.855Z"
   },
   {
    "duration": 247,
    "start_time": "2024-03-07T12:06:53.868Z"
   },
   {
    "duration": 8,
    "start_time": "2024-03-07T12:06:54.116Z"
   },
   {
    "duration": 206,
    "start_time": "2024-03-07T12:06:54.125Z"
   },
   {
    "duration": 7,
    "start_time": "2024-03-07T12:06:54.333Z"
   },
   {
    "duration": 208,
    "start_time": "2024-03-07T12:06:54.342Z"
   },
   {
    "duration": 6,
    "start_time": "2024-03-07T12:06:54.553Z"
   },
   {
    "duration": 188,
    "start_time": "2024-03-07T12:06:54.561Z"
   },
   {
    "duration": 187,
    "start_time": "2024-03-07T12:06:54.753Z"
   },
   {
    "duration": 5,
    "start_time": "2024-03-07T12:06:54.943Z"
   },
   {
    "duration": 17,
    "start_time": "2024-03-07T12:06:54.949Z"
   },
   {
    "duration": 8,
    "start_time": "2024-03-07T12:06:54.967Z"
   },
   {
    "duration": 29,
    "start_time": "2024-03-07T12:06:54.976Z"
   },
   {
    "duration": 52,
    "start_time": "2024-03-07T12:06:55.007Z"
   },
   {
    "duration": 22,
    "start_time": "2024-03-07T12:06:55.061Z"
   },
   {
    "duration": 16,
    "start_time": "2024-03-07T12:06:55.085Z"
   },
   {
    "duration": 27,
    "start_time": "2024-03-07T12:06:55.102Z"
   },
   {
    "duration": 44,
    "start_time": "2024-03-07T12:06:55.131Z"
   },
   {
    "duration": 196,
    "start_time": "2024-03-07T12:06:55.177Z"
   },
   {
    "duration": 4,
    "start_time": "2024-03-07T12:06:55.375Z"
   },
   {
    "duration": 29,
    "start_time": "2024-03-07T12:06:55.380Z"
   },
   {
    "duration": 17,
    "start_time": "2024-03-07T12:06:55.410Z"
   },
   {
    "duration": 18,
    "start_time": "2024-03-07T12:06:55.428Z"
   },
   {
    "duration": 11,
    "start_time": "2024-03-07T12:06:55.448Z"
   },
   {
    "duration": 33,
    "start_time": "2024-03-07T12:06:55.461Z"
   },
   {
    "duration": 229,
    "start_time": "2024-03-07T12:06:55.496Z"
   },
   {
    "duration": 9,
    "start_time": "2024-03-07T12:06:55.727Z"
   },
   {
    "duration": 29,
    "start_time": "2024-03-07T12:06:55.738Z"
   },
   {
    "duration": 35,
    "start_time": "2024-03-07T12:06:55.769Z"
   },
   {
    "duration": 31,
    "start_time": "2024-03-07T12:06:55.805Z"
   },
   {
    "duration": 52,
    "start_time": "2024-03-07T12:06:55.837Z"
   },
   {
    "duration": 485,
    "start_time": "2024-03-07T12:06:55.891Z"
   },
   {
    "duration": 19,
    "start_time": "2024-03-07T12:06:56.378Z"
   },
   {
    "duration": 6,
    "start_time": "2024-03-07T12:06:56.399Z"
   },
   {
    "duration": 14,
    "start_time": "2024-03-07T12:06:56.407Z"
   },
   {
    "duration": 8,
    "start_time": "2024-03-07T12:06:56.423Z"
   },
   {
    "duration": 30,
    "start_time": "2024-03-07T12:06:56.433Z"
   },
   {
    "duration": 14,
    "start_time": "2024-03-07T12:06:56.465Z"
   },
   {
    "duration": 219,
    "start_time": "2024-03-07T12:06:56.481Z"
   },
   {
    "duration": 7,
    "start_time": "2024-03-07T12:06:56.702Z"
   },
   {
    "duration": 9,
    "start_time": "2024-03-07T12:06:56.711Z"
   },
   {
    "duration": 24,
    "start_time": "2024-03-07T12:06:56.722Z"
   },
   {
    "duration": 19,
    "start_time": "2024-03-07T12:06:56.748Z"
   },
   {
    "duration": 39,
    "start_time": "2024-03-07T12:06:56.769Z"
   },
   {
    "duration": 7,
    "start_time": "2024-03-07T12:06:56.810Z"
   },
   {
    "duration": 16,
    "start_time": "2024-03-07T12:06:56.818Z"
   },
   {
    "duration": 7,
    "start_time": "2024-03-07T12:06:56.836Z"
   },
   {
    "duration": 31,
    "start_time": "2024-03-07T12:06:56.845Z"
   },
   {
    "duration": 32,
    "start_time": "2024-03-07T12:06:56.878Z"
   },
   {
    "duration": 19,
    "start_time": "2024-03-07T12:06:56.912Z"
   },
   {
    "duration": 62,
    "start_time": "2024-03-07T12:06:56.933Z"
   },
   {
    "duration": 26,
    "start_time": "2024-03-07T12:06:56.998Z"
   },
   {
    "duration": 12,
    "start_time": "2024-03-07T12:06:57.026Z"
   },
   {
    "duration": 29,
    "start_time": "2024-03-07T12:06:57.041Z"
   },
   {
    "duration": 29,
    "start_time": "2024-03-07T12:06:57.071Z"
   },
   {
    "duration": 19,
    "start_time": "2024-03-07T12:06:57.101Z"
   },
   {
    "duration": 17,
    "start_time": "2024-03-07T12:06:57.122Z"
   },
   {
    "duration": 5,
    "start_time": "2024-03-07T12:06:57.141Z"
   },
   {
    "duration": 275,
    "start_time": "2024-03-07T12:06:57.148Z"
   },
   {
    "duration": 4,
    "start_time": "2024-03-07T12:06:57.425Z"
   },
   {
    "duration": 309,
    "start_time": "2024-03-07T12:06:57.431Z"
   },
   {
    "duration": 4,
    "start_time": "2024-03-07T12:06:57.741Z"
   },
   {
    "duration": 270,
    "start_time": "2024-03-07T12:06:57.751Z"
   },
   {
    "duration": 5,
    "start_time": "2024-03-07T12:06:58.023Z"
   },
   {
    "duration": 267,
    "start_time": "2024-03-07T12:06:58.031Z"
   },
   {
    "duration": 16,
    "start_time": "2024-03-07T12:06:58.300Z"
   },
   {
    "duration": 10,
    "start_time": "2024-03-07T12:06:58.317Z"
   },
   {
    "duration": 13,
    "start_time": "2024-03-07T12:06:58.329Z"
   },
   {
    "duration": 13,
    "start_time": "2024-03-07T12:06:58.344Z"
   },
   {
    "duration": 50,
    "start_time": "2024-03-07T12:06:58.359Z"
   },
   {
    "duration": 259,
    "start_time": "2024-03-07T12:07:40.251Z"
   },
   {
    "duration": 45060,
    "start_time": "2024-03-07T12:19:48.430Z"
   },
   {
    "duration": 23319,
    "start_time": "2024-03-07T12:20:43.496Z"
   },
   {
    "duration": 288,
    "start_time": "2024-03-07T12:39:09.035Z"
   },
   {
    "duration": 24019,
    "start_time": "2024-03-07T12:39:52.486Z"
   },
   {
    "duration": 24291,
    "start_time": "2024-03-07T12:40:45.957Z"
   },
   {
    "duration": 27,
    "start_time": "2024-03-07T13:05:32.604Z"
   },
   {
    "duration": 7,
    "start_time": "2024-03-07T13:05:34.073Z"
   },
   {
    "duration": 178,
    "start_time": "2024-03-07T13:05:39.137Z"
   },
   {
    "duration": 24,
    "start_time": "2024-03-07T13:06:36.902Z"
   },
   {
    "duration": 6,
    "start_time": "2024-03-07T13:06:37.400Z"
   },
   {
    "duration": 188,
    "start_time": "2024-03-07T13:06:38.879Z"
   },
   {
    "duration": 16,
    "start_time": "2024-03-07T13:13:02.867Z"
   },
   {
    "duration": 117,
    "start_time": "2024-03-07T13:13:10.526Z"
   },
   {
    "duration": 255,
    "start_time": "2024-03-07T13:13:25.546Z"
   },
   {
    "duration": 312,
    "start_time": "2024-03-07T13:13:45.662Z"
   },
   {
    "duration": 15,
    "start_time": "2024-03-07T13:14:05.774Z"
   },
   {
    "duration": 252,
    "start_time": "2024-03-07T13:14:07.603Z"
   },
   {
    "duration": 254,
    "start_time": "2024-03-07T13:14:19.091Z"
   },
   {
    "duration": 1415,
    "start_time": "2024-03-07T13:15:14.479Z"
   },
   {
    "duration": 56,
    "start_time": "2024-03-07T13:15:15.895Z"
   },
   {
    "duration": 16,
    "start_time": "2024-03-07T13:15:15.953Z"
   },
   {
    "duration": 16,
    "start_time": "2024-03-07T13:15:15.972Z"
   },
   {
    "duration": 18,
    "start_time": "2024-03-07T13:15:15.991Z"
   },
   {
    "duration": 39,
    "start_time": "2024-03-07T13:15:16.011Z"
   },
   {
    "duration": 15,
    "start_time": "2024-03-07T13:15:16.053Z"
   },
   {
    "duration": 20,
    "start_time": "2024-03-07T13:15:16.070Z"
   },
   {
    "duration": 9,
    "start_time": "2024-03-07T13:15:16.091Z"
   },
   {
    "duration": 12,
    "start_time": "2024-03-07T13:15:16.103Z"
   },
   {
    "duration": 8,
    "start_time": "2024-03-07T13:15:16.117Z"
   },
   {
    "duration": 10,
    "start_time": "2024-03-07T13:15:16.126Z"
   },
   {
    "duration": 15,
    "start_time": "2024-03-07T13:15:16.137Z"
   },
   {
    "duration": 40,
    "start_time": "2024-03-07T13:15:16.153Z"
   },
   {
    "duration": 14,
    "start_time": "2024-03-07T13:15:16.195Z"
   },
   {
    "duration": 12,
    "start_time": "2024-03-07T13:15:16.210Z"
   },
   {
    "duration": 13,
    "start_time": "2024-03-07T13:15:16.223Z"
   },
   {
    "duration": 20,
    "start_time": "2024-03-07T13:15:16.238Z"
   },
   {
    "duration": 32,
    "start_time": "2024-03-07T13:15:16.260Z"
   },
   {
    "duration": 6,
    "start_time": "2024-03-07T13:15:16.294Z"
   },
   {
    "duration": 217,
    "start_time": "2024-03-07T13:15:16.302Z"
   },
   {
    "duration": 24,
    "start_time": "2024-03-07T13:15:16.521Z"
   },
   {
    "duration": 21,
    "start_time": "2024-03-07T13:15:16.547Z"
   },
   {
    "duration": 179,
    "start_time": "2024-03-07T13:15:16.570Z"
   },
   {
    "duration": 197,
    "start_time": "2024-03-07T13:15:16.752Z"
   },
   {
    "duration": 6,
    "start_time": "2024-03-07T13:15:16.951Z"
   },
   {
    "duration": 22,
    "start_time": "2024-03-07T13:15:16.958Z"
   },
   {
    "duration": 9,
    "start_time": "2024-03-07T13:15:16.984Z"
   },
   {
    "duration": 6,
    "start_time": "2024-03-07T13:15:16.995Z"
   },
   {
    "duration": 21,
    "start_time": "2024-03-07T13:15:17.003Z"
   },
   {
    "duration": 12,
    "start_time": "2024-03-07T13:15:17.026Z"
   },
   {
    "duration": 9,
    "start_time": "2024-03-07T13:15:17.040Z"
   },
   {
    "duration": 45,
    "start_time": "2024-03-07T13:15:17.051Z"
   },
   {
    "duration": 15,
    "start_time": "2024-03-07T13:15:17.098Z"
   },
   {
    "duration": 202,
    "start_time": "2024-03-07T13:15:17.115Z"
   },
   {
    "duration": 5,
    "start_time": "2024-03-07T13:15:17.320Z"
   },
   {
    "duration": 523,
    "start_time": "2024-03-07T13:15:17.327Z"
   },
   {
    "duration": 1,
    "start_time": "2024-03-07T13:15:17.851Z"
   },
   {
    "duration": 0,
    "start_time": "2024-03-07T13:15:17.853Z"
   },
   {
    "duration": 0,
    "start_time": "2024-03-07T13:15:17.854Z"
   },
   {
    "duration": 0,
    "start_time": "2024-03-07T13:15:17.855Z"
   },
   {
    "duration": 0,
    "start_time": "2024-03-07T13:15:17.857Z"
   },
   {
    "duration": 0,
    "start_time": "2024-03-07T13:15:17.858Z"
   },
   {
    "duration": 0,
    "start_time": "2024-03-07T13:15:17.859Z"
   },
   {
    "duration": 0,
    "start_time": "2024-03-07T13:15:17.860Z"
   },
   {
    "duration": 0,
    "start_time": "2024-03-07T13:15:17.861Z"
   },
   {
    "duration": 0,
    "start_time": "2024-03-07T13:15:17.862Z"
   },
   {
    "duration": 0,
    "start_time": "2024-03-07T13:15:17.863Z"
   },
   {
    "duration": 0,
    "start_time": "2024-03-07T13:15:17.865Z"
   },
   {
    "duration": 0,
    "start_time": "2024-03-07T13:15:17.866Z"
   },
   {
    "duration": 0,
    "start_time": "2024-03-07T13:15:17.867Z"
   },
   {
    "duration": 0,
    "start_time": "2024-03-07T13:15:17.868Z"
   },
   {
    "duration": 0,
    "start_time": "2024-03-07T13:15:17.869Z"
   },
   {
    "duration": 0,
    "start_time": "2024-03-07T13:15:17.871Z"
   },
   {
    "duration": 0,
    "start_time": "2024-03-07T13:15:17.872Z"
   },
   {
    "duration": 0,
    "start_time": "2024-03-07T13:15:17.873Z"
   },
   {
    "duration": 0,
    "start_time": "2024-03-07T13:15:17.874Z"
   },
   {
    "duration": 0,
    "start_time": "2024-03-07T13:15:17.875Z"
   },
   {
    "duration": 0,
    "start_time": "2024-03-07T13:15:17.876Z"
   },
   {
    "duration": 0,
    "start_time": "2024-03-07T13:15:17.877Z"
   },
   {
    "duration": 0,
    "start_time": "2024-03-07T13:15:17.878Z"
   },
   {
    "duration": 0,
    "start_time": "2024-03-07T13:15:17.879Z"
   },
   {
    "duration": 0,
    "start_time": "2024-03-07T13:15:17.880Z"
   },
   {
    "duration": 0,
    "start_time": "2024-03-07T13:15:17.881Z"
   },
   {
    "duration": 0,
    "start_time": "2024-03-07T13:15:17.883Z"
   },
   {
    "duration": 0,
    "start_time": "2024-03-07T13:15:17.883Z"
   },
   {
    "duration": 0,
    "start_time": "2024-03-07T13:15:17.885Z"
   },
   {
    "duration": 0,
    "start_time": "2024-03-07T13:15:17.886Z"
   },
   {
    "duration": 0,
    "start_time": "2024-03-07T13:15:17.887Z"
   },
   {
    "duration": 0,
    "start_time": "2024-03-07T13:15:17.891Z"
   },
   {
    "duration": 0,
    "start_time": "2024-03-07T13:15:17.892Z"
   },
   {
    "duration": 0,
    "start_time": "2024-03-07T13:15:17.893Z"
   },
   {
    "duration": 0,
    "start_time": "2024-03-07T13:15:17.894Z"
   },
   {
    "duration": 0,
    "start_time": "2024-03-07T13:15:17.895Z"
   },
   {
    "duration": 0,
    "start_time": "2024-03-07T13:15:17.896Z"
   },
   {
    "duration": 0,
    "start_time": "2024-03-07T13:15:17.897Z"
   },
   {
    "duration": 0,
    "start_time": "2024-03-07T13:15:17.898Z"
   },
   {
    "duration": 0,
    "start_time": "2024-03-07T13:15:17.899Z"
   },
   {
    "duration": 0,
    "start_time": "2024-03-07T13:15:17.900Z"
   },
   {
    "duration": 0,
    "start_time": "2024-03-07T13:15:17.902Z"
   },
   {
    "duration": 0,
    "start_time": "2024-03-07T13:15:17.903Z"
   },
   {
    "duration": 0,
    "start_time": "2024-03-07T13:15:17.904Z"
   },
   {
    "duration": 410,
    "start_time": "2024-03-07T13:15:58.185Z"
   },
   {
    "duration": 1458,
    "start_time": "2024-03-07T13:16:20.472Z"
   },
   {
    "duration": 49,
    "start_time": "2024-03-07T13:16:21.932Z"
   },
   {
    "duration": 14,
    "start_time": "2024-03-07T13:16:21.983Z"
   },
   {
    "duration": 15,
    "start_time": "2024-03-07T13:16:21.999Z"
   },
   {
    "duration": 30,
    "start_time": "2024-03-07T13:16:22.016Z"
   },
   {
    "duration": 17,
    "start_time": "2024-03-07T13:16:22.048Z"
   },
   {
    "duration": 11,
    "start_time": "2024-03-07T13:16:22.066Z"
   },
   {
    "duration": 35,
    "start_time": "2024-03-07T13:16:22.078Z"
   },
   {
    "duration": 12,
    "start_time": "2024-03-07T13:16:22.115Z"
   },
   {
    "duration": 13,
    "start_time": "2024-03-07T13:16:22.131Z"
   },
   {
    "duration": 19,
    "start_time": "2024-03-07T13:16:22.146Z"
   },
   {
    "duration": 11,
    "start_time": "2024-03-07T13:16:22.167Z"
   },
   {
    "duration": 31,
    "start_time": "2024-03-07T13:16:22.180Z"
   },
   {
    "duration": 8,
    "start_time": "2024-03-07T13:16:22.213Z"
   },
   {
    "duration": 29,
    "start_time": "2024-03-07T13:16:22.222Z"
   },
   {
    "duration": 25,
    "start_time": "2024-03-07T13:16:22.252Z"
   },
   {
    "duration": 36,
    "start_time": "2024-03-07T13:16:22.279Z"
   },
   {
    "duration": 4,
    "start_time": "2024-03-07T13:16:22.316Z"
   },
   {
    "duration": 16,
    "start_time": "2024-03-07T13:16:22.322Z"
   },
   {
    "duration": 7,
    "start_time": "2024-03-07T13:16:22.340Z"
   },
   {
    "duration": 207,
    "start_time": "2024-03-07T13:16:22.349Z"
   },
   {
    "duration": 34,
    "start_time": "2024-03-07T13:16:22.558Z"
   },
   {
    "duration": 12,
    "start_time": "2024-03-07T13:16:22.594Z"
   },
   {
    "duration": 181,
    "start_time": "2024-03-07T13:16:22.608Z"
   },
   {
    "duration": 204,
    "start_time": "2024-03-07T13:16:22.790Z"
   },
   {
    "duration": 5,
    "start_time": "2024-03-07T13:16:22.995Z"
   },
   {
    "duration": 14,
    "start_time": "2024-03-07T13:16:23.002Z"
   },
   {
    "duration": 15,
    "start_time": "2024-03-07T13:16:23.021Z"
   },
   {
    "duration": 9,
    "start_time": "2024-03-07T13:16:23.038Z"
   },
   {
    "duration": 15,
    "start_time": "2024-03-07T13:16:23.049Z"
   },
   {
    "duration": 26,
    "start_time": "2024-03-07T13:16:23.066Z"
   },
   {
    "duration": 29,
    "start_time": "2024-03-07T13:16:23.094Z"
   },
   {
    "duration": 24,
    "start_time": "2024-03-07T13:16:23.124Z"
   },
   {
    "duration": 26,
    "start_time": "2024-03-07T13:16:23.150Z"
   },
   {
    "duration": 198,
    "start_time": "2024-03-07T13:16:23.178Z"
   },
   {
    "duration": 4,
    "start_time": "2024-03-07T13:16:23.377Z"
   },
   {
    "duration": 592,
    "start_time": "2024-03-07T13:16:23.391Z"
   },
   {
    "duration": 0,
    "start_time": "2024-03-07T13:16:23.984Z"
   },
   {
    "duration": 0,
    "start_time": "2024-03-07T13:16:23.986Z"
   },
   {
    "duration": 0,
    "start_time": "2024-03-07T13:16:23.987Z"
   },
   {
    "duration": 0,
    "start_time": "2024-03-07T13:16:23.988Z"
   },
   {
    "duration": 0,
    "start_time": "2024-03-07T13:16:23.989Z"
   },
   {
    "duration": 0,
    "start_time": "2024-03-07T13:16:23.991Z"
   },
   {
    "duration": 0,
    "start_time": "2024-03-07T13:16:23.992Z"
   },
   {
    "duration": 0,
    "start_time": "2024-03-07T13:16:23.993Z"
   },
   {
    "duration": 0,
    "start_time": "2024-03-07T13:16:23.994Z"
   },
   {
    "duration": 0,
    "start_time": "2024-03-07T13:16:23.995Z"
   },
   {
    "duration": 0,
    "start_time": "2024-03-07T13:16:23.996Z"
   },
   {
    "duration": 0,
    "start_time": "2024-03-07T13:16:23.997Z"
   },
   {
    "duration": 0,
    "start_time": "2024-03-07T13:16:23.999Z"
   },
   {
    "duration": 0,
    "start_time": "2024-03-07T13:16:24.000Z"
   },
   {
    "duration": 0,
    "start_time": "2024-03-07T13:16:24.001Z"
   },
   {
    "duration": 0,
    "start_time": "2024-03-07T13:16:24.002Z"
   },
   {
    "duration": 0,
    "start_time": "2024-03-07T13:16:24.003Z"
   },
   {
    "duration": 0,
    "start_time": "2024-03-07T13:16:24.005Z"
   },
   {
    "duration": 0,
    "start_time": "2024-03-07T13:16:24.006Z"
   },
   {
    "duration": 0,
    "start_time": "2024-03-07T13:16:24.007Z"
   },
   {
    "duration": 0,
    "start_time": "2024-03-07T13:16:24.008Z"
   },
   {
    "duration": 0,
    "start_time": "2024-03-07T13:16:24.009Z"
   },
   {
    "duration": 0,
    "start_time": "2024-03-07T13:16:24.010Z"
   },
   {
    "duration": 0,
    "start_time": "2024-03-07T13:16:24.011Z"
   },
   {
    "duration": 0,
    "start_time": "2024-03-07T13:16:24.012Z"
   },
   {
    "duration": 0,
    "start_time": "2024-03-07T13:16:24.012Z"
   },
   {
    "duration": 0,
    "start_time": "2024-03-07T13:16:24.014Z"
   },
   {
    "duration": 0,
    "start_time": "2024-03-07T13:16:24.015Z"
   },
   {
    "duration": 0,
    "start_time": "2024-03-07T13:16:24.016Z"
   },
   {
    "duration": 0,
    "start_time": "2024-03-07T13:16:24.017Z"
   },
   {
    "duration": 0,
    "start_time": "2024-03-07T13:16:24.018Z"
   },
   {
    "duration": 0,
    "start_time": "2024-03-07T13:16:24.020Z"
   },
   {
    "duration": 0,
    "start_time": "2024-03-07T13:16:24.021Z"
   },
   {
    "duration": 0,
    "start_time": "2024-03-07T13:16:24.022Z"
   },
   {
    "duration": 0,
    "start_time": "2024-03-07T13:16:24.023Z"
   },
   {
    "duration": 0,
    "start_time": "2024-03-07T13:16:24.024Z"
   },
   {
    "duration": 0,
    "start_time": "2024-03-07T13:16:24.025Z"
   },
   {
    "duration": 0,
    "start_time": "2024-03-07T13:16:24.026Z"
   },
   {
    "duration": 0,
    "start_time": "2024-03-07T13:16:24.027Z"
   },
   {
    "duration": 0,
    "start_time": "2024-03-07T13:16:24.028Z"
   },
   {
    "duration": 0,
    "start_time": "2024-03-07T13:16:24.029Z"
   },
   {
    "duration": 0,
    "start_time": "2024-03-07T13:16:24.030Z"
   },
   {
    "duration": 0,
    "start_time": "2024-03-07T13:16:24.091Z"
   },
   {
    "duration": 0,
    "start_time": "2024-03-07T13:16:24.093Z"
   },
   {
    "duration": 0,
    "start_time": "2024-03-07T13:16:24.095Z"
   },
   {
    "duration": 414,
    "start_time": "2024-03-07T13:17:54.899Z"
   },
   {
    "duration": 1365,
    "start_time": "2024-03-07T13:18:07.936Z"
   },
   {
    "duration": 57,
    "start_time": "2024-03-07T13:18:09.303Z"
   },
   {
    "duration": 14,
    "start_time": "2024-03-07T13:18:09.364Z"
   },
   {
    "duration": 14,
    "start_time": "2024-03-07T13:18:09.380Z"
   },
   {
    "duration": 23,
    "start_time": "2024-03-07T13:18:09.396Z"
   },
   {
    "duration": 20,
    "start_time": "2024-03-07T13:18:09.421Z"
   },
   {
    "duration": 14,
    "start_time": "2024-03-07T13:18:09.443Z"
   },
   {
    "duration": 20,
    "start_time": "2024-03-07T13:18:09.459Z"
   },
   {
    "duration": 17,
    "start_time": "2024-03-07T13:18:09.481Z"
   },
   {
    "duration": 20,
    "start_time": "2024-03-07T13:18:09.499Z"
   },
   {
    "duration": 19,
    "start_time": "2024-03-07T13:18:09.521Z"
   },
   {
    "duration": 16,
    "start_time": "2024-03-07T13:18:09.542Z"
   },
   {
    "duration": 15,
    "start_time": "2024-03-07T13:18:09.559Z"
   },
   {
    "duration": 17,
    "start_time": "2024-03-07T13:18:09.576Z"
   },
   {
    "duration": 35,
    "start_time": "2024-03-07T13:18:09.595Z"
   },
   {
    "duration": 13,
    "start_time": "2024-03-07T13:18:09.632Z"
   },
   {
    "duration": 12,
    "start_time": "2024-03-07T13:18:09.647Z"
   },
   {
    "duration": 7,
    "start_time": "2024-03-07T13:18:09.660Z"
   },
   {
    "duration": 30,
    "start_time": "2024-03-07T13:18:09.669Z"
   },
   {
    "duration": 7,
    "start_time": "2024-03-07T13:18:09.701Z"
   },
   {
    "duration": 208,
    "start_time": "2024-03-07T13:18:09.709Z"
   },
   {
    "duration": 25,
    "start_time": "2024-03-07T13:18:09.919Z"
   },
   {
    "duration": 26,
    "start_time": "2024-03-07T13:18:09.946Z"
   },
   {
    "duration": 189,
    "start_time": "2024-03-07T13:18:09.974Z"
   },
   {
    "duration": 189,
    "start_time": "2024-03-07T13:18:10.165Z"
   },
   {
    "duration": 6,
    "start_time": "2024-03-07T13:18:10.356Z"
   },
   {
    "duration": 25,
    "start_time": "2024-03-07T13:18:10.367Z"
   },
   {
    "duration": 5,
    "start_time": "2024-03-07T13:18:10.393Z"
   },
   {
    "duration": 45,
    "start_time": "2024-03-07T13:18:10.399Z"
   },
   {
    "duration": 20,
    "start_time": "2024-03-07T13:18:10.446Z"
   },
   {
    "duration": 20,
    "start_time": "2024-03-07T13:18:10.468Z"
   },
   {
    "duration": 7,
    "start_time": "2024-03-07T13:18:10.490Z"
   },
   {
    "duration": 20,
    "start_time": "2024-03-07T13:18:10.498Z"
   },
   {
    "duration": 12,
    "start_time": "2024-03-07T13:18:10.520Z"
   },
   {
    "duration": 197,
    "start_time": "2024-03-07T13:18:10.534Z"
   },
   {
    "duration": 5,
    "start_time": "2024-03-07T13:18:10.734Z"
   },
   {
    "duration": 113,
    "start_time": "2024-03-07T13:18:10.740Z"
   },
   {
    "duration": 41,
    "start_time": "2024-03-07T13:18:10.855Z"
   },
   {
    "duration": 20,
    "start_time": "2024-03-07T13:18:10.898Z"
   },
   {
    "duration": 15,
    "start_time": "2024-03-07T13:18:10.920Z"
   },
   {
    "duration": 16,
    "start_time": "2024-03-07T13:18:10.936Z"
   },
   {
    "duration": 215,
    "start_time": "2024-03-07T13:18:10.954Z"
   },
   {
    "duration": 22,
    "start_time": "2024-03-07T13:18:11.171Z"
   },
   {
    "duration": 44,
    "start_time": "2024-03-07T13:18:11.195Z"
   },
   {
    "duration": 39,
    "start_time": "2024-03-07T13:18:11.241Z"
   },
   {
    "duration": 7,
    "start_time": "2024-03-07T13:18:11.282Z"
   },
   {
    "duration": 531,
    "start_time": "2024-03-07T13:18:11.291Z"
   },
   {
    "duration": 0,
    "start_time": "2024-03-07T13:18:11.824Z"
   },
   {
    "duration": 0,
    "start_time": "2024-03-07T13:18:11.825Z"
   },
   {
    "duration": 0,
    "start_time": "2024-03-07T13:18:11.826Z"
   },
   {
    "duration": 0,
    "start_time": "2024-03-07T13:18:11.827Z"
   },
   {
    "duration": 0,
    "start_time": "2024-03-07T13:18:11.828Z"
   },
   {
    "duration": 0,
    "start_time": "2024-03-07T13:18:11.829Z"
   },
   {
    "duration": 0,
    "start_time": "2024-03-07T13:18:11.831Z"
   },
   {
    "duration": 0,
    "start_time": "2024-03-07T13:18:11.832Z"
   },
   {
    "duration": 0,
    "start_time": "2024-03-07T13:18:11.833Z"
   },
   {
    "duration": 0,
    "start_time": "2024-03-07T13:18:11.912Z"
   },
   {
    "duration": 0,
    "start_time": "2024-03-07T13:18:11.913Z"
   },
   {
    "duration": 0,
    "start_time": "2024-03-07T13:18:11.914Z"
   },
   {
    "duration": 0,
    "start_time": "2024-03-07T13:18:11.915Z"
   },
   {
    "duration": 0,
    "start_time": "2024-03-07T13:18:11.917Z"
   },
   {
    "duration": 0,
    "start_time": "2024-03-07T13:18:11.918Z"
   },
   {
    "duration": 0,
    "start_time": "2024-03-07T13:18:11.920Z"
   },
   {
    "duration": 0,
    "start_time": "2024-03-07T13:18:11.921Z"
   },
   {
    "duration": 0,
    "start_time": "2024-03-07T13:18:11.922Z"
   },
   {
    "duration": 0,
    "start_time": "2024-03-07T13:18:11.923Z"
   },
   {
    "duration": 0,
    "start_time": "2024-03-07T13:18:11.924Z"
   },
   {
    "duration": 0,
    "start_time": "2024-03-07T13:18:11.926Z"
   },
   {
    "duration": 0,
    "start_time": "2024-03-07T13:18:11.927Z"
   },
   {
    "duration": 0,
    "start_time": "2024-03-07T13:18:11.928Z"
   },
   {
    "duration": 0,
    "start_time": "2024-03-07T13:18:11.929Z"
   },
   {
    "duration": 0,
    "start_time": "2024-03-07T13:18:11.930Z"
   },
   {
    "duration": 0,
    "start_time": "2024-03-07T13:18:11.931Z"
   },
   {
    "duration": 0,
    "start_time": "2024-03-07T13:18:11.932Z"
   },
   {
    "duration": 0,
    "start_time": "2024-03-07T13:18:11.933Z"
   },
   {
    "duration": 0,
    "start_time": "2024-03-07T13:18:11.934Z"
   },
   {
    "duration": 0,
    "start_time": "2024-03-07T13:18:11.935Z"
   },
   {
    "duration": 0,
    "start_time": "2024-03-07T13:18:11.937Z"
   },
   {
    "duration": 0,
    "start_time": "2024-03-07T13:18:11.938Z"
   },
   {
    "duration": 0,
    "start_time": "2024-03-07T13:18:11.939Z"
   },
   {
    "duration": 0,
    "start_time": "2024-03-07T13:18:11.940Z"
   },
   {
    "duration": 0,
    "start_time": "2024-03-07T13:18:11.941Z"
   },
   {
    "duration": 447,
    "start_time": "2024-03-07T13:19:14.114Z"
   },
   {
    "duration": 1409,
    "start_time": "2024-03-07T13:19:19.590Z"
   },
   {
    "duration": 49,
    "start_time": "2024-03-07T13:19:21.001Z"
   },
   {
    "duration": 13,
    "start_time": "2024-03-07T13:19:21.052Z"
   },
   {
    "duration": 12,
    "start_time": "2024-03-07T13:19:21.067Z"
   },
   {
    "duration": 13,
    "start_time": "2024-03-07T13:19:21.081Z"
   },
   {
    "duration": 12,
    "start_time": "2024-03-07T13:19:21.095Z"
   },
   {
    "duration": 15,
    "start_time": "2024-03-07T13:19:21.109Z"
   },
   {
    "duration": 19,
    "start_time": "2024-03-07T13:19:21.125Z"
   },
   {
    "duration": 23,
    "start_time": "2024-03-07T13:19:21.146Z"
   },
   {
    "duration": 23,
    "start_time": "2024-03-07T13:19:21.172Z"
   },
   {
    "duration": 8,
    "start_time": "2024-03-07T13:19:21.197Z"
   },
   {
    "duration": 15,
    "start_time": "2024-03-07T13:19:21.207Z"
   },
   {
    "duration": 17,
    "start_time": "2024-03-07T13:19:21.223Z"
   },
   {
    "duration": 15,
    "start_time": "2024-03-07T13:19:21.242Z"
   },
   {
    "duration": 33,
    "start_time": "2024-03-07T13:19:21.258Z"
   },
   {
    "duration": 12,
    "start_time": "2024-03-07T13:19:21.293Z"
   },
   {
    "duration": 15,
    "start_time": "2024-03-07T13:19:21.307Z"
   },
   {
    "duration": 5,
    "start_time": "2024-03-07T13:19:21.323Z"
   },
   {
    "duration": 10,
    "start_time": "2024-03-07T13:19:21.329Z"
   },
   {
    "duration": 13,
    "start_time": "2024-03-07T13:19:21.340Z"
   },
   {
    "duration": 243,
    "start_time": "2024-03-07T13:19:21.355Z"
   },
   {
    "duration": 25,
    "start_time": "2024-03-07T13:19:21.600Z"
   },
   {
    "duration": 9,
    "start_time": "2024-03-07T13:19:21.626Z"
   },
   {
    "duration": 201,
    "start_time": "2024-03-07T13:19:21.636Z"
   },
   {
    "duration": 194,
    "start_time": "2024-03-07T13:19:21.838Z"
   },
   {
    "duration": 5,
    "start_time": "2024-03-07T13:19:22.034Z"
   },
   {
    "duration": 24,
    "start_time": "2024-03-07T13:19:22.040Z"
   },
   {
    "duration": 4,
    "start_time": "2024-03-07T13:19:22.069Z"
   },
   {
    "duration": 7,
    "start_time": "2024-03-07T13:19:22.075Z"
   },
   {
    "duration": 11,
    "start_time": "2024-03-07T13:19:22.091Z"
   },
   {
    "duration": 11,
    "start_time": "2024-03-07T13:19:22.104Z"
   },
   {
    "duration": 7,
    "start_time": "2024-03-07T13:19:22.117Z"
   },
   {
    "duration": 17,
    "start_time": "2024-03-07T13:19:22.125Z"
   },
   {
    "duration": 13,
    "start_time": "2024-03-07T13:19:22.144Z"
   },
   {
    "duration": 225,
    "start_time": "2024-03-07T13:19:22.159Z"
   },
   {
    "duration": 8,
    "start_time": "2024-03-07T13:19:22.385Z"
   },
   {
    "duration": 41,
    "start_time": "2024-03-07T13:19:22.394Z"
   },
   {
    "duration": 15,
    "start_time": "2024-03-07T13:19:22.436Z"
   },
   {
    "duration": 17,
    "start_time": "2024-03-07T13:19:22.453Z"
   },
   {
    "duration": 21,
    "start_time": "2024-03-07T13:19:22.471Z"
   },
   {
    "duration": 8,
    "start_time": "2024-03-07T13:19:22.494Z"
   },
   {
    "duration": 202,
    "start_time": "2024-03-07T13:19:22.503Z"
   },
   {
    "duration": 18,
    "start_time": "2024-03-07T13:19:22.707Z"
   },
   {
    "duration": 10,
    "start_time": "2024-03-07T13:19:22.727Z"
   },
   {
    "duration": 10,
    "start_time": "2024-03-07T13:19:22.739Z"
   },
   {
    "duration": 5,
    "start_time": "2024-03-07T13:19:22.751Z"
   },
   {
    "duration": 61,
    "start_time": "2024-03-07T13:19:22.758Z"
   },
   {
    "duration": 533,
    "start_time": "2024-03-07T13:19:22.821Z"
   },
   {
    "duration": 10,
    "start_time": "2024-03-07T13:19:23.356Z"
   },
   {
    "duration": 3,
    "start_time": "2024-03-07T13:19:23.367Z"
   },
   {
    "duration": 20,
    "start_time": "2024-03-07T13:19:23.372Z"
   },
   {
    "duration": 5,
    "start_time": "2024-03-07T13:19:23.393Z"
   },
   {
    "duration": 16,
    "start_time": "2024-03-07T13:19:23.400Z"
   },
   {
    "duration": 9,
    "start_time": "2024-03-07T13:19:23.418Z"
   },
   {
    "duration": 252,
    "start_time": "2024-03-07T13:19:23.429Z"
   },
   {
    "duration": 7,
    "start_time": "2024-03-07T13:19:23.691Z"
   },
   {
    "duration": 10,
    "start_time": "2024-03-07T13:19:23.699Z"
   },
   {
    "duration": 17,
    "start_time": "2024-03-07T13:19:23.711Z"
   },
   {
    "duration": 11,
    "start_time": "2024-03-07T13:19:23.730Z"
   },
   {
    "duration": 17,
    "start_time": "2024-03-07T13:19:23.743Z"
   },
   {
    "duration": 34,
    "start_time": "2024-03-07T13:19:23.762Z"
   },
   {
    "duration": 4,
    "start_time": "2024-03-07T13:19:23.797Z"
   },
   {
    "duration": 7,
    "start_time": "2024-03-07T13:19:23.802Z"
   },
   {
    "duration": 8,
    "start_time": "2024-03-07T13:19:23.811Z"
   },
   {
    "duration": 6,
    "start_time": "2024-03-07T13:19:23.821Z"
   },
   {
    "duration": 6,
    "start_time": "2024-03-07T13:19:23.829Z"
   },
   {
    "duration": 75,
    "start_time": "2024-03-07T13:19:23.837Z"
   },
   {
    "duration": 17,
    "start_time": "2024-03-07T13:19:23.914Z"
   },
   {
    "duration": 13,
    "start_time": "2024-03-07T13:19:23.933Z"
   },
   {
    "duration": 16,
    "start_time": "2024-03-07T13:19:23.948Z"
   },
   {
    "duration": 34,
    "start_time": "2024-03-07T13:19:23.965Z"
   },
   {
    "duration": 18,
    "start_time": "2024-03-07T13:19:24.002Z"
   },
   {
    "duration": 9,
    "start_time": "2024-03-07T13:19:24.022Z"
   },
   {
    "duration": 24,
    "start_time": "2024-03-07T13:19:24.034Z"
   },
   {
    "duration": 304,
    "start_time": "2024-03-07T13:19:24.060Z"
   },
   {
    "duration": 15,
    "start_time": "2024-03-07T13:19:24.366Z"
   },
   {
    "duration": 264,
    "start_time": "2024-03-07T13:19:24.383Z"
   },
   {
    "duration": 16,
    "start_time": "2024-03-07T13:19:24.649Z"
   },
   {
    "duration": 10,
    "start_time": "2024-03-07T13:19:24.667Z"
   },
   {
    "duration": 14,
    "start_time": "2024-03-07T13:19:24.691Z"
   },
   {
    "duration": 17,
    "start_time": "2024-03-07T13:19:24.707Z"
   },
   {
    "duration": 12,
    "start_time": "2024-03-07T13:19:24.730Z"
   },
   {
    "duration": 276,
    "start_time": "2024-03-07T13:22:15.434Z"
   },
   {
    "duration": 329,
    "start_time": "2024-03-07T13:22:51.089Z"
   },
   {
    "duration": 302,
    "start_time": "2024-03-07T13:23:11.334Z"
   },
   {
    "duration": 1397,
    "start_time": "2024-03-07T14:09:50.102Z"
   },
   {
    "duration": 49,
    "start_time": "2024-03-07T14:09:51.501Z"
   },
   {
    "duration": 13,
    "start_time": "2024-03-07T14:09:51.552Z"
   },
   {
    "duration": 25,
    "start_time": "2024-03-07T14:09:51.567Z"
   },
   {
    "duration": 16,
    "start_time": "2024-03-07T14:09:51.593Z"
   },
   {
    "duration": 17,
    "start_time": "2024-03-07T14:09:51.611Z"
   },
   {
    "duration": 26,
    "start_time": "2024-03-07T14:09:51.629Z"
   },
   {
    "duration": 50,
    "start_time": "2024-03-07T14:09:51.657Z"
   },
   {
    "duration": 27,
    "start_time": "2024-03-07T14:09:51.709Z"
   },
   {
    "duration": 21,
    "start_time": "2024-03-07T14:09:51.739Z"
   },
   {
    "duration": 45,
    "start_time": "2024-03-07T14:09:51.762Z"
   },
   {
    "duration": 37,
    "start_time": "2024-03-07T14:09:51.809Z"
   },
   {
    "duration": 51,
    "start_time": "2024-03-07T14:09:51.848Z"
   },
   {
    "duration": 8,
    "start_time": "2024-03-07T14:09:51.901Z"
   },
   {
    "duration": 40,
    "start_time": "2024-03-07T14:09:51.911Z"
   },
   {
    "duration": 36,
    "start_time": "2024-03-07T14:09:51.953Z"
   },
   {
    "duration": 26,
    "start_time": "2024-03-07T14:09:51.990Z"
   },
   {
    "duration": 55,
    "start_time": "2024-03-07T14:09:52.018Z"
   },
   {
    "duration": 18,
    "start_time": "2024-03-07T14:09:52.076Z"
   },
   {
    "duration": 10,
    "start_time": "2024-03-07T14:09:52.095Z"
   },
   {
    "duration": 199,
    "start_time": "2024-03-07T14:09:52.106Z"
   },
   {
    "duration": 25,
    "start_time": "2024-03-07T14:09:52.306Z"
   },
   {
    "duration": 52,
    "start_time": "2024-03-07T14:09:52.333Z"
   },
   {
    "duration": 196,
    "start_time": "2024-03-07T14:09:52.386Z"
   },
   {
    "duration": 178,
    "start_time": "2024-03-07T14:09:52.583Z"
   },
   {
    "duration": 5,
    "start_time": "2024-03-07T14:09:52.764Z"
   },
   {
    "duration": 23,
    "start_time": "2024-03-07T14:09:52.771Z"
   },
   {
    "duration": 23,
    "start_time": "2024-03-07T14:09:52.798Z"
   },
   {
    "duration": 33,
    "start_time": "2024-03-07T14:09:52.822Z"
   },
   {
    "duration": 41,
    "start_time": "2024-03-07T14:09:52.856Z"
   },
   {
    "duration": 12,
    "start_time": "2024-03-07T14:09:52.899Z"
   },
   {
    "duration": 22,
    "start_time": "2024-03-07T14:09:52.912Z"
   },
   {
    "duration": 57,
    "start_time": "2024-03-07T14:09:52.935Z"
   },
   {
    "duration": 60,
    "start_time": "2024-03-07T14:09:52.993Z"
   },
   {
    "duration": 202,
    "start_time": "2024-03-07T14:09:53.055Z"
   },
   {
    "duration": 4,
    "start_time": "2024-03-07T14:09:53.259Z"
   },
   {
    "duration": 51,
    "start_time": "2024-03-07T14:09:53.265Z"
   },
   {
    "duration": 21,
    "start_time": "2024-03-07T14:09:53.318Z"
   },
   {
    "duration": 36,
    "start_time": "2024-03-07T14:09:53.341Z"
   },
   {
    "duration": 24,
    "start_time": "2024-03-07T14:09:53.379Z"
   },
   {
    "duration": 32,
    "start_time": "2024-03-07T14:09:53.405Z"
   },
   {
    "duration": 200,
    "start_time": "2024-03-07T14:09:53.439Z"
   },
   {
    "duration": 8,
    "start_time": "2024-03-07T14:09:53.641Z"
   },
   {
    "duration": 17,
    "start_time": "2024-03-07T14:09:53.651Z"
   },
   {
    "duration": 21,
    "start_time": "2024-03-07T14:09:53.669Z"
   },
   {
    "duration": 23,
    "start_time": "2024-03-07T14:09:53.692Z"
   },
   {
    "duration": 45,
    "start_time": "2024-03-07T14:09:53.716Z"
   },
   {
    "duration": 483,
    "start_time": "2024-03-07T14:09:53.763Z"
   },
   {
    "duration": 10,
    "start_time": "2024-03-07T14:09:54.248Z"
   },
   {
    "duration": 41,
    "start_time": "2024-03-07T14:09:54.259Z"
   },
   {
    "duration": 35,
    "start_time": "2024-03-07T14:09:54.302Z"
   },
   {
    "duration": 13,
    "start_time": "2024-03-07T14:09:54.339Z"
   },
   {
    "duration": 34,
    "start_time": "2024-03-07T14:09:54.354Z"
   },
   {
    "duration": 28,
    "start_time": "2024-03-07T14:09:54.390Z"
   },
   {
    "duration": 252,
    "start_time": "2024-03-07T14:09:54.420Z"
   },
   {
    "duration": 9,
    "start_time": "2024-03-07T14:09:54.674Z"
   },
   {
    "duration": 28,
    "start_time": "2024-03-07T14:09:54.691Z"
   },
   {
    "duration": 46,
    "start_time": "2024-03-07T14:09:54.721Z"
   },
   {
    "duration": 116,
    "start_time": "2024-03-07T14:09:54.768Z"
   },
   {
    "duration": 39,
    "start_time": "2024-03-07T14:09:54.885Z"
   },
   {
    "duration": 19,
    "start_time": "2024-03-07T14:09:54.926Z"
   },
   {
    "duration": 4,
    "start_time": "2024-03-07T14:09:54.946Z"
   },
   {
    "duration": 14,
    "start_time": "2024-03-07T14:09:54.952Z"
   },
   {
    "duration": 67,
    "start_time": "2024-03-07T14:09:54.967Z"
   },
   {
    "duration": 19,
    "start_time": "2024-03-07T14:09:55.035Z"
   },
   {
    "duration": 56,
    "start_time": "2024-03-07T14:09:55.056Z"
   },
   {
    "duration": 77,
    "start_time": "2024-03-07T14:09:55.114Z"
   },
   {
    "duration": 17,
    "start_time": "2024-03-07T14:09:55.193Z"
   },
   {
    "duration": 18,
    "start_time": "2024-03-07T14:09:55.211Z"
   },
   {
    "duration": 15,
    "start_time": "2024-03-07T14:09:55.231Z"
   },
   {
    "duration": 41,
    "start_time": "2024-03-07T14:09:55.248Z"
   },
   {
    "duration": 24,
    "start_time": "2024-03-07T14:09:55.291Z"
   },
   {
    "duration": 34,
    "start_time": "2024-03-07T14:09:55.317Z"
   },
   {
    "duration": 20,
    "start_time": "2024-03-07T14:09:55.353Z"
   },
   {
    "duration": 305,
    "start_time": "2024-03-07T14:09:55.375Z"
   },
   {
    "duration": 16,
    "start_time": "2024-03-07T14:09:55.682Z"
   },
   {
    "duration": 351,
    "start_time": "2024-03-07T14:09:55.700Z"
   },
   {
    "duration": 17,
    "start_time": "2024-03-07T14:09:56.053Z"
   },
   {
    "duration": 20,
    "start_time": "2024-03-07T14:09:56.072Z"
   },
   {
    "duration": 16,
    "start_time": "2024-03-07T14:09:56.094Z"
   },
   {
    "duration": 33,
    "start_time": "2024-03-07T14:09:56.112Z"
   },
   {
    "duration": 24,
    "start_time": "2024-03-07T14:09:56.151Z"
   },
   {
    "duration": 1221,
    "start_time": "2024-03-08T10:57:56.897Z"
   },
   {
    "duration": 48,
    "start_time": "2024-03-08T10:57:58.120Z"
   },
   {
    "duration": 12,
    "start_time": "2024-03-08T10:57:58.169Z"
   },
   {
    "duration": 29,
    "start_time": "2024-03-08T10:57:58.183Z"
   },
   {
    "duration": 19,
    "start_time": "2024-03-08T10:57:58.214Z"
   },
   {
    "duration": 20,
    "start_time": "2024-03-08T10:57:58.235Z"
   },
   {
    "duration": 37,
    "start_time": "2024-03-08T10:57:58.256Z"
   },
   {
    "duration": 25,
    "start_time": "2024-03-08T10:57:58.295Z"
   },
   {
    "duration": 28,
    "start_time": "2024-03-08T10:57:58.322Z"
   },
   {
    "duration": 25,
    "start_time": "2024-03-08T10:57:58.352Z"
   },
   {
    "duration": 9,
    "start_time": "2024-03-08T10:57:58.379Z"
   },
   {
    "duration": 21,
    "start_time": "2024-03-08T10:57:58.390Z"
   },
   {
    "duration": 17,
    "start_time": "2024-03-08T10:57:58.412Z"
   },
   {
    "duration": 6,
    "start_time": "2024-03-08T10:57:58.434Z"
   },
   {
    "duration": 31,
    "start_time": "2024-03-08T10:57:58.442Z"
   },
   {
    "duration": 15,
    "start_time": "2024-03-08T10:57:58.475Z"
   },
   {
    "duration": 32,
    "start_time": "2024-03-08T10:57:58.492Z"
   },
   {
    "duration": 15,
    "start_time": "2024-03-08T10:57:58.526Z"
   },
   {
    "duration": 18,
    "start_time": "2024-03-08T10:57:58.543Z"
   },
   {
    "duration": 16,
    "start_time": "2024-03-08T10:57:58.563Z"
   },
   {
    "duration": 203,
    "start_time": "2024-03-08T10:57:58.581Z"
   },
   {
    "duration": 21,
    "start_time": "2024-03-08T10:57:58.785Z"
   },
   {
    "duration": 31,
    "start_time": "2024-03-08T10:57:58.808Z"
   },
   {
    "duration": 195,
    "start_time": "2024-03-08T10:57:58.841Z"
   },
   {
    "duration": 183,
    "start_time": "2024-03-08T10:57:59.037Z"
   },
   {
    "duration": 5,
    "start_time": "2024-03-08T10:57:59.222Z"
   },
   {
    "duration": 11,
    "start_time": "2024-03-08T10:57:59.228Z"
   },
   {
    "duration": 13,
    "start_time": "2024-03-08T10:57:59.240Z"
   },
   {
    "duration": 30,
    "start_time": "2024-03-08T10:57:59.254Z"
   },
   {
    "duration": 13,
    "start_time": "2024-03-08T10:57:59.286Z"
   },
   {
    "duration": 16,
    "start_time": "2024-03-08T10:57:59.301Z"
   },
   {
    "duration": 21,
    "start_time": "2024-03-08T10:57:59.318Z"
   },
   {
    "duration": 25,
    "start_time": "2024-03-08T10:57:59.341Z"
   },
   {
    "duration": 16,
    "start_time": "2024-03-08T10:57:59.368Z"
   },
   {
    "duration": 184,
    "start_time": "2024-03-08T10:57:59.386Z"
   },
   {
    "duration": 4,
    "start_time": "2024-03-08T10:57:59.572Z"
   },
   {
    "duration": 34,
    "start_time": "2024-03-08T10:57:59.577Z"
   },
   {
    "duration": 14,
    "start_time": "2024-03-08T10:57:59.612Z"
   },
   {
    "duration": 33,
    "start_time": "2024-03-08T10:57:59.628Z"
   },
   {
    "duration": 19,
    "start_time": "2024-03-08T10:57:59.662Z"
   },
   {
    "duration": 13,
    "start_time": "2024-03-08T10:57:59.685Z"
   },
   {
    "duration": 187,
    "start_time": "2024-03-08T10:57:59.699Z"
   },
   {
    "duration": 8,
    "start_time": "2024-03-08T10:57:59.887Z"
   },
   {
    "duration": 30,
    "start_time": "2024-03-08T10:57:59.897Z"
   },
   {
    "duration": 21,
    "start_time": "2024-03-08T10:57:59.929Z"
   },
   {
    "duration": 20,
    "start_time": "2024-03-08T10:57:59.952Z"
   },
   {
    "duration": 57,
    "start_time": "2024-03-08T10:57:59.974Z"
   },
   {
    "duration": 370,
    "start_time": "2024-03-08T10:58:00.033Z"
   },
   {
    "duration": 9,
    "start_time": "2024-03-08T10:58:00.405Z"
   },
   {
    "duration": 39,
    "start_time": "2024-03-08T10:58:00.415Z"
   },
   {
    "duration": 47,
    "start_time": "2024-03-08T10:58:00.456Z"
   },
   {
    "duration": 47,
    "start_time": "2024-03-08T10:58:00.505Z"
   },
   {
    "duration": 53,
    "start_time": "2024-03-08T10:58:00.554Z"
   },
   {
    "duration": 69,
    "start_time": "2024-03-08T10:58:00.609Z"
   },
   {
    "duration": 249,
    "start_time": "2024-03-08T10:58:00.680Z"
   },
   {
    "duration": 7,
    "start_time": "2024-03-08T10:58:00.931Z"
   },
   {
    "duration": 67,
    "start_time": "2024-03-08T10:58:00.939Z"
   },
   {
    "duration": 42,
    "start_time": "2024-03-08T10:58:01.007Z"
   },
   {
    "duration": 44,
    "start_time": "2024-03-08T10:58:01.051Z"
   },
   {
    "duration": 129,
    "start_time": "2024-03-08T10:58:01.097Z"
   },
   {
    "duration": 78,
    "start_time": "2024-03-08T10:58:01.228Z"
   },
   {
    "duration": 36,
    "start_time": "2024-03-08T10:58:01.307Z"
   },
   {
    "duration": 25,
    "start_time": "2024-03-08T10:58:01.345Z"
   },
   {
    "duration": 60,
    "start_time": "2024-03-08T10:58:01.372Z"
   },
   {
    "duration": 57,
    "start_time": "2024-03-08T10:58:01.433Z"
   },
   {
    "duration": 63,
    "start_time": "2024-03-08T10:58:01.491Z"
   },
   {
    "duration": 78,
    "start_time": "2024-03-08T10:58:01.555Z"
   },
   {
    "duration": 31,
    "start_time": "2024-03-08T10:58:01.635Z"
   },
   {
    "duration": 49,
    "start_time": "2024-03-08T10:58:01.667Z"
   },
   {
    "duration": 36,
    "start_time": "2024-03-08T10:58:01.718Z"
   },
   {
    "duration": 33,
    "start_time": "2024-03-08T10:58:01.756Z"
   },
   {
    "duration": 40,
    "start_time": "2024-03-08T10:58:01.790Z"
   },
   {
    "duration": 24,
    "start_time": "2024-03-08T10:58:01.832Z"
   },
   {
    "duration": 55,
    "start_time": "2024-03-08T10:58:01.858Z"
   },
   {
    "duration": 312,
    "start_time": "2024-03-08T10:58:01.915Z"
   },
   {
    "duration": 15,
    "start_time": "2024-03-08T10:58:02.228Z"
   },
   {
    "duration": 269,
    "start_time": "2024-03-08T10:58:02.245Z"
   },
   {
    "duration": 15,
    "start_time": "2024-03-08T10:58:02.515Z"
   },
   {
    "duration": 8,
    "start_time": "2024-03-08T10:58:02.532Z"
   },
   {
    "duration": 36,
    "start_time": "2024-03-08T10:58:02.541Z"
   },
   {
    "duration": 14,
    "start_time": "2024-03-08T10:58:02.578Z"
   },
   {
    "duration": 7,
    "start_time": "2024-03-08T10:58:02.594Z"
   },
   {
    "duration": 1457,
    "start_time": "2024-03-08T10:58:43.449Z"
   },
   {
    "duration": 79,
    "start_time": "2024-03-08T10:58:44.908Z"
   },
   {
    "duration": 16,
    "start_time": "2024-03-08T10:58:44.988Z"
   },
   {
    "duration": 68,
    "start_time": "2024-03-08T10:58:45.006Z"
   },
   {
    "duration": 20,
    "start_time": "2024-03-08T10:58:45.077Z"
   },
   {
    "duration": 77,
    "start_time": "2024-03-08T10:58:45.099Z"
   },
   {
    "duration": 15,
    "start_time": "2024-03-08T10:58:45.178Z"
   },
   {
    "duration": 82,
    "start_time": "2024-03-08T10:58:45.195Z"
   },
   {
    "duration": 9,
    "start_time": "2024-03-08T10:58:45.279Z"
   },
   {
    "duration": 81,
    "start_time": "2024-03-08T10:58:45.290Z"
   },
   {
    "duration": 13,
    "start_time": "2024-03-08T10:58:45.374Z"
   },
   {
    "duration": 83,
    "start_time": "2024-03-08T10:58:45.389Z"
   },
   {
    "duration": 54,
    "start_time": "2024-03-08T10:58:45.473Z"
   },
   {
    "duration": 38,
    "start_time": "2024-03-08T10:58:45.530Z"
   },
   {
    "duration": 23,
    "start_time": "2024-03-08T10:58:45.570Z"
   },
   {
    "duration": 29,
    "start_time": "2024-03-08T10:58:45.595Z"
   },
   {
    "duration": 15,
    "start_time": "2024-03-08T10:58:45.665Z"
   },
   {
    "duration": 85,
    "start_time": "2024-03-08T10:58:45.682Z"
   },
   {
    "duration": 14,
    "start_time": "2024-03-08T10:58:45.769Z"
   },
   {
    "duration": 15,
    "start_time": "2024-03-08T10:58:45.784Z"
   },
   {
    "duration": 283,
    "start_time": "2024-03-08T10:58:45.801Z"
   },
   {
    "duration": 38,
    "start_time": "2024-03-08T10:58:46.087Z"
   },
   {
    "duration": 6,
    "start_time": "2024-03-08T10:58:46.127Z"
   },
   {
    "duration": 189,
    "start_time": "2024-03-08T10:58:46.135Z"
   },
   {
    "duration": 201,
    "start_time": "2024-03-08T10:58:46.326Z"
   },
   {
    "duration": 5,
    "start_time": "2024-03-08T10:58:46.528Z"
   },
   {
    "duration": 24,
    "start_time": "2024-03-08T10:58:46.534Z"
   },
   {
    "duration": 8,
    "start_time": "2024-03-08T10:58:46.560Z"
   },
   {
    "duration": 23,
    "start_time": "2024-03-08T10:58:46.569Z"
   },
   {
    "duration": 15,
    "start_time": "2024-03-08T10:58:46.593Z"
   },
   {
    "duration": 12,
    "start_time": "2024-03-08T10:58:46.609Z"
   },
   {
    "duration": 12,
    "start_time": "2024-03-08T10:58:46.623Z"
   },
   {
    "duration": 18,
    "start_time": "2024-03-08T10:58:46.637Z"
   },
   {
    "duration": 20,
    "start_time": "2024-03-08T10:58:46.657Z"
   },
   {
    "duration": 189,
    "start_time": "2024-03-08T10:58:46.679Z"
   },
   {
    "duration": 5,
    "start_time": "2024-03-08T10:58:46.869Z"
   },
   {
    "duration": 27,
    "start_time": "2024-03-08T10:58:46.876Z"
   },
   {
    "duration": 15,
    "start_time": "2024-03-08T10:58:46.904Z"
   },
   {
    "duration": 45,
    "start_time": "2024-03-08T10:58:46.921Z"
   },
   {
    "duration": 14,
    "start_time": "2024-03-08T10:58:46.967Z"
   },
   {
    "duration": 9,
    "start_time": "2024-03-08T10:58:46.986Z"
   },
   {
    "duration": 204,
    "start_time": "2024-03-08T10:58:46.997Z"
   },
   {
    "duration": 9,
    "start_time": "2024-03-08T10:58:47.202Z"
   },
   {
    "duration": 8,
    "start_time": "2024-03-08T10:58:47.213Z"
   },
   {
    "duration": 10,
    "start_time": "2024-03-08T10:58:47.223Z"
   },
   {
    "duration": 32,
    "start_time": "2024-03-08T10:58:47.235Z"
   },
   {
    "duration": 35,
    "start_time": "2024-03-08T10:58:47.269Z"
   },
   {
    "duration": 388,
    "start_time": "2024-03-08T10:58:47.306Z"
   },
   {
    "duration": 12,
    "start_time": "2024-03-08T10:58:47.696Z"
   },
   {
    "duration": 34,
    "start_time": "2024-03-08T10:58:47.710Z"
   },
   {
    "duration": 27,
    "start_time": "2024-03-08T10:58:47.746Z"
   },
   {
    "duration": 26,
    "start_time": "2024-03-08T10:58:47.774Z"
   },
   {
    "duration": 40,
    "start_time": "2024-03-08T10:58:47.801Z"
   },
   {
    "duration": 24,
    "start_time": "2024-03-08T10:58:47.843Z"
   },
   {
    "duration": 225,
    "start_time": "2024-03-08T10:58:47.869Z"
   },
   {
    "duration": 8,
    "start_time": "2024-03-08T10:58:48.096Z"
   },
   {
    "duration": 33,
    "start_time": "2024-03-08T10:58:48.105Z"
   },
   {
    "duration": 32,
    "start_time": "2024-03-08T10:58:48.140Z"
   },
   {
    "duration": 18,
    "start_time": "2024-03-08T10:58:48.173Z"
   },
   {
    "duration": 93,
    "start_time": "2024-03-08T10:58:48.192Z"
   },
   {
    "duration": 8,
    "start_time": "2024-03-08T10:58:48.286Z"
   },
   {
    "duration": 14,
    "start_time": "2024-03-08T10:58:48.296Z"
   },
   {
    "duration": 19,
    "start_time": "2024-03-08T10:58:48.311Z"
   },
   {
    "duration": 24,
    "start_time": "2024-03-08T10:58:48.331Z"
   },
   {
    "duration": 41,
    "start_time": "2024-03-08T10:58:48.356Z"
   },
   {
    "duration": 31,
    "start_time": "2024-03-08T10:58:48.399Z"
   },
   {
    "duration": 64,
    "start_time": "2024-03-08T10:58:48.432Z"
   },
   {
    "duration": 15,
    "start_time": "2024-03-08T10:58:48.498Z"
   },
   {
    "duration": 31,
    "start_time": "2024-03-08T10:58:48.515Z"
   },
   {
    "duration": 23,
    "start_time": "2024-03-08T10:58:48.547Z"
   },
   {
    "duration": 17,
    "start_time": "2024-03-08T10:58:48.572Z"
   },
   {
    "duration": 26,
    "start_time": "2024-03-08T10:58:48.591Z"
   },
   {
    "duration": 15,
    "start_time": "2024-03-08T10:58:48.618Z"
   },
   {
    "duration": 42,
    "start_time": "2024-03-08T10:58:48.634Z"
   },
   {
    "duration": 324,
    "start_time": "2024-03-08T10:58:48.679Z"
   },
   {
    "duration": 25,
    "start_time": "2024-03-08T10:58:49.005Z"
   },
   {
    "duration": 283,
    "start_time": "2024-03-08T10:58:49.033Z"
   },
   {
    "duration": 23,
    "start_time": "2024-03-08T10:58:49.318Z"
   },
   {
    "duration": 22,
    "start_time": "2024-03-08T10:58:49.343Z"
   },
   {
    "duration": 19,
    "start_time": "2024-03-08T10:58:49.368Z"
   },
   {
    "duration": 42,
    "start_time": "2024-03-08T10:58:49.388Z"
   },
   {
    "duration": 31,
    "start_time": "2024-03-08T10:58:49.432Z"
   },
   {
    "duration": 55,
    "start_time": "2024-03-08T12:32:31.369Z"
   },
   {
    "duration": 13,
    "start_time": "2024-03-08T13:06:49.975Z"
   },
   {
    "duration": 1526,
    "start_time": "2024-03-08T13:07:00.081Z"
   },
   {
    "duration": 141,
    "start_time": "2024-03-08T13:07:01.610Z"
   },
   {
    "duration": 21,
    "start_time": "2024-03-08T13:07:01.756Z"
   },
   {
    "duration": 127,
    "start_time": "2024-03-08T13:07:01.780Z"
   },
   {
    "duration": 85,
    "start_time": "2024-03-08T13:07:01.909Z"
   },
   {
    "duration": 28,
    "start_time": "2024-03-08T13:07:01.996Z"
   },
   {
    "duration": 30,
    "start_time": "2024-03-08T13:07:02.025Z"
   },
   {
    "duration": 51,
    "start_time": "2024-03-08T13:07:02.056Z"
   },
   {
    "duration": 9,
    "start_time": "2024-03-08T13:07:02.111Z"
   },
   {
    "duration": 20,
    "start_time": "2024-03-08T13:07:02.122Z"
   },
   {
    "duration": 30,
    "start_time": "2024-03-08T13:07:02.145Z"
   },
   {
    "duration": 57,
    "start_time": "2024-03-08T13:07:02.181Z"
   },
   {
    "duration": 20,
    "start_time": "2024-03-08T13:07:02.240Z"
   },
   {
    "duration": 36,
    "start_time": "2024-03-08T13:07:02.262Z"
   },
   {
    "duration": 38,
    "start_time": "2024-03-08T13:07:02.300Z"
   },
   {
    "duration": 22,
    "start_time": "2024-03-08T13:07:02.339Z"
   },
   {
    "duration": 41,
    "start_time": "2024-03-08T13:07:02.363Z"
   },
   {
    "duration": 7,
    "start_time": "2024-03-08T13:07:02.406Z"
   },
   {
    "duration": 21,
    "start_time": "2024-03-08T13:07:02.414Z"
   },
   {
    "duration": 5,
    "start_time": "2024-03-08T13:07:02.437Z"
   },
   {
    "duration": 185,
    "start_time": "2024-03-08T13:07:02.444Z"
   },
   {
    "duration": 25,
    "start_time": "2024-03-08T13:07:02.630Z"
   },
   {
    "duration": 14,
    "start_time": "2024-03-08T13:07:02.666Z"
   },
   {
    "duration": 193,
    "start_time": "2024-03-08T13:07:02.683Z"
   },
   {
    "duration": 169,
    "start_time": "2024-03-08T13:07:02.878Z"
   },
   {
    "duration": 5,
    "start_time": "2024-03-08T13:07:03.049Z"
   },
   {
    "duration": 11,
    "start_time": "2024-03-08T13:07:03.070Z"
   },
   {
    "duration": 4,
    "start_time": "2024-03-08T13:07:03.083Z"
   },
   {
    "duration": 6,
    "start_time": "2024-03-08T13:07:03.088Z"
   },
   {
    "duration": 10,
    "start_time": "2024-03-08T13:07:03.095Z"
   },
   {
    "duration": 10,
    "start_time": "2024-03-08T13:07:03.107Z"
   },
   {
    "duration": 7,
    "start_time": "2024-03-08T13:07:03.118Z"
   },
   {
    "duration": 55,
    "start_time": "2024-03-08T13:07:03.126Z"
   },
   {
    "duration": 13,
    "start_time": "2024-03-08T13:07:03.183Z"
   },
   {
    "duration": 192,
    "start_time": "2024-03-08T13:07:03.197Z"
   },
   {
    "duration": 4,
    "start_time": "2024-03-08T13:07:03.391Z"
   },
   {
    "duration": 22,
    "start_time": "2024-03-08T13:07:03.397Z"
   },
   {
    "duration": 14,
    "start_time": "2024-03-08T13:07:03.420Z"
   },
   {
    "duration": 54,
    "start_time": "2024-03-08T13:07:03.435Z"
   },
   {
    "duration": 18,
    "start_time": "2024-03-08T13:07:03.491Z"
   },
   {
    "duration": 9,
    "start_time": "2024-03-08T13:07:03.511Z"
   },
   {
    "duration": 200,
    "start_time": "2024-03-08T13:07:03.522Z"
   },
   {
    "duration": 8,
    "start_time": "2024-03-08T13:07:03.724Z"
   },
   {
    "duration": 13,
    "start_time": "2024-03-08T13:07:03.734Z"
   },
   {
    "duration": 35,
    "start_time": "2024-03-08T13:07:03.749Z"
   },
   {
    "duration": 5,
    "start_time": "2024-03-08T13:07:03.785Z"
   },
   {
    "duration": 51,
    "start_time": "2024-03-08T13:07:03.791Z"
   },
   {
    "duration": 472,
    "start_time": "2024-03-08T13:07:03.844Z"
   },
   {
    "duration": 9,
    "start_time": "2024-03-08T13:07:04.318Z"
   },
   {
    "duration": 12,
    "start_time": "2024-03-08T13:07:04.328Z"
   },
   {
    "duration": 24,
    "start_time": "2024-03-08T13:07:04.342Z"
   },
   {
    "duration": 24,
    "start_time": "2024-03-08T13:07:04.371Z"
   },
   {
    "duration": 36,
    "start_time": "2024-03-08T13:07:04.396Z"
   },
   {
    "duration": 44,
    "start_time": "2024-03-08T13:07:04.434Z"
   },
   {
    "duration": 230,
    "start_time": "2024-03-08T13:07:04.480Z"
   },
   {
    "duration": 11,
    "start_time": "2024-03-08T13:07:04.712Z"
   },
   {
    "duration": 56,
    "start_time": "2024-03-08T13:07:04.724Z"
   },
   {
    "duration": 16,
    "start_time": "2024-03-08T13:07:04.781Z"
   },
   {
    "duration": 29,
    "start_time": "2024-03-08T13:07:04.799Z"
   },
   {
    "duration": 32,
    "start_time": "2024-03-08T13:07:04.830Z"
   },
   {
    "duration": 27,
    "start_time": "2024-03-08T13:07:04.864Z"
   },
   {
    "duration": 39,
    "start_time": "2024-03-08T13:07:04.892Z"
   },
   {
    "duration": 52,
    "start_time": "2024-03-08T13:07:04.933Z"
   },
   {
    "duration": 35,
    "start_time": "2024-03-08T13:07:04.987Z"
   },
   {
    "duration": 57,
    "start_time": "2024-03-08T13:07:05.024Z"
   },
   {
    "duration": 41,
    "start_time": "2024-03-08T13:07:05.083Z"
   },
   {
    "duration": 111,
    "start_time": "2024-03-08T13:07:05.125Z"
   },
   {
    "duration": 16,
    "start_time": "2024-03-08T13:07:05.238Z"
   },
   {
    "duration": 33,
    "start_time": "2024-03-08T13:07:05.256Z"
   },
   {
    "duration": 16,
    "start_time": "2024-03-08T13:07:05.291Z"
   },
   {
    "duration": 30,
    "start_time": "2024-03-08T13:07:05.309Z"
   },
   {
    "duration": 37,
    "start_time": "2024-03-08T13:07:05.340Z"
   },
   {
    "duration": 19,
    "start_time": "2024-03-08T13:07:05.378Z"
   },
   {
    "duration": 40,
    "start_time": "2024-03-08T13:07:05.398Z"
   },
   {
    "duration": 295,
    "start_time": "2024-03-08T13:07:05.440Z"
   },
   {
    "duration": 12,
    "start_time": "2024-03-08T13:07:05.736Z"
   },
   {
    "duration": 327,
    "start_time": "2024-03-08T13:07:05.749Z"
   },
   {
    "duration": 24,
    "start_time": "2024-03-08T13:07:06.081Z"
   },
   {
    "duration": 9,
    "start_time": "2024-03-08T13:07:06.107Z"
   },
   {
    "duration": 31,
    "start_time": "2024-03-08T13:07:06.118Z"
   },
   {
    "duration": 27,
    "start_time": "2024-03-08T13:07:06.154Z"
   },
   {
    "duration": 38,
    "start_time": "2024-03-08T13:07:06.183Z"
   },
   {
    "duration": 12,
    "start_time": "2024-03-08T13:07:38.203Z"
   },
   {
    "duration": 9,
    "start_time": "2024-03-08T13:08:26.508Z"
   },
   {
    "duration": 20,
    "start_time": "2024-03-08T13:08:36.764Z"
   },
   {
    "duration": 12,
    "start_time": "2024-03-08T13:11:10.875Z"
   },
   {
    "duration": 307,
    "start_time": "2024-03-08T13:11:12.838Z"
   },
   {
    "duration": 9,
    "start_time": "2024-03-08T13:11:39.051Z"
   },
   {
    "duration": 317,
    "start_time": "2024-03-08T13:11:50.753Z"
   },
   {
    "duration": 272,
    "start_time": "2024-03-08T13:12:17.556Z"
   },
   {
    "duration": 20,
    "start_time": "2024-03-08T13:35:05.074Z"
   },
   {
    "duration": 107,
    "start_time": "2024-03-08T13:37:19.306Z"
   },
   {
    "duration": 41,
    "start_time": "2024-03-08T13:37:30.292Z"
   },
   {
    "duration": 39,
    "start_time": "2024-03-08T13:38:40.280Z"
   },
   {
    "duration": 78,
    "start_time": "2024-03-08T13:39:27.879Z"
   },
   {
    "duration": 1174,
    "start_time": "2024-03-08T13:39:38.201Z"
   },
   {
    "duration": 1134,
    "start_time": "2024-03-08T13:40:38.457Z"
   },
   {
    "duration": 29,
    "start_time": "2024-03-08T13:40:50.917Z"
   },
   {
    "duration": 1229,
    "start_time": "2024-03-08T13:40:53.319Z"
   },
   {
    "duration": 1262,
    "start_time": "2024-03-08T13:40:59.316Z"
   },
   {
    "duration": 49,
    "start_time": "2024-03-08T13:41:00.581Z"
   },
   {
    "duration": 20,
    "start_time": "2024-03-08T13:41:00.632Z"
   },
   {
    "duration": 129,
    "start_time": "2024-03-08T13:41:00.655Z"
   },
   {
    "duration": 96,
    "start_time": "2024-03-08T13:41:00.786Z"
   },
   {
    "duration": 34,
    "start_time": "2024-03-08T13:41:00.883Z"
   },
   {
    "duration": 43,
    "start_time": "2024-03-08T13:41:00.919Z"
   },
   {
    "duration": 59,
    "start_time": "2024-03-08T13:41:00.964Z"
   },
   {
    "duration": 27,
    "start_time": "2024-03-08T13:41:01.025Z"
   },
   {
    "duration": 49,
    "start_time": "2024-03-08T13:41:01.055Z"
   },
   {
    "duration": 26,
    "start_time": "2024-03-08T13:41:01.106Z"
   },
   {
    "duration": 25,
    "start_time": "2024-03-08T13:41:01.133Z"
   },
   {
    "duration": 49,
    "start_time": "2024-03-08T13:41:01.160Z"
   },
   {
    "duration": 57,
    "start_time": "2024-03-08T13:41:01.211Z"
   },
   {
    "duration": 55,
    "start_time": "2024-03-08T13:41:01.270Z"
   },
   {
    "duration": 49,
    "start_time": "2024-03-08T13:41:01.327Z"
   },
   {
    "duration": 51,
    "start_time": "2024-03-08T13:41:01.378Z"
   },
   {
    "duration": 45,
    "start_time": "2024-03-08T13:41:01.430Z"
   },
   {
    "duration": 52,
    "start_time": "2024-03-08T13:41:01.477Z"
   },
   {
    "duration": 51,
    "start_time": "2024-03-08T13:41:01.531Z"
   },
   {
    "duration": 227,
    "start_time": "2024-03-08T13:41:01.583Z"
   },
   {
    "duration": 21,
    "start_time": "2024-03-08T13:41:01.811Z"
   },
   {
    "duration": 29,
    "start_time": "2024-03-08T13:41:01.834Z"
   },
   {
    "duration": 183,
    "start_time": "2024-03-08T13:41:01.865Z"
   },
   {
    "duration": 168,
    "start_time": "2024-03-08T13:41:02.049Z"
   },
   {
    "duration": 5,
    "start_time": "2024-03-08T13:41:02.218Z"
   },
   {
    "duration": 28,
    "start_time": "2024-03-08T13:41:02.224Z"
   },
   {
    "duration": 27,
    "start_time": "2024-03-08T13:41:02.256Z"
   },
   {
    "duration": 35,
    "start_time": "2024-03-08T13:41:02.285Z"
   },
   {
    "duration": 27,
    "start_time": "2024-03-08T13:41:02.321Z"
   },
   {
    "duration": 30,
    "start_time": "2024-03-08T13:41:02.351Z"
   },
   {
    "duration": 35,
    "start_time": "2024-03-08T13:41:02.383Z"
   },
   {
    "duration": 33,
    "start_time": "2024-03-08T13:41:02.420Z"
   },
   {
    "duration": 37,
    "start_time": "2024-03-08T13:41:02.454Z"
   },
   {
    "duration": 189,
    "start_time": "2024-03-08T13:41:02.492Z"
   },
   {
    "duration": 5,
    "start_time": "2024-03-08T13:41:02.683Z"
   },
   {
    "duration": 58,
    "start_time": "2024-03-08T13:41:02.690Z"
   },
   {
    "duration": 13,
    "start_time": "2024-03-08T13:41:02.750Z"
   },
   {
    "duration": 27,
    "start_time": "2024-03-08T13:41:02.765Z"
   },
   {
    "duration": 22,
    "start_time": "2024-03-08T13:41:02.794Z"
   },
   {
    "duration": 33,
    "start_time": "2024-03-08T13:41:02.817Z"
   },
   {
    "duration": 203,
    "start_time": "2024-03-08T13:41:02.851Z"
   },
   {
    "duration": 17,
    "start_time": "2024-03-08T13:41:03.055Z"
   },
   {
    "duration": 27,
    "start_time": "2024-03-08T13:41:03.075Z"
   },
   {
    "duration": 16,
    "start_time": "2024-03-08T13:41:03.104Z"
   },
   {
    "duration": 27,
    "start_time": "2024-03-08T13:41:03.122Z"
   },
   {
    "duration": 50,
    "start_time": "2024-03-08T13:41:03.150Z"
   },
   {
    "duration": 440,
    "start_time": "2024-03-08T13:41:03.201Z"
   },
   {
    "duration": 10,
    "start_time": "2024-03-08T13:41:03.642Z"
   },
   {
    "duration": 7,
    "start_time": "2024-03-08T13:41:03.665Z"
   },
   {
    "duration": 17,
    "start_time": "2024-03-08T13:41:03.673Z"
   },
   {
    "duration": 27,
    "start_time": "2024-03-08T13:41:03.691Z"
   },
   {
    "duration": 30,
    "start_time": "2024-03-08T13:41:03.720Z"
   },
   {
    "duration": 37,
    "start_time": "2024-03-08T13:41:03.751Z"
   },
   {
    "duration": 228,
    "start_time": "2024-03-08T13:41:03.790Z"
   },
   {
    "duration": 7,
    "start_time": "2024-03-08T13:41:04.020Z"
   },
   {
    "duration": 26,
    "start_time": "2024-03-08T13:41:04.028Z"
   },
   {
    "duration": 31,
    "start_time": "2024-03-08T13:41:04.055Z"
   },
   {
    "duration": 30,
    "start_time": "2024-03-08T13:41:04.088Z"
   },
   {
    "duration": 27,
    "start_time": "2024-03-08T13:41:04.120Z"
   },
   {
    "duration": 47,
    "start_time": "2024-03-08T13:41:04.149Z"
   },
   {
    "duration": 16,
    "start_time": "2024-03-08T13:41:04.198Z"
   },
   {
    "duration": 16,
    "start_time": "2024-03-08T13:41:04.216Z"
   },
   {
    "duration": 42,
    "start_time": "2024-03-08T13:41:04.234Z"
   },
   {
    "duration": 35,
    "start_time": "2024-03-08T13:41:04.277Z"
   },
   {
    "duration": 29,
    "start_time": "2024-03-08T13:41:04.314Z"
   },
   {
    "duration": 50,
    "start_time": "2024-03-08T13:41:04.344Z"
   },
   {
    "duration": 57,
    "start_time": "2024-03-08T13:41:04.396Z"
   },
   {
    "duration": 25,
    "start_time": "2024-03-08T13:41:04.454Z"
   },
   {
    "duration": 20,
    "start_time": "2024-03-08T13:41:04.481Z"
   },
   {
    "duration": 25,
    "start_time": "2024-03-08T13:41:04.503Z"
   },
   {
    "duration": 19,
    "start_time": "2024-03-08T13:41:04.529Z"
   },
   {
    "duration": 31,
    "start_time": "2024-03-08T13:41:04.549Z"
   },
   {
    "duration": 23,
    "start_time": "2024-03-08T13:41:04.582Z"
   },
   {
    "duration": 49,
    "start_time": "2024-03-08T13:41:04.607Z"
   },
   {
    "duration": 21,
    "start_time": "2024-03-08T13:41:04.659Z"
   },
   {
    "duration": 23,
    "start_time": "2024-03-08T13:41:04.681Z"
   },
   {
    "duration": 306,
    "start_time": "2024-03-08T13:41:04.705Z"
   },
   {
    "duration": 10,
    "start_time": "2024-03-08T13:41:05.012Z"
   },
   {
    "duration": 309,
    "start_time": "2024-03-08T13:41:05.024Z"
   },
   {
    "duration": 9,
    "start_time": "2024-03-08T13:41:05.335Z"
   },
   {
    "duration": 293,
    "start_time": "2024-03-08T13:41:05.349Z"
   },
   {
    "duration": 34,
    "start_time": "2024-03-08T13:41:05.643Z"
   },
   {
    "duration": 105,
    "start_time": "2024-03-08T13:41:05.679Z"
   },
   {
    "duration": 0,
    "start_time": "2024-03-08T13:41:05.785Z"
   },
   {
    "duration": 0,
    "start_time": "2024-03-08T13:41:05.786Z"
   },
   {
    "duration": 0,
    "start_time": "2024-03-08T13:41:05.787Z"
   },
   {
    "duration": 8,
    "start_time": "2024-03-08T13:41:22.260Z"
   },
   {
    "duration": 9,
    "start_time": "2024-03-08T13:43:56.189Z"
   },
   {
    "duration": 1452,
    "start_time": "2024-03-09T16:31:54.255Z"
   },
   {
    "duration": 152,
    "start_time": "2024-03-09T16:31:55.709Z"
   },
   {
    "duration": 12,
    "start_time": "2024-03-09T16:31:55.863Z"
   },
   {
    "duration": 12,
    "start_time": "2024-03-09T16:31:55.876Z"
   },
   {
    "duration": 12,
    "start_time": "2024-03-09T16:31:55.889Z"
   },
   {
    "duration": 10,
    "start_time": "2024-03-09T16:31:55.902Z"
   },
   {
    "duration": 9,
    "start_time": "2024-03-09T16:31:55.914Z"
   },
   {
    "duration": 12,
    "start_time": "2024-03-09T16:31:55.924Z"
   },
   {
    "duration": 11,
    "start_time": "2024-03-09T16:31:55.937Z"
   },
   {
    "duration": 9,
    "start_time": "2024-03-09T16:31:55.950Z"
   },
   {
    "duration": 27,
    "start_time": "2024-03-09T16:31:55.960Z"
   },
   {
    "duration": 9,
    "start_time": "2024-03-09T16:31:55.989Z"
   },
   {
    "duration": 15,
    "start_time": "2024-03-09T16:31:55.999Z"
   },
   {
    "duration": 16,
    "start_time": "2024-03-09T16:31:56.015Z"
   },
   {
    "duration": 20,
    "start_time": "2024-03-09T16:31:56.032Z"
   },
   {
    "duration": 13,
    "start_time": "2024-03-09T16:31:56.054Z"
   },
   {
    "duration": 23,
    "start_time": "2024-03-09T16:31:56.069Z"
   },
   {
    "duration": 31,
    "start_time": "2024-03-09T16:31:56.093Z"
   },
   {
    "duration": 20,
    "start_time": "2024-03-09T16:31:56.126Z"
   },
   {
    "duration": 5,
    "start_time": "2024-03-09T16:31:56.147Z"
   },
   {
    "duration": 185,
    "start_time": "2024-03-09T16:31:56.154Z"
   },
   {
    "duration": 22,
    "start_time": "2024-03-09T16:31:56.340Z"
   },
   {
    "duration": 15,
    "start_time": "2024-03-09T16:31:56.364Z"
   },
   {
    "duration": 173,
    "start_time": "2024-03-09T16:31:56.380Z"
   },
   {
    "duration": 159,
    "start_time": "2024-03-09T16:31:56.555Z"
   },
   {
    "duration": 4,
    "start_time": "2024-03-09T16:31:56.715Z"
   },
   {
    "duration": 16,
    "start_time": "2024-03-09T16:31:56.720Z"
   },
   {
    "duration": 10,
    "start_time": "2024-03-09T16:31:56.739Z"
   },
   {
    "duration": 9,
    "start_time": "2024-03-09T16:31:56.751Z"
   },
   {
    "duration": 10,
    "start_time": "2024-03-09T16:31:56.762Z"
   },
   {
    "duration": 19,
    "start_time": "2024-03-09T16:31:56.773Z"
   },
   {
    "duration": 5,
    "start_time": "2024-03-09T16:31:56.793Z"
   },
   {
    "duration": 14,
    "start_time": "2024-03-09T16:31:56.800Z"
   },
   {
    "duration": 13,
    "start_time": "2024-03-09T16:31:56.816Z"
   },
   {
    "duration": 186,
    "start_time": "2024-03-09T16:31:56.831Z"
   },
   {
    "duration": 3,
    "start_time": "2024-03-09T16:31:57.019Z"
   },
   {
    "duration": 21,
    "start_time": "2024-03-09T16:31:57.024Z"
   },
   {
    "duration": 12,
    "start_time": "2024-03-09T16:31:57.046Z"
   },
   {
    "duration": 36,
    "start_time": "2024-03-09T16:31:57.060Z"
   },
   {
    "duration": 11,
    "start_time": "2024-03-09T16:31:57.097Z"
   },
   {
    "duration": 12,
    "start_time": "2024-03-09T16:31:57.109Z"
   },
   {
    "duration": 206,
    "start_time": "2024-03-09T16:31:57.122Z"
   },
   {
    "duration": 7,
    "start_time": "2024-03-09T16:31:57.330Z"
   },
   {
    "duration": 6,
    "start_time": "2024-03-09T16:31:57.339Z"
   },
   {
    "duration": 9,
    "start_time": "2024-03-09T16:31:57.346Z"
   },
   {
    "duration": 5,
    "start_time": "2024-03-09T16:31:57.356Z"
   },
   {
    "duration": 49,
    "start_time": "2024-03-09T16:31:57.362Z"
   },
   {
    "duration": 430,
    "start_time": "2024-03-09T16:31:57.413Z"
   },
   {
    "duration": 8,
    "start_time": "2024-03-09T16:31:57.845Z"
   },
   {
    "duration": 7,
    "start_time": "2024-03-09T16:31:57.855Z"
   },
   {
    "duration": 3,
    "start_time": "2024-03-09T16:31:57.864Z"
   },
   {
    "duration": 19,
    "start_time": "2024-03-09T16:31:57.868Z"
   },
   {
    "duration": 27,
    "start_time": "2024-03-09T16:31:57.888Z"
   },
   {
    "duration": 12,
    "start_time": "2024-03-09T16:31:57.916Z"
   },
   {
    "duration": 196,
    "start_time": "2024-03-09T16:31:57.929Z"
   },
   {
    "duration": 7,
    "start_time": "2024-03-09T16:31:58.127Z"
   },
   {
    "duration": 8,
    "start_time": "2024-03-09T16:31:58.136Z"
   },
   {
    "duration": 24,
    "start_time": "2024-03-09T16:31:58.146Z"
   },
   {
    "duration": 8,
    "start_time": "2024-03-09T16:31:58.172Z"
   },
   {
    "duration": 9,
    "start_time": "2024-03-09T16:31:58.188Z"
   },
   {
    "duration": 15,
    "start_time": "2024-03-09T16:31:58.198Z"
   },
   {
    "duration": 5,
    "start_time": "2024-03-09T16:31:58.215Z"
   },
   {
    "duration": 20,
    "start_time": "2024-03-09T16:31:58.222Z"
   },
   {
    "duration": 9,
    "start_time": "2024-03-09T16:31:58.244Z"
   },
   {
    "duration": 10,
    "start_time": "2024-03-09T16:31:58.255Z"
   },
   {
    "duration": 20,
    "start_time": "2024-03-09T16:31:58.267Z"
   },
   {
    "duration": 3,
    "start_time": "2024-03-09T16:31:58.289Z"
   },
   {
    "duration": 61,
    "start_time": "2024-03-09T16:31:58.294Z"
   },
   {
    "duration": 17,
    "start_time": "2024-03-09T16:31:58.357Z"
   },
   {
    "duration": 19,
    "start_time": "2024-03-09T16:31:58.376Z"
   },
   {
    "duration": 17,
    "start_time": "2024-03-09T16:31:58.396Z"
   },
   {
    "duration": 10,
    "start_time": "2024-03-09T16:31:58.415Z"
   },
   {
    "duration": 15,
    "start_time": "2024-03-09T16:31:58.427Z"
   },
   {
    "duration": 29,
    "start_time": "2024-03-09T16:31:58.444Z"
   },
   {
    "duration": 20,
    "start_time": "2024-03-09T16:31:58.474Z"
   },
   {
    "duration": 9,
    "start_time": "2024-03-09T16:31:58.495Z"
   },
   {
    "duration": 13,
    "start_time": "2024-03-09T16:31:58.511Z"
   },
   {
    "duration": 295,
    "start_time": "2024-03-09T16:31:58.525Z"
   },
   {
    "duration": 10,
    "start_time": "2024-03-09T16:31:58.822Z"
   },
   {
    "duration": 276,
    "start_time": "2024-03-09T16:31:58.834Z"
   },
   {
    "duration": 8,
    "start_time": "2024-03-09T16:31:59.112Z"
   },
   {
    "duration": 262,
    "start_time": "2024-03-09T16:31:59.125Z"
   },
   {
    "duration": 16,
    "start_time": "2024-03-09T16:31:59.389Z"
   },
   {
    "duration": 7,
    "start_time": "2024-03-09T16:31:59.407Z"
   },
   {
    "duration": 14,
    "start_time": "2024-03-09T16:31:59.416Z"
   },
   {
    "duration": 19,
    "start_time": "2024-03-09T16:31:59.432Z"
   },
   {
    "duration": 28,
    "start_time": "2024-03-09T16:31:59.453Z"
   },
   {
    "duration": 1479,
    "start_time": "2024-03-09T16:44:43.759Z"
   },
   {
    "duration": 157,
    "start_time": "2024-03-09T16:44:45.241Z"
   },
   {
    "duration": 14,
    "start_time": "2024-03-09T16:44:45.400Z"
   },
   {
    "duration": 33,
    "start_time": "2024-03-09T16:44:45.416Z"
   },
   {
    "duration": 13,
    "start_time": "2024-03-09T16:44:45.451Z"
   },
   {
    "duration": 28,
    "start_time": "2024-03-09T16:44:45.466Z"
   },
   {
    "duration": 15,
    "start_time": "2024-03-09T16:44:45.496Z"
   },
   {
    "duration": 30,
    "start_time": "2024-03-09T16:44:45.513Z"
   },
   {
    "duration": 11,
    "start_time": "2024-03-09T16:44:45.544Z"
   },
   {
    "duration": 21,
    "start_time": "2024-03-09T16:44:45.558Z"
   },
   {
    "duration": 12,
    "start_time": "2024-03-09T16:44:45.581Z"
   },
   {
    "duration": 8,
    "start_time": "2024-03-09T16:44:45.595Z"
   },
   {
    "duration": 20,
    "start_time": "2024-03-09T16:44:45.605Z"
   },
   {
    "duration": 5,
    "start_time": "2024-03-09T16:44:45.627Z"
   },
   {
    "duration": 15,
    "start_time": "2024-03-09T16:44:45.633Z"
   },
   {
    "duration": 10,
    "start_time": "2024-03-09T16:44:45.649Z"
   },
   {
    "duration": 33,
    "start_time": "2024-03-09T16:44:45.661Z"
   },
   {
    "duration": 4,
    "start_time": "2024-03-09T16:44:45.696Z"
   },
   {
    "duration": 8,
    "start_time": "2024-03-09T16:44:45.701Z"
   },
   {
    "duration": 6,
    "start_time": "2024-03-09T16:44:45.710Z"
   },
   {
    "duration": 212,
    "start_time": "2024-03-09T16:44:45.717Z"
   },
   {
    "duration": 23,
    "start_time": "2024-03-09T16:44:45.931Z"
   },
   {
    "duration": 21,
    "start_time": "2024-03-09T16:44:45.956Z"
   },
   {
    "duration": 167,
    "start_time": "2024-03-09T16:44:45.979Z"
   },
   {
    "duration": 172,
    "start_time": "2024-03-09T16:44:46.148Z"
   },
   {
    "duration": 4,
    "start_time": "2024-03-09T16:44:46.322Z"
   },
   {
    "duration": 12,
    "start_time": "2024-03-09T16:44:46.328Z"
   },
   {
    "duration": 4,
    "start_time": "2024-03-09T16:44:46.344Z"
   },
   {
    "duration": 6,
    "start_time": "2024-03-09T16:44:46.349Z"
   },
   {
    "duration": 30,
    "start_time": "2024-03-09T16:44:46.357Z"
   },
   {
    "duration": 11,
    "start_time": "2024-03-09T16:44:46.389Z"
   },
   {
    "duration": 13,
    "start_time": "2024-03-09T16:44:46.401Z"
   },
   {
    "duration": 32,
    "start_time": "2024-03-09T16:44:46.415Z"
   },
   {
    "duration": 12,
    "start_time": "2024-03-09T16:44:46.449Z"
   },
   {
    "duration": 173,
    "start_time": "2024-03-09T16:44:46.462Z"
   },
   {
    "duration": 4,
    "start_time": "2024-03-09T16:44:46.637Z"
   },
   {
    "duration": 34,
    "start_time": "2024-03-09T16:44:46.643Z"
   },
   {
    "duration": 13,
    "start_time": "2024-03-09T16:44:46.679Z"
   },
   {
    "duration": 17,
    "start_time": "2024-03-09T16:44:46.694Z"
   },
   {
    "duration": 11,
    "start_time": "2024-03-09T16:44:46.712Z"
   },
   {
    "duration": 13,
    "start_time": "2024-03-09T16:44:46.724Z"
   },
   {
    "duration": 201,
    "start_time": "2024-03-09T16:44:46.738Z"
   },
   {
    "duration": 7,
    "start_time": "2024-03-09T16:44:46.941Z"
   },
   {
    "duration": 12,
    "start_time": "2024-03-09T16:44:46.950Z"
   },
   {
    "duration": 7,
    "start_time": "2024-03-09T16:44:46.964Z"
   },
   {
    "duration": 4,
    "start_time": "2024-03-09T16:44:46.988Z"
   },
   {
    "duration": 30,
    "start_time": "2024-03-09T16:44:46.994Z"
   },
   {
    "duration": 473,
    "start_time": "2024-03-09T16:44:47.025Z"
   },
   {
    "duration": 9,
    "start_time": "2024-03-09T16:44:47.500Z"
   },
   {
    "duration": 3,
    "start_time": "2024-03-09T16:44:47.510Z"
   },
   {
    "duration": 34,
    "start_time": "2024-03-09T16:44:47.514Z"
   },
   {
    "duration": 12,
    "start_time": "2024-03-09T16:44:47.549Z"
   },
   {
    "duration": 17,
    "start_time": "2024-03-09T16:44:47.562Z"
   },
   {
    "duration": 10,
    "start_time": "2024-03-09T16:44:47.580Z"
   },
   {
    "duration": 204,
    "start_time": "2024-03-09T16:44:47.592Z"
   },
   {
    "duration": 8,
    "start_time": "2024-03-09T16:44:47.797Z"
   },
   {
    "duration": 21,
    "start_time": "2024-03-09T16:44:47.806Z"
   },
   {
    "duration": 30,
    "start_time": "2024-03-09T16:44:47.829Z"
   },
   {
    "duration": 26,
    "start_time": "2024-03-09T16:44:47.860Z"
   },
   {
    "duration": 27,
    "start_time": "2024-03-09T16:44:47.887Z"
   },
   {
    "duration": 55,
    "start_time": "2024-03-09T16:44:47.915Z"
   },
   {
    "duration": 16,
    "start_time": "2024-03-09T16:44:47.971Z"
   },
   {
    "duration": 13,
    "start_time": "2024-03-09T16:44:47.988Z"
   },
   {
    "duration": 42,
    "start_time": "2024-03-09T16:44:48.002Z"
   },
   {
    "duration": 13,
    "start_time": "2024-03-09T16:44:48.046Z"
   },
   {
    "duration": 10,
    "start_time": "2024-03-09T16:44:48.061Z"
   },
   {
    "duration": 12,
    "start_time": "2024-03-09T16:44:48.073Z"
   },
   {
    "duration": 66,
    "start_time": "2024-03-09T16:44:48.087Z"
   },
   {
    "duration": 17,
    "start_time": "2024-03-09T16:44:48.155Z"
   },
   {
    "duration": 27,
    "start_time": "2024-03-09T16:44:48.173Z"
   },
   {
    "duration": 15,
    "start_time": "2024-03-09T16:44:48.202Z"
   },
   {
    "duration": 8,
    "start_time": "2024-03-09T16:44:48.218Z"
   },
   {
    "duration": 18,
    "start_time": "2024-03-09T16:44:48.228Z"
   },
   {
    "duration": 8,
    "start_time": "2024-03-09T16:44:48.248Z"
   },
   {
    "duration": 35,
    "start_time": "2024-03-09T16:44:48.258Z"
   },
   {
    "duration": 9,
    "start_time": "2024-03-09T16:44:48.295Z"
   },
   {
    "duration": 13,
    "start_time": "2024-03-09T16:44:48.305Z"
   },
   {
    "duration": 321,
    "start_time": "2024-03-09T16:44:48.319Z"
   },
   {
    "duration": 11,
    "start_time": "2024-03-09T16:44:48.641Z"
   },
   {
    "duration": 286,
    "start_time": "2024-03-09T16:44:48.653Z"
   },
   {
    "duration": 9,
    "start_time": "2024-03-09T16:44:48.941Z"
   },
   {
    "duration": 271,
    "start_time": "2024-03-09T16:44:48.955Z"
   },
   {
    "duration": 19,
    "start_time": "2024-03-09T16:44:49.228Z"
   },
   {
    "duration": 11,
    "start_time": "2024-03-09T16:44:49.249Z"
   },
   {
    "duration": 36,
    "start_time": "2024-03-09T16:44:49.262Z"
   },
   {
    "duration": 14,
    "start_time": "2024-03-09T16:44:49.300Z"
   },
   {
    "duration": 7,
    "start_time": "2024-03-09T16:44:49.315Z"
   },
   {
    "duration": 16,
    "start_time": "2024-03-09T16:47:46.379Z"
   },
   {
    "duration": 13,
    "start_time": "2024-03-09T16:50:41.804Z"
   },
   {
    "duration": 11,
    "start_time": "2024-03-09T16:51:11.511Z"
   },
   {
    "duration": 15,
    "start_time": "2024-03-09T16:52:40.808Z"
   },
   {
    "duration": 1366,
    "start_time": "2024-03-10T11:16:09.042Z"
   },
   {
    "duration": 50,
    "start_time": "2024-03-10T11:16:10.409Z"
   },
   {
    "duration": 13,
    "start_time": "2024-03-10T11:16:10.461Z"
   },
   {
    "duration": 13,
    "start_time": "2024-03-10T11:16:10.476Z"
   },
   {
    "duration": 21,
    "start_time": "2024-03-10T11:16:10.491Z"
   },
   {
    "duration": 12,
    "start_time": "2024-03-10T11:16:10.514Z"
   },
   {
    "duration": 12,
    "start_time": "2024-03-10T11:16:10.527Z"
   },
   {
    "duration": 16,
    "start_time": "2024-03-10T11:16:10.541Z"
   },
   {
    "duration": 8,
    "start_time": "2024-03-10T11:16:10.558Z"
   },
   {
    "duration": 9,
    "start_time": "2024-03-10T11:16:10.568Z"
   },
   {
    "duration": 43,
    "start_time": "2024-03-10T11:16:10.578Z"
   },
   {
    "duration": 9,
    "start_time": "2024-03-10T11:16:10.627Z"
   },
   {
    "duration": 12,
    "start_time": "2024-03-10T11:16:10.638Z"
   },
   {
    "duration": 7,
    "start_time": "2024-03-10T11:16:10.652Z"
   },
   {
    "duration": 11,
    "start_time": "2024-03-10T11:16:10.660Z"
   },
   {
    "duration": 11,
    "start_time": "2024-03-10T11:16:10.673Z"
   },
   {
    "duration": 42,
    "start_time": "2024-03-10T11:16:10.685Z"
   },
   {
    "duration": 8,
    "start_time": "2024-03-10T11:16:10.729Z"
   },
   {
    "duration": 10,
    "start_time": "2024-03-10T11:16:10.739Z"
   },
   {
    "duration": 7,
    "start_time": "2024-03-10T11:16:10.751Z"
   },
   {
    "duration": 245,
    "start_time": "2024-03-10T11:16:10.759Z"
   },
   {
    "duration": 38,
    "start_time": "2024-03-10T11:16:11.006Z"
   },
   {
    "duration": 6,
    "start_time": "2024-03-10T11:16:11.045Z"
   },
   {
    "duration": 208,
    "start_time": "2024-03-10T11:16:11.052Z"
   },
   {
    "duration": 198,
    "start_time": "2024-03-10T11:16:11.262Z"
   },
   {
    "duration": 5,
    "start_time": "2024-03-10T11:16:11.462Z"
   },
   {
    "duration": 7,
    "start_time": "2024-03-10T11:16:11.468Z"
   },
   {
    "duration": 4,
    "start_time": "2024-03-10T11:16:11.480Z"
   },
   {
    "duration": 31,
    "start_time": "2024-03-10T11:16:11.485Z"
   },
   {
    "duration": 11,
    "start_time": "2024-03-10T11:16:11.518Z"
   },
   {
    "duration": 12,
    "start_time": "2024-03-10T11:16:11.531Z"
   },
   {
    "duration": 7,
    "start_time": "2024-03-10T11:16:11.545Z"
   },
   {
    "duration": 22,
    "start_time": "2024-03-10T11:16:11.554Z"
   },
   {
    "duration": 44,
    "start_time": "2024-03-10T11:16:11.578Z"
   },
   {
    "duration": 204,
    "start_time": "2024-03-10T11:16:11.623Z"
   },
   {
    "duration": 4,
    "start_time": "2024-03-10T11:16:11.830Z"
   },
   {
    "duration": 21,
    "start_time": "2024-03-10T11:16:11.835Z"
   },
   {
    "duration": 14,
    "start_time": "2024-03-10T11:16:11.858Z"
   },
   {
    "duration": 47,
    "start_time": "2024-03-10T11:16:11.874Z"
   },
   {
    "duration": 16,
    "start_time": "2024-03-10T11:16:11.923Z"
   },
   {
    "duration": 19,
    "start_time": "2024-03-10T11:16:11.941Z"
   },
   {
    "duration": 220,
    "start_time": "2024-03-10T11:16:11.962Z"
   },
   {
    "duration": 7,
    "start_time": "2024-03-10T11:16:12.183Z"
   },
   {
    "duration": 30,
    "start_time": "2024-03-10T11:16:12.192Z"
   },
   {
    "duration": 9,
    "start_time": "2024-03-10T11:16:12.227Z"
   },
   {
    "duration": 10,
    "start_time": "2024-03-10T11:16:12.237Z"
   },
   {
    "duration": 34,
    "start_time": "2024-03-10T11:16:12.249Z"
   },
   {
    "duration": 502,
    "start_time": "2024-03-10T11:16:12.285Z"
   },
   {
    "duration": 10,
    "start_time": "2024-03-10T11:16:12.789Z"
   },
   {
    "duration": 3,
    "start_time": "2024-03-10T11:16:12.800Z"
   },
   {
    "duration": 9,
    "start_time": "2024-03-10T11:16:12.814Z"
   },
   {
    "duration": 6,
    "start_time": "2024-03-10T11:16:12.826Z"
   },
   {
    "duration": 18,
    "start_time": "2024-03-10T11:16:12.833Z"
   },
   {
    "duration": 10,
    "start_time": "2024-03-10T11:16:12.853Z"
   },
   {
    "duration": 251,
    "start_time": "2024-03-10T11:16:12.865Z"
   },
   {
    "duration": 11,
    "start_time": "2024-03-10T11:16:13.119Z"
   },
   {
    "duration": 9,
    "start_time": "2024-03-10T11:16:13.131Z"
   },
   {
    "duration": 9,
    "start_time": "2024-03-10T11:16:13.141Z"
   },
   {
    "duration": 8,
    "start_time": "2024-03-10T11:16:13.151Z"
   },
   {
    "duration": 10,
    "start_time": "2024-03-10T11:16:13.161Z"
   },
   {
    "duration": 47,
    "start_time": "2024-03-10T11:16:13.172Z"
   },
   {
    "duration": 8,
    "start_time": "2024-03-10T11:16:13.220Z"
   },
   {
    "duration": 3,
    "start_time": "2024-03-10T11:16:13.230Z"
   },
   {
    "duration": 8,
    "start_time": "2024-03-10T11:16:13.235Z"
   },
   {
    "duration": 5,
    "start_time": "2024-03-10T11:16:13.244Z"
   },
   {
    "duration": 6,
    "start_time": "2024-03-10T11:16:13.251Z"
   },
   {
    "duration": 5,
    "start_time": "2024-03-10T11:16:13.258Z"
   },
   {
    "duration": 101,
    "start_time": "2024-03-10T11:16:13.265Z"
   },
   {
    "duration": 17,
    "start_time": "2024-03-10T11:16:13.368Z"
   },
   {
    "duration": 9,
    "start_time": "2024-03-10T11:16:13.387Z"
   },
   {
    "duration": 39,
    "start_time": "2024-03-10T11:16:13.398Z"
   },
   {
    "duration": 8,
    "start_time": "2024-03-10T11:16:13.439Z"
   },
   {
    "duration": 14,
    "start_time": "2024-03-10T11:16:13.449Z"
   },
   {
    "duration": 8,
    "start_time": "2024-03-10T11:16:13.465Z"
   },
   {
    "duration": 17,
    "start_time": "2024-03-10T11:16:13.474Z"
   },
   {
    "duration": 35,
    "start_time": "2024-03-10T11:16:13.493Z"
   },
   {
    "duration": 12,
    "start_time": "2024-03-10T11:16:13.530Z"
   },
   {
    "duration": 333,
    "start_time": "2024-03-10T11:16:13.544Z"
   },
   {
    "duration": 12,
    "start_time": "2024-03-10T11:16:13.878Z"
   },
   {
    "duration": 317,
    "start_time": "2024-03-10T11:16:13.892Z"
   },
   {
    "duration": 10,
    "start_time": "2024-03-10T11:16:14.215Z"
   },
   {
    "duration": 304,
    "start_time": "2024-03-10T11:16:14.231Z"
   },
   {
    "duration": 18,
    "start_time": "2024-03-10T11:16:14.537Z"
   },
   {
    "duration": 125,
    "start_time": "2024-03-10T11:16:14.557Z"
   },
   {
    "duration": 0,
    "start_time": "2024-03-10T11:16:14.683Z"
   },
   {
    "duration": 0,
    "start_time": "2024-03-10T11:16:14.685Z"
   },
   {
    "duration": 0,
    "start_time": "2024-03-10T11:16:14.686Z"
   },
   {
    "duration": 0,
    "start_time": "2024-03-10T11:16:14.687Z"
   },
   {
    "duration": 1533,
    "start_time": "2024-03-10T11:21:19.639Z"
   },
   {
    "duration": 140,
    "start_time": "2024-03-10T11:21:21.174Z"
   },
   {
    "duration": 15,
    "start_time": "2024-03-10T11:21:21.315Z"
   },
   {
    "duration": 13,
    "start_time": "2024-03-10T11:21:21.332Z"
   },
   {
    "duration": 13,
    "start_time": "2024-03-10T11:21:21.346Z"
   },
   {
    "duration": 12,
    "start_time": "2024-03-10T11:21:21.361Z"
   },
   {
    "duration": 9,
    "start_time": "2024-03-10T11:21:21.375Z"
   },
   {
    "duration": 17,
    "start_time": "2024-03-10T11:21:21.414Z"
   },
   {
    "duration": 6,
    "start_time": "2024-03-10T11:21:21.433Z"
   },
   {
    "duration": 10,
    "start_time": "2024-03-10T11:21:21.442Z"
   },
   {
    "duration": 7,
    "start_time": "2024-03-10T11:21:21.453Z"
   },
   {
    "duration": 9,
    "start_time": "2024-03-10T11:21:21.462Z"
   },
   {
    "duration": 56,
    "start_time": "2024-03-10T11:21:21.472Z"
   },
   {
    "duration": 7,
    "start_time": "2024-03-10T11:21:21.529Z"
   },
   {
    "duration": 13,
    "start_time": "2024-03-10T11:21:21.537Z"
   },
   {
    "duration": 10,
    "start_time": "2024-03-10T11:21:21.552Z"
   },
   {
    "duration": 13,
    "start_time": "2024-03-10T11:21:21.564Z"
   },
   {
    "duration": 39,
    "start_time": "2024-03-10T11:21:21.578Z"
   },
   {
    "duration": 9,
    "start_time": "2024-03-10T11:21:21.619Z"
   },
   {
    "duration": 6,
    "start_time": "2024-03-10T11:21:21.629Z"
   },
   {
    "duration": 226,
    "start_time": "2024-03-10T11:21:21.636Z"
   },
   {
    "duration": 24,
    "start_time": "2024-03-10T11:21:21.864Z"
   },
   {
    "duration": 25,
    "start_time": "2024-03-10T11:21:21.890Z"
   },
   {
    "duration": 206,
    "start_time": "2024-03-10T11:21:21.917Z"
   },
   {
    "duration": 200,
    "start_time": "2024-03-10T11:21:22.124Z"
   },
   {
    "duration": 5,
    "start_time": "2024-03-10T11:21:22.326Z"
   },
   {
    "duration": 8,
    "start_time": "2024-03-10T11:21:22.333Z"
   },
   {
    "duration": 7,
    "start_time": "2024-03-10T11:21:22.345Z"
   },
   {
    "duration": 7,
    "start_time": "2024-03-10T11:21:22.354Z"
   },
   {
    "duration": 16,
    "start_time": "2024-03-10T11:21:22.363Z"
   },
   {
    "duration": 45,
    "start_time": "2024-03-10T11:21:22.381Z"
   },
   {
    "duration": 6,
    "start_time": "2024-03-10T11:21:22.428Z"
   },
   {
    "duration": 19,
    "start_time": "2024-03-10T11:21:22.436Z"
   },
   {
    "duration": 19,
    "start_time": "2024-03-10T11:21:22.457Z"
   },
   {
    "duration": 221,
    "start_time": "2024-03-10T11:21:22.478Z"
   },
   {
    "duration": 4,
    "start_time": "2024-03-10T11:21:22.701Z"
   },
   {
    "duration": 26,
    "start_time": "2024-03-10T11:21:22.706Z"
   },
   {
    "duration": 19,
    "start_time": "2024-03-10T11:21:22.734Z"
   },
   {
    "duration": 18,
    "start_time": "2024-03-10T11:21:22.755Z"
   },
   {
    "duration": 41,
    "start_time": "2024-03-10T11:21:22.775Z"
   },
   {
    "duration": 11,
    "start_time": "2024-03-10T11:21:22.818Z"
   },
   {
    "duration": 221,
    "start_time": "2024-03-10T11:21:22.832Z"
   },
   {
    "duration": 8,
    "start_time": "2024-03-10T11:21:23.055Z"
   },
   {
    "duration": 10,
    "start_time": "2024-03-10T11:21:23.064Z"
   },
   {
    "duration": 8,
    "start_time": "2024-03-10T11:21:23.076Z"
   },
   {
    "duration": 30,
    "start_time": "2024-03-10T11:21:23.086Z"
   },
   {
    "duration": 35,
    "start_time": "2024-03-10T11:21:23.118Z"
   },
   {
    "duration": 507,
    "start_time": "2024-03-10T11:21:23.155Z"
   },
   {
    "duration": 10,
    "start_time": "2024-03-10T11:21:23.664Z"
   },
   {
    "duration": 6,
    "start_time": "2024-03-10T11:21:23.675Z"
   },
   {
    "duration": 3,
    "start_time": "2024-03-10T11:21:23.683Z"
   },
   {
    "duration": 5,
    "start_time": "2024-03-10T11:21:23.688Z"
   },
   {
    "duration": 36,
    "start_time": "2024-03-10T11:21:23.695Z"
   },
   {
    "duration": 10,
    "start_time": "2024-03-10T11:21:23.733Z"
   },
   {
    "duration": 267,
    "start_time": "2024-03-10T11:21:23.745Z"
   },
   {
    "duration": 10,
    "start_time": "2024-03-10T11:21:24.015Z"
   },
   {
    "duration": 11,
    "start_time": "2024-03-10T11:21:24.027Z"
   },
   {
    "duration": 11,
    "start_time": "2024-03-10T11:21:24.039Z"
   },
   {
    "duration": 8,
    "start_time": "2024-03-10T11:21:24.052Z"
   },
   {
    "duration": 10,
    "start_time": "2024-03-10T11:21:24.062Z"
   },
   {
    "duration": 52,
    "start_time": "2024-03-10T11:21:24.074Z"
   },
   {
    "duration": 6,
    "start_time": "2024-03-10T11:21:24.127Z"
   },
   {
    "duration": 3,
    "start_time": "2024-03-10T11:21:24.135Z"
   },
   {
    "duration": 7,
    "start_time": "2024-03-10T11:21:24.139Z"
   },
   {
    "duration": 5,
    "start_time": "2024-03-10T11:21:24.147Z"
   },
   {
    "duration": 12,
    "start_time": "2024-03-10T11:21:24.154Z"
   },
   {
    "duration": 5,
    "start_time": "2024-03-10T11:21:24.168Z"
   },
   {
    "duration": 94,
    "start_time": "2024-03-10T11:21:24.174Z"
   },
   {
    "duration": 18,
    "start_time": "2024-03-10T11:21:24.270Z"
   },
   {
    "duration": 28,
    "start_time": "2024-03-10T11:21:24.290Z"
   },
   {
    "duration": 17,
    "start_time": "2024-03-10T11:21:24.321Z"
   },
   {
    "duration": 9,
    "start_time": "2024-03-10T11:21:24.340Z"
   },
   {
    "duration": 15,
    "start_time": "2024-03-10T11:21:24.350Z"
   },
   {
    "duration": 8,
    "start_time": "2024-03-10T11:21:24.367Z"
   },
   {
    "duration": 45,
    "start_time": "2024-03-10T11:21:24.377Z"
   },
   {
    "duration": 10,
    "start_time": "2024-03-10T11:21:24.423Z"
   },
   {
    "duration": 12,
    "start_time": "2024-03-10T11:21:24.434Z"
   },
   {
    "duration": 316,
    "start_time": "2024-03-10T11:21:24.447Z"
   },
   {
    "duration": 11,
    "start_time": "2024-03-10T11:21:24.764Z"
   },
   {
    "duration": 317,
    "start_time": "2024-03-10T11:21:24.777Z"
   },
   {
    "duration": 9,
    "start_time": "2024-03-10T11:21:25.096Z"
   },
   {
    "duration": 293,
    "start_time": "2024-03-10T11:21:25.117Z"
   },
   {
    "duration": 18,
    "start_time": "2024-03-10T11:21:25.411Z"
   },
   {
    "duration": 141,
    "start_time": "2024-03-10T11:21:25.431Z"
   },
   {
    "duration": 0,
    "start_time": "2024-03-10T11:21:25.574Z"
   },
   {
    "duration": 0,
    "start_time": "2024-03-10T11:21:25.575Z"
   },
   {
    "duration": 0,
    "start_time": "2024-03-10T11:21:25.576Z"
   },
   {
    "duration": 0,
    "start_time": "2024-03-10T11:21:25.577Z"
   },
   {
    "duration": 22,
    "start_time": "2024-03-10T11:23:18.714Z"
   },
   {
    "duration": 1362,
    "start_time": "2024-03-10T11:23:33.074Z"
   },
   {
    "duration": 50,
    "start_time": "2024-03-10T11:23:34.438Z"
   },
   {
    "duration": 13,
    "start_time": "2024-03-10T11:23:34.489Z"
   },
   {
    "duration": 13,
    "start_time": "2024-03-10T11:23:34.504Z"
   },
   {
    "duration": 13,
    "start_time": "2024-03-10T11:23:34.518Z"
   },
   {
    "duration": 12,
    "start_time": "2024-03-10T11:23:34.533Z"
   },
   {
    "duration": 11,
    "start_time": "2024-03-10T11:23:34.547Z"
   },
   {
    "duration": 15,
    "start_time": "2024-03-10T11:23:34.560Z"
   },
   {
    "duration": 9,
    "start_time": "2024-03-10T11:23:34.576Z"
   },
   {
    "duration": 15,
    "start_time": "2024-03-10T11:23:34.618Z"
   },
   {
    "duration": 7,
    "start_time": "2024-03-10T11:23:34.635Z"
   },
   {
    "duration": 7,
    "start_time": "2024-03-10T11:23:34.644Z"
   },
   {
    "duration": 12,
    "start_time": "2024-03-10T11:23:34.653Z"
   },
   {
    "duration": 5,
    "start_time": "2024-03-10T11:23:34.667Z"
   },
   {
    "duration": 47,
    "start_time": "2024-03-10T11:23:34.673Z"
   },
   {
    "duration": 15,
    "start_time": "2024-03-10T11:23:34.722Z"
   },
   {
    "duration": 12,
    "start_time": "2024-03-10T11:23:34.739Z"
   },
   {
    "duration": 4,
    "start_time": "2024-03-10T11:23:34.752Z"
   },
   {
    "duration": 8,
    "start_time": "2024-03-10T11:23:34.757Z"
   },
   {
    "duration": 4,
    "start_time": "2024-03-10T11:23:34.767Z"
   },
   {
    "duration": 296,
    "start_time": "2024-03-10T11:23:34.773Z"
   },
   {
    "duration": 25,
    "start_time": "2024-03-10T11:23:35.071Z"
   },
   {
    "duration": 12,
    "start_time": "2024-03-10T11:23:35.097Z"
   },
   {
    "duration": 189,
    "start_time": "2024-03-10T11:23:35.111Z"
   },
   {
    "duration": 198,
    "start_time": "2024-03-10T11:23:35.302Z"
   },
   {
    "duration": 13,
    "start_time": "2024-03-10T11:23:35.502Z"
   },
   {
    "duration": 8,
    "start_time": "2024-03-10T11:23:35.517Z"
   },
   {
    "duration": 4,
    "start_time": "2024-03-10T11:23:35.531Z"
   },
   {
    "duration": 6,
    "start_time": "2024-03-10T11:23:35.536Z"
   },
   {
    "duration": 11,
    "start_time": "2024-03-10T11:23:35.544Z"
   },
   {
    "duration": 11,
    "start_time": "2024-03-10T11:23:35.556Z"
   },
   {
    "duration": 47,
    "start_time": "2024-03-10T11:23:35.569Z"
   },
   {
    "duration": 16,
    "start_time": "2024-03-10T11:23:35.617Z"
   },
   {
    "duration": 13,
    "start_time": "2024-03-10T11:23:35.634Z"
   },
   {
    "duration": 232,
    "start_time": "2024-03-10T11:23:35.649Z"
   },
   {
    "duration": 5,
    "start_time": "2024-03-10T11:23:35.882Z"
   },
   {
    "duration": 41,
    "start_time": "2024-03-10T11:23:35.889Z"
   },
   {
    "duration": 15,
    "start_time": "2024-03-10T11:23:35.932Z"
   },
   {
    "duration": 17,
    "start_time": "2024-03-10T11:23:35.948Z"
   },
   {
    "duration": 11,
    "start_time": "2024-03-10T11:23:35.967Z"
   },
   {
    "duration": 40,
    "start_time": "2024-03-10T11:23:35.979Z"
   },
   {
    "duration": 215,
    "start_time": "2024-03-10T11:23:36.021Z"
   },
   {
    "duration": 8,
    "start_time": "2024-03-10T11:23:36.238Z"
   },
   {
    "duration": 17,
    "start_time": "2024-03-10T11:23:36.247Z"
   },
   {
    "duration": 7,
    "start_time": "2024-03-10T11:23:36.266Z"
   },
   {
    "duration": 16,
    "start_time": "2024-03-10T11:23:36.275Z"
   },
   {
    "duration": 41,
    "start_time": "2024-03-10T11:23:36.293Z"
   },
   {
    "duration": 504,
    "start_time": "2024-03-10T11:23:36.336Z"
   },
   {
    "duration": 10,
    "start_time": "2024-03-10T11:23:36.841Z"
   },
   {
    "duration": 4,
    "start_time": "2024-03-10T11:23:36.852Z"
   },
   {
    "duration": 3,
    "start_time": "2024-03-10T11:23:36.858Z"
   },
   {
    "duration": 7,
    "start_time": "2024-03-10T11:23:36.863Z"
   },
   {
    "duration": 48,
    "start_time": "2024-03-10T11:23:36.872Z"
   },
   {
    "duration": 16,
    "start_time": "2024-03-10T11:23:36.922Z"
   },
   {
    "duration": 236,
    "start_time": "2024-03-10T11:23:36.940Z"
   },
   {
    "duration": 9,
    "start_time": "2024-03-10T11:23:37.178Z"
   },
   {
    "duration": 19,
    "start_time": "2024-03-10T11:23:37.188Z"
   },
   {
    "duration": 15,
    "start_time": "2024-03-10T11:23:37.221Z"
   },
   {
    "duration": 9,
    "start_time": "2024-03-10T11:23:37.238Z"
   },
   {
    "duration": 10,
    "start_time": "2024-03-10T11:23:37.249Z"
   },
   {
    "duration": 16,
    "start_time": "2024-03-10T11:23:37.261Z"
   },
   {
    "duration": 37,
    "start_time": "2024-03-10T11:23:37.279Z"
   },
   {
    "duration": 3,
    "start_time": "2024-03-10T11:23:37.318Z"
   },
   {
    "duration": 11,
    "start_time": "2024-03-10T11:23:37.323Z"
   },
   {
    "duration": 5,
    "start_time": "2024-03-10T11:23:37.336Z"
   },
   {
    "duration": 5,
    "start_time": "2024-03-10T11:23:37.343Z"
   },
   {
    "duration": 4,
    "start_time": "2024-03-10T11:23:37.350Z"
   },
   {
    "duration": 85,
    "start_time": "2024-03-10T11:23:37.356Z"
   },
   {
    "duration": 17,
    "start_time": "2024-03-10T11:23:37.443Z"
   },
   {
    "duration": 13,
    "start_time": "2024-03-10T11:23:37.462Z"
   },
   {
    "duration": 17,
    "start_time": "2024-03-10T11:23:37.476Z"
   },
   {
    "duration": 35,
    "start_time": "2024-03-10T11:23:37.494Z"
   },
   {
    "duration": 17,
    "start_time": "2024-03-10T11:23:37.531Z"
   },
   {
    "duration": 10,
    "start_time": "2024-03-10T11:23:37.550Z"
   },
   {
    "duration": 16,
    "start_time": "2024-03-10T11:23:37.562Z"
   },
   {
    "duration": 39,
    "start_time": "2024-03-10T11:23:37.580Z"
   },
   {
    "duration": 13,
    "start_time": "2024-03-10T11:23:37.621Z"
   },
   {
    "duration": 327,
    "start_time": "2024-03-10T11:23:37.636Z"
   },
   {
    "duration": 11,
    "start_time": "2024-03-10T11:23:37.964Z"
   },
   {
    "duration": 320,
    "start_time": "2024-03-10T11:23:37.977Z"
   },
   {
    "duration": 17,
    "start_time": "2024-03-10T11:23:38.298Z"
   },
   {
    "duration": 309,
    "start_time": "2024-03-10T11:23:38.323Z"
   },
   {
    "duration": 17,
    "start_time": "2024-03-10T11:23:38.634Z"
   },
   {
    "duration": 15,
    "start_time": "2024-03-10T11:23:38.653Z"
   },
   {
    "duration": 13,
    "start_time": "2024-03-10T11:23:38.670Z"
   },
   {
    "duration": 39,
    "start_time": "2024-03-10T11:23:38.685Z"
   },
   {
    "duration": 13,
    "start_time": "2024-03-10T11:23:38.725Z"
   },
   {
    "duration": 155,
    "start_time": "2024-03-10T11:23:38.740Z"
   },
   {
    "duration": 17,
    "start_time": "2024-03-10T11:24:00.661Z"
   },
   {
    "duration": 1372,
    "start_time": "2024-03-10T11:24:22.625Z"
   },
   {
    "duration": 50,
    "start_time": "2024-03-10T11:24:24.001Z"
   },
   {
    "duration": 13,
    "start_time": "2024-03-10T11:24:24.054Z"
   },
   {
    "duration": 14,
    "start_time": "2024-03-10T11:24:24.069Z"
   },
   {
    "duration": 15,
    "start_time": "2024-03-10T11:24:24.084Z"
   },
   {
    "duration": 25,
    "start_time": "2024-03-10T11:24:24.101Z"
   },
   {
    "duration": 11,
    "start_time": "2024-03-10T11:24:24.127Z"
   },
   {
    "duration": 24,
    "start_time": "2024-03-10T11:24:24.140Z"
   },
   {
    "duration": 7,
    "start_time": "2024-03-10T11:24:24.167Z"
   },
   {
    "duration": 12,
    "start_time": "2024-03-10T11:24:24.175Z"
   },
   {
    "duration": 37,
    "start_time": "2024-03-10T11:24:24.188Z"
   },
   {
    "duration": 10,
    "start_time": "2024-03-10T11:24:24.227Z"
   },
   {
    "duration": 13,
    "start_time": "2024-03-10T11:24:24.239Z"
   },
   {
    "duration": 5,
    "start_time": "2024-03-10T11:24:24.254Z"
   },
   {
    "duration": 14,
    "start_time": "2024-03-10T11:24:24.261Z"
   },
   {
    "duration": 39,
    "start_time": "2024-03-10T11:24:24.277Z"
   },
   {
    "duration": 12,
    "start_time": "2024-03-10T11:24:24.317Z"
   },
   {
    "duration": 4,
    "start_time": "2024-03-10T11:24:24.330Z"
   },
   {
    "duration": 8,
    "start_time": "2024-03-10T11:24:24.336Z"
   },
   {
    "duration": 6,
    "start_time": "2024-03-10T11:24:24.345Z"
   },
   {
    "duration": 240,
    "start_time": "2024-03-10T11:24:24.353Z"
   },
   {
    "duration": 27,
    "start_time": "2024-03-10T11:24:24.595Z"
   },
   {
    "duration": 5,
    "start_time": "2024-03-10T11:24:24.624Z"
   },
   {
    "duration": 207,
    "start_time": "2024-03-10T11:24:24.631Z"
   },
   {
    "duration": 216,
    "start_time": "2024-03-10T11:24:24.840Z"
   },
   {
    "duration": 5,
    "start_time": "2024-03-10T11:24:25.058Z"
   },
   {
    "duration": 6,
    "start_time": "2024-03-10T11:24:25.066Z"
   },
   {
    "duration": 4,
    "start_time": "2024-03-10T11:24:25.074Z"
   },
   {
    "duration": 6,
    "start_time": "2024-03-10T11:24:25.080Z"
   },
   {
    "duration": 39,
    "start_time": "2024-03-10T11:24:25.087Z"
   },
   {
    "duration": 12,
    "start_time": "2024-03-10T11:24:25.128Z"
   },
   {
    "duration": 6,
    "start_time": "2024-03-10T11:24:25.141Z"
   },
   {
    "duration": 14,
    "start_time": "2024-03-10T11:24:25.149Z"
   },
   {
    "duration": 51,
    "start_time": "2024-03-10T11:24:25.165Z"
   },
   {
    "duration": 198,
    "start_time": "2024-03-10T11:24:25.219Z"
   },
   {
    "duration": 4,
    "start_time": "2024-03-10T11:24:25.418Z"
   },
   {
    "duration": 26,
    "start_time": "2024-03-10T11:24:25.423Z"
   },
   {
    "duration": 14,
    "start_time": "2024-03-10T11:24:25.451Z"
   },
   {
    "duration": 17,
    "start_time": "2024-03-10T11:24:25.466Z"
   },
   {
    "duration": 45,
    "start_time": "2024-03-10T11:24:25.484Z"
   },
   {
    "duration": 8,
    "start_time": "2024-03-10T11:24:25.530Z"
   },
   {
    "duration": 207,
    "start_time": "2024-03-10T11:24:25.540Z"
   },
   {
    "duration": 11,
    "start_time": "2024-03-10T11:24:25.749Z"
   },
   {
    "duration": 8,
    "start_time": "2024-03-10T11:24:25.762Z"
   },
   {
    "duration": 8,
    "start_time": "2024-03-10T11:24:25.772Z"
   },
   {
    "duration": 36,
    "start_time": "2024-03-10T11:24:25.782Z"
   },
   {
    "duration": 35,
    "start_time": "2024-03-10T11:24:25.821Z"
   },
   {
    "duration": 503,
    "start_time": "2024-03-10T11:24:25.858Z"
   },
   {
    "duration": 9,
    "start_time": "2024-03-10T11:24:26.363Z"
   },
   {
    "duration": 8,
    "start_time": "2024-03-10T11:24:26.373Z"
   },
   {
    "duration": 9,
    "start_time": "2024-03-10T11:24:26.382Z"
   },
   {
    "duration": 4,
    "start_time": "2024-03-10T11:24:26.392Z"
   },
   {
    "duration": 39,
    "start_time": "2024-03-10T11:24:26.398Z"
   },
   {
    "duration": 12,
    "start_time": "2024-03-10T11:24:26.439Z"
   },
   {
    "duration": 255,
    "start_time": "2024-03-10T11:24:26.453Z"
   },
   {
    "duration": 10,
    "start_time": "2024-03-10T11:24:26.710Z"
   },
   {
    "duration": 11,
    "start_time": "2024-03-10T11:24:26.722Z"
   },
   {
    "duration": 9,
    "start_time": "2024-03-10T11:24:26.734Z"
   },
   {
    "duration": 27,
    "start_time": "2024-03-10T11:24:26.745Z"
   },
   {
    "duration": 8,
    "start_time": "2024-03-10T11:24:26.774Z"
   },
   {
    "duration": 37,
    "start_time": "2024-03-10T11:24:26.784Z"
   },
   {
    "duration": 5,
    "start_time": "2024-03-10T11:24:26.823Z"
   },
   {
    "duration": 3,
    "start_time": "2024-03-10T11:24:26.830Z"
   },
   {
    "duration": 7,
    "start_time": "2024-03-10T11:24:26.835Z"
   },
   {
    "duration": 5,
    "start_time": "2024-03-10T11:24:26.844Z"
   },
   {
    "duration": 7,
    "start_time": "2024-03-10T11:24:26.850Z"
   },
   {
    "duration": 5,
    "start_time": "2024-03-10T11:24:26.858Z"
   },
   {
    "duration": 97,
    "start_time": "2024-03-10T11:24:26.864Z"
   },
   {
    "duration": 17,
    "start_time": "2024-03-10T11:24:26.963Z"
   },
   {
    "duration": 16,
    "start_time": "2024-03-10T11:24:26.981Z"
   },
   {
    "duration": 33,
    "start_time": "2024-03-10T11:24:26.998Z"
   },
   {
    "duration": 9,
    "start_time": "2024-03-10T11:24:27.032Z"
   },
   {
    "duration": 15,
    "start_time": "2024-03-10T11:24:27.042Z"
   },
   {
    "duration": 14,
    "start_time": "2024-03-10T11:24:27.058Z"
   },
   {
    "duration": 15,
    "start_time": "2024-03-10T11:24:27.073Z"
   },
   {
    "duration": 33,
    "start_time": "2024-03-10T11:24:27.089Z"
   },
   {
    "duration": 13,
    "start_time": "2024-03-10T11:24:27.124Z"
   },
   {
    "duration": 317,
    "start_time": "2024-03-10T11:24:27.138Z"
   },
   {
    "duration": 12,
    "start_time": "2024-03-10T11:24:27.457Z"
   },
   {
    "duration": 310,
    "start_time": "2024-03-10T11:24:27.471Z"
   },
   {
    "duration": 10,
    "start_time": "2024-03-10T11:24:27.786Z"
   },
   {
    "duration": 327,
    "start_time": "2024-03-10T11:24:27.798Z"
   },
   {
    "duration": 19,
    "start_time": "2024-03-10T11:24:28.127Z"
   },
   {
    "duration": 18,
    "start_time": "2024-03-10T11:24:28.147Z"
   },
   {
    "duration": 16,
    "start_time": "2024-03-10T11:24:28.167Z"
   },
   {
    "duration": 44,
    "start_time": "2024-03-10T11:24:28.186Z"
   },
   {
    "duration": 15,
    "start_time": "2024-03-10T11:24:28.232Z"
   },
   {
    "duration": 12,
    "start_time": "2024-03-10T11:24:28.249Z"
   },
   {
    "duration": 1360,
    "start_time": "2024-03-11T06:07:12.062Z"
   },
   {
    "duration": 126,
    "start_time": "2024-03-11T06:07:13.424Z"
   },
   {
    "duration": 13,
    "start_time": "2024-03-11T06:07:13.551Z"
   },
   {
    "duration": 18,
    "start_time": "2024-03-11T06:07:13.566Z"
   },
   {
    "duration": 14,
    "start_time": "2024-03-11T06:07:13.585Z"
   },
   {
    "duration": 10,
    "start_time": "2024-03-11T06:07:13.601Z"
   },
   {
    "duration": 13,
    "start_time": "2024-03-11T06:07:13.613Z"
   },
   {
    "duration": 16,
    "start_time": "2024-03-11T06:07:13.628Z"
   },
   {
    "duration": 25,
    "start_time": "2024-03-11T06:07:13.645Z"
   },
   {
    "duration": 16,
    "start_time": "2024-03-11T06:07:13.673Z"
   },
   {
    "duration": 10,
    "start_time": "2024-03-11T06:07:13.691Z"
   },
   {
    "duration": 12,
    "start_time": "2024-03-11T06:07:13.702Z"
   },
   {
    "duration": 12,
    "start_time": "2024-03-11T06:07:13.716Z"
   },
   {
    "duration": 5,
    "start_time": "2024-03-11T06:07:13.730Z"
   },
   {
    "duration": 30,
    "start_time": "2024-03-11T06:07:13.737Z"
   },
   {
    "duration": 10,
    "start_time": "2024-03-11T06:07:13.769Z"
   },
   {
    "duration": 10,
    "start_time": "2024-03-11T06:07:13.781Z"
   },
   {
    "duration": 4,
    "start_time": "2024-03-11T06:07:13.793Z"
   },
   {
    "duration": 13,
    "start_time": "2024-03-11T06:07:13.799Z"
   },
   {
    "duration": 14,
    "start_time": "2024-03-11T06:07:13.814Z"
   },
   {
    "duration": 194,
    "start_time": "2024-03-11T06:07:13.830Z"
   },
   {
    "duration": 20,
    "start_time": "2024-03-11T06:07:14.026Z"
   },
   {
    "duration": 6,
    "start_time": "2024-03-11T06:07:14.048Z"
   },
   {
    "duration": 164,
    "start_time": "2024-03-11T06:07:14.055Z"
   },
   {
    "duration": 270,
    "start_time": "2024-03-11T06:07:14.221Z"
   },
   {
    "duration": 4,
    "start_time": "2024-03-11T06:07:14.492Z"
   },
   {
    "duration": 6,
    "start_time": "2024-03-11T06:07:14.498Z"
   },
   {
    "duration": 58,
    "start_time": "2024-03-11T06:07:14.507Z"
   },
   {
    "duration": 5,
    "start_time": "2024-03-11T06:07:14.567Z"
   },
   {
    "duration": 12,
    "start_time": "2024-03-11T06:07:14.573Z"
   },
   {
    "duration": 10,
    "start_time": "2024-03-11T06:07:14.586Z"
   },
   {
    "duration": 6,
    "start_time": "2024-03-11T06:07:14.597Z"
   },
   {
    "duration": 68,
    "start_time": "2024-03-11T06:07:14.605Z"
   },
   {
    "duration": 12,
    "start_time": "2024-03-11T06:07:14.674Z"
   },
   {
    "duration": 381,
    "start_time": "2024-03-11T06:07:14.687Z"
   },
   {
    "duration": 4,
    "start_time": "2024-03-11T06:07:15.070Z"
   },
   {
    "duration": 38,
    "start_time": "2024-03-11T06:07:15.076Z"
   },
   {
    "duration": 27,
    "start_time": "2024-03-11T06:07:15.166Z"
   },
   {
    "duration": 17,
    "start_time": "2024-03-11T06:07:15.194Z"
   },
   {
    "duration": 60,
    "start_time": "2024-03-11T06:07:15.213Z"
   },
   {
    "duration": 14,
    "start_time": "2024-03-11T06:07:15.274Z"
   },
   {
    "duration": 396,
    "start_time": "2024-03-11T06:07:15.290Z"
   },
   {
    "duration": 9,
    "start_time": "2024-03-11T06:07:15.687Z"
   },
   {
    "duration": 18,
    "start_time": "2024-03-11T06:07:15.698Z"
   },
   {
    "duration": 42,
    "start_time": "2024-03-11T06:07:15.718Z"
   },
   {
    "duration": 10,
    "start_time": "2024-03-11T06:07:15.765Z"
   },
   {
    "duration": 42,
    "start_time": "2024-03-11T06:07:15.777Z"
   },
   {
    "duration": 432,
    "start_time": "2024-03-11T06:07:15.821Z"
   },
   {
    "duration": 17,
    "start_time": "2024-03-11T06:07:16.255Z"
   },
   {
    "duration": 28,
    "start_time": "2024-03-11T06:07:16.273Z"
   },
   {
    "duration": 21,
    "start_time": "2024-03-11T06:07:16.303Z"
   },
   {
    "duration": 48,
    "start_time": "2024-03-11T06:07:16.325Z"
   },
   {
    "duration": 49,
    "start_time": "2024-03-11T06:07:16.375Z"
   },
   {
    "duration": 31,
    "start_time": "2024-03-11T06:07:16.426Z"
   },
   {
    "duration": 237,
    "start_time": "2024-03-11T06:07:16.459Z"
   },
   {
    "duration": 7,
    "start_time": "2024-03-11T06:07:16.698Z"
   },
   {
    "duration": 19,
    "start_time": "2024-03-11T06:07:16.707Z"
   },
   {
    "duration": 29,
    "start_time": "2024-03-11T06:07:16.728Z"
   },
   {
    "duration": 10,
    "start_time": "2024-03-11T06:07:16.759Z"
   },
   {
    "duration": 22,
    "start_time": "2024-03-11T06:07:16.770Z"
   },
   {
    "duration": 23,
    "start_time": "2024-03-11T06:07:16.794Z"
   },
   {
    "duration": 16,
    "start_time": "2024-03-11T06:07:16.819Z"
   },
   {
    "duration": 3,
    "start_time": "2024-03-11T06:07:16.836Z"
   },
   {
    "duration": 6,
    "start_time": "2024-03-11T06:07:16.841Z"
   },
   {
    "duration": 11,
    "start_time": "2024-03-11T06:07:16.848Z"
   },
   {
    "duration": 5,
    "start_time": "2024-03-11T06:07:16.861Z"
   },
   {
    "duration": 16,
    "start_time": "2024-03-11T06:07:16.867Z"
   },
   {
    "duration": 53,
    "start_time": "2024-03-11T06:07:16.884Z"
   },
   {
    "duration": 15,
    "start_time": "2024-03-11T06:07:16.939Z"
   },
   {
    "duration": 9,
    "start_time": "2024-03-11T06:07:16.956Z"
   },
   {
    "duration": 14,
    "start_time": "2024-03-11T06:07:16.966Z"
   },
   {
    "duration": 8,
    "start_time": "2024-03-11T06:07:16.981Z"
   },
   {
    "duration": 13,
    "start_time": "2024-03-11T06:07:16.990Z"
   },
   {
    "duration": 10,
    "start_time": "2024-03-11T06:07:17.004Z"
   },
   {
    "duration": 14,
    "start_time": "2024-03-11T06:07:17.015Z"
   },
   {
    "duration": 37,
    "start_time": "2024-03-11T06:07:17.030Z"
   },
   {
    "duration": 13,
    "start_time": "2024-03-11T06:07:17.070Z"
   },
   {
    "duration": 271,
    "start_time": "2024-03-11T06:07:17.085Z"
   },
   {
    "duration": 10,
    "start_time": "2024-03-11T06:07:17.358Z"
   },
   {
    "duration": 290,
    "start_time": "2024-03-11T06:07:17.369Z"
   },
   {
    "duration": 10,
    "start_time": "2024-03-11T06:07:17.661Z"
   },
   {
    "duration": 281,
    "start_time": "2024-03-11T06:07:17.676Z"
   },
   {
    "duration": 21,
    "start_time": "2024-03-11T06:07:17.958Z"
   },
   {
    "duration": 23,
    "start_time": "2024-03-11T06:07:17.981Z"
   },
   {
    "duration": 29,
    "start_time": "2024-03-11T06:07:18.005Z"
   },
   {
    "duration": 27,
    "start_time": "2024-03-11T06:07:18.035Z"
   },
   {
    "duration": 13,
    "start_time": "2024-03-11T06:07:18.064Z"
   },
   {
    "duration": 12,
    "start_time": "2024-03-11T06:07:18.079Z"
   }
  ],
  "kernelspec": {
   "display_name": "Python 3 (ipykernel)",
   "language": "python",
   "name": "python3"
  },
  "language_info": {
   "codemirror_mode": {
    "name": "ipython",
    "version": 3
   },
   "file_extension": ".py",
   "mimetype": "text/x-python",
   "name": "python",
   "nbconvert_exporter": "python",
   "pygments_lexer": "ipython3",
   "version": "3.9.5"
  },
  "toc": {
   "base_numbering": 1,
   "nav_menu": {},
   "number_sections": true,
   "sideBar": true,
   "skip_h1_title": true,
   "title_cell": "Table of Contents",
   "title_sidebar": "Contents",
   "toc_cell": false,
   "toc_position": {
    "height": "calc(100% - 180px)",
    "left": "10px",
    "top": "150px",
    "width": "200px"
   },
   "toc_section_display": true,
   "toc_window_display": true
  }
 },
 "nbformat": 4,
 "nbformat_minor": 2
}
