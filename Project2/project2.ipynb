{
 "cells": [
  {
   "cell_type": "markdown",
   "metadata": {},
   "source": [
    "# Аналитика стартапа"
   ]
  },
  {
   "cell_type": "markdown",
   "metadata": {},
   "source": [
    "Описание проекта\n",
    "\n",
    "Вы работаете в стартапе, который продаёт продукты питания. Нужно разобраться, как ведут себя пользователи вашего мобильного приложения. "
   ]
  },
  {
   "cell_type": "markdown",
   "metadata": {},
   "source": [
    "# Этапы выполнения проекта:\n",
    "- Подготовить данные;\n",
    "- Изучить и проверить данные;\n",
    "- Провести исследовательский анализ данных;\n",
    "- Изучить воронку событий;\n",
    "- Провести A/A/B эксперемент;\n",
    "- Изучить результаты эксперемента;\n",
    "- Сделать вывод;"
   ]
  },
  {
   "cell_type": "code",
   "execution_count": 1,
   "metadata": {},
   "outputs": [],
   "source": [
    "import pandas as pd\n",
    "import matplotlib.pyplot as plt\n",
    "import numpy as np\n",
    "import seaborn as sns\n",
    "from datetime import datetime, timedelta\n",
    "from scipy import stats as st\n",
    "import math as mth"
   ]
  },
  {
   "cell_type": "markdown",
   "metadata": {},
   "source": [
    "# Предобработка данных"
   ]
  },
  {
   "cell_type": "code",
   "execution_count": 2,
   "metadata": {},
   "outputs": [],
   "source": [
    "df = pd.read_csv('/datasets/logs_exp.csv', sep='\\t')"
   ]
  },
  {
   "cell_type": "code",
   "execution_count": 3,
   "metadata": {},
   "outputs": [
    {
     "name": "stdout",
     "output_type": "stream",
     "text": [
      "<class 'pandas.core.frame.DataFrame'>\n",
      "RangeIndex: 244126 entries, 0 to 244125\n",
      "Data columns (total 4 columns):\n",
      " #   Column          Non-Null Count   Dtype \n",
      "---  ------          --------------   ----- \n",
      " 0   EventName       244126 non-null  object\n",
      " 1   DeviceIDHash    244126 non-null  int64 \n",
      " 2   EventTimestamp  244126 non-null  int64 \n",
      " 3   ExpId           244126 non-null  int64 \n",
      "dtypes: int64(3), object(1)\n",
      "memory usage: 7.5+ MB\n"
     ]
    },
    {
     "data": {
      "text/html": [
       "<div>\n",
       "<style scoped>\n",
       "    .dataframe tbody tr th:only-of-type {\n",
       "        vertical-align: middle;\n",
       "    }\n",
       "\n",
       "    .dataframe tbody tr th {\n",
       "        vertical-align: top;\n",
       "    }\n",
       "\n",
       "    .dataframe thead th {\n",
       "        text-align: right;\n",
       "    }\n",
       "</style>\n",
       "<table border=\"1\" class=\"dataframe\">\n",
       "  <thead>\n",
       "    <tr style=\"text-align: right;\">\n",
       "      <th></th>\n",
       "      <th>EventName</th>\n",
       "      <th>DeviceIDHash</th>\n",
       "      <th>EventTimestamp</th>\n",
       "      <th>ExpId</th>\n",
       "    </tr>\n",
       "  </thead>\n",
       "  <tbody>\n",
       "    <tr>\n",
       "      <th>0</th>\n",
       "      <td>MainScreenAppear</td>\n",
       "      <td>4575588528974610257</td>\n",
       "      <td>1564029816</td>\n",
       "      <td>246</td>\n",
       "    </tr>\n",
       "    <tr>\n",
       "      <th>1</th>\n",
       "      <td>MainScreenAppear</td>\n",
       "      <td>7416695313311560658</td>\n",
       "      <td>1564053102</td>\n",
       "      <td>246</td>\n",
       "    </tr>\n",
       "    <tr>\n",
       "      <th>2</th>\n",
       "      <td>PaymentScreenSuccessful</td>\n",
       "      <td>3518123091307005509</td>\n",
       "      <td>1564054127</td>\n",
       "      <td>248</td>\n",
       "    </tr>\n",
       "    <tr>\n",
       "      <th>3</th>\n",
       "      <td>CartScreenAppear</td>\n",
       "      <td>3518123091307005509</td>\n",
       "      <td>1564054127</td>\n",
       "      <td>248</td>\n",
       "    </tr>\n",
       "    <tr>\n",
       "      <th>4</th>\n",
       "      <td>PaymentScreenSuccessful</td>\n",
       "      <td>6217807653094995999</td>\n",
       "      <td>1564055322</td>\n",
       "      <td>248</td>\n",
       "    </tr>\n",
       "  </tbody>\n",
       "</table>\n",
       "</div>"
      ],
      "text/plain": [
       "                 EventName         DeviceIDHash  EventTimestamp  ExpId\n",
       "0         MainScreenAppear  4575588528974610257      1564029816    246\n",
       "1         MainScreenAppear  7416695313311560658      1564053102    246\n",
       "2  PaymentScreenSuccessful  3518123091307005509      1564054127    248\n",
       "3         CartScreenAppear  3518123091307005509      1564054127    248\n",
       "4  PaymentScreenSuccessful  6217807653094995999      1564055322    248"
      ]
     },
     "execution_count": 3,
     "metadata": {},
     "output_type": "execute_result"
    }
   ],
   "source": [
    "df.info()\n",
    "df.head()"
   ]
  },
  {
   "cell_type": "markdown",
   "metadata": {},
   "source": [
    "Приведем названия столбцов к нижнему регистру"
   ]
  },
  {
   "cell_type": "code",
   "execution_count": 4,
   "metadata": {},
   "outputs": [],
   "source": [
    "df.columns = ['event_name', 'user_id', 'timestamp', 'group']"
   ]
  },
  {
   "cell_type": "code",
   "execution_count": 5,
   "metadata": {},
   "outputs": [
    {
     "data": {
      "text/html": [
       "<div>\n",
       "<style scoped>\n",
       "    .dataframe tbody tr th:only-of-type {\n",
       "        vertical-align: middle;\n",
       "    }\n",
       "\n",
       "    .dataframe tbody tr th {\n",
       "        vertical-align: top;\n",
       "    }\n",
       "\n",
       "    .dataframe thead th {\n",
       "        text-align: right;\n",
       "    }\n",
       "</style>\n",
       "<table border=\"1\" class=\"dataframe\">\n",
       "  <thead>\n",
       "    <tr style=\"text-align: right;\">\n",
       "      <th></th>\n",
       "      <th>event_name</th>\n",
       "      <th>user_id</th>\n",
       "      <th>timestamp</th>\n",
       "      <th>group</th>\n",
       "    </tr>\n",
       "  </thead>\n",
       "  <tbody>\n",
       "    <tr>\n",
       "      <th>0</th>\n",
       "      <td>MainScreenAppear</td>\n",
       "      <td>4575588528974610257</td>\n",
       "      <td>1564029816</td>\n",
       "      <td>246</td>\n",
       "    </tr>\n",
       "    <tr>\n",
       "      <th>1</th>\n",
       "      <td>MainScreenAppear</td>\n",
       "      <td>7416695313311560658</td>\n",
       "      <td>1564053102</td>\n",
       "      <td>246</td>\n",
       "    </tr>\n",
       "    <tr>\n",
       "      <th>2</th>\n",
       "      <td>PaymentScreenSuccessful</td>\n",
       "      <td>3518123091307005509</td>\n",
       "      <td>1564054127</td>\n",
       "      <td>248</td>\n",
       "    </tr>\n",
       "    <tr>\n",
       "      <th>3</th>\n",
       "      <td>CartScreenAppear</td>\n",
       "      <td>3518123091307005509</td>\n",
       "      <td>1564054127</td>\n",
       "      <td>248</td>\n",
       "    </tr>\n",
       "    <tr>\n",
       "      <th>4</th>\n",
       "      <td>PaymentScreenSuccessful</td>\n",
       "      <td>6217807653094995999</td>\n",
       "      <td>1564055322</td>\n",
       "      <td>248</td>\n",
       "    </tr>\n",
       "  </tbody>\n",
       "</table>\n",
       "</div>"
      ],
      "text/plain": [
       "                event_name              user_id   timestamp  group\n",
       "0         MainScreenAppear  4575588528974610257  1564029816    246\n",
       "1         MainScreenAppear  7416695313311560658  1564053102    246\n",
       "2  PaymentScreenSuccessful  3518123091307005509  1564054127    248\n",
       "3         CartScreenAppear  3518123091307005509  1564054127    248\n",
       "4  PaymentScreenSuccessful  6217807653094995999  1564055322    248"
      ]
     },
     "execution_count": 5,
     "metadata": {},
     "output_type": "execute_result"
    }
   ],
   "source": [
    "df.head()"
   ]
  },
  {
   "cell_type": "markdown",
   "metadata": {},
   "source": [
    "Проверим пропуски"
   ]
  },
  {
   "cell_type": "code",
   "execution_count": 6,
   "metadata": {},
   "outputs": [
    {
     "data": {
      "text/plain": [
       "event_name    0\n",
       "user_id       0\n",
       "timestamp     0\n",
       "group         0\n",
       "dtype: int64"
      ]
     },
     "execution_count": 6,
     "metadata": {},
     "output_type": "execute_result"
    }
   ],
   "source": [
    "df.isna().sum()"
   ]
  },
  {
   "cell_type": "markdown",
   "metadata": {},
   "source": [
    "Проверим на дубликаты"
   ]
  },
  {
   "cell_type": "code",
   "execution_count": 7,
   "metadata": {},
   "outputs": [
    {
     "data": {
      "text/plain": [
       "413"
      ]
     },
     "execution_count": 7,
     "metadata": {},
     "output_type": "execute_result"
    }
   ],
   "source": [
    "df.duplicated().sum()"
   ]
  },
  {
   "cell_type": "markdown",
   "metadata": {},
   "source": [
    "Удалим дубликаты"
   ]
  },
  {
   "cell_type": "code",
   "execution_count": 8,
   "metadata": {},
   "outputs": [
    {
     "data": {
      "text/plain": [
       "0"
      ]
     },
     "execution_count": 8,
     "metadata": {},
     "output_type": "execute_result"
    }
   ],
   "source": [
    "df = df.drop_duplicates()\n",
    "df.duplicated().sum()"
   ]
  },
  {
   "cell_type": "markdown",
   "metadata": {},
   "source": [
    "Добавим столбец даты и времени, а также отдельный столбец дат"
   ]
  },
  {
   "cell_type": "code",
   "execution_count": 9,
   "metadata": {},
   "outputs": [],
   "source": [
    "df['dt'] = pd.to_datetime(df['timestamp'], unit='s')"
   ]
  },
  {
   "cell_type": "code",
   "execution_count": 10,
   "metadata": {},
   "outputs": [],
   "source": [
    "df['date'] = pd.to_datetime(df['dt'].dt.date)"
   ]
  },
  {
   "cell_type": "code",
   "execution_count": 11,
   "metadata": {},
   "outputs": [
    {
     "data": {
      "text/html": [
       "<div>\n",
       "<style scoped>\n",
       "    .dataframe tbody tr th:only-of-type {\n",
       "        vertical-align: middle;\n",
       "    }\n",
       "\n",
       "    .dataframe tbody tr th {\n",
       "        vertical-align: top;\n",
       "    }\n",
       "\n",
       "    .dataframe thead th {\n",
       "        text-align: right;\n",
       "    }\n",
       "</style>\n",
       "<table border=\"1\" class=\"dataframe\">\n",
       "  <thead>\n",
       "    <tr style=\"text-align: right;\">\n",
       "      <th></th>\n",
       "      <th>event_name</th>\n",
       "      <th>user_id</th>\n",
       "      <th>timestamp</th>\n",
       "      <th>group</th>\n",
       "      <th>dt</th>\n",
       "      <th>date</th>\n",
       "    </tr>\n",
       "  </thead>\n",
       "  <tbody>\n",
       "    <tr>\n",
       "      <th>0</th>\n",
       "      <td>MainScreenAppear</td>\n",
       "      <td>4575588528974610257</td>\n",
       "      <td>1564029816</td>\n",
       "      <td>246</td>\n",
       "      <td>2019-07-25 04:43:36</td>\n",
       "      <td>2019-07-25</td>\n",
       "    </tr>\n",
       "    <tr>\n",
       "      <th>1</th>\n",
       "      <td>MainScreenAppear</td>\n",
       "      <td>7416695313311560658</td>\n",
       "      <td>1564053102</td>\n",
       "      <td>246</td>\n",
       "      <td>2019-07-25 11:11:42</td>\n",
       "      <td>2019-07-25</td>\n",
       "    </tr>\n",
       "    <tr>\n",
       "      <th>2</th>\n",
       "      <td>PaymentScreenSuccessful</td>\n",
       "      <td>3518123091307005509</td>\n",
       "      <td>1564054127</td>\n",
       "      <td>248</td>\n",
       "      <td>2019-07-25 11:28:47</td>\n",
       "      <td>2019-07-25</td>\n",
       "    </tr>\n",
       "    <tr>\n",
       "      <th>3</th>\n",
       "      <td>CartScreenAppear</td>\n",
       "      <td>3518123091307005509</td>\n",
       "      <td>1564054127</td>\n",
       "      <td>248</td>\n",
       "      <td>2019-07-25 11:28:47</td>\n",
       "      <td>2019-07-25</td>\n",
       "    </tr>\n",
       "    <tr>\n",
       "      <th>4</th>\n",
       "      <td>PaymentScreenSuccessful</td>\n",
       "      <td>6217807653094995999</td>\n",
       "      <td>1564055322</td>\n",
       "      <td>248</td>\n",
       "      <td>2019-07-25 11:48:42</td>\n",
       "      <td>2019-07-25</td>\n",
       "    </tr>\n",
       "    <tr>\n",
       "      <th>...</th>\n",
       "      <td>...</td>\n",
       "      <td>...</td>\n",
       "      <td>...</td>\n",
       "      <td>...</td>\n",
       "      <td>...</td>\n",
       "      <td>...</td>\n",
       "    </tr>\n",
       "    <tr>\n",
       "      <th>244121</th>\n",
       "      <td>MainScreenAppear</td>\n",
       "      <td>4599628364049201812</td>\n",
       "      <td>1565212345</td>\n",
       "      <td>247</td>\n",
       "      <td>2019-08-07 21:12:25</td>\n",
       "      <td>2019-08-07</td>\n",
       "    </tr>\n",
       "    <tr>\n",
       "      <th>244122</th>\n",
       "      <td>MainScreenAppear</td>\n",
       "      <td>5849806612437486590</td>\n",
       "      <td>1565212439</td>\n",
       "      <td>246</td>\n",
       "      <td>2019-08-07 21:13:59</td>\n",
       "      <td>2019-08-07</td>\n",
       "    </tr>\n",
       "    <tr>\n",
       "      <th>244123</th>\n",
       "      <td>MainScreenAppear</td>\n",
       "      <td>5746969938801999050</td>\n",
       "      <td>1565212483</td>\n",
       "      <td>246</td>\n",
       "      <td>2019-08-07 21:14:43</td>\n",
       "      <td>2019-08-07</td>\n",
       "    </tr>\n",
       "    <tr>\n",
       "      <th>244124</th>\n",
       "      <td>MainScreenAppear</td>\n",
       "      <td>5746969938801999050</td>\n",
       "      <td>1565212498</td>\n",
       "      <td>246</td>\n",
       "      <td>2019-08-07 21:14:58</td>\n",
       "      <td>2019-08-07</td>\n",
       "    </tr>\n",
       "    <tr>\n",
       "      <th>244125</th>\n",
       "      <td>OffersScreenAppear</td>\n",
       "      <td>5746969938801999050</td>\n",
       "      <td>1565212517</td>\n",
       "      <td>246</td>\n",
       "      <td>2019-08-07 21:15:17</td>\n",
       "      <td>2019-08-07</td>\n",
       "    </tr>\n",
       "  </tbody>\n",
       "</table>\n",
       "<p>243713 rows × 6 columns</p>\n",
       "</div>"
      ],
      "text/plain": [
       "                     event_name              user_id   timestamp  group  \\\n",
       "0              MainScreenAppear  4575588528974610257  1564029816    246   \n",
       "1              MainScreenAppear  7416695313311560658  1564053102    246   \n",
       "2       PaymentScreenSuccessful  3518123091307005509  1564054127    248   \n",
       "3              CartScreenAppear  3518123091307005509  1564054127    248   \n",
       "4       PaymentScreenSuccessful  6217807653094995999  1564055322    248   \n",
       "...                         ...                  ...         ...    ...   \n",
       "244121         MainScreenAppear  4599628364049201812  1565212345    247   \n",
       "244122         MainScreenAppear  5849806612437486590  1565212439    246   \n",
       "244123         MainScreenAppear  5746969938801999050  1565212483    246   \n",
       "244124         MainScreenAppear  5746969938801999050  1565212498    246   \n",
       "244125       OffersScreenAppear  5746969938801999050  1565212517    246   \n",
       "\n",
       "                        dt       date  \n",
       "0      2019-07-25 04:43:36 2019-07-25  \n",
       "1      2019-07-25 11:11:42 2019-07-25  \n",
       "2      2019-07-25 11:28:47 2019-07-25  \n",
       "3      2019-07-25 11:28:47 2019-07-25  \n",
       "4      2019-07-25 11:48:42 2019-07-25  \n",
       "...                    ...        ...  \n",
       "244121 2019-08-07 21:12:25 2019-08-07  \n",
       "244122 2019-08-07 21:13:59 2019-08-07  \n",
       "244123 2019-08-07 21:14:43 2019-08-07  \n",
       "244124 2019-08-07 21:14:58 2019-08-07  \n",
       "244125 2019-08-07 21:15:17 2019-08-07  \n",
       "\n",
       "[243713 rows x 6 columns]"
      ]
     },
     "execution_count": 11,
     "metadata": {},
     "output_type": "execute_result"
    }
   ],
   "source": [
    "df"
   ]
  },
  {
   "cell_type": "markdown",
   "metadata": {},
   "source": [
    "Проверим группы на пересечение"
   ]
  },
  {
   "cell_type": "code",
   "execution_count": 12,
   "metadata": {},
   "outputs": [],
   "source": [
    "g246 = df.query('group == 246')['user_id'].unique()\n",
    "g247 = df.query('group == 247')['user_id'].unique()\n",
    "g248 = df.query('group == 248')['user_id'].unique()"
   ]
  },
  {
   "cell_type": "markdown",
   "metadata": {},
   "source": [
    "# 246-247\n"
   ]
  },
  {
   "cell_type": "code",
   "execution_count": 13,
   "metadata": {},
   "outputs": [
    {
     "name": "stdout",
     "output_type": "stream",
     "text": [
      "0\n"
     ]
    }
   ],
   "source": [
    "intersection_1 = []\n",
    "for i in g246:\n",
    "  if i in g247:\n",
    "    intersection_1.append(i)\n",
    "print(len(intersection_1))"
   ]
  },
  {
   "cell_type": "markdown",
   "metadata": {},
   "source": [
    "# 246-248"
   ]
  },
  {
   "cell_type": "code",
   "execution_count": 14,
   "metadata": {},
   "outputs": [
    {
     "name": "stdout",
     "output_type": "stream",
     "text": [
      "0\n"
     ]
    }
   ],
   "source": [
    "intersection_2 = []\n",
    "for i in g246:\n",
    "  if i in g248:\n",
    "    intersection_2.append(i)\n",
    "print(len(intersection_2))"
   ]
  },
  {
   "cell_type": "markdown",
   "metadata": {},
   "source": [
    "# 247-248"
   ]
  },
  {
   "cell_type": "code",
   "execution_count": 15,
   "metadata": {},
   "outputs": [
    {
     "name": "stdout",
     "output_type": "stream",
     "text": [
      "0\n"
     ]
    }
   ],
   "source": [
    "intersection_3 = []\n",
    "for i in g247:\n",
    "  if i in g248:\n",
    "    intersection_3.append(i)\n",
    "print(len(intersection_3))"
   ]
  },
  {
   "cell_type": "markdown",
   "metadata": {},
   "source": [
    "# Вывод: \n",
    "Изучили данные\n",
    "\n",
    "Проверили на пропуски и удалили дубликаты\n",
    "\n",
    "Привели столбец dt к корректному формату и добавили столбец date"
   ]
  },
  {
   "cell_type": "markdown",
   "metadata": {},
   "source": [
    "# Изучение данных"
   ]
  },
  {
   "cell_type": "markdown",
   "metadata": {},
   "source": [
    "- Сколько всего событий в логе?"
   ]
  },
  {
   "cell_type": "code",
   "execution_count": 16,
   "metadata": {},
   "outputs": [
    {
     "data": {
      "text/plain": [
       "243713"
      ]
     },
     "execution_count": 16,
     "metadata": {},
     "output_type": "execute_result"
    }
   ],
   "source": [
    "event_count = df['event_name'].count()\n",
    "event_count"
   ]
  },
  {
   "cell_type": "markdown",
   "metadata": {},
   "source": [
    "- Сколько всего пользователей в логе?"
   ]
  },
  {
   "cell_type": "code",
   "execution_count": 17,
   "metadata": {},
   "outputs": [
    {
     "data": {
      "text/plain": [
       "7551"
      ]
     },
     "execution_count": 17,
     "metadata": {},
     "output_type": "execute_result"
    }
   ],
   "source": [
    "user_count = df['user_id'].nunique()\n",
    "user_count"
   ]
  },
  {
   "cell_type": "markdown",
   "metadata": {},
   "source": [
    "- Сколько в среднем событий приходится на пользователя?"
   ]
  },
  {
   "cell_type": "code",
   "execution_count": 19,
   "metadata": {},
   "outputs": [
    {
     "name": "stdout",
     "output_type": "stream",
     "text": [
      "В среднем на одного пользователя приходится: 32.0 события\n"
     ]
    }
   ],
   "source": [
    "print('В среднем на одного пользователя приходится:', (event_count/user_count).round(0), 'события')"
   ]
  },
  {
   "cell_type": "markdown",
   "metadata": {},
   "source": [
    "- Максимальная и минимальная дата."
   ]
  },
  {
   "cell_type": "code",
   "execution_count": 20,
   "metadata": {},
   "outputs": [
    {
     "name": "stdout",
     "output_type": "stream",
     "text": [
      "2019-07-25 04:43:36\n"
     ]
    }
   ],
   "source": [
    "print(df['dt'].min())"
   ]
  },
  {
   "cell_type": "code",
   "execution_count": 21,
   "metadata": {},
   "outputs": [
    {
     "name": "stdout",
     "output_type": "stream",
     "text": [
      "2019-08-07 21:15:17\n"
     ]
    }
   ],
   "source": [
    "print(df['dt'].max())"
   ]
  },
  {
   "cell_type": "markdown",
   "metadata": {},
   "source": [
    "# Вывод:\n",
    "Всего в логе 243713 событий;\n",
    "\n",
    "Всего в логе 7551 пользователь;\n",
    "\n",
    "В среднем на одного пользователя приходится 32 события;\n",
    "\n",
    "Данные предоставлены за 2 недели;"
   ]
  },
  {
   "cell_type": "markdown",
   "metadata": {},
   "source": [
    "# Гистограмма"
   ]
  },
  {
   "cell_type": "code",
   "execution_count": 22,
   "metadata": {},
   "outputs": [
    {
     "data": {
      "image/png": "[encoded data removed]",
      "text/plain": [
       "<Figure size 1080x720 with 1 Axes>"
      ]
     },
     "metadata": {
      "needs_background": "light"
     },
     "output_type": "display_data"
    }
   ],
   "source": [
    "df['dt'].hist(bins=100,  figsize=(15, 10))\n",
    "plt.title('Распределение событий по дате')\n",
    "plt.ylabel('Количество событий')\n",
    "plt.xlabel('Дата')\n",
    "plt.show()"
   ]
  },
  {
   "cell_type": "markdown",
   "metadata": {},
   "source": [
    "На гистограмме видно, что полные данные только с 01.08.2019"
   ]
  },
  {
   "cell_type": "code",
   "execution_count": 23,
   "metadata": {},
   "outputs": [],
   "source": [
    "#отбросим период с неполными датами:\n",
    "df_act = df.query('dt >= \"2019-08-01\"')"
   ]
  },
  {
   "cell_type": "code",
   "execution_count": 24,
   "metadata": {},
   "outputs": [
    {
     "data": {
      "text/plain": [
       "2826"
      ]
     },
     "execution_count": 24,
     "metadata": {},
     "output_type": "execute_result"
    }
   ],
   "source": [
    "#посчитаем потерю событий:\n",
    "len(df) - len(df_act)"
   ]
  },
  {
   "cell_type": "code",
   "execution_count": 25,
   "metadata": {},
   "outputs": [
    {
     "name": "stdout",
     "output_type": "stream",
     "text": [
      "доля потерянных событий 1.2%\n"
     ]
    }
   ],
   "source": [
    "print(f\"доля потерянных событий {(len(df) - len(df_act))/len(df):.1%}\")"
   ]
  },
  {
   "cell_type": "code",
   "execution_count": 26,
   "metadata": {},
   "outputs": [
    {
     "data": {
      "text/plain": [
       "17"
      ]
     },
     "execution_count": 26,
     "metadata": {},
     "output_type": "execute_result"
    }
   ],
   "source": [
    "#посчитаем потерю пользователей:\n",
    "df['user_id'].nunique()-df_act['user_id'].nunique()"
   ]
  },
  {
   "cell_type": "code",
   "execution_count": 27,
   "metadata": {},
   "outputs": [
    {
     "name": "stdout",
     "output_type": "stream",
     "text": [
      "доля потерянных пользователей 0.2%\n"
     ]
    }
   ],
   "source": [
    "print(f\"доля потерянных пользователей {(df['user_id'].nunique()-df_act['user_id'].nunique())/df['user_id'].nunique():.1%}\")"
   ]
  },
  {
   "cell_type": "markdown",
   "metadata": {},
   "source": [
    "Проверим, есть ли пользователи из всех трёх экспериментальных групп."
   ]
  },
  {
   "cell_type": "code",
   "execution_count": 28,
   "metadata": {},
   "outputs": [
    {
     "data": {
      "text/html": [
       "<div>\n",
       "<style scoped>\n",
       "    .dataframe tbody tr th:only-of-type {\n",
       "        vertical-align: middle;\n",
       "    }\n",
       "\n",
       "    .dataframe tbody tr th {\n",
       "        vertical-align: top;\n",
       "    }\n",
       "\n",
       "    .dataframe thead th {\n",
       "        text-align: right;\n",
       "    }\n",
       "</style>\n",
       "<table border=\"1\" class=\"dataframe\">\n",
       "  <thead>\n",
       "    <tr style=\"text-align: right;\">\n",
       "      <th></th>\n",
       "      <th>user_id</th>\n",
       "    </tr>\n",
       "    <tr>\n",
       "      <th>group</th>\n",
       "      <th></th>\n",
       "    </tr>\n",
       "  </thead>\n",
       "  <tbody>\n",
       "    <tr>\n",
       "      <th>246</th>\n",
       "      <td>79302</td>\n",
       "    </tr>\n",
       "    <tr>\n",
       "      <th>247</th>\n",
       "      <td>77022</td>\n",
       "    </tr>\n",
       "    <tr>\n",
       "      <th>248</th>\n",
       "      <td>84563</td>\n",
       "    </tr>\n",
       "  </tbody>\n",
       "</table>\n",
       "</div>"
      ],
      "text/plain": [
       "       user_id\n",
       "group         \n",
       "246      79302\n",
       "247      77022\n",
       "248      84563"
      ]
     },
     "execution_count": 28,
     "metadata": {},
     "output_type": "execute_result"
    }
   ],
   "source": [
    "df_act.pivot_table(index = 'group', values = 'user_id', aggfunc = 'count')"
   ]
  },
  {
   "cell_type": "markdown",
   "metadata": {},
   "source": [
    "# Вывод:\n",
    "\n",
    "Событий в логе 243713\n",
    "\n",
    "Количство уникальных пользователей: 7551\n",
    "\n",
    "В среднем на пользователя приходится 20 событий\n",
    "\n",
    "Данные предоставлены за 2 недели\n",
    "\n",
    "Отбросили неполные данные и посчитали потери:\n",
    "\n",
    "потеря событий всего 2826 из 243713 (1,2%)\n",
    "\n",
    "потеря пользователей 17 из 7551 (0,2%)\n",
    "\n"
   ]
  },
  {
   "cell_type": "markdown",
   "metadata": {},
   "source": [
    "# Воронка событий"
   ]
  },
  {
   "cell_type": "markdown",
   "metadata": {},
   "source": [
    "- Какие события есть в логах, как часто они встречаются?\n"
   ]
  },
  {
   "cell_type": "code",
   "execution_count": 29,
   "metadata": {},
   "outputs": [
    {
     "data": {
      "text/html": [
       "<div>\n",
       "<style scoped>\n",
       "    .dataframe tbody tr th:only-of-type {\n",
       "        vertical-align: middle;\n",
       "    }\n",
       "\n",
       "    .dataframe tbody tr th {\n",
       "        vertical-align: top;\n",
       "    }\n",
       "\n",
       "    .dataframe thead th {\n",
       "        text-align: right;\n",
       "    }\n",
       "</style>\n",
       "<table border=\"1\" class=\"dataframe\">\n",
       "  <thead>\n",
       "    <tr style=\"text-align: right;\">\n",
       "      <th></th>\n",
       "      <th>count</th>\n",
       "    </tr>\n",
       "    <tr>\n",
       "      <th>event_name</th>\n",
       "      <th></th>\n",
       "    </tr>\n",
       "  </thead>\n",
       "  <tbody>\n",
       "    <tr>\n",
       "      <th>MainScreenAppear</th>\n",
       "      <td>117328</td>\n",
       "    </tr>\n",
       "    <tr>\n",
       "      <th>OffersScreenAppear</th>\n",
       "      <td>46333</td>\n",
       "    </tr>\n",
       "    <tr>\n",
       "      <th>CartScreenAppear</th>\n",
       "      <td>42303</td>\n",
       "    </tr>\n",
       "    <tr>\n",
       "      <th>PaymentScreenSuccessful</th>\n",
       "      <td>33918</td>\n",
       "    </tr>\n",
       "    <tr>\n",
       "      <th>Tutorial</th>\n",
       "      <td>1005</td>\n",
       "    </tr>\n",
       "  </tbody>\n",
       "</table>\n",
       "</div>"
      ],
      "text/plain": [
       "                          count\n",
       "event_name                     \n",
       "MainScreenAppear         117328\n",
       "OffersScreenAppear        46333\n",
       "CartScreenAppear          42303\n",
       "PaymentScreenSuccessful   33918\n",
       "Tutorial                   1005"
      ]
     },
     "execution_count": 29,
     "metadata": {},
     "output_type": "execute_result"
    }
   ],
   "source": [
    "df_act.groupby('event_name').agg(count = ('user_id', 'count')).sort_values(by = 'count', ascending=False)"
   ]
  },
  {
   "cell_type": "markdown",
   "metadata": {},
   "source": [
    "- Сколько пользователей совершали каждое из этих событий?"
   ]
  },
  {
   "cell_type": "code",
   "execution_count": 30,
   "metadata": {},
   "outputs": [
    {
     "data": {
      "text/html": [
       "<div>\n",
       "<style scoped>\n",
       "    .dataframe tbody tr th:only-of-type {\n",
       "        vertical-align: middle;\n",
       "    }\n",
       "\n",
       "    .dataframe tbody tr th {\n",
       "        vertical-align: top;\n",
       "    }\n",
       "\n",
       "    .dataframe thead th {\n",
       "        text-align: right;\n",
       "    }\n",
       "</style>\n",
       "<table border=\"1\" class=\"dataframe\">\n",
       "  <thead>\n",
       "    <tr style=\"text-align: right;\">\n",
       "      <th></th>\n",
       "      <th>users</th>\n",
       "      <th>ratio</th>\n",
       "    </tr>\n",
       "    <tr>\n",
       "      <th>event_name</th>\n",
       "      <th></th>\n",
       "      <th></th>\n",
       "    </tr>\n",
       "  </thead>\n",
       "  <tbody>\n",
       "    <tr>\n",
       "      <th>MainScreenAppear</th>\n",
       "      <td>7419</td>\n",
       "      <td>98.47</td>\n",
       "    </tr>\n",
       "    <tr>\n",
       "      <th>OffersScreenAppear</th>\n",
       "      <td>4593</td>\n",
       "      <td>60.96</td>\n",
       "    </tr>\n",
       "    <tr>\n",
       "      <th>CartScreenAppear</th>\n",
       "      <td>3734</td>\n",
       "      <td>49.56</td>\n",
       "    </tr>\n",
       "    <tr>\n",
       "      <th>PaymentScreenSuccessful</th>\n",
       "      <td>3539</td>\n",
       "      <td>46.97</td>\n",
       "    </tr>\n",
       "    <tr>\n",
       "      <th>Tutorial</th>\n",
       "      <td>840</td>\n",
       "      <td>11.15</td>\n",
       "    </tr>\n",
       "  </tbody>\n",
       "</table>\n",
       "</div>"
      ],
      "text/plain": [
       "                         users  ratio\n",
       "event_name                           \n",
       "MainScreenAppear          7419  98.47\n",
       "OffersScreenAppear        4593  60.96\n",
       "CartScreenAppear          3734  49.56\n",
       "PaymentScreenSuccessful   3539  46.97\n",
       "Tutorial                   840  11.15"
      ]
     },
     "execution_count": 30,
     "metadata": {},
     "output_type": "execute_result"
    }
   ],
   "source": [
    "user_per_event = df_act.groupby('event_name').agg(users=('user_id','nunique')).sort_values('users', ascending=False)\n",
    "user_per_event['ratio'] = round(user_per_event['users']/df_act['user_id'].nunique() * 100, 2)\n",
    "user_per_event"
   ]
  },
  {
   "cell_type": "markdown",
   "metadata": {},
   "source": [
    "- Скорее всего 1,5% миновали главный экран, т.к переходили напрямую на страницу товаров."
   ]
  },
  {
   "cell_type": "markdown",
   "metadata": {},
   "source": [
    "# Порядок событий: \n",
    "\n",
    "Пользователи открывают главную страницу - выбирают товары - кладут в корзину - оплачивают"
   ]
  },
  {
   "cell_type": "markdown",
   "metadata": {},
   "source": [
    "- Переход пользователей на следующий шаг воронки"
   ]
  },
  {
   "cell_type": "code",
   "execution_count": 31,
   "metadata": {},
   "outputs": [
    {
     "data": {
      "text/html": [
       "<div>\n",
       "<style scoped>\n",
       "    .dataframe tbody tr th:only-of-type {\n",
       "        vertical-align: middle;\n",
       "    }\n",
       "\n",
       "    .dataframe tbody tr th {\n",
       "        vertical-align: top;\n",
       "    }\n",
       "\n",
       "    .dataframe thead th {\n",
       "        text-align: right;\n",
       "    }\n",
       "</style>\n",
       "<table border=\"1\" class=\"dataframe\">\n",
       "  <thead>\n",
       "    <tr style=\"text-align: right;\">\n",
       "      <th></th>\n",
       "      <th>user_id</th>\n",
       "      <th>conversion</th>\n",
       "    </tr>\n",
       "    <tr>\n",
       "      <th>event_name</th>\n",
       "      <th></th>\n",
       "      <th></th>\n",
       "    </tr>\n",
       "  </thead>\n",
       "  <tbody>\n",
       "    <tr>\n",
       "      <th>MainScreenAppear</th>\n",
       "      <td>7439</td>\n",
       "      <td>100.0</td>\n",
       "    </tr>\n",
       "    <tr>\n",
       "      <th>OffersScreenAppear</th>\n",
       "      <td>4613</td>\n",
       "      <td>62.0</td>\n",
       "    </tr>\n",
       "    <tr>\n",
       "      <th>CartScreenAppear</th>\n",
       "      <td>3749</td>\n",
       "      <td>81.3</td>\n",
       "    </tr>\n",
       "    <tr>\n",
       "      <th>PaymentScreenSuccessful</th>\n",
       "      <td>3547</td>\n",
       "      <td>94.6</td>\n",
       "    </tr>\n",
       "  </tbody>\n",
       "</table>\n",
       "</div>"
      ],
      "text/plain": [
       "                         user_id  conversion\n",
       "event_name                                  \n",
       "MainScreenAppear            7439       100.0\n",
       "OffersScreenAppear          4613        62.0\n",
       "CartScreenAppear            3749        81.3\n",
       "PaymentScreenSuccessful     3547        94.6"
      ]
     },
     "execution_count": 31,
     "metadata": {},
     "output_type": "execute_result"
    }
   ],
   "source": [
    "#создадим сводную таблицу с количеством уникальных пользователей совершавших каждое из событий\n",
    "user_to_event = df.query('event_name != \"Tutorial\"').pivot_table(index = 'event_name', values = 'user_id', aggfunc = 'nunique').sort_values(by = 'user_id', ascending = False)\n",
    "#добавим столбец со смещенными значениями количества пользователей методом shift\n",
    "#недостающее значение заполним первым значением столбца параметром fill_value\n",
    "user_to_event['shift'] = user_to_event['user_id'].shift(1, fill_value = user_to_event['user_id'].loc[user_to_event.index[0]])\n",
    "#посчитаем и добавим столбец с конверсией округленной до 1 десятка\n",
    "user_to_event['conversion'] = round(user_to_event['user_id']/user_to_event['shift']*100, 1)\n",
    "#в итоговой таблице оставим только количество уникальных пользователей и конверсией\n",
    "user_to_event = user_to_event[['user_id', 'conversion']]\n",
    "user_to_event"
   ]
  },
  {
   "cell_type": "markdown",
   "metadata": {},
   "source": [
    "# Вывод:\n",
    "Потеря большинства пользователей происходит при переходе с первого шага на второй."
   ]
  },
  {
   "cell_type": "markdown",
   "metadata": {},
   "source": [
    " "
   ]
  },
  {
   "cell_type": "markdown",
   "metadata": {},
   "source": [
    "- Сколько пользователей доходит от первого шага до оплаты?"
   ]
  },
  {
   "cell_type": "code",
   "execution_count": 32,
   "metadata": {},
   "outputs": [
    {
     "name": "stdout",
     "output_type": "stream",
     "text": [
      "Доля пользователей прошедших от первого события до оплаты 47.7%\n"
     ]
    }
   ],
   "source": [
    "print(f\"Доля пользователей прошедших от первого события до оплаты {user_to_event['user_id'].loc[user_to_event.index[-1]]/user_to_event['user_id'].loc[user_to_event.index[0]]:.1%}\")\n"
   ]
  },
  {
   "cell_type": "markdown",
   "metadata": {},
   "source": [
    " "
   ]
  },
  {
   "cell_type": "markdown",
   "metadata": {},
   "source": [
    "# Вывод:\n",
    "\n",
    "Количетво событий в логе:\n",
    "\n",
    "MainScreenAppear - 117328\n",
    "\n",
    "OffersScreenAppear - 46333\n",
    "\n",
    "CartScreenAppear - 42303\n",
    "\n",
    "PaymentScreenSuccessful - 33918\n",
    "\n",
    "Tutorial - 1005\n",
    "\n",
    "Количество пользователей совершавших событие:\n",
    "\n",
    "MainScreenAppear - 7419 пользователей (98.47%)\n",
    "\n",
    "OffersScreenAppear - 4593 пользователей (60.96%)\n",
    "\n",
    "СartScreenAppear - 3734 пользователей (49.56%)\n",
    "\n",
    "PaymentScreenSuccessful - 3539 пользователей (46.97%)\n",
    "\n",
    "Tutorial - 840 пользователей (11.15%)\n",
    "\n",
    "Порядок событий: Пользователи открывают главную страницу - выбирают товары - кладут в корзину - оплачивают\n",
    "\n",
    "Потеря большинства пользователей происходит при переходе с первого шага на второй.\n",
    "\n",
    "Доля пользователей прошедших от первого события до оплаты 47.7%\n"
   ]
  },
  {
   "cell_type": "markdown",
   "metadata": {},
   "source": [
    "# Изучение результатов экспемента "
   ]
  },
  {
   "cell_type": "markdown",
   "metadata": {},
   "source": [
    "- Сколько пользователей в каждой экспериментальной группе?"
   ]
  },
  {
   "cell_type": "code",
   "execution_count": 33,
   "metadata": {},
   "outputs": [
    {
     "data": {
      "text/html": [
       "<div>\n",
       "<style scoped>\n",
       "    .dataframe tbody tr th:only-of-type {\n",
       "        vertical-align: middle;\n",
       "    }\n",
       "\n",
       "    .dataframe tbody tr th {\n",
       "        vertical-align: top;\n",
       "    }\n",
       "\n",
       "    .dataframe thead th {\n",
       "        text-align: right;\n",
       "    }\n",
       "</style>\n",
       "<table border=\"1\" class=\"dataframe\">\n",
       "  <thead>\n",
       "    <tr style=\"text-align: right;\">\n",
       "      <th></th>\n",
       "      <th>user_id</th>\n",
       "    </tr>\n",
       "    <tr>\n",
       "      <th>group</th>\n",
       "      <th></th>\n",
       "    </tr>\n",
       "  </thead>\n",
       "  <tbody>\n",
       "    <tr>\n",
       "      <th>246</th>\n",
       "      <td>2484</td>\n",
       "    </tr>\n",
       "    <tr>\n",
       "      <th>247</th>\n",
       "      <td>2513</td>\n",
       "    </tr>\n",
       "    <tr>\n",
       "      <th>248</th>\n",
       "      <td>2537</td>\n",
       "    </tr>\n",
       "  </tbody>\n",
       "</table>\n",
       "</div>"
      ],
      "text/plain": [
       "       user_id\n",
       "group         \n",
       "246       2484\n",
       "247       2513\n",
       "248       2537"
      ]
     },
     "execution_count": 33,
     "metadata": {},
     "output_type": "execute_result"
    }
   ],
   "source": [
    "df_act.pivot_table(index = 'group', values = 'user_id', aggfunc = 'nunique')"
   ]
  },
  {
   "cell_type": "markdown",
   "metadata": {},
   "source": [
    "# Вывод:\n",
    "\n",
    "Количество уникальных пользователей по группам:\n",
    "\n",
    "в 246 группе 2484 уникальных пользователей\n",
    "\n",
    "в 247 группе 2513 уникальных пользователей\n",
    "\n",
    "в 248 группе 2537 уникальных пользователей."
   ]
  },
  {
   "cell_type": "markdown",
   "metadata": {},
   "source": [
    "- Находят ли статистические критерии разницу между выборками 246 и 247?"
   ]
  },
  {
   "cell_type": "code",
   "execution_count": 34,
   "metadata": {},
   "outputs": [],
   "source": [
    "group_246 = df_act.query('group == 246')\n",
    "group_247 = df_act.query('group == 247')\n",
    "group_248 = df_act.query('group == 248')"
   ]
  },
  {
   "cell_type": "markdown",
   "metadata": {},
   "source": [
    "Самые популярные события по группам:"
   ]
  },
  {
   "cell_type": "markdown",
   "metadata": {},
   "source": [
    "# 246\n"
   ]
  },
  {
   "cell_type": "code",
   "execution_count": 35,
   "metadata": {},
   "outputs": [
    {
     "data": {
      "text/html": [
       "<div>\n",
       "<style scoped>\n",
       "    .dataframe tbody tr th:only-of-type {\n",
       "        vertical-align: middle;\n",
       "    }\n",
       "\n",
       "    .dataframe tbody tr th {\n",
       "        vertical-align: top;\n",
       "    }\n",
       "\n",
       "    .dataframe thead th {\n",
       "        text-align: right;\n",
       "    }\n",
       "</style>\n",
       "<table border=\"1\" class=\"dataframe\">\n",
       "  <thead>\n",
       "    <tr style=\"text-align: right;\">\n",
       "      <th></th>\n",
       "      <th>user_id</th>\n",
       "    </tr>\n",
       "    <tr>\n",
       "      <th>event_name</th>\n",
       "      <th></th>\n",
       "    </tr>\n",
       "  </thead>\n",
       "  <tbody>\n",
       "    <tr>\n",
       "      <th>MainScreenAppear</th>\n",
       "      <td>2450</td>\n",
       "    </tr>\n",
       "    <tr>\n",
       "      <th>OffersScreenAppear</th>\n",
       "      <td>1542</td>\n",
       "    </tr>\n",
       "    <tr>\n",
       "      <th>CartScreenAppear</th>\n",
       "      <td>1266</td>\n",
       "    </tr>\n",
       "    <tr>\n",
       "      <th>PaymentScreenSuccessful</th>\n",
       "      <td>1200</td>\n",
       "    </tr>\n",
       "    <tr>\n",
       "      <th>Tutorial</th>\n",
       "      <td>278</td>\n",
       "    </tr>\n",
       "  </tbody>\n",
       "</table>\n",
       "</div>"
      ],
      "text/plain": [
       "                         user_id\n",
       "event_name                      \n",
       "MainScreenAppear            2450\n",
       "OffersScreenAppear          1542\n",
       "CartScreenAppear            1266\n",
       "PaymentScreenSuccessful     1200\n",
       "Tutorial                     278"
      ]
     },
     "execution_count": 35,
     "metadata": {},
     "output_type": "execute_result"
    }
   ],
   "source": [
    "group_246.pivot_table(index = 'event_name', values = 'user_id', aggfunc = 'nunique').sort_values(by = 'user_id', ascending = False)\n"
   ]
  },
  {
   "cell_type": "markdown",
   "metadata": {},
   "source": [
    "# 247"
   ]
  },
  {
   "cell_type": "code",
   "execution_count": 36,
   "metadata": {},
   "outputs": [
    {
     "data": {
      "text/html": [
       "<div>\n",
       "<style scoped>\n",
       "    .dataframe tbody tr th:only-of-type {\n",
       "        vertical-align: middle;\n",
       "    }\n",
       "\n",
       "    .dataframe tbody tr th {\n",
       "        vertical-align: top;\n",
       "    }\n",
       "\n",
       "    .dataframe thead th {\n",
       "        text-align: right;\n",
       "    }\n",
       "</style>\n",
       "<table border=\"1\" class=\"dataframe\">\n",
       "  <thead>\n",
       "    <tr style=\"text-align: right;\">\n",
       "      <th></th>\n",
       "      <th>user_id</th>\n",
       "    </tr>\n",
       "    <tr>\n",
       "      <th>event_name</th>\n",
       "      <th></th>\n",
       "    </tr>\n",
       "  </thead>\n",
       "  <tbody>\n",
       "    <tr>\n",
       "      <th>MainScreenAppear</th>\n",
       "      <td>2476</td>\n",
       "    </tr>\n",
       "    <tr>\n",
       "      <th>OffersScreenAppear</th>\n",
       "      <td>1520</td>\n",
       "    </tr>\n",
       "    <tr>\n",
       "      <th>CartScreenAppear</th>\n",
       "      <td>1238</td>\n",
       "    </tr>\n",
       "    <tr>\n",
       "      <th>PaymentScreenSuccessful</th>\n",
       "      <td>1158</td>\n",
       "    </tr>\n",
       "    <tr>\n",
       "      <th>Tutorial</th>\n",
       "      <td>283</td>\n",
       "    </tr>\n",
       "  </tbody>\n",
       "</table>\n",
       "</div>"
      ],
      "text/plain": [
       "                         user_id\n",
       "event_name                      \n",
       "MainScreenAppear            2476\n",
       "OffersScreenAppear          1520\n",
       "CartScreenAppear            1238\n",
       "PaymentScreenSuccessful     1158\n",
       "Tutorial                     283"
      ]
     },
     "execution_count": 36,
     "metadata": {},
     "output_type": "execute_result"
    }
   ],
   "source": [
    "group_247.pivot_table(index = 'event_name', values = 'user_id', aggfunc = 'nunique').sort_values(by = 'user_id', ascending = False)\n"
   ]
  },
  {
   "cell_type": "markdown",
   "metadata": {},
   "source": [
    "# Проверка гипотез с помощью z-теста"
   ]
  },
  {
   "cell_type": "markdown",
   "metadata": {},
   "source": [
    "Гипотеза:\n",
    "\n",
    "H0:Между долями статистической значимой разницы нет, поведение групп не отличается;\n",
    "\n",
    "H1:Между долями статистическая значимая разница есть, поведение групп отличается."
   ]
  },
  {
   "cell_type": "code",
   "execution_count": 37,
   "metadata": {},
   "outputs": [
    {
     "name": "stdout",
     "output_type": "stream",
     "text": [
      "p-значение:  0.7570597232046099\n",
      "Не получилось отвергнуть нулевую гипотезу, нет оснований считать доли разными\n"
     ]
    }
   ],
   "source": [
    "#критический уровень статистической значимости\n",
    "alpha = 0.05\n",
    "    \n",
    "#количсетво уникальных пользователей совершивших событие в каждой группе \n",
    "un_users_event = np.array([group_246[group_246['event_name'] == 'MainScreenAppear']['user_id'].nunique(), group_247[group_247['event_name'] == 'MainScreenAppear']['user_id'].nunique()])\n",
    "        \n",
    "#количество уникальных пользователей в группах\n",
    "un_users_group = np.array([group_246['user_id'].nunique(), group_247['user_id'].nunique()])\n",
    "    \n",
    "# пропорция успехов в первой группе:\n",
    "p1 = un_users_event[0]/un_users_group[0]\n",
    "# пропорция успехов во второй группе:\n",
    "p2 = un_users_event[1]/un_users_group[1]\n",
    "    \n",
    "# пропорция успехов в комбинированном датасете:\n",
    "p_combined = (un_users_event[0] + un_users_event[1]) / (un_users_group[0] + un_users_group[1])\n",
    "    \n",
    "# разница пропорций в датасетах\n",
    "difference = p1 - p2\n",
    "    \n",
    "# считаем статистику в ст.отклонениях стандартного нормального распределения\n",
    "z_value = difference / mth.sqrt(p_combined * (1 - p_combined) * (1/un_users_group[0] + 1/un_users_group[1]))  \n",
    "# задаем стандартное нормальное распределение (среднее 0, ст.отклонение 1)\n",
    "distr = st.norm(0, 1)  \n",
    "    \n",
    "#Так как распределение статистики нормальное, вызовем метод cdf()\n",
    "#Саму статистику возьмём по модулю методом abs() — чтобы получить правильный результат независимо от её знака.\n",
    "#Это возможно, потому что тест двусторонний. По этой же причине удваиваем результат:\n",
    "p_value = (1 - distr.cdf(abs(z_value))) * 2\n",
    "          \n",
    "print('p-значение: ', p_value)\n",
    "\n",
    "if p_value < alpha:\n",
    "    print('Отвергаем нулевую гипотезу: между долями есть значимая разница')\n",
    "else:\n",
    "    print('Не получилось отвергнуть нулевую гипотезу, нет оснований считать доли разными')"
   ]
  },
  {
   "cell_type": "markdown",
   "metadata": {},
   "source": [
    "Оборачиваем в функцию"
   ]
  },
  {
   "cell_type": "code",
   "execution_count": 38,
   "metadata": {},
   "outputs": [],
   "source": [
    "def test(g1, g2, event_name):\n",
    "    \n",
    "    #критический уровень статистической значимости\n",
    "    alpha = 0.05\n",
    "    \n",
    "    #количсетво уникальных пользователей совершивших событие в каждой группе \n",
    "    un_users_event = np.array([g1[g1['event_name'] == event_name]['user_id'].nunique(), g2[g2['event_name'] == event_name]['user_id'].nunique()])\n",
    "        \n",
    "    #количество уникальных пользователей в группах\n",
    "    un_users_group = np.array([g1['user_id'].nunique(), g2['user_id'].nunique()])\n",
    "    \n",
    "    # пропорция успехов в первой группе:\n",
    "    p1 = un_users_event[0]/un_users_group[0]\n",
    "    # пропорция успехов во второй группе:\n",
    "    p2 = un_users_event[1]/un_users_group[1]\n",
    "    \n",
    "    # пропорция успехов в комбинированном датасете:\n",
    "    p_combined = (un_users_event[0] + un_users_event[1]) / (un_users_group[0] + un_users_group[1])\n",
    "    \n",
    "    # разница пропорций в датасетах\n",
    "    difference = p1 - p2\n",
    "    \n",
    "    # считаем статистику в ст.отклонениях стандартного нормального распределения\n",
    "    z_value = difference / mth.sqrt(p_combined * (1 - p_combined) * (1/un_users_group[0] + 1/un_users_group[1])) \n",
    "    \n",
    "    # задаем стандартное нормальное распределение (среднее 0, ст.отклонение 1)\n",
    "    distr = st.norm(0, 1)  \n",
    "    \n",
    "    #Так как распределение статистики нормальное, вызовем метод cdf()\n",
    "    #Саму статистику возьмём по модулю методом abs() — чтобы получить правильный результат независимо от её знака.\n",
    "    #Это возможно, потому что тест двусторонний. По этой же причине удваиваем результат:\n",
    "    p_value = (1 - distr.cdf(abs(z_value))) * 2\n",
    "    \n",
    "    print(event_name)\n",
    "          \n",
    "    print('p-значение: ', p_value)\n",
    "\n",
    "    if p_value < alpha:\n",
    "        print('Отвергаем нулевую гипотезу: между долями есть значимая разница')\n",
    "    else:\n",
    "        print('Не получилось отвергнуть нулевую гипотезу, нет оснований считать доли разными')\n",
    "    print()"
   ]
  },
  {
   "cell_type": "code",
   "execution_count": 39,
   "metadata": {},
   "outputs": [
    {
     "name": "stdout",
     "output_type": "stream",
     "text": [
      "MainScreenAppear\n",
      "p-значение:  0.7570597232046099\n",
      "Не получилось отвергнуть нулевую гипотезу, нет оснований считать доли разными\n",
      "\n",
      "PaymentScreenSuccessful\n",
      "p-значение:  0.11456679313141849\n",
      "Не получилось отвергнуть нулевую гипотезу, нет оснований считать доли разными\n",
      "\n",
      "CartScreenAppear\n",
      "p-значение:  0.22883372237997213\n",
      "Не получилось отвергнуть нулевую гипотезу, нет оснований считать доли разными\n",
      "\n",
      "OffersScreenAppear\n",
      "p-значение:  0.2480954578522181\n",
      "Не получилось отвергнуть нулевую гипотезу, нет оснований считать доли разными\n",
      "\n",
      "Tutorial\n",
      "p-значение:  0.9376996189257114\n",
      "Не получилось отвергнуть нулевую гипотезу, нет оснований считать доли разными\n",
      "\n"
     ]
    }
   ],
   "source": [
    "#создадим список с уникальными событиями:\n",
    "event_name_array = df['event_name'].unique()\n",
    "#создадим цикл, который будет подставлять в функцию уникальные значения собитый:\n",
    "for event_name in event_name_array:\n",
    "    test(group_246, group_247, event_name)"
   ]
  },
  {
   "cell_type": "markdown",
   "metadata": {},
   "source": [
    "# Вывод: \n",
    "Статистические критерии разницу между выборками 246 и 247 не находят, т.к. разница не значительная.\n",
    "\n",
    "Обе эти группы можно считать контрольными. \n",
    "\n",
    "Разбиение на группы работает корректно\n"
   ]
  },
  {
   "cell_type": "markdown",
   "metadata": {},
   "source": [
    " "
   ]
  },
  {
   "cell_type": "markdown",
   "metadata": {},
   "source": [
    "- Группа с измененным шрифтом\n"
   ]
  },
  {
   "cell_type": "code",
   "execution_count": 40,
   "metadata": {},
   "outputs": [
    {
     "name": "stdout",
     "output_type": "stream",
     "text": [
      "MainScreenAppear\n",
      "p-значение:  0.2949721933554552\n",
      "Не получилось отвергнуть нулевую гипотезу, нет оснований считать доли разными\n",
      "\n",
      "PaymentScreenSuccessful\n",
      "p-значение:  0.2122553275697796\n",
      "Не получилось отвергнуть нулевую гипотезу, нет оснований считать доли разными\n",
      "\n",
      "CartScreenAppear\n",
      "p-значение:  0.07842923237520116\n",
      "Не получилось отвергнуть нулевую гипотезу, нет оснований считать доли разными\n",
      "\n",
      "OffersScreenAppear\n",
      "p-значение:  0.20836205402738917\n",
      "Не получилось отвергнуть нулевую гипотезу, нет оснований считать доли разными\n",
      "\n",
      "Tutorial\n",
      "p-значение:  0.8264294010087645\n",
      "Не получилось отвергнуть нулевую гипотезу, нет оснований считать доли разными\n",
      "\n"
     ]
    }
   ],
   "source": [
    "#Аналогично проверим 1 контрольную группу 246 с группой с изменным шрифтом 248\n",
    "for event_name in event_name_array:\n",
    "    test(group_246, group_248, event_name)"
   ]
  },
  {
   "cell_type": "markdown",
   "metadata": {},
   "source": [
    "# Вывод: \n",
    "Значимой разницы в поведении группы 246 и 248 нет."
   ]
  },
  {
   "cell_type": "code",
   "execution_count": 41,
   "metadata": {},
   "outputs": [
    {
     "name": "stdout",
     "output_type": "stream",
     "text": [
      "MainScreenAppear\n",
      "p-значение:  0.2949721933554552\n",
      "Не получилось отвергнуть нулевую гипотезу, нет оснований считать доли разными\n",
      "\n",
      "PaymentScreenSuccessful\n",
      "p-значение:  0.2122553275697796\n",
      "Не получилось отвергнуть нулевую гипотезу, нет оснований считать доли разными\n",
      "\n",
      "CartScreenAppear\n",
      "p-значение:  0.07842923237520116\n",
      "Не получилось отвергнуть нулевую гипотезу, нет оснований считать доли разными\n",
      "\n",
      "OffersScreenAppear\n",
      "p-значение:  0.20836205402738917\n",
      "Не получилось отвергнуть нулевую гипотезу, нет оснований считать доли разными\n",
      "\n",
      "Tutorial\n",
      "p-значение:  0.8264294010087645\n",
      "Не получилось отвергнуть нулевую гипотезу, нет оснований считать доли разными\n",
      "\n"
     ]
    }
   ],
   "source": [
    "#Проверим 2 контрольную группу 247 с группой с изменным шрифтом 248\n",
    "for event_name in event_name_array:\n",
    "    test(group_246, group_248, event_name)"
   ]
  },
  {
   "cell_type": "markdown",
   "metadata": {},
   "source": [
    "# Вывод: \n",
    "Значимой разницы в поведении группы 247 и 248 нет."
   ]
  },
  {
   "cell_type": "markdown",
   "metadata": {},
   "source": [
    "- Объединим группы 246 и 247 и проверим с группой 248"
   ]
  },
  {
   "cell_type": "code",
   "execution_count": 42,
   "metadata": {},
   "outputs": [
    {
     "name": "stdout",
     "output_type": "stream",
     "text": [
      "MainScreenAppear\n",
      "p-значение:  0.29424526837179577\n",
      "Не получилось отвергнуть нулевую гипотезу, нет оснований считать доли разными\n",
      "\n",
      "PaymentScreenSuccessful\n",
      "p-значение:  0.6004294282308704\n",
      "Не получилось отвергнуть нулевую гипотезу, нет оснований считать доли разными\n",
      "\n",
      "CartScreenAppear\n",
      "p-значение:  0.18175875284404386\n",
      "Не получилось отвергнуть нулевую гипотезу, нет оснований считать доли разными\n",
      "\n",
      "OffersScreenAppear\n",
      "p-значение:  0.43425549655188256\n",
      "Не получилось отвергнуть нулевую гипотезу, нет оснований считать доли разными\n",
      "\n",
      "Tutorial\n",
      "p-значение:  0.764862472531507\n",
      "Не получилось отвергнуть нулевую гипотезу, нет оснований считать доли разными\n",
      "\n"
     ]
    }
   ],
   "source": [
    "group_246_247 = pd.concat([group_246, group_247])\n",
    "for event_name in event_name_array:\n",
    "    test(group_246_247, group_248, event_name)"
   ]
  },
  {
   "cell_type": "markdown",
   "metadata": {},
   "source": [
    "# Вывод: \n",
    "Значимой разницы по ведении объединенной группы и группы с измененном шрифтом нет.\n",
    "\n",
    "Изменение шрифта не повлияло на поведение пользователей."
   ]
  },
  {
   "cell_type": "markdown",
   "metadata": {},
   "source": [
    " "
   ]
  },
  {
   "cell_type": "markdown",
   "metadata": {},
   "source": [
    "# Уровень значимости/количество проверок\n",
    "\n",
    "Уровень значимости 0.05\n",
    "\n",
    "Проведено 20 проверок.\n"
   ]
  },
  {
   "cell_type": "markdown",
   "metadata": {},
   "source": [
    "# При уровне значимости 0.1 в 10% случаев можно ошибочно отклонить нулевую гипотезу при условии, что она верна. Какой уровень значимости стоит применить? \n",
    "\n",
    "Если бы взяли больший уровень значимости, например 0.1, вероятность увидеть ложноположительный результат была бы выше в 2 раза."
   ]
  },
  {
   "cell_type": "markdown",
   "metadata": {},
   "source": [
    " "
   ]
  },
  {
   "cell_type": "markdown",
   "metadata": {},
   "source": [
    "# Вывод:\n",
    "\n",
    "Количество уникальных пользователей по группам:\n",
    "\n",
    "в 246 группе 2484 уникальных пользователей.\n",
    "\n",
    "в 247 группе 2513 уникальных пользователей.\n",
    "\n",
    "в 248 группе 2537 уникальных пользователей.\n",
    "\n",
    "Статистические критерии разницу между выборками 246 и 247 не находят, т.к. разница не значительная. О\n",
    "\n",
    "Обе эти группы можно считать контрольными.\n",
    "\n",
    "Разбиение на группы работает корректно.\n",
    "\n",
    "Значимой разницы по ведении объединенной группы и группы с измененном шрифтом нет.\n",
    "\n",
    "Изменение шрифта не повлияло на поведение пользователей.\n",
    "\n",
    "Уровень значимости выбрали 0.05\n",
    "\n",
    "Проведено 20 проверок.\n",
    "\n",
    "Если бы взяли больший уровень значимости, например 0.1, вероятность увидеть ложноположительный результат была бы выше в 2 раза."
   ]
  },
  {
   "cell_type": "markdown",
   "metadata": {},
   "source": [
    "# Итоговый вывод"
   ]
  },
  {
   "cell_type": "markdown",
   "metadata": {},
   "source": [
    "Изучили данные\n",
    "\n",
    "Проверили на пропуски и удалили дубликаты\n",
    "\n",
    "Привели столбец dt к корректному формату и добавили столбец date\n",
    "\n",
    "Событий в логе 243713\n",
    "\n",
    "Количство уникальных пользователей: 7551\n",
    "\n",
    "В среднем на пользователя приходится 32 события\n",
    "\n",
    "Данные предоставлены за 2 недели\n",
    "\n",
    "Отбросили неполные данные и посчитали потери:\n",
    "\n",
    "потеря событий всего 2826 из 243713 (1,2%)\n",
    "\n",
    "потеря пользователей 17 из 7551 (0,2%)\n",
    "\n",
    "Количетво событий в логе:\n",
    "\n",
    "MainScreenAppear - 117328\n",
    "\n",
    "OffersScreenAppear - 46333\n",
    "\n",
    "CartScreenAppear - 42303\n",
    "\n",
    "PaymentScreenSuccessful - 33918\n",
    "\n",
    "Tutorial - 1005\n",
    "\n",
    "Количество пользователей совершавших событие:\n",
    "\n",
    "MainScreenAppear - 7419 пользователей (98.47%)\n",
    "\n",
    "OffersScreenAppear - 4593 пользователей (60.96%)\n",
    "\n",
    "СartScreenAppear - 3734 пользователей (49.56%)\n",
    "\n",
    "PaymentScreenSuccessful - 3539 пользователей (46.97%)\n",
    "\n",
    "Tutorial - 840 пользователей (11.15%)\n",
    "\n",
    "Порядок событий: Пользователи открывают главную страницу - выбирают товары - кладут в корзину - оплачивают\n",
    "\n",
    "Потеря большинства пользователей происходит при переходе с первого шага на второй.\n",
    "\n",
    "Доля пользователей прошедших от первого события до оплаты 47.7%\n",
    "\n",
    "сравнение групп 246 и 247:\n",
    "    - Статистические критерии разницу между выборками 246 и 247 не находят, т.к. ни для оного из событий разница не оказалось значимой обе эти группы можно считать контрольными. Разбиение на группы работает корректно.\n",
    "    \n",
    "сравнение групп 246 и 248:\n",
    "    - Значимой разницы в поведении пользователей групп 246 и 248 нет.\n",
    "    \n",
    "сравнение групп 247 и 248:\n",
    "    - Значимой разницы в поведении пользователей групп 247 и 248 нет.\n",
    "    \n",
    "сравнение групп 246+247 и 248:\n",
    "    - Значимой разницы в поведении пользователей объедененной контрольной группы и эксперементальной группы нет.\n",
    "\n",
    "Критический уровень статистической значимости мы брали 0.05, это озачает что мы рискуем получить ошибку первого рода в одном из 20 случаев. Мы провели 20 экспериментов. Если бы взяли больший уровень значимости, например 0.1, вероятность увидеть ложноположительный результат была бы выше в 2 раза.\n",
    "\n",
    "Множесто А/В-тестов, проведённых по каждому из событий, не обнаружили статистически значимой разницы между группами. \n",
    "\n",
    "Т.е. изменение шрифтов в приложении на поведение пользователей не повлияло.\n"
   ]
  }
 ],
 "metadata": {
  "ExecuteTimeLog": [
   {
    "duration": 1475,
    "start_time": "2024-01-15T11:48:32.831Z"
   },
   {
    "duration": 692,
    "start_time": "2024-01-15T11:48:43.362Z"
   },
   {
    "duration": 31,
    "start_time": "2024-01-15T11:49:01.458Z"
   },
   {
    "duration": 3,
    "start_time": "2024-01-15T11:49:39.670Z"
   },
   {
    "duration": 8,
    "start_time": "2024-01-15T11:49:48.446Z"
   },
   {
    "duration": 72,
    "start_time": "2024-01-15T11:50:49.181Z"
   },
   {
    "duration": 136,
    "start_time": "2024-01-15T11:51:19.617Z"
   },
   {
    "duration": 123,
    "start_time": "2024-01-15T11:51:34.226Z"
   },
   {
    "duration": 1268,
    "start_time": "2024-01-15T11:51:45.732Z"
   },
   {
    "duration": 185,
    "start_time": "2024-01-15T11:51:47.002Z"
   },
   {
    "duration": 29,
    "start_time": "2024-01-15T11:51:47.189Z"
   },
   {
    "duration": 2,
    "start_time": "2024-01-15T11:51:47.220Z"
   },
   {
    "duration": 16,
    "start_time": "2024-01-15T11:51:47.224Z"
   },
   {
    "duration": 73,
    "start_time": "2024-01-15T11:51:47.241Z"
   },
   {
    "duration": 137,
    "start_time": "2024-01-15T11:51:47.316Z"
   },
   {
    "duration": 21,
    "start_time": "2024-01-15T11:52:36.801Z"
   },
   {
    "duration": 7,
    "start_time": "2024-01-15T11:54:26.784Z"
   },
   {
    "duration": 16,
    "start_time": "2024-01-15T11:54:36.048Z"
   },
   {
    "duration": 13,
    "start_time": "2024-01-15T11:54:41.152Z"
   },
   {
    "duration": 4,
    "start_time": "2024-01-15T12:02:08.879Z"
   },
   {
    "duration": 53,
    "start_time": "2024-01-15T12:02:44.111Z"
   },
   {
    "duration": 12,
    "start_time": "2024-01-15T12:02:51.524Z"
   },
   {
    "duration": 3,
    "start_time": "2024-01-15T12:03:15.211Z"
   },
   {
    "duration": 6,
    "start_time": "2024-01-15T12:04:19.183Z"
   },
   {
    "duration": 106,
    "start_time": "2024-01-15T12:21:25.129Z"
   },
   {
    "duration": 24,
    "start_time": "2024-01-15T12:21:34.787Z"
   },
   {
    "duration": 522,
    "start_time": "2024-01-15T12:21:44.011Z"
   },
   {
    "duration": 28,
    "start_time": "2024-01-15T12:24:39.843Z"
   },
   {
    "duration": 414,
    "start_time": "2024-01-15T12:24:48.751Z"
   },
   {
    "duration": 54,
    "start_time": "2024-01-15T12:28:40.008Z"
   },
   {
    "duration": 12,
    "start_time": "2024-01-15T12:29:06.992Z"
   },
   {
    "duration": 42,
    "start_time": "2024-01-15T12:30:28.663Z"
   },
   {
    "duration": 46,
    "start_time": "2024-01-15T13:15:31.611Z"
   },
   {
    "duration": 45,
    "start_time": "2024-01-15T13:15:37.098Z"
   },
   {
    "duration": 217,
    "start_time": "2024-01-15T13:15:47.658Z"
   },
   {
    "duration": 188,
    "start_time": "2024-01-15T13:24:36.658Z"
   },
   {
    "duration": 10,
    "start_time": "2024-01-15T13:40:37.899Z"
   },
   {
    "duration": 78,
    "start_time": "2024-01-15T13:41:12.348Z"
   },
   {
    "duration": 12,
    "start_time": "2024-01-15T13:41:20.789Z"
   },
   {
    "duration": 15,
    "start_time": "2024-01-15T13:41:29.112Z"
   },
   {
    "duration": 730,
    "start_time": "2024-01-15T13:44:43.524Z"
   },
   {
    "duration": 14,
    "start_time": "2024-01-15T13:44:55.843Z"
   },
   {
    "duration": 1319,
    "start_time": "2024-01-15T13:45:03.843Z"
   },
   {
    "duration": 192,
    "start_time": "2024-01-15T13:45:05.165Z"
   },
   {
    "duration": 31,
    "start_time": "2024-01-15T13:45:05.358Z"
   },
   {
    "duration": 3,
    "start_time": "2024-01-15T13:45:05.391Z"
   },
   {
    "duration": 18,
    "start_time": "2024-01-15T13:45:05.396Z"
   },
   {
    "duration": 27,
    "start_time": "2024-01-15T13:45:05.417Z"
   },
   {
    "duration": 96,
    "start_time": "2024-01-15T13:45:05.445Z"
   },
   {
    "duration": 162,
    "start_time": "2024-01-15T13:45:05.542Z"
   },
   {
    "duration": 8,
    "start_time": "2024-01-15T13:45:05.706Z"
   },
   {
    "duration": 44,
    "start_time": "2024-01-15T13:45:05.717Z"
   },
   {
    "duration": 13,
    "start_time": "2024-01-15T13:45:05.763Z"
   },
   {
    "duration": 58,
    "start_time": "2024-01-15T13:45:05.778Z"
   },
   {
    "duration": 13,
    "start_time": "2024-01-15T13:45:05.838Z"
   },
   {
    "duration": 23,
    "start_time": "2024-01-15T13:45:05.852Z"
   },
   {
    "duration": 7,
    "start_time": "2024-01-15T13:45:05.877Z"
   },
   {
    "duration": 41,
    "start_time": "2024-01-15T13:45:05.886Z"
   },
   {
    "duration": 521,
    "start_time": "2024-01-15T13:45:05.929Z"
   },
   {
    "duration": 44,
    "start_time": "2024-01-15T13:45:06.452Z"
   },
   {
    "duration": 435,
    "start_time": "2024-01-15T13:45:06.499Z"
   },
   {
    "duration": 70,
    "start_time": "2024-01-15T13:45:06.935Z"
   },
   {
    "duration": 15,
    "start_time": "2024-01-15T13:45:07.008Z"
   },
   {
    "duration": 73,
    "start_time": "2024-01-15T13:45:07.025Z"
   },
   {
    "duration": 73,
    "start_time": "2024-01-15T13:45:07.100Z"
   },
   {
    "duration": 227,
    "start_time": "2024-01-15T13:45:07.175Z"
   },
   {
    "duration": 167,
    "start_time": "2024-01-15T13:45:07.404Z"
   },
   {
    "duration": 151,
    "start_time": "2024-01-15T13:45:07.573Z"
   },
   {
    "duration": 10,
    "start_time": "2024-01-15T13:45:07.725Z"
   },
   {
    "duration": 49,
    "start_time": "2024-01-15T13:45:07.738Z"
   },
   {
    "duration": 1294,
    "start_time": "2024-01-15T13:46:27.039Z"
   },
   {
    "duration": 185,
    "start_time": "2024-01-15T13:46:28.335Z"
   },
   {
    "duration": 30,
    "start_time": "2024-01-15T13:46:28.522Z"
   },
   {
    "duration": 3,
    "start_time": "2024-01-15T13:46:28.554Z"
   },
   {
    "duration": 15,
    "start_time": "2024-01-15T13:46:28.559Z"
   },
   {
    "duration": 39,
    "start_time": "2024-01-15T13:46:28.576Z"
   },
   {
    "duration": 72,
    "start_time": "2024-01-15T13:46:28.617Z"
   },
   {
    "duration": 150,
    "start_time": "2024-01-15T13:46:28.691Z"
   },
   {
    "duration": 7,
    "start_time": "2024-01-15T13:46:28.842Z"
   },
   {
    "duration": 29,
    "start_time": "2024-01-15T13:46:28.852Z"
   },
   {
    "duration": 32,
    "start_time": "2024-01-15T13:46:28.882Z"
   },
   {
    "duration": 75,
    "start_time": "2024-01-15T13:46:28.915Z"
   },
   {
    "duration": 12,
    "start_time": "2024-01-15T13:46:28.991Z"
   },
   {
    "duration": 3,
    "start_time": "2024-01-15T13:46:29.005Z"
   },
   {
    "duration": 33,
    "start_time": "2024-01-15T13:46:29.009Z"
   },
   {
    "duration": 44,
    "start_time": "2024-01-15T13:46:29.043Z"
   },
   {
    "duration": 534,
    "start_time": "2024-01-15T13:46:29.089Z"
   },
   {
    "duration": 28,
    "start_time": "2024-01-15T13:46:29.624Z"
   },
   {
    "duration": 444,
    "start_time": "2024-01-15T13:46:29.653Z"
   },
   {
    "duration": 62,
    "start_time": "2024-01-15T13:46:30.099Z"
   },
   {
    "duration": 47,
    "start_time": "2024-01-15T13:46:30.172Z"
   },
   {
    "duration": 76,
    "start_time": "2024-01-15T13:46:30.221Z"
   },
   {
    "duration": 44,
    "start_time": "2024-01-15T13:46:30.299Z"
   },
   {
    "duration": 293,
    "start_time": "2024-01-15T13:46:30.345Z"
   },
   {
    "duration": 179,
    "start_time": "2024-01-15T13:46:30.640Z"
   },
   {
    "duration": 153,
    "start_time": "2024-01-15T13:46:30.821Z"
   },
   {
    "duration": 10,
    "start_time": "2024-01-15T13:46:30.976Z"
   },
   {
    "duration": 61,
    "start_time": "2024-01-15T13:46:30.989Z"
   },
   {
    "duration": 12,
    "start_time": "2024-01-15T13:47:15.178Z"
   },
   {
    "duration": 69,
    "start_time": "2024-01-15T13:59:09.193Z"
   },
   {
    "duration": 1460,
    "start_time": "2024-01-16T07:08:46.681Z"
   },
   {
    "duration": 520,
    "start_time": "2024-01-16T07:08:48.143Z"
   },
   {
    "duration": 48,
    "start_time": "2024-01-16T07:08:48.665Z"
   },
   {
    "duration": 3,
    "start_time": "2024-01-16T07:08:48.715Z"
   },
   {
    "duration": 23,
    "start_time": "2024-01-16T07:08:48.719Z"
   },
   {
    "duration": 47,
    "start_time": "2024-01-16T07:08:48.743Z"
   },
   {
    "duration": 66,
    "start_time": "2024-01-16T07:08:48.792Z"
   },
   {
    "duration": 142,
    "start_time": "2024-01-16T07:08:48.860Z"
   },
   {
    "duration": 7,
    "start_time": "2024-01-16T07:08:49.004Z"
   },
   {
    "duration": 31,
    "start_time": "2024-01-16T07:08:49.014Z"
   },
   {
    "duration": 14,
    "start_time": "2024-01-16T07:08:49.047Z"
   },
   {
    "duration": 72,
    "start_time": "2024-01-16T07:08:49.062Z"
   },
   {
    "duration": 12,
    "start_time": "2024-01-16T07:08:49.136Z"
   },
   {
    "duration": 16,
    "start_time": "2024-01-16T07:08:49.149Z"
   },
   {
    "duration": 19,
    "start_time": "2024-01-16T07:08:49.166Z"
   },
   {
    "duration": 41,
    "start_time": "2024-01-16T07:08:49.187Z"
   },
   {
    "duration": 506,
    "start_time": "2024-01-16T07:08:49.230Z"
   },
   {
    "duration": 27,
    "start_time": "2024-01-16T07:08:49.738Z"
   },
   {
    "duration": 451,
    "start_time": "2024-01-16T07:08:49.767Z"
   },
   {
    "duration": 62,
    "start_time": "2024-01-16T07:08:50.220Z"
   },
   {
    "duration": 12,
    "start_time": "2024-01-16T07:08:50.284Z"
   },
   {
    "duration": 37,
    "start_time": "2024-01-16T07:08:50.298Z"
   },
   {
    "duration": 61,
    "start_time": "2024-01-16T07:08:50.337Z"
   },
   {
    "duration": 232,
    "start_time": "2024-01-16T07:08:50.399Z"
   },
   {
    "duration": 168,
    "start_time": "2024-01-16T07:08:50.633Z"
   },
   {
    "duration": 118,
    "start_time": "2024-01-16T07:08:50.803Z"
   },
   {
    "duration": 62,
    "start_time": "2024-01-16T07:08:50.923Z"
   },
   {
    "duration": 14,
    "start_time": "2024-01-16T07:08:50.988Z"
   },
   {
    "duration": 34,
    "start_time": "2024-01-16T07:08:51.004Z"
   },
   {
    "duration": 34,
    "start_time": "2024-01-16T07:09:19.700Z"
   },
   {
    "duration": 24,
    "start_time": "2024-01-16T07:11:15.329Z"
   },
   {
    "duration": 29,
    "start_time": "2024-01-16T07:11:31.916Z"
   },
   {
    "duration": 12,
    "start_time": "2024-01-16T07:11:41.296Z"
   },
   {
    "duration": 28,
    "start_time": "2024-01-16T07:12:01.729Z"
   },
   {
    "duration": 14,
    "start_time": "2024-01-16T07:12:08.029Z"
   },
   {
    "duration": 41,
    "start_time": "2024-01-16T07:12:31.698Z"
   },
   {
    "duration": 92,
    "start_time": "2024-01-16T07:12:40.257Z"
   },
   {
    "duration": 15,
    "start_time": "2024-01-16T07:14:37.806Z"
   },
   {
    "duration": 7,
    "start_time": "2024-01-16T07:16:33.643Z"
   },
   {
    "duration": 89,
    "start_time": "2024-01-16T07:19:46.892Z"
   },
   {
    "duration": 19,
    "start_time": "2024-01-16T07:26:51.675Z"
   },
   {
    "duration": 15,
    "start_time": "2024-01-16T07:28:04.079Z"
   },
   {
    "duration": 8,
    "start_time": "2024-01-16T07:28:19.367Z"
   },
   {
    "duration": 22,
    "start_time": "2024-01-16T07:28:36.051Z"
   },
   {
    "duration": 143,
    "start_time": "2024-01-16T07:36:12.987Z"
   },
   {
    "duration": 1195,
    "start_time": "2024-01-16T07:37:02.801Z"
   },
   {
    "duration": 1358,
    "start_time": "2024-01-16T07:37:31.628Z"
   },
   {
    "duration": 208,
    "start_time": "2024-01-16T07:37:32.988Z"
   },
   {
    "duration": 32,
    "start_time": "2024-01-16T07:37:33.198Z"
   },
   {
    "duration": 4,
    "start_time": "2024-01-16T07:37:33.233Z"
   },
   {
    "duration": 42,
    "start_time": "2024-01-16T07:37:33.238Z"
   },
   {
    "duration": 29,
    "start_time": "2024-01-16T07:37:33.282Z"
   },
   {
    "duration": 96,
    "start_time": "2024-01-16T07:37:33.313Z"
   },
   {
    "duration": 149,
    "start_time": "2024-01-16T07:37:33.410Z"
   },
   {
    "duration": 9,
    "start_time": "2024-01-16T07:37:33.561Z"
   },
   {
    "duration": 16,
    "start_time": "2024-01-16T07:37:33.582Z"
   },
   {
    "duration": 14,
    "start_time": "2024-01-16T07:37:33.600Z"
   },
   {
    "duration": 15,
    "start_time": "2024-01-16T07:37:33.616Z"
   },
   {
    "duration": 14,
    "start_time": "2024-01-16T07:37:33.632Z"
   },
   {
    "duration": 52,
    "start_time": "2024-01-16T07:37:33.647Z"
   },
   {
    "duration": 5,
    "start_time": "2024-01-16T07:37:33.700Z"
   },
   {
    "duration": 1395,
    "start_time": "2024-01-16T07:37:33.707Z"
   },
   {
    "duration": 7,
    "start_time": "2024-01-16T07:38:14.340Z"
   },
   {
    "duration": 16,
    "start_time": "2024-01-16T07:38:16.028Z"
   },
   {
    "duration": 1435,
    "start_time": "2024-01-16T07:38:22.738Z"
   },
   {
    "duration": 211,
    "start_time": "2024-01-16T07:38:24.174Z"
   },
   {
    "duration": 39,
    "start_time": "2024-01-16T07:38:24.389Z"
   },
   {
    "duration": 8,
    "start_time": "2024-01-16T07:38:24.431Z"
   },
   {
    "duration": 24,
    "start_time": "2024-01-16T07:38:24.440Z"
   },
   {
    "duration": 65,
    "start_time": "2024-01-16T07:38:24.465Z"
   },
   {
    "duration": 130,
    "start_time": "2024-01-16T07:38:24.532Z"
   },
   {
    "duration": 171,
    "start_time": "2024-01-16T07:38:24.664Z"
   },
   {
    "duration": 9,
    "start_time": "2024-01-16T07:38:24.837Z"
   },
   {
    "duration": 1407,
    "start_time": "2024-01-16T07:38:24.848Z"
   },
   {
    "duration": 0,
    "start_time": "2024-01-16T07:38:26.256Z"
   },
   {
    "duration": 0,
    "start_time": "2024-01-16T07:38:26.258Z"
   },
   {
    "duration": 0,
    "start_time": "2024-01-16T07:38:26.259Z"
   },
   {
    "duration": 0,
    "start_time": "2024-01-16T07:38:26.260Z"
   },
   {
    "duration": 0,
    "start_time": "2024-01-16T07:38:26.261Z"
   },
   {
    "duration": 0,
    "start_time": "2024-01-16T07:38:26.262Z"
   },
   {
    "duration": 565,
    "start_time": "2024-01-16T07:38:30.965Z"
   },
   {
    "duration": 34,
    "start_time": "2024-01-16T07:39:19.593Z"
   },
   {
    "duration": 4,
    "start_time": "2024-01-16T07:39:29.497Z"
   },
   {
    "duration": 3,
    "start_time": "2024-01-16T07:39:38.200Z"
   },
   {
    "duration": 17,
    "start_time": "2024-01-16T07:39:45.857Z"
   },
   {
    "duration": 14,
    "start_time": "2024-01-16T07:39:53.657Z"
   },
   {
    "duration": 18,
    "start_time": "2024-01-16T07:40:06.649Z"
   },
   {
    "duration": 1322,
    "start_time": "2024-01-16T07:41:20.919Z"
   },
   {
    "duration": 190,
    "start_time": "2024-01-16T07:41:22.244Z"
   },
   {
    "duration": 35,
    "start_time": "2024-01-16T07:41:22.436Z"
   },
   {
    "duration": 13,
    "start_time": "2024-01-16T07:41:22.473Z"
   },
   {
    "duration": 16,
    "start_time": "2024-01-16T07:41:22.489Z"
   },
   {
    "duration": 22,
    "start_time": "2024-01-16T07:41:22.507Z"
   },
   {
    "duration": 119,
    "start_time": "2024-01-16T07:41:22.530Z"
   },
   {
    "duration": 179,
    "start_time": "2024-01-16T07:41:22.651Z"
   },
   {
    "duration": 1237,
    "start_time": "2024-01-16T07:41:22.832Z"
   },
   {
    "duration": 0,
    "start_time": "2024-01-16T07:41:24.071Z"
   },
   {
    "duration": 0,
    "start_time": "2024-01-16T07:41:24.072Z"
   },
   {
    "duration": 0,
    "start_time": "2024-01-16T07:41:24.074Z"
   },
   {
    "duration": 0,
    "start_time": "2024-01-16T07:41:24.075Z"
   },
   {
    "duration": 0,
    "start_time": "2024-01-16T07:41:24.076Z"
   },
   {
    "duration": 0,
    "start_time": "2024-01-16T07:41:24.077Z"
   },
   {
    "duration": 0,
    "start_time": "2024-01-16T07:41:24.078Z"
   },
   {
    "duration": 0,
    "start_time": "2024-01-16T07:41:24.079Z"
   },
   {
    "duration": 0,
    "start_time": "2024-01-16T07:41:24.080Z"
   },
   {
    "duration": 0,
    "start_time": "2024-01-16T07:41:24.081Z"
   },
   {
    "duration": 0,
    "start_time": "2024-01-16T07:41:24.082Z"
   },
   {
    "duration": 0,
    "start_time": "2024-01-16T07:41:24.083Z"
   },
   {
    "duration": 0,
    "start_time": "2024-01-16T07:41:24.084Z"
   },
   {
    "duration": 1384,
    "start_time": "2024-01-16T07:41:48.589Z"
   },
   {
    "duration": 1337,
    "start_time": "2024-01-16T07:41:53.981Z"
   },
   {
    "duration": 199,
    "start_time": "2024-01-16T07:41:55.320Z"
   },
   {
    "duration": 31,
    "start_time": "2024-01-16T07:41:55.521Z"
   },
   {
    "duration": 3,
    "start_time": "2024-01-16T07:41:55.554Z"
   },
   {
    "duration": 24,
    "start_time": "2024-01-16T07:41:55.559Z"
   },
   {
    "duration": 18,
    "start_time": "2024-01-16T07:41:55.585Z"
   },
   {
    "duration": 87,
    "start_time": "2024-01-16T07:41:55.604Z"
   },
   {
    "duration": 159,
    "start_time": "2024-01-16T07:41:55.693Z"
   },
   {
    "duration": 1428,
    "start_time": "2024-01-16T07:41:55.854Z"
   },
   {
    "duration": 0,
    "start_time": "2024-01-16T07:41:57.283Z"
   },
   {
    "duration": 0,
    "start_time": "2024-01-16T07:41:57.285Z"
   },
   {
    "duration": 0,
    "start_time": "2024-01-16T07:41:57.286Z"
   },
   {
    "duration": 0,
    "start_time": "2024-01-16T07:41:57.287Z"
   },
   {
    "duration": 0,
    "start_time": "2024-01-16T07:41:57.288Z"
   },
   {
    "duration": 0,
    "start_time": "2024-01-16T07:41:57.289Z"
   },
   {
    "duration": 0,
    "start_time": "2024-01-16T07:41:57.290Z"
   },
   {
    "duration": 0,
    "start_time": "2024-01-16T07:41:57.291Z"
   },
   {
    "duration": 0,
    "start_time": "2024-01-16T07:41:57.292Z"
   },
   {
    "duration": 0,
    "start_time": "2024-01-16T07:41:57.293Z"
   },
   {
    "duration": 0,
    "start_time": "2024-01-16T07:41:57.294Z"
   },
   {
    "duration": 0,
    "start_time": "2024-01-16T07:41:57.295Z"
   },
   {
    "duration": 0,
    "start_time": "2024-01-16T07:41:57.296Z"
   },
   {
    "duration": 11,
    "start_time": "2024-01-16T07:42:28.874Z"
   },
   {
    "duration": 114,
    "start_time": "2024-01-16T07:42:41.321Z"
   },
   {
    "duration": 18,
    "start_time": "2024-01-16T07:42:43.024Z"
   },
   {
    "duration": 1328,
    "start_time": "2024-01-16T07:42:49.566Z"
   },
   {
    "duration": 191,
    "start_time": "2024-01-16T07:42:50.896Z"
   },
   {
    "duration": 31,
    "start_time": "2024-01-16T07:42:51.089Z"
   },
   {
    "duration": 17,
    "start_time": "2024-01-16T07:42:51.123Z"
   },
   {
    "duration": 45,
    "start_time": "2024-01-16T07:42:51.141Z"
   },
   {
    "duration": 33,
    "start_time": "2024-01-16T07:42:51.187Z"
   },
   {
    "duration": 109,
    "start_time": "2024-01-16T07:42:51.221Z"
   },
   {
    "duration": 155,
    "start_time": "2024-01-16T07:42:51.332Z"
   },
   {
    "duration": 7,
    "start_time": "2024-01-16T07:42:51.488Z"
   },
   {
    "duration": 129,
    "start_time": "2024-01-16T07:42:51.498Z"
   },
   {
    "duration": 13,
    "start_time": "2024-01-16T07:42:51.629Z"
   },
   {
    "duration": 26,
    "start_time": "2024-01-16T07:42:51.644Z"
   },
   {
    "duration": 36,
    "start_time": "2024-01-16T07:42:51.681Z"
   },
   {
    "duration": 32,
    "start_time": "2024-01-16T07:42:51.719Z"
   },
   {
    "duration": 1281,
    "start_time": "2024-01-16T07:42:51.753Z"
   },
   {
    "duration": 0,
    "start_time": "2024-01-16T07:42:53.036Z"
   },
   {
    "duration": 0,
    "start_time": "2024-01-16T07:42:53.037Z"
   },
   {
    "duration": 0,
    "start_time": "2024-01-16T07:42:53.038Z"
   },
   {
    "duration": 0,
    "start_time": "2024-01-16T07:42:53.039Z"
   },
   {
    "duration": 0,
    "start_time": "2024-01-16T07:42:53.040Z"
   },
   {
    "duration": 0,
    "start_time": "2024-01-16T07:42:53.042Z"
   },
   {
    "duration": 0,
    "start_time": "2024-01-16T07:42:53.043Z"
   },
   {
    "duration": 5,
    "start_time": "2024-01-16T07:43:24.569Z"
   },
   {
    "duration": 4,
    "start_time": "2024-01-16T07:43:36.117Z"
   },
   {
    "duration": 1305,
    "start_time": "2024-01-16T07:43:44.499Z"
   },
   {
    "duration": 234,
    "start_time": "2024-01-16T07:43:45.806Z"
   },
   {
    "duration": 55,
    "start_time": "2024-01-16T07:43:46.042Z"
   },
   {
    "duration": 3,
    "start_time": "2024-01-16T07:43:46.100Z"
   },
   {
    "duration": 26,
    "start_time": "2024-01-16T07:43:46.105Z"
   },
   {
    "duration": 24,
    "start_time": "2024-01-16T07:43:46.133Z"
   },
   {
    "duration": 84,
    "start_time": "2024-01-16T07:43:46.159Z"
   },
   {
    "duration": 165,
    "start_time": "2024-01-16T07:43:46.245Z"
   },
   {
    "duration": 8,
    "start_time": "2024-01-16T07:43:46.412Z"
   },
   {
    "duration": 130,
    "start_time": "2024-01-16T07:43:46.423Z"
   },
   {
    "duration": 14,
    "start_time": "2024-01-16T07:43:46.555Z"
   },
   {
    "duration": 46,
    "start_time": "2024-01-16T07:43:46.581Z"
   },
   {
    "duration": 43,
    "start_time": "2024-01-16T07:43:46.628Z"
   },
   {
    "duration": 39,
    "start_time": "2024-01-16T07:43:46.672Z"
   },
   {
    "duration": 5,
    "start_time": "2024-01-16T07:43:46.712Z"
   },
   {
    "duration": 7,
    "start_time": "2024-01-16T07:43:46.718Z"
   },
   {
    "duration": 558,
    "start_time": "2024-01-16T07:43:46.727Z"
   },
   {
    "duration": 20,
    "start_time": "2024-01-16T07:43:47.287Z"
   },
   {
    "duration": 4,
    "start_time": "2024-01-16T07:43:47.309Z"
   },
   {
    "duration": 8,
    "start_time": "2024-01-16T07:43:47.315Z"
   },
   {
    "duration": 19,
    "start_time": "2024-01-16T07:43:47.325Z"
   },
   {
    "duration": 47,
    "start_time": "2024-01-16T07:43:47.346Z"
   },
   {
    "duration": 27,
    "start_time": "2024-01-16T07:43:47.395Z"
   },
   {
    "duration": 49,
    "start_time": "2024-01-16T07:47:30.197Z"
   },
   {
    "duration": 69,
    "start_time": "2024-01-16T07:48:00.398Z"
   },
   {
    "duration": 110,
    "start_time": "2024-01-16T07:50:11.113Z"
   },
   {
    "duration": 3,
    "start_time": "2024-01-16T07:51:20.365Z"
   },
   {
    "duration": 1283,
    "start_time": "2024-01-16T07:51:48.192Z"
   },
   {
    "duration": 194,
    "start_time": "2024-01-16T07:51:49.477Z"
   },
   {
    "duration": 44,
    "start_time": "2024-01-16T07:51:49.674Z"
   },
   {
    "duration": 2,
    "start_time": "2024-01-16T07:51:49.721Z"
   },
   {
    "duration": 12,
    "start_time": "2024-01-16T07:51:49.725Z"
   },
   {
    "duration": 18,
    "start_time": "2024-01-16T07:51:49.738Z"
   },
   {
    "duration": 94,
    "start_time": "2024-01-16T07:51:49.758Z"
   },
   {
    "duration": 151,
    "start_time": "2024-01-16T07:51:49.854Z"
   },
   {
    "duration": 7,
    "start_time": "2024-01-16T07:51:50.007Z"
   },
   {
    "duration": 136,
    "start_time": "2024-01-16T07:51:50.015Z"
   },
   {
    "duration": 13,
    "start_time": "2024-01-16T07:51:50.153Z"
   },
   {
    "duration": 45,
    "start_time": "2024-01-16T07:51:50.168Z"
   },
   {
    "duration": 7,
    "start_time": "2024-01-16T07:51:50.216Z"
   },
   {
    "duration": 24,
    "start_time": "2024-01-16T07:51:50.225Z"
   },
   {
    "duration": 5,
    "start_time": "2024-01-16T07:51:50.251Z"
   },
   {
    "duration": 5,
    "start_time": "2024-01-16T07:51:50.282Z"
   },
   {
    "duration": 538,
    "start_time": "2024-01-16T07:51:50.289Z"
   },
   {
    "duration": 19,
    "start_time": "2024-01-16T07:51:50.829Z"
   },
   {
    "duration": 4,
    "start_time": "2024-01-16T07:51:50.849Z"
   },
   {
    "duration": 5,
    "start_time": "2024-01-16T07:51:50.854Z"
   },
   {
    "duration": 33,
    "start_time": "2024-01-16T07:51:50.860Z"
   },
   {
    "duration": 14,
    "start_time": "2024-01-16T07:51:50.894Z"
   },
   {
    "duration": 17,
    "start_time": "2024-01-16T07:51:50.909Z"
   },
   {
    "duration": 74,
    "start_time": "2024-01-16T07:51:50.927Z"
   },
   {
    "duration": 69,
    "start_time": "2024-01-16T07:51:51.002Z"
   },
   {
    "duration": 110,
    "start_time": "2024-01-16T07:51:51.084Z"
   },
   {
    "duration": 4,
    "start_time": "2024-01-16T07:51:51.195Z"
   },
   {
    "duration": 41,
    "start_time": "2024-01-16T07:55:00.417Z"
   },
   {
    "duration": 29,
    "start_time": "2024-01-16T07:55:41.897Z"
   },
   {
    "duration": 40,
    "start_time": "2024-01-16T07:56:05.163Z"
   },
   {
    "duration": 31,
    "start_time": "2024-01-16T07:56:44.014Z"
   },
   {
    "duration": 140,
    "start_time": "2024-01-16T07:57:17.182Z"
   },
   {
    "duration": 1255,
    "start_time": "2024-01-16T07:57:52.077Z"
   },
   {
    "duration": 201,
    "start_time": "2024-01-16T07:57:53.334Z"
   },
   {
    "duration": 32,
    "start_time": "2024-01-16T07:57:53.536Z"
   },
   {
    "duration": 23,
    "start_time": "2024-01-16T07:57:53.571Z"
   },
   {
    "duration": 13,
    "start_time": "2024-01-16T07:57:53.595Z"
   },
   {
    "duration": 40,
    "start_time": "2024-01-16T07:57:53.609Z"
   },
   {
    "duration": 79,
    "start_time": "2024-01-16T07:57:53.650Z"
   },
   {
    "duration": 143,
    "start_time": "2024-01-16T07:57:53.731Z"
   },
   {
    "duration": 13,
    "start_time": "2024-01-16T07:57:53.881Z"
   },
   {
    "duration": 131,
    "start_time": "2024-01-16T07:57:53.900Z"
   },
   {
    "duration": 16,
    "start_time": "2024-01-16T07:57:54.032Z"
   },
   {
    "duration": 15,
    "start_time": "2024-01-16T07:57:54.050Z"
   },
   {
    "duration": 12,
    "start_time": "2024-01-16T07:57:54.088Z"
   },
   {
    "duration": 28,
    "start_time": "2024-01-16T07:57:54.102Z"
   },
   {
    "duration": 4,
    "start_time": "2024-01-16T07:57:54.132Z"
   },
   {
    "duration": 4,
    "start_time": "2024-01-16T07:57:54.138Z"
   },
   {
    "duration": 496,
    "start_time": "2024-01-16T07:57:54.144Z"
   },
   {
    "duration": 21,
    "start_time": "2024-01-16T07:57:54.642Z"
   },
   {
    "duration": 22,
    "start_time": "2024-01-16T07:57:54.665Z"
   },
   {
    "duration": 13,
    "start_time": "2024-01-16T07:57:54.688Z"
   },
   {
    "duration": 13,
    "start_time": "2024-01-16T07:57:54.703Z"
   },
   {
    "duration": 14,
    "start_time": "2024-01-16T07:57:54.718Z"
   },
   {
    "duration": 19,
    "start_time": "2024-01-16T07:57:54.733Z"
   },
   {
    "duration": 68,
    "start_time": "2024-01-16T07:57:54.753Z"
   },
   {
    "duration": 90,
    "start_time": "2024-01-16T07:57:54.823Z"
   },
   {
    "duration": 104,
    "start_time": "2024-01-16T07:57:54.914Z"
   },
   {
    "duration": 4,
    "start_time": "2024-01-16T07:57:55.019Z"
   },
   {
    "duration": 40,
    "start_time": "2024-01-16T07:57:55.026Z"
   },
   {
    "duration": 36,
    "start_time": "2024-01-16T07:57:55.082Z"
   },
   {
    "duration": 30,
    "start_time": "2024-01-16T07:57:55.120Z"
   },
   {
    "duration": 50,
    "start_time": "2024-01-16T07:57:55.152Z"
   },
   {
    "duration": 27,
    "start_time": "2024-01-16T07:57:55.204Z"
   },
   {
    "duration": 6,
    "start_time": "2024-01-16T07:58:55.738Z"
   },
   {
    "duration": 125,
    "start_time": "2024-01-16T07:59:07.354Z"
   },
   {
    "duration": 91,
    "start_time": "2024-01-16T08:00:54.150Z"
   },
   {
    "duration": 98,
    "start_time": "2024-01-16T08:01:38.562Z"
   },
   {
    "duration": 131,
    "start_time": "2024-01-16T08:02:57.061Z"
   },
   {
    "duration": 1124,
    "start_time": "2024-01-16T11:05:22.167Z"
   },
   {
    "duration": 174,
    "start_time": "2024-01-16T11:05:23.293Z"
   },
   {
    "duration": 29,
    "start_time": "2024-01-16T11:05:23.468Z"
   },
   {
    "duration": 3,
    "start_time": "2024-01-16T11:05:23.499Z"
   },
   {
    "duration": 13,
    "start_time": "2024-01-16T11:05:23.503Z"
   },
   {
    "duration": 38,
    "start_time": "2024-01-16T11:05:23.517Z"
   },
   {
    "duration": 65,
    "start_time": "2024-01-16T11:05:23.557Z"
   },
   {
    "duration": 144,
    "start_time": "2024-01-16T11:05:23.623Z"
   },
   {
    "duration": 8,
    "start_time": "2024-01-16T11:05:23.768Z"
   },
   {
    "duration": 106,
    "start_time": "2024-01-16T11:05:23.778Z"
   },
   {
    "duration": 13,
    "start_time": "2024-01-16T11:05:23.886Z"
   },
   {
    "duration": 15,
    "start_time": "2024-01-16T11:05:23.900Z"
   },
   {
    "duration": 14,
    "start_time": "2024-01-16T11:05:23.916Z"
   },
   {
    "duration": 35,
    "start_time": "2024-01-16T11:05:23.931Z"
   },
   {
    "duration": 4,
    "start_time": "2024-01-16T11:05:23.967Z"
   },
   {
    "duration": 6,
    "start_time": "2024-01-16T11:05:23.973Z"
   },
   {
    "duration": 432,
    "start_time": "2024-01-16T11:05:23.981Z"
   },
   {
    "duration": 21,
    "start_time": "2024-01-16T11:05:24.415Z"
   },
   {
    "duration": 16,
    "start_time": "2024-01-16T11:05:24.437Z"
   },
   {
    "duration": 16,
    "start_time": "2024-01-16T11:05:24.455Z"
   },
   {
    "duration": 30,
    "start_time": "2024-01-16T11:05:24.473Z"
   },
   {
    "duration": 12,
    "start_time": "2024-01-16T11:05:24.505Z"
   },
   {
    "duration": 20,
    "start_time": "2024-01-16T11:05:24.519Z"
   },
   {
    "duration": 41,
    "start_time": "2024-01-16T11:05:24.541Z"
   },
   {
    "duration": 70,
    "start_time": "2024-01-16T11:05:24.584Z"
   },
   {
    "duration": 98,
    "start_time": "2024-01-16T11:05:24.656Z"
   },
   {
    "duration": 3,
    "start_time": "2024-01-16T11:05:24.756Z"
   },
   {
    "duration": 80,
    "start_time": "2024-01-16T11:05:24.763Z"
   },
   {
    "duration": 25,
    "start_time": "2024-01-16T11:05:24.845Z"
   },
   {
    "duration": 29,
    "start_time": "2024-01-16T11:05:24.872Z"
   },
   {
    "duration": 25,
    "start_time": "2024-01-16T11:05:24.902Z"
   },
   {
    "duration": 45,
    "start_time": "2024-01-16T11:05:24.929Z"
   },
   {
    "duration": 7,
    "start_time": "2024-01-16T11:05:24.976Z"
   },
   {
    "duration": 113,
    "start_time": "2024-01-16T11:05:24.985Z"
   },
   {
    "duration": 97,
    "start_time": "2024-01-16T11:05:25.100Z"
   },
   {
    "duration": 96,
    "start_time": "2024-01-16T11:05:25.198Z"
   },
   {
    "duration": 138,
    "start_time": "2024-01-16T11:05:25.295Z"
   },
   {
    "duration": 1096,
    "start_time": "2024-01-16T11:06:10.351Z"
   },
   {
    "duration": 194,
    "start_time": "2024-01-16T11:06:11.451Z"
   },
   {
    "duration": 27,
    "start_time": "2024-01-16T11:06:11.647Z"
   },
   {
    "duration": 2,
    "start_time": "2024-01-16T11:06:11.676Z"
   },
   {
    "duration": 12,
    "start_time": "2024-01-16T11:06:11.680Z"
   },
   {
    "duration": 38,
    "start_time": "2024-01-16T11:06:11.693Z"
   },
   {
    "duration": 63,
    "start_time": "2024-01-16T11:06:11.732Z"
   },
   {
    "duration": 122,
    "start_time": "2024-01-16T11:06:11.796Z"
   },
   {
    "duration": 7,
    "start_time": "2024-01-16T11:06:11.920Z"
   },
   {
    "duration": 110,
    "start_time": "2024-01-16T11:06:11.928Z"
   },
   {
    "duration": 25,
    "start_time": "2024-01-16T11:06:12.040Z"
   },
   {
    "duration": 19,
    "start_time": "2024-01-16T11:06:12.067Z"
   },
   {
    "duration": 11,
    "start_time": "2024-01-16T11:06:12.088Z"
   },
   {
    "duration": 19,
    "start_time": "2024-01-16T11:06:12.101Z"
   },
   {
    "duration": 4,
    "start_time": "2024-01-16T11:06:12.121Z"
   },
   {
    "duration": 9,
    "start_time": "2024-01-16T11:06:12.126Z"
   },
   {
    "duration": 404,
    "start_time": "2024-01-16T11:06:12.136Z"
   },
   {
    "duration": 26,
    "start_time": "2024-01-16T11:06:12.542Z"
   },
   {
    "duration": 3,
    "start_time": "2024-01-16T11:06:12.570Z"
   },
   {
    "duration": 32,
    "start_time": "2024-01-16T11:06:12.574Z"
   },
   {
    "duration": 38,
    "start_time": "2024-01-16T11:06:12.608Z"
   },
   {
    "duration": 21,
    "start_time": "2024-01-16T11:06:12.648Z"
   },
   {
    "duration": 30,
    "start_time": "2024-01-16T11:06:12.670Z"
   },
   {
    "duration": 39,
    "start_time": "2024-01-16T11:06:12.702Z"
   },
   {
    "duration": 59,
    "start_time": "2024-01-16T11:06:12.742Z"
   },
   {
    "duration": 86,
    "start_time": "2024-01-16T11:06:12.803Z"
   },
   {
    "duration": 3,
    "start_time": "2024-01-16T11:06:12.890Z"
   },
   {
    "duration": 46,
    "start_time": "2024-01-16T11:06:12.895Z"
   },
   {
    "duration": 32,
    "start_time": "2024-01-16T11:06:12.943Z"
   },
   {
    "duration": 29,
    "start_time": "2024-01-16T11:06:12.976Z"
   },
   {
    "duration": 63,
    "start_time": "2024-01-16T11:06:13.007Z"
   },
   {
    "duration": 25,
    "start_time": "2024-01-16T11:06:13.072Z"
   },
   {
    "duration": 6,
    "start_time": "2024-01-16T11:06:13.099Z"
   },
   {
    "duration": 237,
    "start_time": "2024-01-16T11:06:13.106Z"
   },
   {
    "duration": 83,
    "start_time": "2024-01-16T11:06:13.345Z"
   },
   {
    "duration": 94,
    "start_time": "2024-01-16T11:06:13.430Z"
   },
   {
    "duration": 208,
    "start_time": "2024-01-16T11:06:13.526Z"
   },
   {
    "duration": 1086,
    "start_time": "2024-01-16T11:22:05.447Z"
   },
   {
    "duration": 164,
    "start_time": "2024-01-16T11:22:06.535Z"
   },
   {
    "duration": 26,
    "start_time": "2024-01-16T11:22:06.701Z"
   },
   {
    "duration": 3,
    "start_time": "2024-01-16T11:22:06.728Z"
   },
   {
    "duration": 33,
    "start_time": "2024-01-16T11:22:06.732Z"
   },
   {
    "duration": 29,
    "start_time": "2024-01-16T11:22:06.767Z"
   },
   {
    "duration": 76,
    "start_time": "2024-01-16T11:22:06.797Z"
   },
   {
    "duration": 135,
    "start_time": "2024-01-16T11:22:06.874Z"
   },
   {
    "duration": 6,
    "start_time": "2024-01-16T11:22:07.011Z"
   },
   {
    "duration": 105,
    "start_time": "2024-01-16T11:22:07.019Z"
   },
   {
    "duration": 14,
    "start_time": "2024-01-16T11:22:07.125Z"
   },
   {
    "duration": 42,
    "start_time": "2024-01-16T11:22:07.141Z"
   },
   {
    "duration": 30,
    "start_time": "2024-01-16T11:22:07.185Z"
   },
   {
    "duration": 29,
    "start_time": "2024-01-16T11:22:07.217Z"
   },
   {
    "duration": 4,
    "start_time": "2024-01-16T11:22:07.247Z"
   },
   {
    "duration": 29,
    "start_time": "2024-01-16T11:22:07.252Z"
   },
   {
    "duration": 421,
    "start_time": "2024-01-16T11:22:07.283Z"
   },
   {
    "duration": 18,
    "start_time": "2024-01-16T11:22:07.705Z"
   },
   {
    "duration": 4,
    "start_time": "2024-01-16T11:22:07.725Z"
   },
   {
    "duration": 22,
    "start_time": "2024-01-16T11:22:07.730Z"
   },
   {
    "duration": 12,
    "start_time": "2024-01-16T11:22:07.754Z"
   },
   {
    "duration": 11,
    "start_time": "2024-01-16T11:22:07.767Z"
   },
   {
    "duration": 19,
    "start_time": "2024-01-16T11:22:07.779Z"
   },
   {
    "duration": 62,
    "start_time": "2024-01-16T11:22:07.799Z"
   },
   {
    "duration": 62,
    "start_time": "2024-01-16T11:22:07.863Z"
   },
   {
    "duration": 90,
    "start_time": "2024-01-16T11:22:07.926Z"
   },
   {
    "duration": 3,
    "start_time": "2024-01-16T11:22:08.017Z"
   },
   {
    "duration": 47,
    "start_time": "2024-01-16T11:22:08.023Z"
   },
   {
    "duration": 22,
    "start_time": "2024-01-16T11:22:08.072Z"
   },
   {
    "duration": 25,
    "start_time": "2024-01-16T11:22:08.096Z"
   },
   {
    "duration": 44,
    "start_time": "2024-01-16T11:22:08.122Z"
   },
   {
    "duration": 23,
    "start_time": "2024-01-16T11:22:08.168Z"
   },
   {
    "duration": 5,
    "start_time": "2024-01-16T11:22:08.193Z"
   },
   {
    "duration": 115,
    "start_time": "2024-01-16T11:22:08.200Z"
   },
   {
    "duration": 80,
    "start_time": "2024-01-16T11:22:08.317Z"
   },
   {
    "duration": 84,
    "start_time": "2024-01-16T11:22:08.399Z"
   },
   {
    "duration": 120,
    "start_time": "2024-01-16T11:22:08.485Z"
   },
   {
    "duration": 1091,
    "start_time": "2024-01-16T11:49:30.501Z"
   },
   {
    "duration": 171,
    "start_time": "2024-01-16T11:49:31.594Z"
   },
   {
    "duration": 28,
    "start_time": "2024-01-16T11:49:31.766Z"
   },
   {
    "duration": 3,
    "start_time": "2024-01-16T11:49:31.796Z"
   },
   {
    "duration": 11,
    "start_time": "2024-01-16T11:49:31.800Z"
   },
   {
    "duration": 33,
    "start_time": "2024-01-16T11:49:31.812Z"
   },
   {
    "duration": 63,
    "start_time": "2024-01-16T11:49:31.846Z"
   },
   {
    "duration": 127,
    "start_time": "2024-01-16T11:49:31.910Z"
   },
   {
    "duration": 13,
    "start_time": "2024-01-16T11:49:32.039Z"
   },
   {
    "duration": 117,
    "start_time": "2024-01-16T11:49:32.054Z"
   },
   {
    "duration": 13,
    "start_time": "2024-01-16T11:49:32.172Z"
   },
   {
    "duration": 31,
    "start_time": "2024-01-16T11:49:32.186Z"
   },
   {
    "duration": 15,
    "start_time": "2024-01-16T11:49:32.218Z"
   },
   {
    "duration": 62,
    "start_time": "2024-01-16T11:49:32.234Z"
   },
   {
    "duration": 39,
    "start_time": "2024-01-16T11:49:32.298Z"
   },
   {
    "duration": 22,
    "start_time": "2024-01-16T11:49:32.338Z"
   },
   {
    "duration": 391,
    "start_time": "2024-01-16T11:49:32.362Z"
   },
   {
    "duration": 19,
    "start_time": "2024-01-16T11:49:32.755Z"
   },
   {
    "duration": 18,
    "start_time": "2024-01-16T11:49:32.775Z"
   },
   {
    "duration": 21,
    "start_time": "2024-01-16T11:49:32.794Z"
   },
   {
    "duration": 46,
    "start_time": "2024-01-16T11:49:32.816Z"
   },
   {
    "duration": 75,
    "start_time": "2024-01-16T11:49:32.863Z"
   },
   {
    "duration": 17,
    "start_time": "2024-01-16T11:49:32.939Z"
   },
   {
    "duration": 76,
    "start_time": "2024-01-16T11:49:32.957Z"
   },
   {
    "duration": 95,
    "start_time": "2024-01-16T11:49:33.035Z"
   },
   {
    "duration": 79,
    "start_time": "2024-01-16T11:49:33.131Z"
   },
   {
    "duration": 3,
    "start_time": "2024-01-16T11:49:33.211Z"
   },
   {
    "duration": 39,
    "start_time": "2024-01-16T11:49:33.217Z"
   },
   {
    "duration": 22,
    "start_time": "2024-01-16T11:49:33.258Z"
   },
   {
    "duration": 29,
    "start_time": "2024-01-16T11:49:33.282Z"
   },
   {
    "duration": 46,
    "start_time": "2024-01-16T11:49:33.312Z"
   },
   {
    "duration": 23,
    "start_time": "2024-01-16T11:49:33.360Z"
   },
   {
    "duration": 6,
    "start_time": "2024-01-16T11:49:33.384Z"
   },
   {
    "duration": 112,
    "start_time": "2024-01-16T11:49:33.392Z"
   },
   {
    "duration": 83,
    "start_time": "2024-01-16T11:49:33.506Z"
   },
   {
    "duration": 85,
    "start_time": "2024-01-16T11:49:33.591Z"
   },
   {
    "duration": 118,
    "start_time": "2024-01-16T11:49:33.677Z"
   },
   {
    "duration": 50,
    "start_time": "2024-01-16T11:55:05.361Z"
   },
   {
    "duration": 1408,
    "start_time": "2024-01-16T11:55:13.013Z"
   },
   {
    "duration": 696,
    "start_time": "2024-01-16T11:55:14.423Z"
   },
   {
    "duration": 30,
    "start_time": "2024-01-16T11:55:15.121Z"
   },
   {
    "duration": 4,
    "start_time": "2024-01-16T11:55:15.153Z"
   },
   {
    "duration": 37,
    "start_time": "2024-01-16T11:55:15.158Z"
   },
   {
    "duration": 38,
    "start_time": "2024-01-16T11:55:15.196Z"
   },
   {
    "duration": 67,
    "start_time": "2024-01-16T11:55:15.235Z"
   },
   {
    "duration": 133,
    "start_time": "2024-01-16T11:55:15.304Z"
   },
   {
    "duration": 8,
    "start_time": "2024-01-16T11:55:15.438Z"
   },
   {
    "duration": 124,
    "start_time": "2024-01-16T11:55:15.449Z"
   },
   {
    "duration": 13,
    "start_time": "2024-01-16T11:55:15.574Z"
   },
   {
    "duration": 30,
    "start_time": "2024-01-16T11:55:15.589Z"
   },
   {
    "duration": 14,
    "start_time": "2024-01-16T11:55:15.621Z"
   },
   {
    "duration": 9,
    "start_time": "2024-01-16T11:55:15.637Z"
   },
   {
    "duration": 46,
    "start_time": "2024-01-16T11:55:15.647Z"
   },
   {
    "duration": 4,
    "start_time": "2024-01-16T11:55:15.694Z"
   },
   {
    "duration": 28,
    "start_time": "2024-01-16T11:55:15.699Z"
   },
   {
    "duration": 437,
    "start_time": "2024-01-16T11:55:15.728Z"
   },
   {
    "duration": 18,
    "start_time": "2024-01-16T11:55:16.167Z"
   },
   {
    "duration": 3,
    "start_time": "2024-01-16T11:55:16.187Z"
   },
   {
    "duration": 11,
    "start_time": "2024-01-16T11:55:16.191Z"
   },
   {
    "duration": 16,
    "start_time": "2024-01-16T11:55:16.203Z"
   },
   {
    "duration": 11,
    "start_time": "2024-01-16T11:55:16.221Z"
   },
   {
    "duration": 42,
    "start_time": "2024-01-16T11:55:16.234Z"
   },
   {
    "duration": 46,
    "start_time": "2024-01-16T11:55:16.277Z"
   },
   {
    "duration": 83,
    "start_time": "2024-01-16T11:55:16.325Z"
   },
   {
    "duration": 98,
    "start_time": "2024-01-16T11:55:16.409Z"
   },
   {
    "duration": 4,
    "start_time": "2024-01-16T11:55:16.510Z"
   },
   {
    "duration": 43,
    "start_time": "2024-01-16T11:55:16.515Z"
   },
   {
    "duration": 33,
    "start_time": "2024-01-16T11:55:16.559Z"
   },
   {
    "duration": 28,
    "start_time": "2024-01-16T11:55:16.594Z"
   },
   {
    "duration": 28,
    "start_time": "2024-01-16T11:55:16.623Z"
   },
   {
    "duration": 29,
    "start_time": "2024-01-16T11:55:16.674Z"
   },
   {
    "duration": 7,
    "start_time": "2024-01-16T11:55:16.705Z"
   },
   {
    "duration": 131,
    "start_time": "2024-01-16T11:55:16.714Z"
   },
   {
    "duration": 98,
    "start_time": "2024-01-16T11:55:16.847Z"
   },
   {
    "duration": 133,
    "start_time": "2024-01-16T11:55:16.946Z"
   },
   {
    "duration": 150,
    "start_time": "2024-01-16T11:55:17.081Z"
   },
   {
    "duration": 25,
    "start_time": "2024-01-16T11:55:57.420Z"
   },
   {
    "duration": 15,
    "start_time": "2024-01-16T11:56:17.329Z"
   },
   {
    "duration": 15,
    "start_time": "2024-01-16T11:56:40.466Z"
   },
   {
    "duration": 103,
    "start_time": "2024-01-16T11:59:23.609Z"
   },
   {
    "duration": 16,
    "start_time": "2024-01-16T12:00:03.497Z"
   },
   {
    "duration": 8,
    "start_time": "2024-01-16T12:00:17.442Z"
   },
   {
    "duration": 9,
    "start_time": "2024-01-16T12:00:25.658Z"
   },
   {
    "duration": 16,
    "start_time": "2024-01-16T12:00:37.686Z"
   },
   {
    "duration": 2,
    "start_time": "2024-01-16T12:00:40.790Z"
   },
   {
    "duration": 4,
    "start_time": "2024-01-16T12:00:44.573Z"
   },
   {
    "duration": 3,
    "start_time": "2024-01-16T12:01:02.886Z"
   },
   {
    "duration": 1231,
    "start_time": "2024-01-16T12:01:12.386Z"
   },
   {
    "duration": 186,
    "start_time": "2024-01-16T12:01:13.619Z"
   },
   {
    "duration": 31,
    "start_time": "2024-01-16T12:01:13.806Z"
   },
   {
    "duration": 3,
    "start_time": "2024-01-16T12:01:13.839Z"
   },
   {
    "duration": 18,
    "start_time": "2024-01-16T12:01:13.843Z"
   },
   {
    "duration": 27,
    "start_time": "2024-01-16T12:01:13.862Z"
   },
   {
    "duration": 74,
    "start_time": "2024-01-16T12:01:13.891Z"
   },
   {
    "duration": 144,
    "start_time": "2024-01-16T12:01:13.974Z"
   },
   {
    "duration": 8,
    "start_time": "2024-01-16T12:01:14.119Z"
   },
   {
    "duration": 122,
    "start_time": "2024-01-16T12:01:14.130Z"
   },
   {
    "duration": 21,
    "start_time": "2024-01-16T12:01:14.254Z"
   },
   {
    "duration": 25,
    "start_time": "2024-01-16T12:01:14.277Z"
   },
   {
    "duration": 22,
    "start_time": "2024-01-16T12:01:14.305Z"
   },
   {
    "duration": 47,
    "start_time": "2024-01-16T12:01:14.330Z"
   },
   {
    "duration": 19,
    "start_time": "2024-01-16T12:01:14.378Z"
   },
   {
    "duration": 15,
    "start_time": "2024-01-16T12:01:14.399Z"
   },
   {
    "duration": 15,
    "start_time": "2024-01-16T12:01:14.416Z"
   },
   {
    "duration": 3,
    "start_time": "2024-01-16T12:01:14.432Z"
   },
   {
    "duration": 6,
    "start_time": "2024-01-16T12:01:14.436Z"
   },
   {
    "duration": 30,
    "start_time": "2024-01-16T12:01:14.444Z"
   },
   {
    "duration": 4,
    "start_time": "2024-01-16T12:01:14.475Z"
   },
   {
    "duration": 436,
    "start_time": "2024-01-16T12:01:14.480Z"
   },
   {
    "duration": 13,
    "start_time": "2024-01-16T12:01:14.917Z"
   },
   {
    "duration": 4,
    "start_time": "2024-01-16T12:01:14.932Z"
   },
   {
    "duration": 9,
    "start_time": "2024-01-16T12:01:14.937Z"
   },
   {
    "duration": 33,
    "start_time": "2024-01-16T12:01:14.948Z"
   },
   {
    "duration": 12,
    "start_time": "2024-01-16T12:01:14.982Z"
   },
   {
    "duration": 39,
    "start_time": "2024-01-16T12:01:14.997Z"
   },
   {
    "duration": 54,
    "start_time": "2024-01-16T12:01:15.038Z"
   },
   {
    "duration": 67,
    "start_time": "2024-01-16T12:01:15.094Z"
   },
   {
    "duration": 99,
    "start_time": "2024-01-16T12:01:15.163Z"
   },
   {
    "duration": 4,
    "start_time": "2024-01-16T12:01:15.273Z"
   },
   {
    "duration": 62,
    "start_time": "2024-01-16T12:01:15.278Z"
   },
   {
    "duration": 21,
    "start_time": "2024-01-16T12:01:15.341Z"
   },
   {
    "duration": 31,
    "start_time": "2024-01-16T12:01:15.363Z"
   },
   {
    "duration": 27,
    "start_time": "2024-01-16T12:01:15.396Z"
   },
   {
    "duration": 27,
    "start_time": "2024-01-16T12:01:15.425Z"
   },
   {
    "duration": 24,
    "start_time": "2024-01-16T12:01:15.453Z"
   },
   {
    "duration": 115,
    "start_time": "2024-01-16T12:01:15.479Z"
   },
   {
    "duration": 102,
    "start_time": "2024-01-16T12:01:15.596Z"
   },
   {
    "duration": 101,
    "start_time": "2024-01-16T12:01:15.700Z"
   },
   {
    "duration": 136,
    "start_time": "2024-01-16T12:01:15.803Z"
   },
   {
    "duration": 74,
    "start_time": "2024-01-16T12:02:36.760Z"
   },
   {
    "duration": 1099,
    "start_time": "2024-01-17T04:39:38.130Z"
   },
   {
    "duration": 177,
    "start_time": "2024-01-17T04:39:39.231Z"
   },
   {
    "duration": 25,
    "start_time": "2024-01-17T04:39:39.410Z"
   },
   {
    "duration": 2,
    "start_time": "2024-01-17T04:39:39.437Z"
   },
   {
    "duration": 5,
    "start_time": "2024-01-17T04:39:39.452Z"
   },
   {
    "duration": 15,
    "start_time": "2024-01-17T04:39:39.459Z"
   },
   {
    "duration": 61,
    "start_time": "2024-01-17T04:39:39.475Z"
   },
   {
    "duration": 129,
    "start_time": "2024-01-17T04:39:39.537Z"
   },
   {
    "duration": 6,
    "start_time": "2024-01-17T04:39:39.667Z"
   },
   {
    "duration": 102,
    "start_time": "2024-01-17T04:39:39.674Z"
   },
   {
    "duration": 11,
    "start_time": "2024-01-17T04:39:39.778Z"
   },
   {
    "duration": 22,
    "start_time": "2024-01-17T04:39:39.790Z"
   },
   {
    "duration": 16,
    "start_time": "2024-01-17T04:39:39.813Z"
   },
   {
    "duration": 16,
    "start_time": "2024-01-17T04:39:39.851Z"
   },
   {
    "duration": 13,
    "start_time": "2024-01-17T04:39:39.869Z"
   },
   {
    "duration": 12,
    "start_time": "2024-01-17T04:39:39.883Z"
   },
   {
    "duration": 13,
    "start_time": "2024-01-17T04:39:39.896Z"
   },
   {
    "duration": 6,
    "start_time": "2024-01-17T04:39:39.910Z"
   },
   {
    "duration": 7,
    "start_time": "2024-01-17T04:39:39.917Z"
   },
   {
    "duration": 27,
    "start_time": "2024-01-17T04:39:39.925Z"
   },
   {
    "duration": 4,
    "start_time": "2024-01-17T04:39:39.953Z"
   },
   {
    "duration": 374,
    "start_time": "2024-01-17T04:39:39.959Z"
   },
   {
    "duration": 21,
    "start_time": "2024-01-17T04:39:40.335Z"
   },
   {
    "duration": 4,
    "start_time": "2024-01-17T04:39:40.357Z"
   },
   {
    "duration": 3,
    "start_time": "2024-01-17T04:39:40.363Z"
   },
   {
    "duration": 14,
    "start_time": "2024-01-17T04:39:40.368Z"
   },
   {
    "duration": 11,
    "start_time": "2024-01-17T04:39:40.383Z"
   },
   {
    "duration": 17,
    "start_time": "2024-01-17T04:39:40.395Z"
   },
   {
    "duration": 75,
    "start_time": "2024-01-17T04:39:40.413Z"
   },
   {
    "duration": 70,
    "start_time": "2024-01-17T04:39:40.490Z"
   },
   {
    "duration": 80,
    "start_time": "2024-01-17T04:39:40.561Z"
   },
   {
    "duration": 3,
    "start_time": "2024-01-17T04:39:40.652Z"
   },
   {
    "duration": 68,
    "start_time": "2024-01-17T04:39:40.656Z"
   },
   {
    "duration": 19,
    "start_time": "2024-01-17T04:39:40.725Z"
   },
   {
    "duration": 26,
    "start_time": "2024-01-17T04:39:40.745Z"
   },
   {
    "duration": 23,
    "start_time": "2024-01-17T04:39:40.772Z"
   },
   {
    "duration": 22,
    "start_time": "2024-01-17T04:39:40.796Z"
   },
   {
    "duration": 12,
    "start_time": "2024-01-17T04:39:40.819Z"
   },
   {
    "duration": 97,
    "start_time": "2024-01-17T04:39:40.832Z"
   },
   {
    "duration": 76,
    "start_time": "2024-01-17T04:39:40.930Z"
   },
   {
    "duration": 79,
    "start_time": "2024-01-17T04:39:41.009Z"
   },
   {
    "duration": 116,
    "start_time": "2024-01-17T04:39:41.089Z"
   },
   {
    "duration": 1064,
    "start_time": "2024-01-17T04:56:06.063Z"
   },
   {
    "duration": 174,
    "start_time": "2024-01-17T04:56:07.129Z"
   },
   {
    "duration": 30,
    "start_time": "2024-01-17T04:56:07.305Z"
   },
   {
    "duration": 3,
    "start_time": "2024-01-17T04:56:07.337Z"
   },
   {
    "duration": 7,
    "start_time": "2024-01-17T04:56:07.353Z"
   },
   {
    "duration": 18,
    "start_time": "2024-01-17T04:56:07.362Z"
   },
   {
    "duration": 77,
    "start_time": "2024-01-17T04:56:07.381Z"
   },
   {
    "duration": 124,
    "start_time": "2024-01-17T04:56:07.459Z"
   },
   {
    "duration": 7,
    "start_time": "2024-01-17T04:56:07.585Z"
   },
   {
    "duration": 124,
    "start_time": "2024-01-17T04:56:07.594Z"
   },
   {
    "duration": 13,
    "start_time": "2024-01-17T04:56:07.719Z"
   },
   {
    "duration": 34,
    "start_time": "2024-01-17T04:56:07.734Z"
   },
   {
    "duration": 13,
    "start_time": "2024-01-17T04:56:07.770Z"
   },
   {
    "duration": 12,
    "start_time": "2024-01-17T04:56:07.786Z"
   },
   {
    "duration": 13,
    "start_time": "2024-01-17T04:56:07.799Z"
   },
   {
    "duration": 13,
    "start_time": "2024-01-17T04:56:07.813Z"
   },
   {
    "duration": 8,
    "start_time": "2024-01-17T04:56:07.852Z"
   },
   {
    "duration": 3,
    "start_time": "2024-01-17T04:56:07.861Z"
   },
   {
    "duration": 5,
    "start_time": "2024-01-17T04:56:07.865Z"
   },
   {
    "duration": 12,
    "start_time": "2024-01-17T04:56:07.871Z"
   },
   {
    "duration": 3,
    "start_time": "2024-01-17T04:56:07.885Z"
   },
   {
    "duration": 400,
    "start_time": "2024-01-17T04:56:07.889Z"
   },
   {
    "duration": 13,
    "start_time": "2024-01-17T04:56:08.290Z"
   },
   {
    "duration": 3,
    "start_time": "2024-01-17T04:56:08.305Z"
   },
   {
    "duration": 6,
    "start_time": "2024-01-17T04:56:08.310Z"
   },
   {
    "duration": 14,
    "start_time": "2024-01-17T04:56:08.317Z"
   },
   {
    "duration": 29,
    "start_time": "2024-01-17T04:56:08.332Z"
   },
   {
    "duration": 15,
    "start_time": "2024-01-17T04:56:08.363Z"
   },
   {
    "duration": 39,
    "start_time": "2024-01-17T04:56:08.379Z"
   },
   {
    "duration": 78,
    "start_time": "2024-01-17T04:56:08.419Z"
   },
   {
    "duration": 90,
    "start_time": "2024-01-17T04:56:08.499Z"
   },
   {
    "duration": 3,
    "start_time": "2024-01-17T04:56:08.590Z"
   },
   {
    "duration": 35,
    "start_time": "2024-01-17T04:56:08.594Z"
   },
   {
    "duration": 33,
    "start_time": "2024-01-17T04:56:08.631Z"
   },
   {
    "duration": 24,
    "start_time": "2024-01-17T04:56:08.665Z"
   },
   {
    "duration": 22,
    "start_time": "2024-01-17T04:56:08.690Z"
   },
   {
    "duration": 45,
    "start_time": "2024-01-17T04:56:08.713Z"
   },
   {
    "duration": 5,
    "start_time": "2024-01-17T04:56:08.760Z"
   },
   {
    "duration": 105,
    "start_time": "2024-01-17T04:56:08.767Z"
   },
   {
    "duration": 91,
    "start_time": "2024-01-17T04:56:08.873Z"
   },
   {
    "duration": 87,
    "start_time": "2024-01-17T04:56:08.967Z"
   },
   {
    "duration": 121,
    "start_time": "2024-01-17T04:56:09.055Z"
   },
   {
    "duration": 1307,
    "start_time": "2024-01-17T06:49:54.635Z"
   },
   {
    "duration": 485,
    "start_time": "2024-01-17T06:49:55.944Z"
   },
   {
    "duration": 28,
    "start_time": "2024-01-17T06:49:56.431Z"
   },
   {
    "duration": 3,
    "start_time": "2024-01-17T06:49:56.461Z"
   },
   {
    "duration": 9,
    "start_time": "2024-01-17T06:49:56.465Z"
   },
   {
    "duration": 16,
    "start_time": "2024-01-17T06:49:56.475Z"
   },
   {
    "duration": 71,
    "start_time": "2024-01-17T06:49:56.492Z"
   },
   {
    "duration": 121,
    "start_time": "2024-01-17T06:49:56.564Z"
   },
   {
    "duration": 7,
    "start_time": "2024-01-17T06:49:56.686Z"
   },
   {
    "duration": 122,
    "start_time": "2024-01-17T06:49:56.695Z"
   },
   {
    "duration": 12,
    "start_time": "2024-01-17T06:49:56.818Z"
   },
   {
    "duration": 39,
    "start_time": "2024-01-17T06:49:56.831Z"
   },
   {
    "duration": 15,
    "start_time": "2024-01-17T06:49:56.872Z"
   },
   {
    "duration": 18,
    "start_time": "2024-01-17T06:49:56.888Z"
   },
   {
    "duration": 13,
    "start_time": "2024-01-17T06:49:56.908Z"
   },
   {
    "duration": 30,
    "start_time": "2024-01-17T06:49:56.922Z"
   },
   {
    "duration": 7,
    "start_time": "2024-01-17T06:49:56.954Z"
   },
   {
    "duration": 2,
    "start_time": "2024-01-17T06:49:56.962Z"
   },
   {
    "duration": 5,
    "start_time": "2024-01-17T06:49:56.965Z"
   },
   {
    "duration": 14,
    "start_time": "2024-01-17T06:49:56.971Z"
   },
   {
    "duration": 4,
    "start_time": "2024-01-17T06:49:56.986Z"
   },
   {
    "duration": 422,
    "start_time": "2024-01-17T06:49:56.992Z"
   },
   {
    "duration": 13,
    "start_time": "2024-01-17T06:49:57.416Z"
   },
   {
    "duration": 4,
    "start_time": "2024-01-17T06:49:57.430Z"
   },
   {
    "duration": 17,
    "start_time": "2024-01-17T06:49:57.435Z"
   },
   {
    "duration": 12,
    "start_time": "2024-01-17T06:49:57.453Z"
   },
   {
    "duration": 10,
    "start_time": "2024-01-17T06:49:57.467Z"
   },
   {
    "duration": 14,
    "start_time": "2024-01-17T06:49:57.480Z"
   },
   {
    "duration": 66,
    "start_time": "2024-01-17T06:49:57.496Z"
   },
   {
    "duration": 57,
    "start_time": "2024-01-17T06:49:57.564Z"
   },
   {
    "duration": 97,
    "start_time": "2024-01-17T06:49:57.622Z"
   },
   {
    "duration": 3,
    "start_time": "2024-01-17T06:49:57.720Z"
   },
   {
    "duration": 44,
    "start_time": "2024-01-17T06:49:57.724Z"
   },
   {
    "duration": 18,
    "start_time": "2024-01-17T06:49:57.769Z"
   },
   {
    "duration": 24,
    "start_time": "2024-01-17T06:49:57.788Z"
   },
   {
    "duration": 40,
    "start_time": "2024-01-17T06:49:57.813Z"
   },
   {
    "duration": 23,
    "start_time": "2024-01-17T06:49:57.854Z"
   },
   {
    "duration": 5,
    "start_time": "2024-01-17T06:49:57.879Z"
   },
   {
    "duration": 103,
    "start_time": "2024-01-17T06:49:57.885Z"
   },
   {
    "duration": 85,
    "start_time": "2024-01-17T06:49:57.990Z"
   },
   {
    "duration": 85,
    "start_time": "2024-01-17T06:49:58.077Z"
   },
   {
    "duration": 120,
    "start_time": "2024-01-17T06:49:58.164Z"
   },
   {
    "duration": 6,
    "start_time": "2024-01-17T06:51:24.829Z"
   },
   {
    "duration": 90,
    "start_time": "2024-01-17T06:51:27.503Z"
   },
   {
    "duration": 1320,
    "start_time": "2024-01-17T08:03:25.350Z"
   },
   {
    "duration": 491,
    "start_time": "2024-01-17T08:03:26.672Z"
   },
   {
    "duration": 45,
    "start_time": "2024-01-17T08:03:27.165Z"
   },
   {
    "duration": 3,
    "start_time": "2024-01-17T08:03:27.213Z"
   },
   {
    "duration": 22,
    "start_time": "2024-01-17T08:03:27.218Z"
   },
   {
    "duration": 43,
    "start_time": "2024-01-17T08:03:27.242Z"
   },
   {
    "duration": 77,
    "start_time": "2024-01-17T08:03:27.287Z"
   },
   {
    "duration": 134,
    "start_time": "2024-01-17T08:03:27.365Z"
   },
   {
    "duration": 9,
    "start_time": "2024-01-17T08:03:27.501Z"
   },
   {
    "duration": 115,
    "start_time": "2024-01-17T08:03:27.513Z"
   },
   {
    "duration": 22,
    "start_time": "2024-01-17T08:03:27.630Z"
   },
   {
    "duration": 64,
    "start_time": "2024-01-17T08:03:27.654Z"
   },
   {
    "duration": 54,
    "start_time": "2024-01-17T08:03:27.720Z"
   },
   {
    "duration": 45,
    "start_time": "2024-01-17T08:03:27.776Z"
   },
   {
    "duration": 20,
    "start_time": "2024-01-17T08:03:27.823Z"
   },
   {
    "duration": 30,
    "start_time": "2024-01-17T08:03:27.844Z"
   },
   {
    "duration": 17,
    "start_time": "2024-01-17T08:03:27.876Z"
   },
   {
    "duration": 30,
    "start_time": "2024-01-17T08:03:27.895Z"
   },
   {
    "duration": 21,
    "start_time": "2024-01-17T08:03:27.927Z"
   },
   {
    "duration": 17,
    "start_time": "2024-01-17T08:03:27.949Z"
   },
   {
    "duration": 32,
    "start_time": "2024-01-17T08:03:27.968Z"
   },
   {
    "duration": 419,
    "start_time": "2024-01-17T08:03:28.002Z"
   },
   {
    "duration": 13,
    "start_time": "2024-01-17T08:03:28.423Z"
   },
   {
    "duration": 32,
    "start_time": "2024-01-17T08:03:28.444Z"
   },
   {
    "duration": 56,
    "start_time": "2024-01-17T08:03:28.478Z"
   },
   {
    "duration": 51,
    "start_time": "2024-01-17T08:03:28.536Z"
   },
   {
    "duration": 48,
    "start_time": "2024-01-17T08:03:28.589Z"
   },
   {
    "duration": 31,
    "start_time": "2024-01-17T08:03:28.640Z"
   },
   {
    "duration": 82,
    "start_time": "2024-01-17T08:03:28.673Z"
   },
   {
    "duration": 74,
    "start_time": "2024-01-17T08:03:28.757Z"
   },
   {
    "duration": 89,
    "start_time": "2024-01-17T08:03:28.832Z"
   },
   {
    "duration": 3,
    "start_time": "2024-01-17T08:03:28.923Z"
   },
   {
    "duration": 121,
    "start_time": "2024-01-17T08:03:28.928Z"
   },
   {
    "duration": 86,
    "start_time": "2024-01-17T08:03:29.051Z"
   },
   {
    "duration": 126,
    "start_time": "2024-01-17T08:03:29.138Z"
   },
   {
    "duration": 124,
    "start_time": "2024-01-17T08:03:29.266Z"
   },
   {
    "duration": 78,
    "start_time": "2024-01-17T08:03:29.392Z"
   },
   {
    "duration": 157,
    "start_time": "2024-01-17T08:03:29.472Z"
   },
   {
    "duration": 163,
    "start_time": "2024-01-17T08:03:29.630Z"
   },
   {
    "duration": 95,
    "start_time": "2024-01-17T08:03:29.794Z"
   },
   {
    "duration": 87,
    "start_time": "2024-01-17T08:03:29.891Z"
   },
   {
    "duration": 140,
    "start_time": "2024-01-17T08:03:29.980Z"
   },
   {
    "duration": 1031,
    "start_time": "2024-01-17T08:09:58.389Z"
   },
   {
    "duration": 186,
    "start_time": "2024-01-17T08:09:59.422Z"
   },
   {
    "duration": 35,
    "start_time": "2024-01-17T08:09:59.610Z"
   },
   {
    "duration": 2,
    "start_time": "2024-01-17T08:09:59.647Z"
   },
   {
    "duration": 9,
    "start_time": "2024-01-17T08:09:59.650Z"
   },
   {
    "duration": 16,
    "start_time": "2024-01-17T08:09:59.660Z"
   },
   {
    "duration": 75,
    "start_time": "2024-01-17T08:09:59.678Z"
   },
   {
    "duration": 128,
    "start_time": "2024-01-17T08:09:59.754Z"
   },
   {
    "duration": 6,
    "start_time": "2024-01-17T08:09:59.883Z"
   },
   {
    "duration": 107,
    "start_time": "2024-01-17T08:09:59.892Z"
   },
   {
    "duration": 40,
    "start_time": "2024-01-17T08:10:00.001Z"
   },
   {
    "duration": 84,
    "start_time": "2024-01-17T08:10:00.043Z"
   },
   {
    "duration": 77,
    "start_time": "2024-01-17T08:10:00.129Z"
   },
   {
    "duration": 73,
    "start_time": "2024-01-17T08:10:00.207Z"
   },
   {
    "duration": 34,
    "start_time": "2024-01-17T08:10:00.282Z"
   },
   {
    "duration": 114,
    "start_time": "2024-01-17T08:10:00.318Z"
   },
   {
    "duration": 85,
    "start_time": "2024-01-17T08:10:00.433Z"
   },
   {
    "duration": 29,
    "start_time": "2024-01-17T08:10:00.520Z"
   },
   {
    "duration": 55,
    "start_time": "2024-01-17T08:10:00.550Z"
   },
   {
    "duration": 55,
    "start_time": "2024-01-17T08:10:00.607Z"
   },
   {
    "duration": 31,
    "start_time": "2024-01-17T08:10:00.664Z"
   },
   {
    "duration": 434,
    "start_time": "2024-01-17T08:10:00.696Z"
   },
   {
    "duration": 16,
    "start_time": "2024-01-17T08:10:01.132Z"
   },
   {
    "duration": 39,
    "start_time": "2024-01-17T08:10:01.149Z"
   },
   {
    "duration": 36,
    "start_time": "2024-01-17T08:10:01.190Z"
   },
   {
    "duration": 58,
    "start_time": "2024-01-17T08:10:01.228Z"
   },
   {
    "duration": 54,
    "start_time": "2024-01-17T08:10:01.288Z"
   },
   {
    "duration": 242,
    "start_time": "2024-01-17T08:10:01.348Z"
   },
   {
    "duration": 87,
    "start_time": "2024-01-17T08:10:01.592Z"
   },
   {
    "duration": 88,
    "start_time": "2024-01-17T08:10:01.681Z"
   },
   {
    "duration": 89,
    "start_time": "2024-01-17T08:10:01.770Z"
   },
   {
    "duration": 3,
    "start_time": "2024-01-17T08:10:01.860Z"
   },
   {
    "duration": 71,
    "start_time": "2024-01-17T08:10:01.864Z"
   },
   {
    "duration": 19,
    "start_time": "2024-01-17T08:10:01.937Z"
   },
   {
    "duration": 27,
    "start_time": "2024-01-17T08:10:01.957Z"
   },
   {
    "duration": 51,
    "start_time": "2024-01-17T08:10:01.986Z"
   },
   {
    "duration": 30,
    "start_time": "2024-01-17T08:10:02.038Z"
   },
   {
    "duration": 46,
    "start_time": "2024-01-17T08:10:02.069Z"
   },
   {
    "duration": 161,
    "start_time": "2024-01-17T08:10:02.117Z"
   },
   {
    "duration": 82,
    "start_time": "2024-01-17T08:10:02.280Z"
   },
   {
    "duration": 87,
    "start_time": "2024-01-17T08:10:02.364Z"
   },
   {
    "duration": 120,
    "start_time": "2024-01-17T08:10:02.452Z"
   },
   {
    "duration": 1128,
    "start_time": "2024-01-17T08:10:43.512Z"
   },
   {
    "duration": 172,
    "start_time": "2024-01-17T08:10:44.642Z"
   },
   {
    "duration": 32,
    "start_time": "2024-01-17T08:10:44.815Z"
   },
   {
    "duration": 3,
    "start_time": "2024-01-17T08:10:44.849Z"
   },
   {
    "duration": 17,
    "start_time": "2024-01-17T08:10:44.853Z"
   },
   {
    "duration": 19,
    "start_time": "2024-01-17T08:10:44.871Z"
   },
   {
    "duration": 74,
    "start_time": "2024-01-17T08:10:44.891Z"
   },
   {
    "duration": 131,
    "start_time": "2024-01-17T08:10:44.967Z"
   },
   {
    "duration": 7,
    "start_time": "2024-01-17T08:10:45.100Z"
   },
   {
    "duration": 139,
    "start_time": "2024-01-17T08:10:45.110Z"
   },
   {
    "duration": 13,
    "start_time": "2024-01-17T08:10:45.251Z"
   },
   {
    "duration": 57,
    "start_time": "2024-01-17T08:10:45.266Z"
   },
   {
    "duration": 16,
    "start_time": "2024-01-17T08:10:45.325Z"
   },
   {
    "duration": 23,
    "start_time": "2024-01-17T08:10:45.343Z"
   },
   {
    "duration": 15,
    "start_time": "2024-01-17T08:10:45.369Z"
   },
   {
    "duration": 23,
    "start_time": "2024-01-17T08:10:45.386Z"
   },
   {
    "duration": 33,
    "start_time": "2024-01-17T08:10:45.411Z"
   },
   {
    "duration": 3,
    "start_time": "2024-01-17T08:10:45.446Z"
   },
   {
    "duration": 21,
    "start_time": "2024-01-17T08:10:45.451Z"
   },
   {
    "duration": 5,
    "start_time": "2024-01-17T08:10:45.474Z"
   },
   {
    "duration": 15,
    "start_time": "2024-01-17T08:10:45.481Z"
   },
   {
    "duration": 408,
    "start_time": "2024-01-17T08:10:45.498Z"
   },
   {
    "duration": 15,
    "start_time": "2024-01-17T08:10:45.907Z"
   },
   {
    "duration": 4,
    "start_time": "2024-01-17T08:10:45.923Z"
   },
   {
    "duration": 4,
    "start_time": "2024-01-17T08:10:45.944Z"
   },
   {
    "duration": 20,
    "start_time": "2024-01-17T08:10:45.950Z"
   },
   {
    "duration": 18,
    "start_time": "2024-01-17T08:10:45.972Z"
   },
   {
    "duration": 23,
    "start_time": "2024-01-17T08:10:45.994Z"
   },
   {
    "duration": 54,
    "start_time": "2024-01-17T08:10:46.045Z"
   },
   {
    "duration": 76,
    "start_time": "2024-01-17T08:10:46.100Z"
   },
   {
    "duration": 93,
    "start_time": "2024-01-17T08:10:46.177Z"
   },
   {
    "duration": 3,
    "start_time": "2024-01-17T08:10:46.272Z"
   },
   {
    "duration": 39,
    "start_time": "2024-01-17T08:10:46.276Z"
   },
   {
    "duration": 35,
    "start_time": "2024-01-17T08:10:46.316Z"
   },
   {
    "duration": 25,
    "start_time": "2024-01-17T08:10:46.353Z"
   },
   {
    "duration": 23,
    "start_time": "2024-01-17T08:10:46.380Z"
   },
   {
    "duration": 43,
    "start_time": "2024-01-17T08:10:46.404Z"
   },
   {
    "duration": 16,
    "start_time": "2024-01-17T08:10:46.449Z"
   },
   {
    "duration": 126,
    "start_time": "2024-01-17T08:10:46.467Z"
   },
   {
    "duration": 87,
    "start_time": "2024-01-17T08:10:46.594Z"
   },
   {
    "duration": 90,
    "start_time": "2024-01-17T08:10:46.683Z"
   },
   {
    "duration": 127,
    "start_time": "2024-01-17T08:10:46.774Z"
   }
  ],
  "kernelspec": {
   "display_name": "Python 3 (ipykernel)",
   "language": "python",
   "name": "python3"
  },
  "language_info": {
   "codemirror_mode": {
    "name": "ipython",
    "version": 3
   },
   "file_extension": ".py",
   "mimetype": "text/x-python",
   "name": "python",
   "nbconvert_exporter": "python",
   "pygments_lexer": "ipython3",
   "version": "3.11.5"
  },
  "toc": {
   "base_numbering": 1,
   "nav_menu": {},
   "number_sections": true,
   "sideBar": true,
   "skip_h1_title": true,
   "title_cell": "Table of Contents",
   "title_sidebar": "Contents",
   "toc_cell": false,
   "toc_position": {},
   "toc_section_display": true,
   "toc_window_display": false
  }
 },
 "nbformat": 4,
 "nbformat_minor": 2
}
