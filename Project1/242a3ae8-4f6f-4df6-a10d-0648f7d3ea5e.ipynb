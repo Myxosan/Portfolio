{
 "cells": [
  {
   "cell_type": "markdown",
   "metadata": {},
   "source": [
    "Привет, Дмитрий!\n",
    "\n",
    "Меня зовут Вячеслав Погорелый, и я буду проводить ревью твоего проекта. \n",
    "\n",
    "Предлагаю перейти на \"ты\", если не против)\n",
    "\n",
    "Но если это не удобно - дай знать, и мы перейдем на \"вы\". Моя главная задача — не находить сделанные тобою ошибки, а передать свой опыт и помочь тебе стать аналитиком данных.\n",
    "\n",
    "Я отметил комментарии и замечания разным цветом далее по тексту markdown:\n",
    "\n",
    "---    \n",
    "<div class=\"alert alert-block alert-danger\">\n",
    "    \n",
    "### Ошибка\n",
    "    \n",
    "Критическое замечание, которые следует исправить.\n",
    "</div> \n",
    "    \n",
    "---\n",
    "    \n",
    "<div class=\"alert alert-block alert-warning\">\n",
    "    \n",
    "### Совет\n",
    "    \n",
    "Замечание\\совет на будущее.\n",
    "</div>\n",
    "    \n",
    "---\n",
    "    \n",
    "<div class=\"alert alert-block alert-success\">\n",
    "    \n",
    "### Успех\n",
    "    \n",
    "Когда всё сделано правильно.\n",
    "</div>\n",
    "    \n",
    "    \n",
    "    \n",
    "Будет здорово, если для ответов ты выберешь любой **<font color=\"maroon\">читабельный и заметный цвет</font>**, так мне будет проще все проверить.\n",
    "\n",
    "\n",
    "При доработке проекта попрошу тебя сохранить и не видоизменять заметки ревьюера, это осложняет повторную проверку."
   ]
  },
  {
   "cell_type": "markdown",
   "metadata": {},
   "source": [
    "<div class=\"alert alert-block alert-success\">\n",
    " \n",
    "# Итоговый Комментарий ревьюера ver.3\n",
    "    \n",
    "#### Успех\n",
    "    \n",
    "Спасибо тебе за исправления замечаний. Вот теперь я готов принять проект. Ты здорово постарался и я желаю тебе успехов в дальнейшей учебе. Ты точно справишься, я уверен. "
   ]
  },
  {
   "cell_type": "markdown",
   "metadata": {},
   "source": [
    "Вы работаете в интернет-магазине «Стримчик», который продаёт по всему миру компьютерные игры. Из открытых источников доступны исторические данные о продажах игр, оценки пользователей и экспертов, жанры и платформы (например, Xbox или PlayStation). Вам нужно выявить определяющие успешность игры закономерности. Это позволит сделать ставку на потенциально популярный продукт и спланировать рекламные кампании.\n",
    "\n",
    "Перед вами данные до 2016 года. Представим, что сейчас декабрь 2016 г., и вы планируете кампанию на 2017-й. Нужно отработать принцип работы с данными. Неважно, прогнозируете ли вы продажи на 2017 год по данным 2016-го или же 2027-й — по данным 2026 года.\n",
    "\n",
    "В наборе данных попадается аббревиатура ESRB (Entertainment Software Rating Board) — это ассоциация, определяющая возрастной рейтинг компьютерных игр. ESRB оценивает игровой контент и присваивает ему подходящую возрастную категорию, например, «Для взрослых», «Для детей младшего возраста» или «Для подростков»."
   ]
  },
  {
   "cell_type": "markdown",
   "metadata": {},
   "source": [
    "Инструкция по выполнению проекта\n",
    "\n",
    "Шаг 1. Откройте файл с данными и изучите общую информацию\n",
    "Путь к файлу: /datasets/games.csv. Скачать датасет\n",
    "\n",
    "Шаг 2. Подготовьте данные\n",
    "Замените названия столбцов (приведите к нижнему регистру);\n",
    "Преобразуйте данные в нужные типы. Опишите, в каких столбцах заменили тип данных и почему;\n",
    "Обработайте пропуски при необходимости:\n",
    "Объясните, почему заполнили пропуски определённым образом или почему не стали это делать;\n",
    "Опишите причины, которые могли привести к пропускам;\n",
    "Обратите внимание на аббревиатуру 'tbd' в столбце с оценкой пользователей. Отдельно разберите это значение и опишите, как его обработать;\n",
    "Посчитайте суммарные продажи во всех регионах и запишите их в отдельный столбец.\n",
    "\n",
    "Шаг 3. Проведите исследовательский анализ данных\n",
    "Посмотрите, сколько игр выпускалось в разные годы. Важны ли данные за все периоды?\n",
    "Посмотрите, как менялись продажи по платформам. Выберите платформы с наибольшими суммарными продажами и постройте распределение по годам. За какой характерный срок появляются новые и исчезают старые платформы?\n",
    "Возьмите данные за соответствующий актуальный период. Актуальный период определите самостоятельно в результате исследования предыдущих вопросов. Основной фактор — эти данные помогут построить прогноз на 2017 год.\n",
    "Не учитывайте в работе данные за предыдущие годы.\n",
    "Какие платформы лидируют по продажам, растут или падают? Выберите несколько потенциально прибыльных платформ.\n",
    "Постройте график «ящик с усами» по глобальным продажам игр в разбивке по платформам. Опишите результат.\n",
    "Посмотрите, как влияют на продажи внутри одной популярной платформы отзывы пользователей и критиков. Постройте диаграмму рассеяния и посчитайте корреляцию между отзывами и продажами. Сформулируйте выводы.\n",
    "Соотнесите выводы с продажами игр на других платформах.\n",
    "Посмотрите на общее распределение игр по жанрам. Что можно сказать о самых прибыльных жанрах? Выделяются ли жанры с высокими и низкими продажами?\n",
    "\n",
    "Шаг 4. Составьте портрет пользователя каждого региона\n",
    "Определите для пользователя каждого региона (NA, EU, JP):\n",
    "Самые популярные платформы (топ-5). Опишите различия в долях продаж.\n",
    "Самые популярные жанры (топ-5). Поясните разницу.\n",
    "Влияет ли рейтинг ESRB на продажи в отдельном регионе?\n",
    "\n",
    "Шаг 5. Проверьте гипотезы\n",
    "Средние пользовательские рейтинги платформ Xbox One и PC одинаковые;\n",
    "Средние пользовательские рейтинги жанров Action (англ. «действие», экшен-игры) и Sports (англ. «спортивные соревнования») разные.\n",
    "Задайте самостоятельно пороговое значение alpha.\n",
    "\n",
    "Поясните:\n",
    "Как вы сформулировали нулевую и альтернативную гипотезы;\n",
    "Какой критерий применили для проверки гипотез и почему.\n",
    "\n",
    "Шаг 6. Напишите общий вывод"
   ]
  },
  {
   "cell_type": "markdown",
   "metadata": {},
   "source": [
    "Name — название игры\n",
    "\n",
    "Platform — платформа\n",
    "\n",
    "\n",
    "Year_of_Release — год выпуска\n",
    "Genre — жанр игры\n",
    "\n",
    "NA_sales — продажи в Северной Америке (миллионы проданных копий)\n",
    "\n",
    "EU_sales — продажи в Европе (миллионы проданных копий)\n",
    "\n",
    "JP_sales — продажи в Японии (миллионы проданных копий)\n",
    "\n",
    "Other_sales — продажи в других странах (миллионы проданных копий)\n",
    "\n",
    "Critic_Score — оценка критиков (максимум 100)\n",
    "\n",
    "User_Score — оценка пользователей (максимум 10)\n",
    "\n",
    "Rating — рейтинг от организации ESRB (англ. Entertainment Software Rating Board). Эта ассоциация определяет рейтинг компьютерных игр и присваивает им подходящую возрастную категорию.\n",
    "\n",
    "Данные за 2016 год могут быть неполными."
   ]
  },
  {
   "cell_type": "markdown",
   "metadata": {},
   "source": [
    "<div class=\"alert alert-block alert-success\">\n",
    " \n",
    "### Комментарий ревьюера\n",
    "    \n",
    "#### Успех\n",
    "    \n",
    "Спасибо тебе за оформление оглавления к проекту. "
   ]
  },
  {
   "cell_type": "code",
   "execution_count": 1,
   "metadata": {},
   "outputs": [],
   "source": [
    "import pandas as pd\n",
    "import numpy as np\n",
    "import matplotlib.pyplot as plt\n",
    "import seaborn as sns\n",
    "\n",
    "from datetime import datetime\n",
    "from scipy import stats as st"
   ]
  },
  {
   "cell_type": "code",
   "execution_count": 2,
   "metadata": {},
   "outputs": [],
   "source": [
    "df = pd.read_csv('/datasets/games.csv')"
   ]
  },
  {
   "cell_type": "code",
   "execution_count": 3,
   "metadata": {},
   "outputs": [
    {
     "data": {
      "text/html": [
       "<div>\n",
       "<style scoped>\n",
       "    .dataframe tbody tr th:only-of-type {\n",
       "        vertical-align: middle;\n",
       "    }\n",
       "\n",
       "    .dataframe tbody tr th {\n",
       "        vertical-align: top;\n",
       "    }\n",
       "\n",
       "    .dataframe thead th {\n",
       "        text-align: right;\n",
       "    }\n",
       "</style>\n",
       "<table border=\"1\" class=\"dataframe\">\n",
       "  <thead>\n",
       "    <tr style=\"text-align: right;\">\n",
       "      <th></th>\n",
       "      <th>Name</th>\n",
       "      <th>Platform</th>\n",
       "      <th>Year_of_Release</th>\n",
       "      <th>Genre</th>\n",
       "      <th>NA_sales</th>\n",
       "      <th>EU_sales</th>\n",
       "      <th>JP_sales</th>\n",
       "      <th>Other_sales</th>\n",
       "      <th>Critic_Score</th>\n",
       "      <th>User_Score</th>\n",
       "      <th>Rating</th>\n",
       "    </tr>\n",
       "  </thead>\n",
       "  <tbody>\n",
       "    <tr>\n",
       "      <th>0</th>\n",
       "      <td>Wii Sports</td>\n",
       "      <td>Wii</td>\n",
       "      <td>2006.0</td>\n",
       "      <td>Sports</td>\n",
       "      <td>41.36</td>\n",
       "      <td>28.96</td>\n",
       "      <td>3.77</td>\n",
       "      <td>8.45</td>\n",
       "      <td>76.0</td>\n",
       "      <td>8</td>\n",
       "      <td>E</td>\n",
       "    </tr>\n",
       "    <tr>\n",
       "      <th>1</th>\n",
       "      <td>Super Mario Bros.</td>\n",
       "      <td>NES</td>\n",
       "      <td>1985.0</td>\n",
       "      <td>Platform</td>\n",
       "      <td>29.08</td>\n",
       "      <td>3.58</td>\n",
       "      <td>6.81</td>\n",
       "      <td>0.77</td>\n",
       "      <td>NaN</td>\n",
       "      <td>NaN</td>\n",
       "      <td>NaN</td>\n",
       "    </tr>\n",
       "    <tr>\n",
       "      <th>2</th>\n",
       "      <td>Mario Kart Wii</td>\n",
       "      <td>Wii</td>\n",
       "      <td>2008.0</td>\n",
       "      <td>Racing</td>\n",
       "      <td>15.68</td>\n",
       "      <td>12.76</td>\n",
       "      <td>3.79</td>\n",
       "      <td>3.29</td>\n",
       "      <td>82.0</td>\n",
       "      <td>8.3</td>\n",
       "      <td>E</td>\n",
       "    </tr>\n",
       "    <tr>\n",
       "      <th>3</th>\n",
       "      <td>Wii Sports Resort</td>\n",
       "      <td>Wii</td>\n",
       "      <td>2009.0</td>\n",
       "      <td>Sports</td>\n",
       "      <td>15.61</td>\n",
       "      <td>10.93</td>\n",
       "      <td>3.28</td>\n",
       "      <td>2.95</td>\n",
       "      <td>80.0</td>\n",
       "      <td>8</td>\n",
       "      <td>E</td>\n",
       "    </tr>\n",
       "    <tr>\n",
       "      <th>4</th>\n",
       "      <td>Pokemon Red/Pokemon Blue</td>\n",
       "      <td>GB</td>\n",
       "      <td>1996.0</td>\n",
       "      <td>Role-Playing</td>\n",
       "      <td>11.27</td>\n",
       "      <td>8.89</td>\n",
       "      <td>10.22</td>\n",
       "      <td>1.00</td>\n",
       "      <td>NaN</td>\n",
       "      <td>NaN</td>\n",
       "      <td>NaN</td>\n",
       "    </tr>\n",
       "    <tr>\n",
       "      <th>5</th>\n",
       "      <td>Tetris</td>\n",
       "      <td>GB</td>\n",
       "      <td>1989.0</td>\n",
       "      <td>Puzzle</td>\n",
       "      <td>23.20</td>\n",
       "      <td>2.26</td>\n",
       "      <td>4.22</td>\n",
       "      <td>0.58</td>\n",
       "      <td>NaN</td>\n",
       "      <td>NaN</td>\n",
       "      <td>NaN</td>\n",
       "    </tr>\n",
       "    <tr>\n",
       "      <th>6</th>\n",
       "      <td>New Super Mario Bros.</td>\n",
       "      <td>DS</td>\n",
       "      <td>2006.0</td>\n",
       "      <td>Platform</td>\n",
       "      <td>11.28</td>\n",
       "      <td>9.14</td>\n",
       "      <td>6.50</td>\n",
       "      <td>2.88</td>\n",
       "      <td>89.0</td>\n",
       "      <td>8.5</td>\n",
       "      <td>E</td>\n",
       "    </tr>\n",
       "    <tr>\n",
       "      <th>7</th>\n",
       "      <td>Wii Play</td>\n",
       "      <td>Wii</td>\n",
       "      <td>2006.0</td>\n",
       "      <td>Misc</td>\n",
       "      <td>13.96</td>\n",
       "      <td>9.18</td>\n",
       "      <td>2.93</td>\n",
       "      <td>2.84</td>\n",
       "      <td>58.0</td>\n",
       "      <td>6.6</td>\n",
       "      <td>E</td>\n",
       "    </tr>\n",
       "    <tr>\n",
       "      <th>8</th>\n",
       "      <td>New Super Mario Bros. Wii</td>\n",
       "      <td>Wii</td>\n",
       "      <td>2009.0</td>\n",
       "      <td>Platform</td>\n",
       "      <td>14.44</td>\n",
       "      <td>6.94</td>\n",
       "      <td>4.70</td>\n",
       "      <td>2.24</td>\n",
       "      <td>87.0</td>\n",
       "      <td>8.4</td>\n",
       "      <td>E</td>\n",
       "    </tr>\n",
       "    <tr>\n",
       "      <th>9</th>\n",
       "      <td>Duck Hunt</td>\n",
       "      <td>NES</td>\n",
       "      <td>1984.0</td>\n",
       "      <td>Shooter</td>\n",
       "      <td>26.93</td>\n",
       "      <td>0.63</td>\n",
       "      <td>0.28</td>\n",
       "      <td>0.47</td>\n",
       "      <td>NaN</td>\n",
       "      <td>NaN</td>\n",
       "      <td>NaN</td>\n",
       "    </tr>\n",
       "  </tbody>\n",
       "</table>\n",
       "</div>"
      ],
      "text/plain": [
       "                        Name Platform  Year_of_Release         Genre  \\\n",
       "0                 Wii Sports      Wii           2006.0        Sports   \n",
       "1          Super Mario Bros.      NES           1985.0      Platform   \n",
       "2             Mario Kart Wii      Wii           2008.0        Racing   \n",
       "3          Wii Sports Resort      Wii           2009.0        Sports   \n",
       "4   Pokemon Red/Pokemon Blue       GB           1996.0  Role-Playing   \n",
       "5                     Tetris       GB           1989.0        Puzzle   \n",
       "6      New Super Mario Bros.       DS           2006.0      Platform   \n",
       "7                   Wii Play      Wii           2006.0          Misc   \n",
       "8  New Super Mario Bros. Wii      Wii           2009.0      Platform   \n",
       "9                  Duck Hunt      NES           1984.0       Shooter   \n",
       "\n",
       "   NA_sales  EU_sales  JP_sales  Other_sales  Critic_Score User_Score Rating  \n",
       "0     41.36     28.96      3.77         8.45          76.0          8      E  \n",
       "1     29.08      3.58      6.81         0.77           NaN        NaN    NaN  \n",
       "2     15.68     12.76      3.79         3.29          82.0        8.3      E  \n",
       "3     15.61     10.93      3.28         2.95          80.0          8      E  \n",
       "4     11.27      8.89     10.22         1.00           NaN        NaN    NaN  \n",
       "5     23.20      2.26      4.22         0.58           NaN        NaN    NaN  \n",
       "6     11.28      9.14      6.50         2.88          89.0        8.5      E  \n",
       "7     13.96      9.18      2.93         2.84          58.0        6.6      E  \n",
       "8     14.44      6.94      4.70         2.24          87.0        8.4      E  \n",
       "9     26.93      0.63      0.28         0.47           NaN        NaN    NaN  "
      ]
     },
     "execution_count": 3,
     "metadata": {},
     "output_type": "execute_result"
    }
   ],
   "source": [
    "df.head(10)"
   ]
  },
  {
   "cell_type": "code",
   "execution_count": 4,
   "metadata": {},
   "outputs": [
    {
     "name": "stdout",
     "output_type": "stream",
     "text": [
      "<class 'pandas.core.frame.DataFrame'>\n",
      "RangeIndex: 16715 entries, 0 to 16714\n",
      "Data columns (total 11 columns):\n",
      " #   Column           Non-Null Count  Dtype  \n",
      "---  ------           --------------  -----  \n",
      " 0   Name             16713 non-null  object \n",
      " 1   Platform         16715 non-null  object \n",
      " 2   Year_of_Release  16446 non-null  float64\n",
      " 3   Genre            16713 non-null  object \n",
      " 4   NA_sales         16715 non-null  float64\n",
      " 5   EU_sales         16715 non-null  float64\n",
      " 6   JP_sales         16715 non-null  float64\n",
      " 7   Other_sales      16715 non-null  float64\n",
      " 8   Critic_Score     8137 non-null   float64\n",
      " 9   User_Score       10014 non-null  object \n",
      " 10  Rating           9949 non-null   object \n",
      "dtypes: float64(6), object(5)\n",
      "memory usage: 1.4+ MB\n"
     ]
    }
   ],
   "source": [
    "df.info()"
   ]
  },
  {
   "cell_type": "markdown",
   "metadata": {},
   "source": [
    "<div class=\"alert alert-block alert-success\">\n",
    " \n",
    "### Комментарий ревьюера\n",
    "    \n",
    "#### Успех\n",
    "    \n",
    "Первичная информация о данных получена"
   ]
  },
  {
   "cell_type": "markdown",
   "metadata": {},
   "source": [
    "Выводы:\n",
    "\n",
    "Неверные регистры в названии столбцов.\n",
    "Неправильные типы данных по некоторым столбцам\n",
    "Есть пропуски в столбцах."
   ]
  },
  {
   "cell_type": "markdown",
   "metadata": {},
   "source": [
    "# Предобработка данных"
   ]
  },
  {
   "cell_type": "code",
   "execution_count": 5,
   "metadata": {},
   "outputs": [],
   "source": [
    "df.columns = df.columns.str.lower()"
   ]
  },
  {
   "cell_type": "code",
   "execution_count": 6,
   "metadata": {},
   "outputs": [
    {
     "data": {
      "text/plain": [
       "Index(['name', 'platform', 'year_of_release', 'genre', 'na_sales', 'eu_sales',\n",
       "       'jp_sales', 'other_sales', 'critic_score', 'user_score', 'rating'],\n",
       "      dtype='object')"
      ]
     },
     "execution_count": 6,
     "metadata": {},
     "output_type": "execute_result"
    }
   ],
   "source": [
    "df.columns"
   ]
  },
  {
   "cell_type": "markdown",
   "metadata": {},
   "source": [
    "<div class=\"alert alert-block alert-success\">\n",
    " \n",
    "### Комментарий ревьюера\n",
    "    \n",
    "#### Успех\n",
    "    \n",
    "Классный способ приведения к нижнему регистру. "
   ]
  },
  {
   "cell_type": "markdown",
   "metadata": {},
   "source": [
    "Привели названия столбцов к нижнему регистру"
   ]
  },
  {
   "cell_type": "code",
   "execution_count": 7,
   "metadata": {},
   "outputs": [],
   "source": [
    "df['year_of_release'] = pd.array(df['year_of_release'], dtype = pd.Int64Dtype())"
   ]
  },
  {
   "cell_type": "code",
   "execution_count": 8,
   "metadata": {},
   "outputs": [
    {
     "name": "stdout",
     "output_type": "stream",
     "text": [
      "<class 'pandas.core.frame.DataFrame'>\n",
      "RangeIndex: 16715 entries, 0 to 16714\n",
      "Data columns (total 11 columns):\n",
      " #   Column           Non-Null Count  Dtype  \n",
      "---  ------           --------------  -----  \n",
      " 0   name             16713 non-null  object \n",
      " 1   platform         16715 non-null  object \n",
      " 2   year_of_release  16446 non-null  Int64  \n",
      " 3   genre            16713 non-null  object \n",
      " 4   na_sales         16715 non-null  float64\n",
      " 5   eu_sales         16715 non-null  float64\n",
      " 6   jp_sales         16715 non-null  float64\n",
      " 7   other_sales      16715 non-null  float64\n",
      " 8   critic_score     8137 non-null   float64\n",
      " 9   user_score       10014 non-null  object \n",
      " 10  rating           9949 non-null   object \n",
      "dtypes: Int64(1), float64(5), object(5)\n",
      "memory usage: 1.4+ MB\n"
     ]
    }
   ],
   "source": [
    "df.info()"
   ]
  },
  {
   "cell_type": "markdown",
   "metadata": {},
   "source": [
    "year_of_release - заменили на int"
   ]
  },
  {
   "cell_type": "code",
   "execution_count": 9,
   "metadata": {},
   "outputs": [
    {
     "data": {
      "text/plain": [
       "name                  2\n",
       "platform              0\n",
       "year_of_release     269\n",
       "genre                 2\n",
       "na_sales              0\n",
       "eu_sales              0\n",
       "jp_sales              0\n",
       "other_sales           0\n",
       "critic_score       8578\n",
       "user_score         6701\n",
       "rating             6766\n",
       "dtype: int64"
      ]
     },
     "execution_count": 9,
     "metadata": {},
     "output_type": "execute_result"
    }
   ],
   "source": [
    "df.isna().sum()"
   ]
  },
  {
   "cell_type": "markdown",
   "metadata": {},
   "source": [
    "<div class=\"alert alert-block alert-warning\">\n",
    " \n",
    "### Комментарий ревьюера\n",
    "    \n",
    "#### Совет\n",
    "    \n",
    "Для визуализации пропусков используй https://russianblogs.com/article/5001266235/"
   ]
  },
  {
   "cell_type": "markdown",
   "metadata": {},
   "source": [
    "Посмотрим на пропуски"
   ]
  },
  {
   "cell_type": "markdown",
   "metadata": {},
   "source": [
    "Name оставим без изменений, т.к пропусков всего два."
   ]
  },
  {
   "cell_type": "code",
   "execution_count": 10,
   "metadata": {},
   "outputs": [
    {
     "data": {
      "text/plain": [
       "count    16446.000000\n",
       "mean      2006.484616\n",
       "std          5.877050\n",
       "min       1980.000000\n",
       "25%       2003.000000\n",
       "50%       2007.000000\n",
       "75%       2010.000000\n",
       "max       2016.000000\n",
       "Name: year_of_release, dtype: float64"
      ]
     },
     "execution_count": 10,
     "metadata": {},
     "output_type": "execute_result"
    }
   ],
   "source": [
    "df['year_of_release'].describe()"
   ]
  },
  {
   "cell_type": "markdown",
   "metadata": {},
   "source": [
    "Видно, что года идут от 1980 до 2016, заменить пропуски медианой или средним значением тут не получится, т.к тогда информация по годам будет некорректной. Оставляем все, как есть."
   ]
  },
  {
   "cell_type": "markdown",
   "metadata": {},
   "source": [
    "critic_score и user_score это показатели оценки, их нельзя заменить на среднее или медиану. Так же нельзя поставить \"0\". \n",
    "\n",
    "Оставляем как есть."
   ]
  },
  {
   "cell_type": "code",
   "execution_count": 11,
   "metadata": {},
   "outputs": [],
   "source": [
    "df['rating'] = df['rating'].fillna('without')"
   ]
  },
  {
   "cell_type": "markdown",
   "metadata": {},
   "source": [
    "<div class=\"alert alert-block alert-success\">\n",
    " \n",
    "### Комментарий ревьюера\n",
    "    \n",
    "#### Успех\n",
    "    \n",
    "Значение-заглушка это хорошее решение. "
   ]
  },
  {
   "cell_type": "markdown",
   "metadata": {},
   "source": [
    "Заменим пропуски в rating на without, т.е без рейтинга"
   ]
  },
  {
   "cell_type": "code",
   "execution_count": 12,
   "metadata": {},
   "outputs": [
    {
     "data": {
      "text/plain": [
       "name                  2\n",
       "platform              0\n",
       "year_of_release     269\n",
       "genre                 2\n",
       "na_sales              0\n",
       "eu_sales              0\n",
       "jp_sales              0\n",
       "other_sales           0\n",
       "critic_score       8578\n",
       "user_score         6701\n",
       "rating                0\n",
       "dtype: int64"
      ]
     },
     "execution_count": 12,
     "metadata": {},
     "output_type": "execute_result"
    }
   ],
   "source": [
    "df.isna().sum()"
   ]
  },
  {
   "cell_type": "markdown",
   "metadata": {},
   "source": [
    "Выводы:\n",
    "\n",
    "Произввели замему только  столбце rating.\n",
    "\n",
    "Остальные пропуски заменить нет возможности ввиду искажения результата.\n"
   ]
  },
  {
   "cell_type": "markdown",
   "metadata": {},
   "source": [
    " "
   ]
  },
  {
   "cell_type": "markdown",
   "metadata": {},
   "source": [
    "Проверка на дубликаты"
   ]
  },
  {
   "cell_type": "code",
   "execution_count": 13,
   "metadata": {},
   "outputs": [
    {
     "data": {
      "text/plain": [
       "array(['Wii', 'NES', 'GB', 'DS', 'X360', 'PS3', 'PS2', 'SNES', 'GBA',\n",
       "       'PS4', '3DS', 'N64', 'PS', 'XB', 'PC', '2600', 'PSP', 'XOne',\n",
       "       'WiiU', 'GC', 'GEN', 'DC', 'PSV', 'SAT', 'SCD', 'WS', 'NG', 'TG16',\n",
       "       '3DO', 'GG', 'PCFX'], dtype=object)"
      ]
     },
     "execution_count": 13,
     "metadata": {},
     "output_type": "execute_result"
    }
   ],
   "source": [
    "df['platform'].unique()"
   ]
  },
  {
   "cell_type": "code",
   "execution_count": 14,
   "metadata": {},
   "outputs": [
    {
     "data": {
      "text/plain": [
       "array(['Sports', 'Platform', 'Racing', 'Role-Playing', 'Puzzle', 'Misc',\n",
       "       'Shooter', 'Simulation', 'Action', 'Fighting', 'Adventure',\n",
       "       'Strategy', nan], dtype=object)"
      ]
     },
     "execution_count": 14,
     "metadata": {},
     "output_type": "execute_result"
    }
   ],
   "source": [
    "df['genre'].unique()"
   ]
  },
  {
   "cell_type": "code",
   "execution_count": 15,
   "metadata": {},
   "outputs": [
    {
     "data": {
      "text/plain": [
       "array(['8', nan, '8.3', '8.5', '6.6', '8.4', '8.6', '7.7', '6.3', '7.4',\n",
       "       '8.2', '9', '7.9', '8.1', '8.7', '7.1', '3.4', '5.3', '4.8', '3.2',\n",
       "       '8.9', '6.4', '7.8', '7.5', '2.6', '7.2', '9.2', '7', '7.3', '4.3',\n",
       "       '7.6', '5.7', '5', '9.1', '6.5', 'tbd', '8.8', '6.9', '9.4', '6.8',\n",
       "       '6.1', '6.7', '5.4', '4', '4.9', '4.5', '9.3', '6.2', '4.2', '6',\n",
       "       '3.7', '4.1', '5.8', '5.6', '5.5', '4.4', '4.6', '5.9', '3.9',\n",
       "       '3.1', '2.9', '5.2', '3.3', '4.7', '5.1', '3.5', '2.5', '1.9', '3',\n",
       "       '2.7', '2.2', '2', '9.5', '2.1', '3.6', '2.8', '1.8', '3.8', '0',\n",
       "       '1.6', '9.6', '2.4', '1.7', '1.1', '0.3', '1.5', '0.7', '1.2',\n",
       "       '2.3', '0.5', '1.3', '0.2', '0.6', '1.4', '0.9', '1', '9.7'],\n",
       "      dtype=object)"
      ]
     },
     "execution_count": 15,
     "metadata": {},
     "output_type": "execute_result"
    }
   ],
   "source": [
    "df['user_score'].unique()"
   ]
  },
  {
   "cell_type": "markdown",
   "metadata": {},
   "source": [
    "Посмотрим, что такое \"tbd\""
   ]
  },
  {
   "cell_type": "code",
   "execution_count": 16,
   "metadata": {},
   "outputs": [
    {
     "data": {
      "text/html": [
       "<div>\n",
       "<style scoped>\n",
       "    .dataframe tbody tr th:only-of-type {\n",
       "        vertical-align: middle;\n",
       "    }\n",
       "\n",
       "    .dataframe tbody tr th {\n",
       "        vertical-align: top;\n",
       "    }\n",
       "\n",
       "    .dataframe thead th {\n",
       "        text-align: right;\n",
       "    }\n",
       "</style>\n",
       "<table border=\"1\" class=\"dataframe\">\n",
       "  <thead>\n",
       "    <tr style=\"text-align: right;\">\n",
       "      <th></th>\n",
       "      <th>name</th>\n",
       "      <th>platform</th>\n",
       "      <th>year_of_release</th>\n",
       "      <th>genre</th>\n",
       "      <th>na_sales</th>\n",
       "      <th>eu_sales</th>\n",
       "      <th>jp_sales</th>\n",
       "      <th>other_sales</th>\n",
       "      <th>critic_score</th>\n",
       "      <th>user_score</th>\n",
       "      <th>rating</th>\n",
       "    </tr>\n",
       "  </thead>\n",
       "  <tbody>\n",
       "    <tr>\n",
       "      <th>12931</th>\n",
       "      <td>MLB SlugFest 2006</td>\n",
       "      <td>XB</td>\n",
       "      <td>2006</td>\n",
       "      <td>Sports</td>\n",
       "      <td>0.04</td>\n",
       "      <td>0.01</td>\n",
       "      <td>0.00</td>\n",
       "      <td>0.00</td>\n",
       "      <td>59.0</td>\n",
       "      <td>tbd</td>\n",
       "      <td>E10+</td>\n",
       "    </tr>\n",
       "    <tr>\n",
       "      <th>8138</th>\n",
       "      <td>Marvel Super Hero Squad: Comic Combat</td>\n",
       "      <td>Wii</td>\n",
       "      <td>2011</td>\n",
       "      <td>Action</td>\n",
       "      <td>0.14</td>\n",
       "      <td>0.03</td>\n",
       "      <td>0.00</td>\n",
       "      <td>0.01</td>\n",
       "      <td>NaN</td>\n",
       "      <td>tbd</td>\n",
       "      <td>E10+</td>\n",
       "    </tr>\n",
       "    <tr>\n",
       "      <th>5035</th>\n",
       "      <td>Iron Man 2</td>\n",
       "      <td>PSP</td>\n",
       "      <td>2010</td>\n",
       "      <td>Action</td>\n",
       "      <td>0.18</td>\n",
       "      <td>0.12</td>\n",
       "      <td>0.00</td>\n",
       "      <td>0.07</td>\n",
       "      <td>49.0</td>\n",
       "      <td>tbd</td>\n",
       "      <td>T</td>\n",
       "    </tr>\n",
       "    <tr>\n",
       "      <th>14657</th>\n",
       "      <td>DICE: DNA Integrated Cybernetic Enterprises</td>\n",
       "      <td>PS2</td>\n",
       "      <td>2005</td>\n",
       "      <td>Shooter</td>\n",
       "      <td>0.01</td>\n",
       "      <td>0.01</td>\n",
       "      <td>0.00</td>\n",
       "      <td>0.00</td>\n",
       "      <td>48.0</td>\n",
       "      <td>tbd</td>\n",
       "      <td>E10+</td>\n",
       "    </tr>\n",
       "    <tr>\n",
       "      <th>11678</th>\n",
       "      <td>Ultimate Party Challenge</td>\n",
       "      <td>Wii</td>\n",
       "      <td>2009</td>\n",
       "      <td>Misc</td>\n",
       "      <td>0.07</td>\n",
       "      <td>0.00</td>\n",
       "      <td>0.00</td>\n",
       "      <td>0.01</td>\n",
       "      <td>NaN</td>\n",
       "      <td>tbd</td>\n",
       "      <td>E</td>\n",
       "    </tr>\n",
       "    <tr>\n",
       "      <th>15341</th>\n",
       "      <td>Veggy World</td>\n",
       "      <td>DS</td>\n",
       "      <td>2011</td>\n",
       "      <td>Shooter</td>\n",
       "      <td>0.02</td>\n",
       "      <td>0.00</td>\n",
       "      <td>0.00</td>\n",
       "      <td>0.00</td>\n",
       "      <td>NaN</td>\n",
       "      <td>tbd</td>\n",
       "      <td>E</td>\n",
       "    </tr>\n",
       "    <tr>\n",
       "      <th>13361</th>\n",
       "      <td>Gem Smashers</td>\n",
       "      <td>Wii</td>\n",
       "      <td>2011</td>\n",
       "      <td>Platform</td>\n",
       "      <td>0.04</td>\n",
       "      <td>0.00</td>\n",
       "      <td>0.00</td>\n",
       "      <td>0.00</td>\n",
       "      <td>NaN</td>\n",
       "      <td>tbd</td>\n",
       "      <td>E</td>\n",
       "    </tr>\n",
       "    <tr>\n",
       "      <th>6803</th>\n",
       "      <td>Disney Stitch Jam</td>\n",
       "      <td>DS</td>\n",
       "      <td>2009</td>\n",
       "      <td>Misc</td>\n",
       "      <td>0.07</td>\n",
       "      <td>0.00</td>\n",
       "      <td>0.16</td>\n",
       "      <td>0.01</td>\n",
       "      <td>NaN</td>\n",
       "      <td>tbd</td>\n",
       "      <td>E</td>\n",
       "    </tr>\n",
       "    <tr>\n",
       "      <th>6455</th>\n",
       "      <td>Family Feud: 2010 Edition</td>\n",
       "      <td>DS</td>\n",
       "      <td>2009</td>\n",
       "      <td>Misc</td>\n",
       "      <td>0.24</td>\n",
       "      <td>0.00</td>\n",
       "      <td>0.00</td>\n",
       "      <td>0.02</td>\n",
       "      <td>NaN</td>\n",
       "      <td>tbd</td>\n",
       "      <td>E</td>\n",
       "    </tr>\n",
       "    <tr>\n",
       "      <th>3158</th>\n",
       "      <td>Up</td>\n",
       "      <td>DS</td>\n",
       "      <td>2009</td>\n",
       "      <td>Action</td>\n",
       "      <td>0.30</td>\n",
       "      <td>0.27</td>\n",
       "      <td>0.00</td>\n",
       "      <td>0.07</td>\n",
       "      <td>NaN</td>\n",
       "      <td>tbd</td>\n",
       "      <td>E</td>\n",
       "    </tr>\n",
       "  </tbody>\n",
       "</table>\n",
       "</div>"
      ],
      "text/plain": [
       "                                              name platform  year_of_release  \\\n",
       "12931                            MLB SlugFest 2006       XB             2006   \n",
       "8138         Marvel Super Hero Squad: Comic Combat      Wii             2011   \n",
       "5035                                    Iron Man 2      PSP             2010   \n",
       "14657  DICE: DNA Integrated Cybernetic Enterprises      PS2             2005   \n",
       "11678                     Ultimate Party Challenge      Wii             2009   \n",
       "15341                                  Veggy World       DS             2011   \n",
       "13361                                 Gem Smashers      Wii             2011   \n",
       "6803                             Disney Stitch Jam       DS             2009   \n",
       "6455                     Family Feud: 2010 Edition       DS             2009   \n",
       "3158                                            Up       DS             2009   \n",
       "\n",
       "          genre  na_sales  eu_sales  jp_sales  other_sales  critic_score  \\\n",
       "12931    Sports      0.04      0.01      0.00         0.00          59.0   \n",
       "8138     Action      0.14      0.03      0.00         0.01           NaN   \n",
       "5035     Action      0.18      0.12      0.00         0.07          49.0   \n",
       "14657   Shooter      0.01      0.01      0.00         0.00          48.0   \n",
       "11678      Misc      0.07      0.00      0.00         0.01           NaN   \n",
       "15341   Shooter      0.02      0.00      0.00         0.00           NaN   \n",
       "13361  Platform      0.04      0.00      0.00         0.00           NaN   \n",
       "6803       Misc      0.07      0.00      0.16         0.01           NaN   \n",
       "6455       Misc      0.24      0.00      0.00         0.02           NaN   \n",
       "3158     Action      0.30      0.27      0.00         0.07           NaN   \n",
       "\n",
       "      user_score rating  \n",
       "12931        tbd   E10+  \n",
       "8138         tbd   E10+  \n",
       "5035         tbd      T  \n",
       "14657        tbd   E10+  \n",
       "11678        tbd      E  \n",
       "15341        tbd      E  \n",
       "13361        tbd      E  \n",
       "6803         tbd      E  \n",
       "6455         tbd      E  \n",
       "3158         tbd      E  "
      ]
     },
     "execution_count": 16,
     "metadata": {},
     "output_type": "execute_result"
    }
   ],
   "source": [
    "df.query('user_score == \"tbd\"').sample(10)"
   ]
  },
  {
   "cell_type": "markdown",
   "metadata": {},
   "source": [
    "Tbd – английская аббревиатура, которая означает «To be determined» или «Будет определено». Это оценка, которую игры получают, когда ещё находятся в разработке и не имеют окончательного рейтинга. Оценка может быть присвоена как официальными игровыми СМИ, так и пользователями интернет-сайтов и форумов.\n",
    "\n",
    "Заменим эту оценку на nan"
   ]
  },
  {
   "cell_type": "code",
   "execution_count": 17,
   "metadata": {},
   "outputs": [],
   "source": [
    "df.loc[df['user_score'] == 'tbd','user_score'] = np.nan\n",
    "df['user_score'] = df['user_score'].astype('float')"
   ]
  },
  {
   "cell_type": "markdown",
   "metadata": {},
   "source": [
    "<div class=\"alert alert-block alert-success\">\n",
    " \n",
    "### Комментарий ревьюера\n",
    "    \n",
    "#### Успех\n",
    "    \n",
    "Здесь здорово получилось. "
   ]
  },
  {
   "cell_type": "code",
   "execution_count": 18,
   "metadata": {},
   "outputs": [
    {
     "data": {
      "text/plain": [
       "0"
      ]
     },
     "execution_count": 18,
     "metadata": {},
     "output_type": "execute_result"
    }
   ],
   "source": [
    "df.duplicated().sum()"
   ]
  },
  {
   "cell_type": "markdown",
   "metadata": {},
   "source": [
    "Выводы:\n",
    "\n",
    "Проверили данные на явные и не неявные дубликаты.\n",
    "\n",
    "Заменили tbd на nan"
   ]
  },
  {
   "cell_type": "code",
   "execution_count": null,
   "metadata": {},
   "outputs": [],
   "source": []
  },
  {
   "cell_type": "markdown",
   "metadata": {},
   "source": [
    "Посчитаем суммарные продажи во всех регионах и запишем их в отдельный столбец."
   ]
  },
  {
   "cell_type": "code",
   "execution_count": 19,
   "metadata": {},
   "outputs": [],
   "source": [
    "df['total_sales'] = df['na_sales'] + df['eu_sales'] + df['jp_sales'] + df['other_sales']"
   ]
  },
  {
   "cell_type": "markdown",
   "metadata": {},
   "source": [
    "<div class=\"alert alert-block alert-warning\">\n",
    " \n",
    "### Комментарий ревьюера\n",
    "    \n",
    "#### Совет\n",
    "    \n",
    "Для суммирования ты можешь использовать такой метод `df['x'] = df[['a', 'b', 'c']].sum(axis=1)`"
   ]
  },
  {
   "cell_type": "code",
   "execution_count": 20,
   "metadata": {},
   "outputs": [
    {
     "data": {
      "text/html": [
       "<div>\n",
       "<style scoped>\n",
       "    .dataframe tbody tr th:only-of-type {\n",
       "        vertical-align: middle;\n",
       "    }\n",
       "\n",
       "    .dataframe tbody tr th {\n",
       "        vertical-align: top;\n",
       "    }\n",
       "\n",
       "    .dataframe thead th {\n",
       "        text-align: right;\n",
       "    }\n",
       "</style>\n",
       "<table border=\"1\" class=\"dataframe\">\n",
       "  <thead>\n",
       "    <tr style=\"text-align: right;\">\n",
       "      <th></th>\n",
       "      <th>name</th>\n",
       "      <th>platform</th>\n",
       "      <th>year_of_release</th>\n",
       "      <th>genre</th>\n",
       "      <th>na_sales</th>\n",
       "      <th>eu_sales</th>\n",
       "      <th>jp_sales</th>\n",
       "      <th>other_sales</th>\n",
       "      <th>critic_score</th>\n",
       "      <th>user_score</th>\n",
       "      <th>rating</th>\n",
       "      <th>total_sales</th>\n",
       "    </tr>\n",
       "  </thead>\n",
       "  <tbody>\n",
       "    <tr>\n",
       "      <th>0</th>\n",
       "      <td>Wii Sports</td>\n",
       "      <td>Wii</td>\n",
       "      <td>2006</td>\n",
       "      <td>Sports</td>\n",
       "      <td>41.36</td>\n",
       "      <td>28.96</td>\n",
       "      <td>3.77</td>\n",
       "      <td>8.45</td>\n",
       "      <td>76.0</td>\n",
       "      <td>8.0</td>\n",
       "      <td>E</td>\n",
       "      <td>82.54</td>\n",
       "    </tr>\n",
       "    <tr>\n",
       "      <th>1</th>\n",
       "      <td>Super Mario Bros.</td>\n",
       "      <td>NES</td>\n",
       "      <td>1985</td>\n",
       "      <td>Platform</td>\n",
       "      <td>29.08</td>\n",
       "      <td>3.58</td>\n",
       "      <td>6.81</td>\n",
       "      <td>0.77</td>\n",
       "      <td>NaN</td>\n",
       "      <td>NaN</td>\n",
       "      <td>without</td>\n",
       "      <td>40.24</td>\n",
       "    </tr>\n",
       "    <tr>\n",
       "      <th>2</th>\n",
       "      <td>Mario Kart Wii</td>\n",
       "      <td>Wii</td>\n",
       "      <td>2008</td>\n",
       "      <td>Racing</td>\n",
       "      <td>15.68</td>\n",
       "      <td>12.76</td>\n",
       "      <td>3.79</td>\n",
       "      <td>3.29</td>\n",
       "      <td>82.0</td>\n",
       "      <td>8.3</td>\n",
       "      <td>E</td>\n",
       "      <td>35.52</td>\n",
       "    </tr>\n",
       "    <tr>\n",
       "      <th>3</th>\n",
       "      <td>Wii Sports Resort</td>\n",
       "      <td>Wii</td>\n",
       "      <td>2009</td>\n",
       "      <td>Sports</td>\n",
       "      <td>15.61</td>\n",
       "      <td>10.93</td>\n",
       "      <td>3.28</td>\n",
       "      <td>2.95</td>\n",
       "      <td>80.0</td>\n",
       "      <td>8.0</td>\n",
       "      <td>E</td>\n",
       "      <td>32.77</td>\n",
       "    </tr>\n",
       "    <tr>\n",
       "      <th>4</th>\n",
       "      <td>Pokemon Red/Pokemon Blue</td>\n",
       "      <td>GB</td>\n",
       "      <td>1996</td>\n",
       "      <td>Role-Playing</td>\n",
       "      <td>11.27</td>\n",
       "      <td>8.89</td>\n",
       "      <td>10.22</td>\n",
       "      <td>1.00</td>\n",
       "      <td>NaN</td>\n",
       "      <td>NaN</td>\n",
       "      <td>without</td>\n",
       "      <td>31.38</td>\n",
       "    </tr>\n",
       "  </tbody>\n",
       "</table>\n",
       "</div>"
      ],
      "text/plain": [
       "                       name platform  year_of_release         genre  na_sales  \\\n",
       "0                Wii Sports      Wii             2006        Sports     41.36   \n",
       "1         Super Mario Bros.      NES             1985      Platform     29.08   \n",
       "2            Mario Kart Wii      Wii             2008        Racing     15.68   \n",
       "3         Wii Sports Resort      Wii             2009        Sports     15.61   \n",
       "4  Pokemon Red/Pokemon Blue       GB             1996  Role-Playing     11.27   \n",
       "\n",
       "   eu_sales  jp_sales  other_sales  critic_score  user_score   rating  \\\n",
       "0     28.96      3.77         8.45          76.0         8.0        E   \n",
       "1      3.58      6.81         0.77           NaN         NaN  without   \n",
       "2     12.76      3.79         3.29          82.0         8.3        E   \n",
       "3     10.93      3.28         2.95          80.0         8.0        E   \n",
       "4      8.89     10.22         1.00           NaN         NaN  without   \n",
       "\n",
       "   total_sales  \n",
       "0        82.54  \n",
       "1        40.24  \n",
       "2        35.52  \n",
       "3        32.77  \n",
       "4        31.38  "
      ]
     },
     "execution_count": 20,
     "metadata": {},
     "output_type": "execute_result"
    }
   ],
   "source": [
    "df.head()"
   ]
  },
  {
   "cell_type": "markdown",
   "metadata": {},
   "source": [
    "<div class=\"alert alert-block alert-danger\">\n",
    " \n",
    "### Комментарий ревьюера\n",
    "    \n",
    "#### Ошибка\n",
    "    \n",
    "Не забудь тут оформить небольшой промежуточный вывод по итогу раздела. "
   ]
  },
  {
   "cell_type": "markdown",
   "metadata": {},
   "source": [
    "Добавили новый столбец total sales, в нем посчитана сумма продаж по всем регионам."
   ]
  },
  {
   "cell_type": "markdown",
   "metadata": {},
   "source": [
    "<div class=\"alert alert-block alert-success\">\n",
    " \n",
    "# Комментарий ревьюера ver.2 \n",
    "    \n",
    "#### Успех\n",
    "    \n",
    "Исправлено"
   ]
  },
  {
   "cell_type": "markdown",
   "metadata": {},
   "source": [
    "# Исследовательский анализ данных."
   ]
  },
  {
   "cell_type": "markdown",
   "metadata": {},
   "source": [
    "Сколько игр выпускалось в разные годы. Важны ли данные за все периоды?"
   ]
  },
  {
   "cell_type": "code",
   "execution_count": 21,
   "metadata": {},
   "outputs": [
    {
     "data": {
      "image/png": "[encoded data removed]",
      "text/plain": [
       "<Figure size 432x288 with 1 Axes>"
      ]
     },
     "metadata": {
      "needs_background": "light"
     },
     "output_type": "display_data"
    }
   ],
   "source": [
    "df['year_of_release'].plot(kind = 'hist', bins = 35)\n",
    "plt.title('Выпуск по годам')\n",
    "plt.show()"
   ]
  },
  {
   "cell_type": "markdown",
   "metadata": {},
   "source": [
    "<div class=\"alert alert-block alert-danger\">\n",
    " \n",
    "### Комментарий ревьюера\n",
    "    \n",
    "#### Ошибка\n",
    "    \n",
    "Давай уберем некрасивые пропуски между столбцами. Для этого надо вывести меньше корзин. "
   ]
  },
  {
   "cell_type": "markdown",
   "metadata": {},
   "source": [
    "<div class=\"alert alert-block alert-success\">\n",
    " \n",
    "# Комментарий ревьюера ver.2 \n",
    "    \n",
    "#### Успех\n",
    "    \n",
    "И тут уже супер"
   ]
  },
  {
   "cell_type": "markdown",
   "metadata": {},
   "source": [
    "Создание игр началось в 1980 году.\n",
    "\n",
    "Мы видим постоянный рост количества игр.\n",
    "Пик производства пришелся на 2009 год. \n",
    "Количество игр с 2010 по 2015 года примерно одникаковое.\n",
    "\n",
    "Данные до 1995 года можно было не использовать, т.к в эти года данная сфера не особо развивалась."
   ]
  },
  {
   "cell_type": "markdown",
   "metadata": {},
   "source": [
    "Посмотрите, как менялись продажи по платформам. Выберите платформы с наибольшими суммарными продажами и постройте распределение по годам. За какой характерный срок появляются новые и исчезают старые платформы? Возьмите данные за соответствующий актуальный период. Актуальный период определите самостоятельно в результате исследования предыдущих вопросов. Основной фактор — эти данные помогут построить прогноз на 2017 год. Не учитывайте в работе данные за предыдущие годы. Какие платформы лидируют по продажам, растут или падают?"
   ]
  },
  {
   "cell_type": "code",
   "execution_count": 22,
   "metadata": {},
   "outputs": [
    {
     "data": {
      "text/html": [
       "<div>\n",
       "<style scoped>\n",
       "    .dataframe tbody tr th:only-of-type {\n",
       "        vertical-align: middle;\n",
       "    }\n",
       "\n",
       "    .dataframe tbody tr th {\n",
       "        vertical-align: top;\n",
       "    }\n",
       "\n",
       "    .dataframe thead tr th {\n",
       "        text-align: left;\n",
       "    }\n",
       "\n",
       "    .dataframe thead tr:last-of-type th {\n",
       "        text-align: right;\n",
       "    }\n",
       "</style>\n",
       "<table border=\"1\" class=\"dataframe\">\n",
       "  <thead>\n",
       "    <tr>\n",
       "      <th></th>\n",
       "      <th>sum</th>\n",
       "    </tr>\n",
       "    <tr>\n",
       "      <th></th>\n",
       "      <th>total_sales</th>\n",
       "    </tr>\n",
       "    <tr>\n",
       "      <th>platform</th>\n",
       "      <th></th>\n",
       "    </tr>\n",
       "  </thead>\n",
       "  <tbody>\n",
       "    <tr>\n",
       "      <th>PS2</th>\n",
       "      <td>1255.77</td>\n",
       "    </tr>\n",
       "    <tr>\n",
       "      <th>X360</th>\n",
       "      <td>971.42</td>\n",
       "    </tr>\n",
       "    <tr>\n",
       "      <th>PS3</th>\n",
       "      <td>939.65</td>\n",
       "    </tr>\n",
       "    <tr>\n",
       "      <th>Wii</th>\n",
       "      <td>907.51</td>\n",
       "    </tr>\n",
       "    <tr>\n",
       "      <th>DS</th>\n",
       "      <td>806.12</td>\n",
       "    </tr>\n",
       "    <tr>\n",
       "      <th>PS</th>\n",
       "      <td>730.86</td>\n",
       "    </tr>\n",
       "    <tr>\n",
       "      <th>GBA</th>\n",
       "      <td>317.85</td>\n",
       "    </tr>\n",
       "    <tr>\n",
       "      <th>PS4</th>\n",
       "      <td>314.14</td>\n",
       "    </tr>\n",
       "    <tr>\n",
       "      <th>PSP</th>\n",
       "      <td>294.05</td>\n",
       "    </tr>\n",
       "    <tr>\n",
       "      <th>PC</th>\n",
       "      <td>259.52</td>\n",
       "    </tr>\n",
       "  </tbody>\n",
       "</table>\n",
       "</div>"
      ],
      "text/plain": [
       "                 sum\n",
       "         total_sales\n",
       "platform            \n",
       "PS2          1255.77\n",
       "X360          971.42\n",
       "PS3           939.65\n",
       "Wii           907.51\n",
       "DS            806.12\n",
       "PS            730.86\n",
       "GBA           317.85\n",
       "PS4           314.14\n",
       "PSP           294.05\n",
       "PC            259.52"
      ]
     },
     "execution_count": 22,
     "metadata": {},
     "output_type": "execute_result"
    }
   ],
   "source": [
    "sales_by_platforms =df.pivot_table(\n",
    "                                 index = ['platform'], \n",
    "                                 values = ['total_sales'],\n",
    "                                 aggfunc =  ['sum'])\n",
    "sales_by_platforms.sort_values(('sum', 'total_sales'),ascending = False).head(10)"
   ]
  },
  {
   "cell_type": "markdown",
   "metadata": {},
   "source": [
    "<div class=\"alert alert-block alert-success\">\n",
    " \n",
    "### Комментарий ревьюера\n",
    "    \n",
    "#### Успех\n",
    "    \n",
    "Вот и на рейтинг по суммарным продажам посмотрели"
   ]
  },
  {
   "cell_type": "markdown",
   "metadata": {},
   "source": [
    "Возьмем первые 6 платформ"
   ]
  },
  {
   "cell_type": "code",
   "execution_count": 23,
   "metadata": {},
   "outputs": [],
   "source": [
    "top_platform_df = df.query('platform == [\"X360\",\"PS3\",\"Wii\",]')"
   ]
  },
  {
   "cell_type": "code",
   "execution_count": 24,
   "metadata": {},
   "outputs": [
    {
     "data": {
      "image/png": "[encoded data removed]",
      "text/plain": [
       "<Figure size 1440x720 with 1 Axes>"
      ]
     },
     "metadata": {
      "needs_background": "light"
     },
     "output_type": "display_data"
    }
   ],
   "source": [
    "top_platforms_by_years =top_platform_df.pivot_table(\n",
    "                                 index = ['year_of_release'], \\\n",
    "                                 columns = ['platform'],\n",
    "                                 values = ['total_sales'],\n",
    "                                 aggfunc =  ['sum'])\n",
    "top_platforms_by_years.plot(figsize = (20,10))\n",
    "plt.show()"
   ]
  },
  {
   "cell_type": "markdown",
   "metadata": {},
   "source": [
    "<div class=\"alert alert-block alert-danger\">\n",
    " \n",
    "### Комментарий ревьюера\n",
    "    \n",
    "#### Ошибка\n",
    "    \n",
    "Давай уберем неинформативную часть графиков. "
   ]
  },
  {
   "cell_type": "markdown",
   "metadata": {},
   "source": [
    "<div class=\"alert alert-block alert-success\">\n",
    " \n",
    "# Комментарий ревьюера ver.2 \n",
    "    \n",
    "#### Успех\n",
    "    \n",
    "Другое дело"
   ]
  },
  {
   "cell_type": "markdown",
   "metadata": {},
   "source": [
    "Жизненный цикл каждой платформы 10 лет."
   ]
  },
  {
   "cell_type": "markdown",
   "metadata": {},
   "source": [
    "Актуальный период: Устанавливаем актуальный период с 2012 года, т.к. самые доходные платформы из графика выше еще не перестали \"приносить\" деньги."
   ]
  },
  {
   "cell_type": "code",
   "execution_count": 25,
   "metadata": {},
   "outputs": [
    {
     "data": {
      "text/html": [
       "<div>\n",
       "<style scoped>\n",
       "    .dataframe tbody tr th:only-of-type {\n",
       "        vertical-align: middle;\n",
       "    }\n",
       "\n",
       "    .dataframe tbody tr th {\n",
       "        vertical-align: top;\n",
       "    }\n",
       "\n",
       "    .dataframe thead th {\n",
       "        text-align: right;\n",
       "    }\n",
       "</style>\n",
       "<table border=\"1\" class=\"dataframe\">\n",
       "  <thead>\n",
       "    <tr style=\"text-align: right;\">\n",
       "      <th></th>\n",
       "      <th>name</th>\n",
       "      <th>platform</th>\n",
       "      <th>year_of_release</th>\n",
       "      <th>genre</th>\n",
       "      <th>na_sales</th>\n",
       "      <th>eu_sales</th>\n",
       "      <th>jp_sales</th>\n",
       "      <th>other_sales</th>\n",
       "      <th>critic_score</th>\n",
       "      <th>user_score</th>\n",
       "      <th>rating</th>\n",
       "      <th>total_sales</th>\n",
       "    </tr>\n",
       "  </thead>\n",
       "  <tbody>\n",
       "    <tr>\n",
       "      <th>16</th>\n",
       "      <td>Grand Theft Auto V</td>\n",
       "      <td>PS3</td>\n",
       "      <td>2013</td>\n",
       "      <td>Action</td>\n",
       "      <td>7.02</td>\n",
       "      <td>9.09</td>\n",
       "      <td>0.98</td>\n",
       "      <td>3.96</td>\n",
       "      <td>97.0</td>\n",
       "      <td>8.2</td>\n",
       "      <td>M</td>\n",
       "      <td>21.05</td>\n",
       "    </tr>\n",
       "    <tr>\n",
       "      <th>23</th>\n",
       "      <td>Grand Theft Auto V</td>\n",
       "      <td>X360</td>\n",
       "      <td>2013</td>\n",
       "      <td>Action</td>\n",
       "      <td>9.66</td>\n",
       "      <td>5.14</td>\n",
       "      <td>0.06</td>\n",
       "      <td>1.41</td>\n",
       "      <td>97.0</td>\n",
       "      <td>8.1</td>\n",
       "      <td>M</td>\n",
       "      <td>16.27</td>\n",
       "    </tr>\n",
       "    <tr>\n",
       "      <th>31</th>\n",
       "      <td>Call of Duty: Black Ops 3</td>\n",
       "      <td>PS4</td>\n",
       "      <td>2015</td>\n",
       "      <td>Shooter</td>\n",
       "      <td>6.03</td>\n",
       "      <td>5.86</td>\n",
       "      <td>0.36</td>\n",
       "      <td>2.38</td>\n",
       "      <td>NaN</td>\n",
       "      <td>NaN</td>\n",
       "      <td>without</td>\n",
       "      <td>14.63</td>\n",
       "    </tr>\n",
       "    <tr>\n",
       "      <th>33</th>\n",
       "      <td>Pokemon X/Pokemon Y</td>\n",
       "      <td>3DS</td>\n",
       "      <td>2013</td>\n",
       "      <td>Role-Playing</td>\n",
       "      <td>5.28</td>\n",
       "      <td>4.19</td>\n",
       "      <td>4.35</td>\n",
       "      <td>0.78</td>\n",
       "      <td>NaN</td>\n",
       "      <td>NaN</td>\n",
       "      <td>without</td>\n",
       "      <td>14.60</td>\n",
       "    </tr>\n",
       "    <tr>\n",
       "      <th>34</th>\n",
       "      <td>Call of Duty: Black Ops II</td>\n",
       "      <td>PS3</td>\n",
       "      <td>2012</td>\n",
       "      <td>Shooter</td>\n",
       "      <td>4.99</td>\n",
       "      <td>5.73</td>\n",
       "      <td>0.65</td>\n",
       "      <td>2.42</td>\n",
       "      <td>83.0</td>\n",
       "      <td>5.3</td>\n",
       "      <td>M</td>\n",
       "      <td>13.79</td>\n",
       "    </tr>\n",
       "    <tr>\n",
       "      <th>...</th>\n",
       "      <td>...</td>\n",
       "      <td>...</td>\n",
       "      <td>...</td>\n",
       "      <td>...</td>\n",
       "      <td>...</td>\n",
       "      <td>...</td>\n",
       "      <td>...</td>\n",
       "      <td>...</td>\n",
       "      <td>...</td>\n",
       "      <td>...</td>\n",
       "      <td>...</td>\n",
       "      <td>...</td>\n",
       "    </tr>\n",
       "    <tr>\n",
       "      <th>16703</th>\n",
       "      <td>Strawberry Nauts</td>\n",
       "      <td>PSV</td>\n",
       "      <td>2016</td>\n",
       "      <td>Adventure</td>\n",
       "      <td>0.00</td>\n",
       "      <td>0.00</td>\n",
       "      <td>0.01</td>\n",
       "      <td>0.00</td>\n",
       "      <td>NaN</td>\n",
       "      <td>NaN</td>\n",
       "      <td>without</td>\n",
       "      <td>0.01</td>\n",
       "    </tr>\n",
       "    <tr>\n",
       "      <th>16707</th>\n",
       "      <td>Aiyoku no Eustia</td>\n",
       "      <td>PSV</td>\n",
       "      <td>2014</td>\n",
       "      <td>Misc</td>\n",
       "      <td>0.00</td>\n",
       "      <td>0.00</td>\n",
       "      <td>0.01</td>\n",
       "      <td>0.00</td>\n",
       "      <td>NaN</td>\n",
       "      <td>NaN</td>\n",
       "      <td>without</td>\n",
       "      <td>0.01</td>\n",
       "    </tr>\n",
       "    <tr>\n",
       "      <th>16710</th>\n",
       "      <td>Samurai Warriors: Sanada Maru</td>\n",
       "      <td>PS3</td>\n",
       "      <td>2016</td>\n",
       "      <td>Action</td>\n",
       "      <td>0.00</td>\n",
       "      <td>0.00</td>\n",
       "      <td>0.01</td>\n",
       "      <td>0.00</td>\n",
       "      <td>NaN</td>\n",
       "      <td>NaN</td>\n",
       "      <td>without</td>\n",
       "      <td>0.01</td>\n",
       "    </tr>\n",
       "    <tr>\n",
       "      <th>16712</th>\n",
       "      <td>Haitaka no Psychedelica</td>\n",
       "      <td>PSV</td>\n",
       "      <td>2016</td>\n",
       "      <td>Adventure</td>\n",
       "      <td>0.00</td>\n",
       "      <td>0.00</td>\n",
       "      <td>0.01</td>\n",
       "      <td>0.00</td>\n",
       "      <td>NaN</td>\n",
       "      <td>NaN</td>\n",
       "      <td>without</td>\n",
       "      <td>0.01</td>\n",
       "    </tr>\n",
       "    <tr>\n",
       "      <th>16714</th>\n",
       "      <td>Winning Post 8 2016</td>\n",
       "      <td>PSV</td>\n",
       "      <td>2016</td>\n",
       "      <td>Simulation</td>\n",
       "      <td>0.00</td>\n",
       "      <td>0.00</td>\n",
       "      <td>0.01</td>\n",
       "      <td>0.00</td>\n",
       "      <td>NaN</td>\n",
       "      <td>NaN</td>\n",
       "      <td>without</td>\n",
       "      <td>0.01</td>\n",
       "    </tr>\n",
       "  </tbody>\n",
       "</table>\n",
       "<p>2886 rows × 12 columns</p>\n",
       "</div>"
      ],
      "text/plain": [
       "                                name platform  year_of_release         genre  \\\n",
       "16                Grand Theft Auto V      PS3             2013        Action   \n",
       "23                Grand Theft Auto V     X360             2013        Action   \n",
       "31         Call of Duty: Black Ops 3      PS4             2015       Shooter   \n",
       "33               Pokemon X/Pokemon Y      3DS             2013  Role-Playing   \n",
       "34        Call of Duty: Black Ops II      PS3             2012       Shooter   \n",
       "...                              ...      ...              ...           ...   \n",
       "16703               Strawberry Nauts      PSV             2016     Adventure   \n",
       "16707               Aiyoku no Eustia      PSV             2014          Misc   \n",
       "16710  Samurai Warriors: Sanada Maru      PS3             2016        Action   \n",
       "16712        Haitaka no Psychedelica      PSV             2016     Adventure   \n",
       "16714            Winning Post 8 2016      PSV             2016    Simulation   \n",
       "\n",
       "       na_sales  eu_sales  jp_sales  other_sales  critic_score  user_score  \\\n",
       "16         7.02      9.09      0.98         3.96          97.0         8.2   \n",
       "23         9.66      5.14      0.06         1.41          97.0         8.1   \n",
       "31         6.03      5.86      0.36         2.38           NaN         NaN   \n",
       "33         5.28      4.19      4.35         0.78           NaN         NaN   \n",
       "34         4.99      5.73      0.65         2.42          83.0         5.3   \n",
       "...         ...       ...       ...          ...           ...         ...   \n",
       "16703      0.00      0.00      0.01         0.00           NaN         NaN   \n",
       "16707      0.00      0.00      0.01         0.00           NaN         NaN   \n",
       "16710      0.00      0.00      0.01         0.00           NaN         NaN   \n",
       "16712      0.00      0.00      0.01         0.00           NaN         NaN   \n",
       "16714      0.00      0.00      0.01         0.00           NaN         NaN   \n",
       "\n",
       "        rating  total_sales  \n",
       "16           M        21.05  \n",
       "23           M        16.27  \n",
       "31     without        14.63  \n",
       "33     without        14.60  \n",
       "34           M        13.79  \n",
       "...        ...          ...  \n",
       "16703  without         0.01  \n",
       "16707  without         0.01  \n",
       "16710  without         0.01  \n",
       "16712  without         0.01  \n",
       "16714  without         0.01  \n",
       "\n",
       "[2886 rows x 12 columns]"
      ]
     },
     "execution_count": 25,
     "metadata": {},
     "output_type": "execute_result"
    }
   ],
   "source": [
    "actual_df = df.query('year_of_release >= 2012')\n",
    "actual_df"
   ]
  },
  {
   "cell_type": "markdown",
   "metadata": {},
   "source": [
    "<div class=\"alert alert-block alert-success\">\n",
    " \n",
    "### Комментарий ревьюера\n",
    "    \n",
    "#### Успех\n",
    "    \n",
    "С актуальным периодом согласен. Нам незачем смотреть на старые данные."
   ]
  },
  {
   "cell_type": "markdown",
   "metadata": {},
   "source": [
    "Посмотрим, кто из оставшихся платформ лидирует."
   ]
  },
  {
   "cell_type": "code",
   "execution_count": 26,
   "metadata": {},
   "outputs": [
    {
     "data": {
      "text/html": [
       "<div>\n",
       "<style scoped>\n",
       "    .dataframe tbody tr th:only-of-type {\n",
       "        vertical-align: middle;\n",
       "    }\n",
       "\n",
       "    .dataframe tbody tr th {\n",
       "        vertical-align: top;\n",
       "    }\n",
       "\n",
       "    .dataframe thead tr th {\n",
       "        text-align: left;\n",
       "    }\n",
       "\n",
       "    .dataframe thead tr:last-of-type th {\n",
       "        text-align: right;\n",
       "    }\n",
       "</style>\n",
       "<table border=\"1\" class=\"dataframe\">\n",
       "  <thead>\n",
       "    <tr>\n",
       "      <th></th>\n",
       "      <th>sum</th>\n",
       "    </tr>\n",
       "    <tr>\n",
       "      <th></th>\n",
       "      <th>total_sales</th>\n",
       "    </tr>\n",
       "    <tr>\n",
       "      <th>platform</th>\n",
       "      <th></th>\n",
       "    </tr>\n",
       "  </thead>\n",
       "  <tbody>\n",
       "    <tr>\n",
       "      <th>PS4</th>\n",
       "      <td>314.14</td>\n",
       "    </tr>\n",
       "    <tr>\n",
       "      <th>PS3</th>\n",
       "      <td>288.79</td>\n",
       "    </tr>\n",
       "    <tr>\n",
       "      <th>X360</th>\n",
       "      <td>236.54</td>\n",
       "    </tr>\n",
       "    <tr>\n",
       "      <th>3DS</th>\n",
       "      <td>194.61</td>\n",
       "    </tr>\n",
       "    <tr>\n",
       "      <th>XOne</th>\n",
       "      <td>159.32</td>\n",
       "    </tr>\n",
       "    <tr>\n",
       "      <th>WiiU</th>\n",
       "      <td>82.19</td>\n",
       "    </tr>\n",
       "    <tr>\n",
       "      <th>PC</th>\n",
       "      <td>62.65</td>\n",
       "    </tr>\n",
       "    <tr>\n",
       "      <th>PSV</th>\n",
       "      <td>49.18</td>\n",
       "    </tr>\n",
       "    <tr>\n",
       "      <th>Wii</th>\n",
       "      <td>35.37</td>\n",
       "    </tr>\n",
       "    <tr>\n",
       "      <th>DS</th>\n",
       "      <td>12.55</td>\n",
       "    </tr>\n",
       "    <tr>\n",
       "      <th>PSP</th>\n",
       "      <td>11.19</td>\n",
       "    </tr>\n",
       "  </tbody>\n",
       "</table>\n",
       "</div>"
      ],
      "text/plain": [
       "                 sum\n",
       "         total_sales\n",
       "platform            \n",
       "PS4           314.14\n",
       "PS3           288.79\n",
       "X360          236.54\n",
       "3DS           194.61\n",
       "XOne          159.32\n",
       "WiiU           82.19\n",
       "PC             62.65\n",
       "PSV            49.18\n",
       "Wii            35.37\n",
       "DS             12.55\n",
       "PSP            11.19"
      ]
     },
     "execution_count": 26,
     "metadata": {},
     "output_type": "execute_result"
    }
   ],
   "source": [
    "sales_by_actual_platforms =actual_df.pivot_table(\n",
    "                                 index = ['platform'], \n",
    "                                 values = ['total_sales'],\n",
    "                                 aggfunc =  ['sum'])\n",
    "sales_by_actual_platforms.sort_values(('sum', 'total_sales'),ascending = False)"
   ]
  },
  {
   "cell_type": "markdown",
   "metadata": {},
   "source": [
    "В лидерах: PS4, PS3, X360"
   ]
  },
  {
   "cell_type": "markdown",
   "metadata": {},
   "source": [
    "Посмотрим, на каком этапе доходности они сейчас находятся."
   ]
  },
  {
   "cell_type": "code",
   "execution_count": 27,
   "metadata": {},
   "outputs": [
    {
     "data": {
      "image/png": "[encoded data removed]",
      "text/plain": [
       "<Figure size 1800x1080 with 1 Axes>"
      ]
     },
     "metadata": {
      "needs_background": "light"
     },
     "output_type": "display_data"
    }
   ],
   "source": [
    "top_platforms_actual_df =actual_df.pivot_table(\n",
    "                                 index = ['year_of_release'], \\\n",
    "                                 columns = ['platform'],\n",
    "                                 values = ['total_sales'],\n",
    "                                 aggfunc =  ['sum'])\n",
    "top_platforms_actual_df.plot(figsize = (25,15))\n",
    "plt.show()"
   ]
  },
  {
   "cell_type": "markdown",
   "metadata": {},
   "source": [
    "<div class=\"alert alert-block alert-danger\">\n",
    " \n",
    "### Комментарий ревьюера\n",
    "    \n",
    "#### Ошибка\n",
    "    \n",
    "Тут надо бы убрать легенду с кривых графика. Надо сделать так, чтобы она не перекрывала кривые."
   ]
  },
  {
   "cell_type": "markdown",
   "metadata": {},
   "source": [
    "<div class=\"alert alert-block alert-success\">\n",
    " \n",
    "# Комментарий ревьюера ver.2 \n",
    "    \n",
    "#### Успех\n",
    "    \n",
    "Отлично вышло"
   ]
  },
  {
   "cell_type": "markdown",
   "metadata": {},
   "source": [
    "Изменил размер графика."
   ]
  },
  {
   "cell_type": "markdown",
   "metadata": {},
   "source": [
    "Большинство платформ идет к \"закату\". \n",
    "\n",
    "Перспективные платформы: PS4 и XOne."
   ]
  },
  {
   "cell_type": "code",
   "execution_count": 50,
   "metadata": {},
   "outputs": [
    {
     "data": {
      "image/png": "[encoded data removed]",
      "text/plain": [
       "<Figure size 1152x720 with 1 Axes>"
      ]
     },
     "metadata": {
      "needs_background": "light"
     },
     "output_type": "display_data"
    }
   ],
   "source": [
    "actual_df.query('platform == [\"PS4\", \"PS3\",\"X360\", \"XOne\"]').boxplot(column = ['total_sales'],by = ['platform'],figsize=(16, 10))\n",
    "plt.ylim([0, 2])\n",
    "plt.show()"
   ]
  },
  {
   "cell_type": "markdown",
   "metadata": {},
   "source": [
    "<div class=\"alert alert-block alert-danger\">\n",
    " \n",
    "### Комментарий ревьюера\n",
    "    \n",
    "#### Ошибка\n",
    "    \n",
    "Тут правильнее будет оставить штук 5 наиболее перспективных платформ актуального периода. "
   ]
  },
  {
   "cell_type": "markdown",
   "metadata": {},
   "source": [
    "Не могу понять, как это сделать, можешь подсказать?"
   ]
  },
  {
   "cell_type": "markdown",
   "metadata": {},
   "source": [
    "<div class=\"alert alert-block alert-danger\">\n",
    " \n",
    "# Комментарий ревьюера ver.2 \n",
    "    \n",
    "#### Ошибка\n",
    "    \n",
    "Просто для этого сделай сред для лучших на твой взгляд платформ. Можешь сделать это через query. Например df.duery('платформа == \"Название\"')"
   ]
  },
  {
   "cell_type": "markdown",
   "metadata": {},
   "source": [
    "<div class=\"alert alert-block alert-success\">\n",
    " \n",
    "# Комментарий ревьюера ver.3\n",
    "    \n",
    "#### Успех\n",
    "    \n",
    "Теперь здорово"
   ]
  },
  {
   "cell_type": "markdown",
   "metadata": {},
   "source": [
    "Я же вчера так пробовал))) Но делал отдельно, поэтому у меня ничего не менялось. "
   ]
  },
  {
   "cell_type": "markdown",
   "metadata": {},
   "source": [
    "В лидерах ps3, ps4, x360 и xOne"
   ]
  },
  {
   "cell_type": "markdown",
   "metadata": {},
   "source": [
    "Как влияют на продажи внутри одной популярной платформы отзывы пользователей и критиков?"
   ]
  },
  {
   "cell_type": "markdown",
   "metadata": {},
   "source": [
    "Возьмем платформу PS4"
   ]
  },
  {
   "cell_type": "code",
   "execution_count": 29,
   "metadata": {},
   "outputs": [],
   "source": [
    "ps4_df = actual_df.query('platform == \"PS4\"')\n",
    "ps4_df = ps4_df.sort_values('user_score',ascending = False)"
   ]
  },
  {
   "cell_type": "code",
   "execution_count": 30,
   "metadata": {},
   "outputs": [
    {
     "data": {
      "image/png": "[encoded data removed]",
      "text/plain": [
       "<Figure size 720x720 with 1 Axes>"
      ]
     },
     "metadata": {
      "needs_background": "light"
     },
     "output_type": "display_data"
    }
   ],
   "source": [
    "ps4_user_score = sns.scatterplot(data = ps4_df, x = 'user_score',y = 'total_sales')\n",
    "ps4_user_score.figure.set_figwidth(10)\n",
    "ps4_user_score.figure.set_figheight(10)"
   ]
  },
  {
   "cell_type": "markdown",
   "metadata": {},
   "source": [
    "Найдем корреляцию"
   ]
  },
  {
   "cell_type": "code",
   "execution_count": 31,
   "metadata": {},
   "outputs": [
    {
     "data": {
      "text/plain": [
       "-0.031957110204556424"
      ]
     },
     "execution_count": 31,
     "metadata": {},
     "output_type": "execute_result"
    }
   ],
   "source": [
    "ps4_df['user_score'].corr(ps4_df['total_sales'])"
   ]
  },
  {
   "cell_type": "markdown",
   "metadata": {},
   "source": [
    "<div class=\"alert alert-block alert-success\">\n",
    " \n",
    "### Комментарий ревьюера\n",
    "    \n",
    "#### Успех\n",
    "    \n",
    "Классный способ для показа зависимости на графике. "
   ]
  },
  {
   "cell_type": "markdown",
   "metadata": {},
   "source": [
    "Вывод: оценки пользователей почти не влияют на продажи"
   ]
  },
  {
   "cell_type": "markdown",
   "metadata": {},
   "source": [
    "Посмотрим за зависимость оценок и продаж"
   ]
  },
  {
   "cell_type": "code",
   "execution_count": 32,
   "metadata": {},
   "outputs": [
    {
     "data": {
      "image/png": "[encoded data removed]",
      "text/plain": [
       "<Figure size 720x720 with 1 Axes>"
      ]
     },
     "metadata": {
      "needs_background": "light"
     },
     "output_type": "display_data"
    }
   ],
   "source": [
    "ps4_critic_score = sns.scatterplot(data = ps4_df, x = 'critic_score',y = 'total_sales')\n",
    "ps4_critic_score.figure.set_figwidth(10)\n",
    "ps4_critic_score.figure.set_figheight(10)"
   ]
  },
  {
   "cell_type": "code",
   "execution_count": 33,
   "metadata": {},
   "outputs": [
    {
     "data": {
      "text/plain": [
       "0.40656790206178134"
      ]
     },
     "execution_count": 33,
     "metadata": {},
     "output_type": "execute_result"
    }
   ],
   "source": [
    "ps4_df['critic_score'].corr(ps4_df['total_sales'])"
   ]
  },
  {
   "cell_type": "markdown",
   "metadata": {},
   "source": [
    "<div class=\"alert alert-block alert-success\">\n",
    " \n",
    "### Комментарий ревьюера\n",
    "    \n",
    "#### Успех\n",
    "\n",
    "В оценках критиков ситуация намного лучше"
   ]
  },
  {
   "cell_type": "markdown",
   "metadata": {},
   "source": [
    "Корреляция при оценке критиков выше, чем при оценке пользователей. Но все равно она около нулевая, поэтому зависимости нет."
   ]
  },
  {
   "cell_type": "markdown",
   "metadata": {},
   "source": [
    " "
   ]
  },
  {
   "cell_type": "markdown",
   "metadata": {},
   "source": [
    "Посчитаем корреляцию для двух других популярных платформ PS3 и x360"
   ]
  },
  {
   "cell_type": "code",
   "execution_count": 34,
   "metadata": {},
   "outputs": [
    {
     "data": {
      "text/plain": [
       "-0.005143522887113809"
      ]
     },
     "metadata": {},
     "output_type": "display_data"
    },
    {
     "data": {
      "text/plain": [
       "0.33149725926295903"
      ]
     },
     "metadata": {},
     "output_type": "display_data"
    }
   ],
   "source": [
    "ps3_df = actual_df.query('platform == \"PS3\"')\n",
    "ps3_df = ps3_df.sort_values('user_score',ascending = False)\n",
    "display(ps3_df['user_score'].corr(ps3_df['total_sales']))\n",
    "display(ps3_df['critic_score'].corr(ps3_df['total_sales']))"
   ]
  },
  {
   "cell_type": "code",
   "execution_count": 35,
   "metadata": {},
   "outputs": [
    {
     "data": {
      "text/plain": [
       "-0.031957110204556445"
      ]
     },
     "metadata": {},
     "output_type": "display_data"
    },
    {
     "data": {
      "text/plain": [
       "0.4065679020617813"
      ]
     },
     "metadata": {},
     "output_type": "display_data"
    }
   ],
   "source": [
    "x360_df = actual_df.query('platform == \"x360\"')\n",
    "x360_df = ps4_df.sort_values('user_score',ascending = False)\n",
    "display(x360_df['user_score'].corr(x360_df['total_sales']))\n",
    "display(x360_df['critic_score'].corr(x360_df['total_sales']))"
   ]
  },
  {
   "cell_type": "markdown",
   "metadata": {},
   "source": [
    "Выводы: Оценки пользователей не влияют на продажи. Критики немного повышают продажи хорошими оценками\n",
    "\n",
    "Прямой зависимости нет."
   ]
  },
  {
   "cell_type": "markdown",
   "metadata": {},
   "source": [
    "<div class=\"alert alert-block alert-success\">\n",
    " \n",
    "### Комментарий ревьюера\n",
    "    \n",
    "#### Успех\n",
    "    \n",
    "Выводы на основе данных нескольких платформ выглядят убедительно. "
   ]
  },
  {
   "cell_type": "markdown",
   "metadata": {},
   "source": [
    " "
   ]
  },
  {
   "cell_type": "markdown",
   "metadata": {},
   "source": [
    "Посмотрите на общее распределение игр по жанрам. Что можно сказать о самых прибыльных жанрах? Выделяются ли жанры с высокими и низкими продажами?"
   ]
  },
  {
   "cell_type": "code",
   "execution_count": 36,
   "metadata": {},
   "outputs": [
    {
     "data": {
      "text/html": [
       "<div>\n",
       "<style scoped>\n",
       "    .dataframe tbody tr th:only-of-type {\n",
       "        vertical-align: middle;\n",
       "    }\n",
       "\n",
       "    .dataframe tbody tr th {\n",
       "        vertical-align: top;\n",
       "    }\n",
       "\n",
       "    .dataframe thead th {\n",
       "        text-align: right;\n",
       "    }\n",
       "</style>\n",
       "<table border=\"1\" class=\"dataframe\">\n",
       "  <thead>\n",
       "    <tr style=\"text-align: right;\">\n",
       "      <th></th>\n",
       "      <th>genre</th>\n",
       "      <th>name</th>\n",
       "    </tr>\n",
       "  </thead>\n",
       "  <tbody>\n",
       "    <tr>\n",
       "      <th>0</th>\n",
       "      <td>Action</td>\n",
       "      <td>1031</td>\n",
       "    </tr>\n",
       "    <tr>\n",
       "      <th>7</th>\n",
       "      <td>Role-Playing</td>\n",
       "      <td>370</td>\n",
       "    </tr>\n",
       "    <tr>\n",
       "      <th>1</th>\n",
       "      <td>Adventure</td>\n",
       "      <td>302</td>\n",
       "    </tr>\n",
       "    <tr>\n",
       "      <th>10</th>\n",
       "      <td>Sports</td>\n",
       "      <td>268</td>\n",
       "    </tr>\n",
       "    <tr>\n",
       "      <th>8</th>\n",
       "      <td>Shooter</td>\n",
       "      <td>235</td>\n",
       "    </tr>\n",
       "    <tr>\n",
       "      <th>3</th>\n",
       "      <td>Misc</td>\n",
       "      <td>192</td>\n",
       "    </tr>\n",
       "    <tr>\n",
       "      <th>6</th>\n",
       "      <td>Racing</td>\n",
       "      <td>115</td>\n",
       "    </tr>\n",
       "    <tr>\n",
       "      <th>2</th>\n",
       "      <td>Fighting</td>\n",
       "      <td>109</td>\n",
       "    </tr>\n",
       "    <tr>\n",
       "      <th>4</th>\n",
       "      <td>Platform</td>\n",
       "      <td>85</td>\n",
       "    </tr>\n",
       "    <tr>\n",
       "      <th>9</th>\n",
       "      <td>Simulation</td>\n",
       "      <td>80</td>\n",
       "    </tr>\n",
       "    <tr>\n",
       "      <th>11</th>\n",
       "      <td>Strategy</td>\n",
       "      <td>71</td>\n",
       "    </tr>\n",
       "    <tr>\n",
       "      <th>5</th>\n",
       "      <td>Puzzle</td>\n",
       "      <td>28</td>\n",
       "    </tr>\n",
       "  </tbody>\n",
       "</table>\n",
       "</div>"
      ],
      "text/plain": [
       "           genre  name\n",
       "0         Action  1031\n",
       "7   Role-Playing   370\n",
       "1      Adventure   302\n",
       "10        Sports   268\n",
       "8        Shooter   235\n",
       "3           Misc   192\n",
       "6         Racing   115\n",
       "2       Fighting   109\n",
       "4       Platform    85\n",
       "9     Simulation    80\n",
       "11      Strategy    71\n",
       "5         Puzzle    28"
      ]
     },
     "execution_count": 36,
     "metadata": {},
     "output_type": "execute_result"
    }
   ],
   "source": [
    "popular_genre = actual_df.groupby('genre').agg({'name':'count'}).reset_index()\n",
    "popular_genre.sort_values(by='name', ascending=False)"
   ]
  },
  {
   "cell_type": "markdown",
   "metadata": {},
   "source": [
    "Вывод: Лидирует жанр action, меньше всего продаж у puzzle."
   ]
  },
  {
   "cell_type": "markdown",
   "metadata": {},
   "source": [
    "<div class=\"alert alert-block alert-danger\">\n",
    " \n",
    "### Комментарий ревьюера\n",
    "    \n",
    "#### Ошибка\n",
    "    \n",
    "Высокие продажи могут быть вызваны не успехом, а просто огромным количеством игр. Вполне могут быть жанры, где игр немного, но при этом продажи сопоставимы с продажами Экшена. Чтобы проверить это, стоит рассмотреть средние или медианные продажи."
   ]
  },
  {
   "cell_type": "markdown",
   "metadata": {},
   "source": [
    "<div class=\"alert alert-block alert-success\">\n",
    " \n",
    "# Комментарий ревьюера ver.2 \n",
    "    \n",
    "#### Успех\n",
    "    \n",
    "Вот теперь то, что необходимо "
   ]
  },
  {
   "cell_type": "code",
   "execution_count": 37,
   "metadata": {},
   "outputs": [
    {
     "data": {
      "image/png": "[encoded data removed]",
      "text/plain": [
       "<Figure size 1152x720 with 1 Axes>"
      ]
     },
     "metadata": {
      "needs_background": "light"
     },
     "output_type": "display_data"
    }
   ],
   "source": [
    "actual_df.boxplot(column = ['total_sales'],by = ['genre'],figsize=(16, 10))\n",
    "plt.ylim([0, 2])\n",
    "plt.show()"
   ]
  },
  {
   "cell_type": "markdown",
   "metadata": {},
   "source": [
    "Вывод: В жанре Action много выбросов, из-за этого его общая прибыль выше. Но медианное значение выше в жанре Shooter, за ним идут sports и platform."
   ]
  },
  {
   "cell_type": "markdown",
   "metadata": {},
   "source": [
    "# Портрет пользователя каждого региона"
   ]
  },
  {
   "cell_type": "code",
   "execution_count": 38,
   "metadata": {},
   "outputs": [
    {
     "data": {
      "image/png": "[encoded data removed]",
      "text/plain": [
       "<Figure size 432x288 with 1 Axes>"
      ]
     },
     "metadata": {
      "needs_background": "light"
     },
     "output_type": "display_data"
    },
    {
     "data": {
      "image/png": "[encoded data removed]",
      "text/plain": [
       "<Figure size 432x288 with 1 Axes>"
      ]
     },
     "metadata": {
      "needs_background": "light"
     },
     "output_type": "display_data"
    },
    {
     "data": {
      "image/png": "[encoded data removed]",
      "text/plain": [
       "<Figure size 432x288 with 1 Axes>"
      ]
     },
     "metadata": {
      "needs_background": "light"
     },
     "output_type": "display_data"
    }
   ],
   "source": [
    "actual_df.groupby(by='platform').agg({'jp_sales':'sum'}).sort_values(by='jp_sales', ascending=False).head(5).plot(kind='bar')\n",
    "actual_df.groupby(by='platform').agg({'eu_sales':'sum'}).sort_values(by='eu_sales', ascending=False).head(5).plot(kind='bar')\n",
    "actual_df.groupby(by='platform').agg({'na_sales':'sum'}).sort_values(by='na_sales', ascending=False).head(5).plot(kind='bar')\n",
    "plt.show()"
   ]
  },
  {
   "cell_type": "markdown",
   "metadata": {},
   "source": [
    "В Японии лидирует nintendo (3DS)\n",
    "\n",
    "Для Северной Америки и Европы - топ 5 очень сильно похожи."
   ]
  },
  {
   "cell_type": "markdown",
   "metadata": {},
   "source": [
    "<div class=\"alert alert-block alert-success\">\n",
    " \n",
    "### Комментарий ревьюера\n",
    "    \n",
    "#### Успех\n",
    "    \n",
    "Первичное представление о регионах получено "
   ]
  },
  {
   "cell_type": "markdown",
   "metadata": {},
   "source": [
    " "
   ]
  },
  {
   "cell_type": "markdown",
   "metadata": {},
   "source": [
    "Самые популярные жанры."
   ]
  },
  {
   "cell_type": "code",
   "execution_count": 39,
   "metadata": {},
   "outputs": [
    {
     "data": {
      "image/png": "[encoded data removed]",
      "text/plain": [
       "<Figure size 432x288 with 1 Axes>"
      ]
     },
     "metadata": {
      "needs_background": "light"
     },
     "output_type": "display_data"
    },
    {
     "data": {
      "image/png": "[encoded data removed]",
      "text/plain": [
       "<Figure size 432x288 with 1 Axes>"
      ]
     },
     "metadata": {
      "needs_background": "light"
     },
     "output_type": "display_data"
    },
    {
     "data": {
      "image/png": "[encoded data removed]",
      "text/plain": [
       "<Figure size 432x288 with 1 Axes>"
      ]
     },
     "metadata": {
      "needs_background": "light"
     },
     "output_type": "display_data"
    }
   ],
   "source": [
    "actual_df.groupby(by='genre').agg({'jp_sales':'sum'}).sort_values(by='jp_sales', ascending=False).head(5).plot(kind='bar')\n",
    "actual_df.groupby(by='genre').agg({'eu_sales':'sum'}).sort_values(by='eu_sales', ascending=False).head(5).plot(kind='bar')\n",
    "actual_df.groupby(by='genre').agg({'na_sales':'sum'}).sort_values(by='na_sales', ascending=False).head(5).plot(kind='bar')\n",
    "plt.show()"
   ]
  },
  {
   "cell_type": "markdown",
   "metadata": {},
   "source": [
    "Предпочтения Северной Америки и Европы полностью совпадают.\n",
    "\n",
    "В Японии лидирует Role Playing и Action."
   ]
  },
  {
   "cell_type": "markdown",
   "metadata": {},
   "source": [
    "<div class=\"alert alert-block alert-success\">\n",
    " \n",
    "### Комментарий ревьюера\n",
    "    \n",
    "#### Успех\n",
    "    \n",
    "А тут мы видим, что Япония наиболее уникальна среди регионов. "
   ]
  },
  {
   "cell_type": "markdown",
   "metadata": {},
   "source": [
    " "
   ]
  },
  {
   "cell_type": "markdown",
   "metadata": {},
   "source": [
    "Рейтинг ESRB"
   ]
  },
  {
   "cell_type": "code",
   "execution_count": 40,
   "metadata": {},
   "outputs": [
    {
     "data": {
      "image/png": "[encoded data removed]",
      "text/plain": [
       "<Figure size 432x288 with 1 Axes>"
      ]
     },
     "metadata": {
      "needs_background": "light"
     },
     "output_type": "display_data"
    },
    {
     "data": {
      "image/png": "[encoded data removed]",
      "text/plain": [
       "<Figure size 432x288 with 1 Axes>"
      ]
     },
     "metadata": {
      "needs_background": "light"
     },
     "output_type": "display_data"
    },
    {
     "data": {
      "image/png": "[encoded data removed]",
      "text/plain": [
       "<Figure size 432x288 with 1 Axes>"
      ]
     },
     "metadata": {
      "needs_background": "light"
     },
     "output_type": "display_data"
    }
   ],
   "source": [
    "actual_df.groupby(by='rating').agg({'jp_sales':'sum'}).sort_values(by='jp_sales', ascending=False).head(5).plot(kind='bar')\n",
    "actual_df.groupby(by='rating').agg({'eu_sales':'sum'}).sort_values(by='eu_sales', ascending=False).head(5).plot(kind='bar')\n",
    "actual_df.groupby(by='rating').agg({'na_sales':'sum'}).sort_values(by='na_sales', ascending=False).head(5).plot(kind='bar')\n",
    "plt.show()"
   ]
  },
  {
   "cell_type": "markdown",
   "metadata": {},
   "source": [
    "В Японии лидируют игры без рейтинга.\n",
    "\n",
    "В Северной Америке и Европе в лидерах игры для взрослых и для всех."
   ]
  },
  {
   "cell_type": "markdown",
   "metadata": {},
   "source": [
    "<div class=\"alert alert-block alert-success\">\n",
    " \n",
    "### Комментарий ревьюера\n",
    "    \n",
    "#### Успех\n",
    "    \n",
    "Рассмотрев каждый из регионов мы пришли к выводу, что они имеют свою специфику. "
   ]
  },
  {
   "cell_type": "markdown",
   "metadata": {},
   "source": [
    "# Проверка гипотез "
   ]
  },
  {
   "cell_type": "markdown",
   "metadata": {},
   "source": [
    "Средние пользовательские рейтинги платформ Xbox One и PC одинаковые;\n",
    "\n",
    "Нулевая гипотеза - средние пользовательские рейтинги платформ Xbox One и PC равны.\n",
    "Альтернативная гипотеза - средние пользовательские рейтинги платформ Xbox One и PC не равны.\n",
    "\n",
    "Коэффициент alpha 0.05"
   ]
  },
  {
   "cell_type": "code",
   "execution_count": 41,
   "metadata": {},
   "outputs": [
    {
     "name": "stdout",
     "output_type": "stream",
     "text": [
      "p-значение: 0.5535080500643661\n",
      "Не получилось отвергнуть нулевую гипотезу\n"
     ]
    }
   ],
   "source": [
    "alpha = .05\n",
    "\n",
    "xbox_one = actual_df[(actual_df['platform'] == 'XOne') & (actual_df['user_score'] > 0)]['user_score']\n",
    "pc = actual_df[(actual_df['platform'] == 'PC') & (actual_df['user_score'] > 0)]['user_score']\n",
    "\n",
    "results = st.ttest_ind(xbox_one, pc)\n",
    "\n",
    "print('p-значение:', results.pvalue)\n",
    "\n",
    "if (results.pvalue < alpha):\n",
    "    print(\"Отвергаем нулевую гипотезу\")\n",
    "else:\n",
    "    print(\"Не получилось отвергнуть нулевую гипотезу\")"
   ]
  },
  {
   "cell_type": "markdown",
   "metadata": {},
   "source": [
    "Вывод: Разница между рейтингом Xbox One и PC нет.\n"
   ]
  },
  {
   "cell_type": "markdown",
   "metadata": {},
   "source": [
    "<div class=\"alert alert-block alert-success\">\n",
    " \n",
    "### Комментарий ревьюера\n",
    "    \n",
    "#### Успех\n",
    "    \n",
    "Гипотезы сформулированы и верно определен метод проверки. С выводами согласен.  "
   ]
  },
  {
   "cell_type": "markdown",
   "metadata": {},
   "source": [
    "Средние пользовательские рейтинги жанров Action (англ. «действие», экшен-игры) и Sports (англ. «спортивные соревнования») разные.\n",
    "\n",
    "H0: Средние пользовательские рейтинги жанров Action и Sports равны\n",
    "H1: Средние пользовательские рейтинги жанров Action и Sports различаются\n",
    "\n",
    "Коэффициент alpha 0.05"
   ]
  },
  {
   "cell_type": "code",
   "execution_count": 42,
   "metadata": {},
   "outputs": [
    {
     "name": "stdout",
     "output_type": "stream",
     "text": [
      "p-значение: 3.7163089460934874e-26\n",
      "Отвергаем нулевую гипотезу\n"
     ]
    }
   ],
   "source": [
    "alpha = .05\n",
    "\n",
    "action = actual_df[(actual_df['genre'] == 'Action') & (actual_df['user_score'] > 0)]['user_score']\n",
    "sport = actual_df[(actual_df['genre'] == 'Sports') & (actual_df['user_score'] > 0)]['user_score']\n",
    "\n",
    "results = st.ttest_ind(action, sport)\n",
    "\n",
    "print('p-значение:', results.pvalue)\n",
    "\n",
    "if (results.pvalue < alpha):\n",
    "    print(\"Отвергаем нулевую гипотезу\")\n",
    "else:\n",
    "    print(\"Не получилось отвергнуть нулевую гипотезу\")"
   ]
  },
  {
   "cell_type": "markdown",
   "metadata": {},
   "source": [
    "Вывод: Рейтинги Action и Sprots отличаются."
   ]
  },
  {
   "cell_type": "markdown",
   "metadata": {},
   "source": [
    "<div class=\"alert alert-block alert-success\">\n",
    " \n",
    "### Комментарий ревьюера\n",
    "    \n",
    "#### Успех\n",
    "    \n",
    "Аналогично"
   ]
  },
  {
   "cell_type": "markdown",
   "metadata": {},
   "source": [
    "# Общий вывод"
   ]
  },
  {
   "cell_type": "markdown",
   "metadata": {},
   "source": [
    "Ознакомились с таблицей.\n",
    "Привели названия столобцов корректному регистру.\n",
    "Проверили и заменили пропуски, где это возможно.\n",
    "\n",
    "Создание игр началось в 1980 году.\n",
    "\n",
    "Мы видим постоянный рост количества игр. Пик производства пришелся на 2009 год. Количество игр с 2010 по 2015 года примерно одникаковое.\n",
    "\n",
    "Данные до 1995 года можно было не использовать, т.к в эти года данная сфера не особо развивалась.\n",
    "\n",
    "Жизненный цикл каждой платформы 10 лет.\n",
    "\n",
    "Актуальный период: Установили актуальный период с 2012 года, т.к. самые доходные платформы из графика выше еще не перестали \"приносить\" деньги.\n",
    "\n",
    "Большинство платформ идет к \"закату\".\n",
    "\n",
    "Перспективные платформы: PS4 и XOne.\n",
    "\n",
    "В лидерах ps3, ps4, x360 и xOne\n",
    "\n",
    "Оценки пользователей не влияют на продажи. Критики немного повышают продажи хорошими оценками\n",
    "\n",
    "Прямой зависимости нет.\n",
    "\n",
    "По жанрам лидирует жанр action, меньше всего продаж у puzzle.\n",
    "\n",
    "В жанре Action много выбросов, из-за этого его общая прибыль выше. Но медианное значение выше в жанре Shooter, за ним идут sports и platform.\n",
    "\n",
    "\n",
    "Составили портрет пользователя по регионам:\n",
    "\n",
    "В Японии среди платформ лидирует nintendo (3DS)\n",
    "\n",
    "Для Северной Америки и Европы - топ 5 платформ очень сильно похожи. На первых местах семейство PlayStation и Xbox.\n",
    "\n",
    "Предпочтения по жанрам Северной Америки и Европы полностью совпадают, это action и shooter.\n",
    "\n",
    "В Японии лидирует Role Playing и Action.\n",
    "\n",
    "В Японии лидируют игры без рейтинга.\n",
    "\n",
    "В Северной Америке и Европе в лидерах игры для взрослых и для всех.\n",
    "\n",
    "\n",
    "Проверили гипотезы:\n",
    "\n",
    "1.Разница между рейтингом Xbox One и PC нет.\n",
    "2.Рейтинги Action и Sprots отличаются."
   ]
  },
  {
   "cell_type": "markdown",
   "metadata": {},
   "source": [
    "<div class=\"alert alert-block alert-warning\">\n",
    " \n",
    "### Комментарий ревьюера\n",
    "    \n",
    "#### Совет\n",
    "    \n",
    "В итоговый вывод стоит добавить рекомендаций. Тогда будет отлично. "
   ]
  },
  {
   "cell_type": "markdown",
   "metadata": {},
   "source": [
    "<div class=\"alert alert-block alert-info\">\n",
    "\n",
    "## Итоговый комментарии от ревьюера:\n",
    "    \n",
    "#### Успех\n",
    "\n",
    "Спасибо большое тебе за такую качественную работу. Мне было приятно проверять проект и делиться обратной связью. Особенно впечатлила Предобработка данных. Все достаточно структурировано и последовательно. Ты применяешь верные навыки для работы с кодом. Еще хочу отметить понятные и информативные графики. Однако, в проекте есть несколько замечаний, которые надо исправить:\n",
    "\n",
    "* Промежуточные выводы добавить.\n",
    "* Подправить некоторые графики. \n",
    "* Ящик с усами доработать. \n",
    "* Найти и определить самый успешный жанр по медиане или среднему. \n",
    "       \n",
    "Еще я оставил рекомендации. Очень надеюсь, что ты учтешь их в этом и последующих проектах.\n",
    "       \n",
    "Жду проект после доработки. Уверен, ты справишься.\n",
    "</div>"
   ]
  },
  {
   "cell_type": "markdown",
   "metadata": {},
   "source": [
    "<div class=\"alert alert-block alert-success\">\n",
    " \n",
    "# Итоговый Комментарий ревьюера ver.2 \n",
    "    \n",
    "#### Успех\n",
    "    \n",
    "Спасибо тебе за оперативную доработчку замечаний. Сейчас стало намного лучше. Остался один вопрос, который надо подправить. Я оставил подсказку тебе. Уверен, ты быстро справишься.  "
   ]
  }
 ],
 "metadata": {
  "ExecuteTimeLog": [
   {
    "duration": 1490,
    "start_time": "2023-10-30T11:23:59.590Z"
   },
   {
    "duration": 137,
    "start_time": "2023-10-30T11:24:31.867Z"
   },
   {
    "duration": 1490,
    "start_time": "2023-10-30T11:25:11.540Z"
   },
   {
    "duration": 129,
    "start_time": "2023-10-30T11:25:13.032Z"
   },
   {
    "duration": 100,
    "start_time": "2023-10-30T11:25:35.094Z"
   },
   {
    "duration": 21,
    "start_time": "2023-10-30T11:25:45.126Z"
   },
   {
    "duration": 15,
    "start_time": "2023-10-30T11:25:51.775Z"
   },
   {
    "duration": 2,
    "start_time": "2023-10-30T11:31:19.859Z"
   },
   {
    "duration": 55,
    "start_time": "2023-10-30T11:31:20.802Z"
   },
   {
    "duration": 16,
    "start_time": "2023-10-30T11:31:21.690Z"
   },
   {
    "duration": 17,
    "start_time": "2023-10-30T11:31:23.195Z"
   },
   {
    "duration": 9,
    "start_time": "2023-10-30T11:41:17.492Z"
   },
   {
    "duration": 56,
    "start_time": "2023-10-30T11:41:45.162Z"
   },
   {
    "duration": 16,
    "start_time": "2023-10-30T11:41:47.881Z"
   },
   {
    "duration": 15,
    "start_time": "2023-10-30T11:41:52.431Z"
   },
   {
    "duration": 3,
    "start_time": "2023-10-30T11:41:57.265Z"
   },
   {
    "duration": 4,
    "start_time": "2023-10-30T11:42:13.833Z"
   },
   {
    "duration": 4,
    "start_time": "2023-10-30T11:43:18.742Z"
   },
   {
    "duration": 15,
    "start_time": "2023-10-30T11:43:28.348Z"
   },
   {
    "duration": 12,
    "start_time": "2023-10-30T11:44:35.658Z"
   },
   {
    "duration": 87,
    "start_time": "2023-10-30T11:45:41.873Z"
   },
   {
    "duration": 11,
    "start_time": "2023-10-30T11:45:57.622Z"
   },
   {
    "duration": 17,
    "start_time": "2023-10-30T11:46:12.721Z"
   },
   {
    "duration": 5,
    "start_time": "2023-10-30T11:50:26.214Z"
   },
   {
    "duration": 11,
    "start_time": "2023-10-30T11:51:32.330Z"
   },
   {
    "duration": 10,
    "start_time": "2023-10-30T11:51:43.010Z"
   },
   {
    "duration": 11,
    "start_time": "2023-10-30T11:53:51.935Z"
   },
   {
    "duration": 101,
    "start_time": "2023-10-30T11:54:09.167Z"
   },
   {
    "duration": 6,
    "start_time": "2023-10-30T11:55:50.383Z"
   },
   {
    "duration": 4,
    "start_time": "2023-10-30T12:04:24.932Z"
   },
   {
    "duration": 6,
    "start_time": "2023-10-30T12:04:38.252Z"
   },
   {
    "duration": 22,
    "start_time": "2023-10-30T12:05:33.741Z"
   },
   {
    "duration": 8,
    "start_time": "2023-10-30T12:07:54.429Z"
   },
   {
    "duration": 10,
    "start_time": "2023-10-30T12:08:20.892Z"
   },
   {
    "duration": 17,
    "start_time": "2023-10-30T12:08:26.764Z"
   },
   {
    "duration": 103,
    "start_time": "2023-10-30T12:10:35.410Z"
   },
   {
    "duration": 6,
    "start_time": "2023-10-30T12:11:04.637Z"
   },
   {
    "duration": 16,
    "start_time": "2023-10-30T12:11:17.108Z"
   },
   {
    "duration": 14,
    "start_time": "2023-10-30T12:11:42.108Z"
   },
   {
    "duration": 312,
    "start_time": "2023-10-30T12:11:50.249Z"
   },
   {
    "duration": 407,
    "start_time": "2023-10-30T12:12:15.374Z"
   },
   {
    "duration": 1151,
    "start_time": "2023-10-30T12:12:21.386Z"
   },
   {
    "duration": 55,
    "start_time": "2023-10-30T12:12:22.539Z"
   },
   {
    "duration": 18,
    "start_time": "2023-10-30T12:12:22.596Z"
   },
   {
    "duration": 47,
    "start_time": "2023-10-30T12:12:22.617Z"
   },
   {
    "duration": 37,
    "start_time": "2023-10-30T12:12:22.666Z"
   },
   {
    "duration": 126,
    "start_time": "2023-10-30T12:12:22.704Z"
   },
   {
    "duration": 108,
    "start_time": "2023-10-30T12:12:22.832Z"
   },
   {
    "duration": 40,
    "start_time": "2023-10-30T12:12:22.942Z"
   },
   {
    "duration": 27,
    "start_time": "2023-10-30T12:12:22.984Z"
   },
   {
    "duration": 51,
    "start_time": "2023-10-30T12:12:23.013Z"
   },
   {
    "duration": 5,
    "start_time": "2023-10-30T12:12:23.066Z"
   },
   {
    "duration": 49,
    "start_time": "2023-10-30T12:12:23.073Z"
   },
   {
    "duration": 18,
    "start_time": "2023-10-30T12:12:23.123Z"
   },
   {
    "duration": 36,
    "start_time": "2023-10-30T12:12:23.143Z"
   },
   {
    "duration": 14,
    "start_time": "2023-10-30T12:12:23.181Z"
   },
   {
    "duration": 98,
    "start_time": "2023-10-30T12:12:23.197Z"
   },
   {
    "duration": 72,
    "start_time": "2023-10-30T12:12:23.296Z"
   },
   {
    "duration": 175,
    "start_time": "2023-10-30T12:12:23.370Z"
   },
   {
    "duration": 170,
    "start_time": "2023-10-30T12:12:23.547Z"
   },
   {
    "duration": 281,
    "start_time": "2023-10-30T12:12:23.719Z"
   },
   {
    "duration": 202,
    "start_time": "2023-10-30T12:19:52.153Z"
   },
   {
    "duration": 20,
    "start_time": "2023-10-30T13:25:37.195Z"
   },
   {
    "duration": 18,
    "start_time": "2023-10-30T13:25:52.885Z"
   },
   {
    "duration": 25,
    "start_time": "2023-10-30T13:26:05.611Z"
   },
   {
    "duration": 7,
    "start_time": "2023-10-30T13:27:14.425Z"
   },
   {
    "duration": 305,
    "start_time": "2023-10-30T13:27:31.825Z"
   },
   {
    "duration": 38,
    "start_time": "2023-10-30T13:33:42.612Z"
   },
   {
    "duration": 20,
    "start_time": "2023-10-30T13:34:58.880Z"
   },
   {
    "duration": 365,
    "start_time": "2023-10-30T13:36:28.588Z"
   },
   {
    "duration": 165,
    "start_time": "2023-10-30T14:03:26.225Z"
   },
   {
    "duration": 18,
    "start_time": "2023-10-30T14:04:30.425Z"
   },
   {
    "duration": 1144,
    "start_time": "2023-10-30T14:04:38.922Z"
   },
   {
    "duration": 65,
    "start_time": "2023-10-30T14:04:40.067Z"
   },
   {
    "duration": 20,
    "start_time": "2023-10-30T14:04:40.134Z"
   },
   {
    "duration": 26,
    "start_time": "2023-10-30T14:04:40.157Z"
   },
   {
    "duration": 31,
    "start_time": "2023-10-30T14:04:40.184Z"
   },
   {
    "duration": 44,
    "start_time": "2023-10-30T14:04:40.216Z"
   },
   {
    "duration": 10,
    "start_time": "2023-10-30T14:04:40.262Z"
   },
   {
    "duration": 60,
    "start_time": "2023-10-30T14:04:40.274Z"
   },
   {
    "duration": 30,
    "start_time": "2023-10-30T14:04:40.337Z"
   },
   {
    "duration": 65,
    "start_time": "2023-10-30T14:04:40.372Z"
   },
   {
    "duration": 48,
    "start_time": "2023-10-30T14:04:40.438Z"
   },
   {
    "duration": 12,
    "start_time": "2023-10-30T14:04:40.487Z"
   },
   {
    "duration": 72,
    "start_time": "2023-10-30T14:04:40.501Z"
   },
   {
    "duration": 38,
    "start_time": "2023-10-30T14:04:40.575Z"
   },
   {
    "duration": 11,
    "start_time": "2023-10-30T14:04:40.615Z"
   },
   {
    "duration": 25,
    "start_time": "2023-10-30T14:04:40.628Z"
   },
   {
    "duration": 8,
    "start_time": "2023-10-30T14:04:40.654Z"
   },
   {
    "duration": 50,
    "start_time": "2023-10-30T14:04:40.663Z"
   },
   {
    "duration": 21,
    "start_time": "2023-10-30T14:04:40.715Z"
   },
   {
    "duration": 41,
    "start_time": "2023-10-30T14:04:40.737Z"
   },
   {
    "duration": 223,
    "start_time": "2023-10-30T14:04:40.779Z"
   },
   {
    "duration": 27,
    "start_time": "2023-10-30T14:04:41.004Z"
   },
   {
    "duration": 7,
    "start_time": "2023-10-30T14:04:41.032Z"
   },
   {
    "duration": 337,
    "start_time": "2023-10-30T14:04:41.041Z"
   },
   {
    "duration": 24,
    "start_time": "2023-10-30T14:04:41.380Z"
   },
   {
    "duration": 35,
    "start_time": "2023-10-30T14:04:41.406Z"
   },
   {
    "duration": 372,
    "start_time": "2023-10-30T14:04:41.443Z"
   },
   {
    "duration": 120,
    "start_time": "2023-10-30T14:04:41.818Z"
   },
   {
    "duration": 22,
    "start_time": "2023-10-30T14:07:03.701Z"
   },
   {
    "duration": 283,
    "start_time": "2023-10-30T14:07:21.771Z"
   },
   {
    "duration": 78,
    "start_time": "2023-10-30T14:13:20.614Z"
   },
   {
    "duration": 7,
    "start_time": "2023-10-30T14:13:36.698Z"
   },
   {
    "duration": 239,
    "start_time": "2023-10-30T14:13:54.546Z"
   },
   {
    "duration": 5,
    "start_time": "2023-10-30T14:14:25.706Z"
   },
   {
    "duration": 185,
    "start_time": "2023-10-30T14:16:44.530Z"
   },
   {
    "duration": 5,
    "start_time": "2023-10-30T14:17:01.578Z"
   },
   {
    "duration": 12,
    "start_time": "2023-10-30T14:20:46.610Z"
   },
   {
    "duration": 11,
    "start_time": "2023-10-30T14:21:19.114Z"
   },
   {
    "duration": 12,
    "start_time": "2023-10-30T14:28:00.974Z"
   },
   {
    "duration": 387,
    "start_time": "2023-10-30T14:32:16.277Z"
   },
   {
    "duration": 15,
    "start_time": "2023-10-30T14:35:46.607Z"
   },
   {
    "duration": 400,
    "start_time": "2023-10-30T14:35:57.518Z"
   },
   {
    "duration": 374,
    "start_time": "2023-10-30T14:43:31.898Z"
   },
   {
    "duration": 20,
    "start_time": "2023-10-30T14:50:30.885Z"
   },
   {
    "duration": 98,
    "start_time": "2023-10-30T14:51:48.029Z"
   },
   {
    "duration": 15,
    "start_time": "2023-10-30T14:53:18.908Z"
   },
   {
    "duration": 8,
    "start_time": "2023-10-30T14:53:42.646Z"
   },
   {
    "duration": 1330,
    "start_time": "2023-10-31T09:04:04.982Z"
   },
   {
    "duration": 105,
    "start_time": "2023-10-31T09:04:06.315Z"
   },
   {
    "duration": 21,
    "start_time": "2023-10-31T09:04:06.422Z"
   },
   {
    "duration": 16,
    "start_time": "2023-10-31T09:04:06.446Z"
   },
   {
    "duration": 4,
    "start_time": "2023-10-31T09:04:06.463Z"
   },
   {
    "duration": 15,
    "start_time": "2023-10-31T09:04:06.468Z"
   },
   {
    "duration": 7,
    "start_time": "2023-10-31T09:04:06.485Z"
   },
   {
    "duration": 31,
    "start_time": "2023-10-31T09:04:06.493Z"
   },
   {
    "duration": 11,
    "start_time": "2023-10-31T09:04:06.526Z"
   },
   {
    "duration": 25,
    "start_time": "2023-10-31T09:04:06.539Z"
   },
   {
    "duration": 4,
    "start_time": "2023-10-31T09:04:06.566Z"
   },
   {
    "duration": 20,
    "start_time": "2023-10-31T09:04:06.572Z"
   },
   {
    "duration": 14,
    "start_time": "2023-10-31T09:04:06.594Z"
   },
   {
    "duration": 17,
    "start_time": "2023-10-31T09:04:06.610Z"
   },
   {
    "duration": 7,
    "start_time": "2023-10-31T09:04:06.629Z"
   },
   {
    "duration": 25,
    "start_time": "2023-10-31T09:04:06.638Z"
   },
   {
    "duration": 8,
    "start_time": "2023-10-31T09:04:06.665Z"
   },
   {
    "duration": 21,
    "start_time": "2023-10-31T09:04:06.674Z"
   },
   {
    "duration": 5,
    "start_time": "2023-10-31T09:04:06.726Z"
   },
   {
    "duration": 30,
    "start_time": "2023-10-31T09:04:06.733Z"
   },
   {
    "duration": 230,
    "start_time": "2023-10-31T09:04:06.765Z"
   },
   {
    "duration": 29,
    "start_time": "2023-10-31T09:04:06.996Z"
   },
   {
    "duration": 7,
    "start_time": "2023-10-31T09:04:07.027Z"
   },
   {
    "duration": 327,
    "start_time": "2023-10-31T09:04:07.035Z"
   },
   {
    "duration": 25,
    "start_time": "2023-10-31T09:04:07.364Z"
   },
   {
    "duration": 15,
    "start_time": "2023-10-31T09:04:07.391Z"
   },
   {
    "duration": 369,
    "start_time": "2023-10-31T09:04:07.407Z"
   },
   {
    "duration": 315,
    "start_time": "2023-10-31T09:04:07.780Z"
   },
   {
    "duration": 7,
    "start_time": "2023-10-31T09:04:08.096Z"
   },
   {
    "duration": 184,
    "start_time": "2023-10-31T09:04:08.104Z"
   },
   {
    "duration": 5,
    "start_time": "2023-10-31T09:04:08.290Z"
   },
   {
    "duration": 183,
    "start_time": "2023-10-31T09:04:08.297Z"
   },
   {
    "duration": 5,
    "start_time": "2023-10-31T09:04:08.482Z"
   },
   {
    "duration": 11,
    "start_time": "2023-10-31T09:04:08.489Z"
   },
   {
    "duration": 31,
    "start_time": "2023-10-31T09:04:08.501Z"
   },
   {
    "duration": 14,
    "start_time": "2023-10-31T09:04:08.534Z"
   },
   {
    "duration": 496,
    "start_time": "2023-10-31T09:04:08.549Z"
   },
   {
    "duration": 411,
    "start_time": "2023-10-31T09:04:09.046Z"
   },
   {
    "duration": 378,
    "start_time": "2023-10-31T09:04:09.459Z"
   },
   {
    "duration": 8,
    "start_time": "2023-10-31T09:04:09.839Z"
   },
   {
    "duration": 17,
    "start_time": "2023-10-31T09:04:09.849Z"
   },
   {
    "duration": 164,
    "start_time": "2023-10-31T09:05:33.305Z"
   },
   {
    "duration": 169,
    "start_time": "2023-10-31T09:05:38.728Z"
   },
   {
    "duration": 7,
    "start_time": "2023-10-31T09:06:21.305Z"
   },
   {
    "duration": 244,
    "start_time": "2023-10-31T09:06:26.673Z"
   },
   {
    "duration": 7,
    "start_time": "2023-10-31T09:07:00.699Z"
   },
   {
    "duration": 239,
    "start_time": "2023-10-31T09:07:02.570Z"
   },
   {
    "duration": 7,
    "start_time": "2023-10-31T09:07:15.084Z"
   },
   {
    "duration": 219,
    "start_time": "2023-10-31T09:07:16.910Z"
   },
   {
    "duration": 2125,
    "start_time": "2023-10-31T09:11:10.998Z"
   },
   {
    "duration": 364,
    "start_time": "2023-10-31T09:11:20.761Z"
   },
   {
    "duration": 448,
    "start_time": "2023-10-31T09:11:28.602Z"
   },
   {
    "duration": 371,
    "start_time": "2023-10-31T09:11:35.294Z"
   },
   {
    "duration": 401,
    "start_time": "2023-10-31T09:11:39.537Z"
   },
   {
    "duration": 99,
    "start_time": "2023-10-31T09:15:31.372Z"
   },
   {
    "duration": 19,
    "start_time": "2023-10-31T09:17:21.249Z"
   },
   {
    "duration": 16,
    "start_time": "2023-10-31T09:17:44.602Z"
   },
   {
    "duration": 273,
    "start_time": "2023-10-31T09:18:15.598Z"
   },
   {
    "duration": 19,
    "start_time": "2023-10-31T09:19:29.537Z"
   },
   {
    "duration": 19,
    "start_time": "2023-10-31T09:20:24.139Z"
   },
   {
    "duration": 364,
    "start_time": "2023-10-31T09:20:36.811Z"
   },
   {
    "duration": 266,
    "start_time": "2023-10-31T09:26:23.996Z"
   },
   {
    "duration": 282,
    "start_time": "2023-10-31T09:26:36.507Z"
   },
   {
    "duration": 90,
    "start_time": "2023-10-31T09:27:04.491Z"
   },
   {
    "duration": 108,
    "start_time": "2023-10-31T09:27:20.491Z"
   },
   {
    "duration": 304,
    "start_time": "2023-10-31T09:27:34.140Z"
   },
   {
    "duration": 18,
    "start_time": "2023-10-31T09:28:20.440Z"
   },
   {
    "duration": 1151,
    "start_time": "2023-10-31T09:28:53.323Z"
   },
   {
    "duration": 54,
    "start_time": "2023-10-31T09:28:54.476Z"
   },
   {
    "duration": 148,
    "start_time": "2023-10-31T09:28:54.532Z"
   },
   {
    "duration": 209,
    "start_time": "2023-10-31T09:28:54.683Z"
   },
   {
    "duration": 62,
    "start_time": "2023-10-31T09:28:54.894Z"
   },
   {
    "duration": 229,
    "start_time": "2023-10-31T09:28:54.957Z"
   },
   {
    "duration": 121,
    "start_time": "2023-10-31T09:28:55.187Z"
   },
   {
    "duration": 77,
    "start_time": "2023-10-31T09:28:55.310Z"
   },
   {
    "duration": 50,
    "start_time": "2023-10-31T09:28:55.389Z"
   },
   {
    "duration": 68,
    "start_time": "2023-10-31T09:28:55.442Z"
   },
   {
    "duration": 64,
    "start_time": "2023-10-31T09:28:55.512Z"
   },
   {
    "duration": 41,
    "start_time": "2023-10-31T09:28:55.578Z"
   },
   {
    "duration": 32,
    "start_time": "2023-10-31T09:28:55.621Z"
   },
   {
    "duration": 27,
    "start_time": "2023-10-31T09:28:55.655Z"
   },
   {
    "duration": 48,
    "start_time": "2023-10-31T09:28:55.684Z"
   },
   {
    "duration": 42,
    "start_time": "2023-10-31T09:28:55.734Z"
   },
   {
    "duration": 22,
    "start_time": "2023-10-31T09:28:55.778Z"
   },
   {
    "duration": 92,
    "start_time": "2023-10-31T09:28:55.802Z"
   },
   {
    "duration": 35,
    "start_time": "2023-10-31T09:28:55.897Z"
   },
   {
    "duration": 50,
    "start_time": "2023-10-31T09:28:55.934Z"
   },
   {
    "duration": 201,
    "start_time": "2023-10-31T09:28:55.986Z"
   },
   {
    "duration": 18,
    "start_time": "2023-10-31T09:28:56.189Z"
   },
   {
    "duration": 30,
    "start_time": "2023-10-31T09:28:56.209Z"
   },
   {
    "duration": 270,
    "start_time": "2023-10-31T09:28:56.240Z"
   },
   {
    "duration": 26,
    "start_time": "2023-10-31T09:28:56.512Z"
   },
   {
    "duration": 18,
    "start_time": "2023-10-31T09:28:56.540Z"
   },
   {
    "duration": 429,
    "start_time": "2023-10-31T09:28:56.560Z"
   },
   {
    "duration": 116,
    "start_time": "2023-10-31T09:28:56.993Z"
   },
   {
    "duration": 0,
    "start_time": "2023-10-31T09:28:57.111Z"
   },
   {
    "duration": 0,
    "start_time": "2023-10-31T09:28:57.113Z"
   },
   {
    "duration": 0,
    "start_time": "2023-10-31T09:28:57.114Z"
   },
   {
    "duration": 0,
    "start_time": "2023-10-31T09:28:57.124Z"
   },
   {
    "duration": 0,
    "start_time": "2023-10-31T09:28:57.125Z"
   },
   {
    "duration": 0,
    "start_time": "2023-10-31T09:28:57.126Z"
   },
   {
    "duration": 0,
    "start_time": "2023-10-31T09:28:57.128Z"
   },
   {
    "duration": 0,
    "start_time": "2023-10-31T09:28:57.129Z"
   },
   {
    "duration": 0,
    "start_time": "2023-10-31T09:28:57.130Z"
   },
   {
    "duration": 0,
    "start_time": "2023-10-31T09:28:57.132Z"
   },
   {
    "duration": 0,
    "start_time": "2023-10-31T09:28:57.133Z"
   },
   {
    "duration": 0,
    "start_time": "2023-10-31T09:28:57.134Z"
   },
   {
    "duration": 0,
    "start_time": "2023-10-31T09:28:57.135Z"
   },
   {
    "duration": 289,
    "start_time": "2023-10-31T09:29:18.125Z"
   },
   {
    "duration": 1159,
    "start_time": "2023-10-31T09:38:02.081Z"
   },
   {
    "duration": 57,
    "start_time": "2023-10-31T09:38:03.242Z"
   },
   {
    "duration": 364,
    "start_time": "2023-10-31T09:38:03.300Z"
   },
   {
    "duration": 214,
    "start_time": "2023-10-31T09:38:03.666Z"
   },
   {
    "duration": 306,
    "start_time": "2023-10-31T09:38:03.882Z"
   },
   {
    "duration": 134,
    "start_time": "2023-10-31T09:38:04.190Z"
   },
   {
    "duration": 299,
    "start_time": "2023-10-31T09:38:04.326Z"
   },
   {
    "duration": 432,
    "start_time": "2023-10-31T09:38:04.627Z"
   },
   {
    "duration": 89,
    "start_time": "2023-10-31T09:38:05.060Z"
   },
   {
    "duration": 69,
    "start_time": "2023-10-31T09:38:05.152Z"
   },
   {
    "duration": 13,
    "start_time": "2023-10-31T09:38:05.223Z"
   },
   {
    "duration": 71,
    "start_time": "2023-10-31T09:38:05.237Z"
   },
   {
    "duration": 57,
    "start_time": "2023-10-31T09:38:05.310Z"
   },
   {
    "duration": 99,
    "start_time": "2023-10-31T09:38:05.369Z"
   },
   {
    "duration": 173,
    "start_time": "2023-10-31T09:38:05.470Z"
   },
   {
    "duration": 248,
    "start_time": "2023-10-31T09:38:05.644Z"
   },
   {
    "duration": 83,
    "start_time": "2023-10-31T09:38:05.893Z"
   },
   {
    "duration": 265,
    "start_time": "2023-10-31T09:38:05.978Z"
   },
   {
    "duration": 11,
    "start_time": "2023-10-31T09:38:06.245Z"
   },
   {
    "duration": 47,
    "start_time": "2023-10-31T09:38:06.257Z"
   },
   {
    "duration": 215,
    "start_time": "2023-10-31T09:38:06.306Z"
   },
   {
    "duration": 18,
    "start_time": "2023-10-31T09:38:06.522Z"
   },
   {
    "duration": 38,
    "start_time": "2023-10-31T09:38:06.541Z"
   },
   {
    "duration": 289,
    "start_time": "2023-10-31T09:38:06.581Z"
   },
   {
    "duration": 27,
    "start_time": "2023-10-31T09:38:06.872Z"
   },
   {
    "duration": 69,
    "start_time": "2023-10-31T09:38:06.901Z"
   },
   {
    "duration": 428,
    "start_time": "2023-10-31T09:38:06.972Z"
   },
   {
    "duration": 294,
    "start_time": "2023-10-31T09:38:07.403Z"
   },
   {
    "duration": 7,
    "start_time": "2023-10-31T09:38:07.699Z"
   },
   {
    "duration": 304,
    "start_time": "2023-10-31T09:38:07.707Z"
   },
   {
    "duration": 4,
    "start_time": "2023-10-31T09:38:08.013Z"
   },
   {
    "duration": 228,
    "start_time": "2023-10-31T09:38:08.024Z"
   },
   {
    "duration": 4,
    "start_time": "2023-10-31T09:38:08.254Z"
   },
   {
    "duration": 41,
    "start_time": "2023-10-31T09:38:08.259Z"
   },
   {
    "duration": 86,
    "start_time": "2023-10-31T09:38:08.302Z"
   },
   {
    "duration": 69,
    "start_time": "2023-10-31T09:38:08.390Z"
   },
   {
    "duration": 530,
    "start_time": "2023-10-31T09:38:08.461Z"
   },
   {
    "duration": 432,
    "start_time": "2023-10-31T09:38:08.992Z"
   },
   {
    "duration": 357,
    "start_time": "2023-10-31T09:38:09.425Z"
   },
   {
    "duration": 9,
    "start_time": "2023-10-31T09:38:09.783Z"
   },
   {
    "duration": 397,
    "start_time": "2023-10-31T09:38:09.794Z"
   },
   {
    "duration": 296,
    "start_time": "2023-10-31T09:40:13.744Z"
   },
   {
    "duration": 1490,
    "start_time": "2023-11-01T06:50:15.720Z"
   },
   {
    "duration": 100,
    "start_time": "2023-11-01T06:50:17.212Z"
   },
   {
    "duration": 21,
    "start_time": "2023-11-01T06:50:17.314Z"
   },
   {
    "duration": 24,
    "start_time": "2023-11-01T06:50:17.336Z"
   },
   {
    "duration": 5,
    "start_time": "2023-11-01T06:50:17.363Z"
   },
   {
    "duration": 12,
    "start_time": "2023-11-01T06:50:17.371Z"
   },
   {
    "duration": 9,
    "start_time": "2023-11-01T06:50:17.384Z"
   },
   {
    "duration": 28,
    "start_time": "2023-11-01T06:50:17.395Z"
   },
   {
    "duration": 23,
    "start_time": "2023-11-01T06:50:17.425Z"
   },
   {
    "duration": 22,
    "start_time": "2023-11-01T06:50:17.453Z"
   },
   {
    "duration": 4,
    "start_time": "2023-11-01T06:50:17.477Z"
   },
   {
    "duration": 14,
    "start_time": "2023-11-01T06:50:17.482Z"
   },
   {
    "duration": 7,
    "start_time": "2023-11-01T06:50:17.498Z"
   },
   {
    "duration": 17,
    "start_time": "2023-11-01T06:50:17.506Z"
   },
   {
    "duration": 26,
    "start_time": "2023-11-01T06:50:17.525Z"
   },
   {
    "duration": 26,
    "start_time": "2023-11-01T06:50:17.554Z"
   },
   {
    "duration": 7,
    "start_time": "2023-11-01T06:50:17.581Z"
   },
   {
    "duration": 20,
    "start_time": "2023-11-01T06:50:17.589Z"
   },
   {
    "duration": 34,
    "start_time": "2023-11-01T06:50:17.610Z"
   },
   {
    "duration": 24,
    "start_time": "2023-11-01T06:50:17.647Z"
   },
   {
    "duration": 242,
    "start_time": "2023-11-01T06:50:17.674Z"
   },
   {
    "duration": 31,
    "start_time": "2023-11-01T06:50:17.918Z"
   },
   {
    "duration": 10,
    "start_time": "2023-11-01T06:50:17.951Z"
   },
   {
    "duration": 308,
    "start_time": "2023-11-01T06:50:17.964Z"
   },
   {
    "duration": 25,
    "start_time": "2023-11-01T06:50:18.274Z"
   },
   {
    "duration": 14,
    "start_time": "2023-11-01T06:50:18.301Z"
   },
   {
    "duration": 468,
    "start_time": "2023-11-01T06:50:18.317Z"
   },
   {
    "duration": 317,
    "start_time": "2023-11-01T06:50:18.788Z"
   },
   {
    "duration": 6,
    "start_time": "2023-11-01T06:50:19.107Z"
   },
   {
    "duration": 217,
    "start_time": "2023-11-01T06:50:19.115Z"
   },
   {
    "duration": 17,
    "start_time": "2023-11-01T06:50:19.334Z"
   },
   {
    "duration": 188,
    "start_time": "2023-11-01T06:50:19.353Z"
   },
   {
    "duration": 5,
    "start_time": "2023-11-01T06:50:19.543Z"
   },
   {
    "duration": 26,
    "start_time": "2023-11-01T06:50:19.550Z"
   },
   {
    "duration": 17,
    "start_time": "2023-11-01T06:50:19.577Z"
   },
   {
    "duration": 10,
    "start_time": "2023-11-01T06:50:19.596Z"
   },
   {
    "duration": 425,
    "start_time": "2023-11-01T06:50:19.608Z"
   },
   {
    "duration": 416,
    "start_time": "2023-11-01T06:50:20.034Z"
   },
   {
    "duration": 425,
    "start_time": "2023-11-01T06:50:20.453Z"
   },
   {
    "duration": 388,
    "start_time": "2023-11-01T06:50:20.879Z"
   },
   {
    "duration": 10,
    "start_time": "2023-11-01T06:50:21.269Z"
   },
   {
    "duration": 20,
    "start_time": "2023-11-01T06:50:21.280Z"
   },
   {
    "duration": 285,
    "start_time": "2023-11-01T06:51:29.946Z"
   },
   {
    "duration": 783,
    "start_time": "2023-11-01T06:52:18.174Z"
   },
   {
    "duration": 375,
    "start_time": "2023-11-01T06:53:00.710Z"
   },
   {
    "duration": 331,
    "start_time": "2023-11-01T06:54:14.202Z"
   },
   {
    "duration": 197,
    "start_time": "2023-11-01T06:54:30.626Z"
   },
   {
    "duration": 82,
    "start_time": "2023-11-01T06:55:54.536Z"
   },
   {
    "duration": 82,
    "start_time": "2023-11-01T06:56:00.164Z"
   },
   {
    "duration": 201,
    "start_time": "2023-11-01T06:56:11.998Z"
   }
  ],
  "kernelspec": {
   "display_name": "Python 3 (ipykernel)",
   "language": "python",
   "name": "python3"
  },
  "language_info": {
   "codemirror_mode": {
    "name": "ipython",
    "version": 3
   },
   "file_extension": ".py",
   "mimetype": "text/x-python",
   "name": "python",
   "nbconvert_exporter": "python",
   "pygments_lexer": "ipython3",
   "version": "3.9.5"
  },
  "toc": {
   "base_numbering": 1,
   "nav_menu": {},
   "number_sections": true,
   "sideBar": true,
   "skip_h1_title": true,
   "title_cell": "Table of Contents",
   "title_sidebar": "Contents",
   "toc_cell": false,
   "toc_position": {},
   "toc_section_display": true,
   "toc_window_display": false
  }
 },
 "nbformat": 4,
 "nbformat_minor": 2
}
